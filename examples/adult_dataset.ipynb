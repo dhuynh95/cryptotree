{
 "cells": [
  {
   "cell_type": "code",
   "execution_count": 1,
   "metadata": {
    "ExecuteTime": {
     "end_time": "2020-05-15T11:24:28.745231Z",
     "start_time": "2020-05-15T11:24:28.725899Z"
    }
   },
   "outputs": [],
   "source": [
    "# hide\n",
    "%load_ext autoreload\n",
    "%autoreload 2"
   ]
  },
  {
   "cell_type": "markdown",
   "metadata": {},
   "source": [
    "# Adult income dataset"
   ]
  },
  {
   "cell_type": "markdown",
   "metadata": {},
   "source": [
    "Here we wll study the Adult Income Dataset and see how we can apply Homomorphic Random Forest to it."
   ]
  },
  {
   "cell_type": "markdown",
   "metadata": {},
   "source": [
    "## Data loading"
   ]
  },
  {
   "cell_type": "code",
   "execution_count": 2,
   "metadata": {
    "ExecuteTime": {
     "end_time": "2020-05-15T11:26:08.448829Z",
     "start_time": "2020-05-15T11:24:28.749558Z"
    }
   },
   "outputs": [],
   "source": [
    "import pandas as pd\n",
    "from sklearn.model_selection import train_test_split\n",
    "\n",
    "df = pd.read_csv(\n",
    "    \"https://archive.ics.uci.edu/ml/machine-learning-databases/adult/adult.data\",\n",
    "    header=None)\n",
    "\n",
    "df.columns = [\n",
    "    \"Age\", \"WorkClass\", \"fnlwgt\", \"Education\", \"EducationNum\",\n",
    "    \"MaritalStatus\", \"Occupation\", \"Relationship\", \"Race\", \"Gender\",\n",
    "    \"CapitalGain\", \"CapitalLoss\", \"HoursPerWeek\", \"NativeCountry\", \"Income\"\n",
    "]\n",
    "\n",
    "# df = df.sample(frac=0.1, random_state=1)\n",
    "train_cols = df.columns[0:-1]\n",
    "label = df.columns[-1]\n",
    "X = df[train_cols]\n",
    "y = df[label].apply(lambda x: 0 if x == \" <=50K\" else 1) #Turning response into 0 and 1\n",
    "\n",
    "seed = 1\n",
    "X_train, X_test, y_train, y_test = train_test_split(X, y, test_size=0.20, random_state=seed)"
   ]
  },
  {
   "cell_type": "markdown",
   "metadata": {},
   "source": [
    "## Data preprocessing"
   ]
  },
  {
   "cell_type": "markdown",
   "metadata": {},
   "source": [
    "Because we need our data to be in the range$[-1,1]$ at the beginning, we will create a preprocessing pipeline using sklearn Pipelines. \n",
    "\n",
    "It will apply a LabelEncoder on categorical columns, before using it in a MinMaxScaler."
   ]
  },
  {
   "cell_type": "code",
   "execution_count": 3,
   "metadata": {
    "ExecuteTime": {
     "end_time": "2020-05-15T11:26:08.489618Z",
     "start_time": "2020-05-15T11:26:08.453319Z"
    }
   },
   "outputs": [],
   "source": [
    "from sklearn.base import BaseEstimator, TransformerMixin\n",
    "from sklearn.pipeline import Pipeline, FeatureUnion\n",
    "from sklearn.preprocessing import MinMaxScaler, LabelEncoder\n",
    "\n",
    "class ColumnSelector(BaseEstimator, TransformerMixin):\n",
    "    \"\"\"Sklearn pipeline to select a column from a dataframe\"\"\"\n",
    "    def fit(self, column):\n",
    "        self.column = column\n",
    "        \n",
    "    def transform(self, X):\n",
    "        return X[self.column].values\n",
    "    \n",
    "    def inverse_transform(self, X):\n",
    "        return X\n",
    "    \n",
    "class Reshaper(BaseEstimator, TransformerMixin):\n",
    "    \"\"\"Reshapes a numpy array from 1D to 2D\"\"\"\n",
    "    def transform(self, X):\n",
    "        return X.reshape(-1,1)\n",
    "    \n",
    "    def inverse_transform(self, X):\n",
    "        return X.reshape(-1)"
   ]
  },
  {
   "cell_type": "code",
   "execution_count": 4,
   "metadata": {
    "ExecuteTime": {
     "end_time": "2020-05-15T11:26:08.548843Z",
     "start_time": "2020-05-15T11:26:08.496279Z"
    }
   },
   "outputs": [],
   "source": [
    "class Featurizer(BaseEstimator, TransformerMixin):\n",
    "    \"\"\"Featurizer which normalize a dataset to [-1,1]\"\"\"\n",
    "    def __init__(self, categorical_columns):\n",
    "        self.categorical_columns = categorical_columns\n",
    "        \n",
    "    def fit(self, df):\n",
    "        pipelines = []\n",
    "        for col in df.columns.values:\n",
    "            steps = []\n",
    "            column_selector = ColumnSelector()\n",
    "            column_selector.fit(col)\n",
    "            \n",
    "            column_values = column_selector.transform(df)\n",
    "            \n",
    "            steps.append((col,column_selector))\n",
    "            \n",
    "            if col in self.categorical_columns:\n",
    "                le = LabelEncoder()\n",
    "                le.fit(column_values)\n",
    "                column_values = le.transform(column_values)\n",
    "                \n",
    "                steps.append((\"label_encoding\",le))\n",
    "                \n",
    "            reshaper = Reshaper()\n",
    "            column_values = reshaper.transform(column_values)\n",
    "            steps.append((\"reshape\", reshaper))\n",
    "            \n",
    "            min_max = MinMaxScaler()\n",
    "            min_max.fit(column_values)\n",
    "            steps.append((\"min_max\", min_max))\n",
    "            \n",
    "            pipeline = Pipeline(steps)\n",
    "            pipelines.append((col, pipeline))\n",
    "\n",
    "        self.pipelines = FeatureUnion(pipelines)\n",
    "        return self\n",
    "    \n",
    "    def transform(self, df):\n",
    "        return self.pipelines.transform(df)"
   ]
  },
  {
   "cell_type": "markdown",
   "metadata": {},
   "source": [
    "Now that we have defined the featurizer, we can use it on our dataset."
   ]
  },
  {
   "cell_type": "code",
   "execution_count": 33,
   "metadata": {
    "ExecuteTime": {
     "end_time": "2020-05-15T11:30:38.696434Z",
     "start_time": "2020-05-15T11:30:38.670094Z"
    }
   },
   "outputs": [],
   "source": [
    "categorical_columns = [\"WorkClass\",\"Education\",\"MaritalStatus\", \"Occupation\", \"Relationship\", \n",
    "                       \"Race\", \"Gender\", \"NativeCountry\"]\n",
    "\n",
    "pipe = Featurizer(categorical_columns)"
   ]
  },
  {
   "cell_type": "code",
   "execution_count": 34,
   "metadata": {
    "ExecuteTime": {
     "end_time": "2020-05-15T11:30:42.595274Z",
     "start_time": "2020-05-15T11:30:42.473223Z"
    }
   },
   "outputs": [],
   "source": [
    "X_train_normalized = pipe.fit_transform(X_train)"
   ]
  },
  {
   "cell_type": "markdown",
   "metadata": {},
   "source": [
    "We can have a look and check that input is in $[-1,1]$."
   ]
  },
  {
   "cell_type": "code",
   "execution_count": 35,
   "metadata": {
    "ExecuteTime": {
     "end_time": "2020-05-15T11:30:43.364654Z",
     "start_time": "2020-05-15T11:30:43.339946Z"
    }
   },
   "outputs": [
    {
     "data": {
      "text/plain": [
       "array([[0.30137 , 0.75    , 0.118837, 0.066667, 0.4     , 0.333333, 1.      , 0.      , 1.      , 1.      , 0.      ,\n",
       "        0.      , 0.397959, 0.95    ],\n",
       "       [0.506849, 0.75    , 0.062029, 0.6     , 0.8     , 0.333333, 0.285714, 0.      , 1.      , 1.      , 0.      ,\n",
       "        0.      , 0.397959, 0.95    ]])"
      ]
     },
     "execution_count": 35,
     "metadata": {},
     "output_type": "execute_result"
    }
   ],
   "source": [
    "X_train_normalized[:2]"
   ]
  },
  {
   "cell_type": "markdown",
   "metadata": {},
   "source": [
    "## Neural Random Forest"
   ]
  },
  {
   "cell_type": "code",
   "execution_count": 8,
   "metadata": {
    "ExecuteTime": {
     "end_time": "2020-05-15T11:26:09.229613Z",
     "start_time": "2020-05-15T11:26:08.843193Z"
    }
   },
   "outputs": [],
   "source": [
    "import torch\n",
    "import numpy as np"
   ]
  },
  {
   "cell_type": "markdown",
   "metadata": {},
   "source": [
    "Now that data has been preprocessed, we can feed it to a Neural Random Forest."
   ]
  },
  {
   "cell_type": "markdown",
   "metadata": {},
   "source": [
    "Here we can have a look at the activation function we will use, for instance sigmoid."
   ]
  },
  {
   "cell_type": "code",
   "execution_count": 9,
   "metadata": {
    "ExecuteTime": {
     "end_time": "2020-05-15T11:26:09.925183Z",
     "start_time": "2020-05-15T11:26:09.232989Z"
    }
   },
   "outputs": [
    {
     "data": {
      "text/plain": [
       "(<Figure size 432x288 with 1 Axes>,\n",
       " <matplotlib.axes._subplots.AxesSubplot at 0x7f340e718550>)"
      ]
     },
     "execution_count": 9,
     "metadata": {},
     "output_type": "execute_result"
    },
    {
     "data": {
      "image/png": "[encoded data removed]",
      "text/plain": [
       "<Figure size 432x288 with 1 Axes>"
      ]
     },
     "metadata": {
      "needs_background": "light"
     },
     "output_type": "display_data"
    }
   ],
   "source": [
    "from cryptotree.tree import NeuralRandomForest, SigmoidTreeMaker, TanhTreeMaker\n",
    "from cryptotree.polynomials import plot_graph_function_approximation\n",
    "\n",
    "max_depth = 3\n",
    "\n",
    "dilatation_factor = 16\n",
    "polynomial_degree = dilatation_factor\n",
    "\n",
    "plot_graph_function_approximation(torch.sigmoid,\n",
    "                                  dilatation_factor=dilatation_factor,polynomial_degree=polynomial_degree)"
   ]
  },
  {
   "cell_type": "markdown",
   "metadata": {},
   "source": [
    "Now that we have te parameters of dilation and polynomial degree for the activation functions, we can create the tree makers."
   ]
  },
  {
   "cell_type": "code",
   "execution_count": 10,
   "metadata": {
    "ExecuteTime": {
     "end_time": "2020-05-15T11:26:10.000704Z",
     "start_time": "2020-05-15T11:26:09.934301Z"
    }
   },
   "outputs": [],
   "source": [
    "sigmoid_tree_maker = SigmoidTreeMaker(use_polynomial=True,\n",
    "                                  dilatation_factor=dilatation_factor, polynomial_degree=polynomial_degree)\n",
    "\n",
    "tanh_tree_maker = TanhTreeMaker(use_polynomial=True,\n",
    "                                  dilatation_factor=dilatation_factor, polynomial_degree=polynomial_degree)"
   ]
  },
  {
   "cell_type": "markdown",
   "metadata": {},
   "source": [
    "We can fit a regular sklearn Random Forest now."
   ]
  },
  {
   "cell_type": "code",
   "execution_count": 11,
   "metadata": {
    "ExecuteTime": {
     "end_time": "2020-05-15T11:26:11.418389Z",
     "start_time": "2020-05-15T11:26:10.004459Z"
    }
   },
   "outputs": [
    {
     "data": {
      "text/plain": [
       "RandomForestClassifier(max_depth=3, random_state=0)"
      ]
     },
     "execution_count": 11,
     "metadata": {},
     "output_type": "execute_result"
    }
   ],
   "source": [
    "from sklearn.ensemble import RandomForestClassifier\n",
    "\n",
    "rf = RandomForestClassifier(max_depth=max_depth, random_state=0)\n",
    "rf.fit(X_train_normalized, y_train)"
   ]
  },
  {
   "cell_type": "markdown",
   "metadata": {},
   "source": [
    "From the regular RF, we can define the Neural Random Forest, with sigmoid and tanh activations."
   ]
  },
  {
   "cell_type": "markdown",
   "metadata": {},
   "source": [
    "### Without finetuning"
   ]
  },
  {
   "cell_type": "code",
   "execution_count": 12,
   "metadata": {
    "ExecuteTime": {
     "end_time": "2020-05-15T11:26:12.138336Z",
     "start_time": "2020-05-15T11:26:11.422463Z"
    }
   },
   "outputs": [],
   "source": [
    "sigmoid_neural_rf = NeuralRandomForest(rf.estimators_, sigmoid_tree_maker)\n",
    "tanh_neural_rf = NeuralRandomForest(rf.estimators_, tanh_tree_maker)"
   ]
  },
  {
   "cell_type": "code",
   "execution_count": 13,
   "metadata": {
    "ExecuteTime": {
     "end_time": "2020-05-15T11:26:36.710981Z",
     "start_time": "2020-05-15T11:26:12.141245Z"
    }
   },
   "outputs": [
    {
     "name": "stdout",
     "output_type": "stream",
     "text": [
      "Original accuracy : 0.8257831695331695\n",
      "Accuracy of sigmoid  : 0.29549293611793614\n",
      "Accuracy of tanh : 0.7574477886977887\n",
      "Match between sigmoid and original : 0.14139281326781328\n",
      "Match between tanh and original : 0.9136977886977887\n"
     ]
    }
   ],
   "source": [
    "with torch.no_grad():\n",
    "    sigmoid_neural_pred = sigmoid_neural_rf(torch.tensor(X_train_normalized).float()).argmax(dim=1).numpy()\n",
    "    tanh_neural_pred = tanh_neural_rf(torch.tensor(X_train_normalized).float()).argmax(dim=1).numpy()\n",
    "\n",
    "pred = rf.predict(X_train_normalized)\n",
    "print(f\"Original accuracy : {(pred == y_train).mean()}\")\n",
    "\n",
    "print(f\"Accuracy of sigmoid  : {(sigmoid_neural_pred == y_train).mean()}\")\n",
    "print(f\"Accuracy of tanh : {(tanh_neural_pred == y_train).mean()}\")\n",
    "\n",
    "print(f\"Match between sigmoid and original : {(sigmoid_neural_pred == pred).mean()}\")\n",
    "print(f\"Match between tanh and original : {(tanh_neural_pred == pred).mean()}\")"
   ]
  },
  {
   "cell_type": "markdown",
   "metadata": {},
   "source": [
    "We can see that there is a discrepancy between the original Random Forest and the neural ones, especially for the sigmoid one.\n",
    "\n",
    "Nonetheless we can correct this error by finetuning the final layer of our neural networks to take into account the fact that due to using activation functions not sharp enough."
   ]
  },
  {
   "cell_type": "markdown",
   "metadata": {},
   "source": [
    "### With finetuning"
   ]
  },
  {
   "cell_type": "markdown",
   "metadata": {},
   "source": [
    "Because we need to make sure that at each step of the Neural Network the output is in $[-1,1]$, to be able to use the polynomial approximation of the activation, we can only safely train the last layer."
   ]
  },
  {
   "cell_type": "markdown",
   "metadata": {},
   "source": [
    "To do so we will use Pytorch and [fastai](https://github.com/fastai/fastai)."
   ]
  },
  {
   "cell_type": "markdown",
   "metadata": {},
   "source": [
    "Here we first define our Pytorch Dataset."
   ]
  },
  {
   "cell_type": "code",
   "execution_count": 14,
   "metadata": {
    "ExecuteTime": {
     "end_time": "2020-05-15T11:26:37.364400Z",
     "start_time": "2020-05-15T11:26:36.730026Z"
    }
   },
   "outputs": [],
   "source": [
    "from torch.utils import data\n",
    "import numpy as np\n",
    "\n",
    "class TabularDataset(data.Dataset):\n",
    "    'Characterizes a dataset for PyTorch'\n",
    "    def __init__(self, X: np.ndarray, y: np.ndarray):\n",
    "        'Initialization'\n",
    "        self.X, self.y = X,y\n",
    "\n",
    "    def __len__(self):\n",
    "        'Denotes the total number of samples'\n",
    "        return len(self.X)\n",
    "\n",
    "    def __getitem__(self, index):\n",
    "        'Generates one sample of data'\n",
    "\n",
    "        # Load data and get label\n",
    "        X = torch.tensor(self.X[index]).float()\n",
    "        y = torch.tensor(self.y[index])\n",
    "\n",
    "        return X, y"
   ]
  },
  {
   "cell_type": "markdown",
   "metadata": {},
   "source": [
    "Then we split our training data into training and validation."
   ]
  },
  {
   "cell_type": "code",
   "execution_count": 15,
   "metadata": {
    "ExecuteTime": {
     "end_time": "2020-05-15T11:26:37.668552Z",
     "start_time": "2020-05-15T11:26:37.372942Z"
    }
   },
   "outputs": [],
   "source": [
    "from sklearn.model_selection import train_test_split\n",
    "\n",
    "X_train, X_test, y_train, y_test = train_test_split(X, y, test_size=0.20, random_state=seed)\n",
    "X_train_normalized, X_valid_normalized, y_train, y_valid = train_test_split(featurizer.transform(X_train), \n",
    "                                                                            y_train,\n",
    "                                                                            train_size=0.8)"
   ]
  },
  {
   "cell_type": "markdown",
   "metadata": {},
   "source": [
    "Then we create the Pytorch dataloaders."
   ]
  },
  {
   "cell_type": "code",
   "execution_count": 16,
   "metadata": {
    "ExecuteTime": {
     "end_time": "2020-05-15T11:26:37.725233Z",
     "start_time": "2020-05-15T11:26:37.673341Z"
    }
   },
   "outputs": [],
   "source": [
    "train_ds = TabularDataset(X_train_normalized, y_train.values)\n",
    "valid_ds = TabularDataset(X_valid_normalized, y_valid.values)"
   ]
  },
  {
   "cell_type": "code",
   "execution_count": 17,
   "metadata": {
    "ExecuteTime": {
     "end_time": "2020-05-15T11:26:37.960345Z",
     "start_time": "2020-05-15T11:26:37.730188Z"
    }
   },
   "outputs": [],
   "source": [
    "bs = 128\n",
    "\n",
    "train_dl = data.DataLoader(train_ds, batch_size=bs, shuffle=True)\n",
    "valid_dl = data.DataLoader(valid_ds, batch_size=bs)\n",
    "fix_dl = data.DataLoader(train_ds, batch_size=bs, shuffle=False)"
   ]
  },
  {
   "cell_type": "markdown",
   "metadata": {},
   "source": [
    "Here we will just define the model, which is a sigmoid Neural Random Forest."
   ]
  },
  {
   "cell_type": "code",
   "execution_count": 18,
   "metadata": {
    "ExecuteTime": {
     "end_time": "2020-05-15T11:26:38.655815Z",
     "start_time": "2020-05-15T11:26:37.981487Z"
    }
   },
   "outputs": [],
   "source": [
    "tree_maker = sigmoid_tree_maker\n",
    "\n",
    "model = NeuralRandomForest(rf.estimators_, tree_maker=tree_maker)"
   ]
  },
  {
   "cell_type": "markdown",
   "metadata": {},
   "source": [
    "Because we only want to train the last layer, we will freeze the first two layers and check they are frozen."
   ]
  },
  {
   "cell_type": "code",
   "execution_count": 19,
   "metadata": {
    "ExecuteTime": {
     "end_time": "2020-05-15T11:26:38.717051Z",
     "start_time": "2020-05-15T11:26:38.667428Z"
    }
   },
   "outputs": [
    {
     "name": "stdout",
     "output_type": "stream",
     "text": [
      "torch.Size([14, 7, 100]) False\n",
      "torch.Size([7, 100]) False\n",
      "torch.Size([8, 7, 100]) False\n",
      "torch.Size([8, 100]) False\n",
      "torch.Size([2, 8, 100]) True\n",
      "torch.Size([2, 100]) True\n"
     ]
    }
   ],
   "source": [
    "model.freeze_layer(\"comparator\")\n",
    "model.freeze_layer(\"matcher\")\n",
    "\n",
    "for p in model.parameters():\n",
    "    print(p.shape, p.requires_grad)"
   ]
  },
  {
   "cell_type": "code",
   "execution_count": 20,
   "metadata": {
    "ExecuteTime": {
     "end_time": "2020-05-15T11:26:42.062203Z",
     "start_time": "2020-05-15T11:26:38.722328Z"
    }
   },
   "outputs": [
    {
     "name": "stdout",
     "output_type": "stream",
     "text": [
      "Original accuracy : 0.827238698531529\n",
      "Accuracy : 0.2942700835012957\n",
      "Same output : 0.14166426720414627\n"
     ]
    }
   ],
   "source": [
    "pred = rf.predict(X_train_normalized)\n",
    "\n",
    "with torch.no_grad():\n",
    "    neural_pred = model(torch.tensor(X_train_normalized).float()).argmax(dim=1).numpy()\n",
    "\n",
    "print(f\"Original accuracy : {(pred == y_train).mean()}\")\n",
    "print(f\"Accuracy : {(neural_pred == y_train).mean()}\")\n",
    "print(f\"Same output : {(neural_pred == pred).mean()}\")"
   ]
  },
  {
   "cell_type": "markdown",
   "metadata": {},
   "source": [
    "Now we can define our fastai Learner, with the dataset, the model, and the loss function, which is a Label Smoothing Cross Entropy here."
   ]
  },
  {
   "cell_type": "code",
   "execution_count": 21,
   "metadata": {
    "ExecuteTime": {
     "end_time": "2020-05-15T11:26:44.613140Z",
     "start_time": "2020-05-15T11:26:42.071302Z"
    }
   },
   "outputs": [],
   "source": [
    "from fastai.basic_data import DataBunch\n",
    "from fastai.tabular.learner import Learner\n",
    "from fastai.metrics import accuracy\n",
    "\n",
    "from cryptotree.tree import CrossEntropyLabelSmoothing\n",
    "import torch.nn as nn\n",
    "\n",
    "data = DataBunch(train_dl, valid_dl,fix_dl=fix_dl)\n",
    "\n",
    "criterion = CrossEntropyLabelSmoothing()\n",
    "\n",
    "learn = Learner(data, model, loss_func=criterion, metrics=accuracy)"
   ]
  },
  {
   "cell_type": "markdown",
   "metadata": {},
   "source": [
    "We will use fastai lr finder to have an idea of what learning rate to choose."
   ]
  },
  {
   "cell_type": "code",
   "execution_count": 22,
   "metadata": {
    "ExecuteTime": {
     "end_time": "2020-05-15T11:27:05.938242Z",
     "start_time": "2020-05-15T11:26:44.616661Z"
    }
   },
   "outputs": [
    {
     "data": {
      "text/html": [
       "\n",
       "    <div>\n",
       "        <style>\n",
       "            /* Turns off some styling */\n",
       "            progress {\n",
       "                /* gets rid of default border in Firefox and Opera. */\n",
       "                border: none;\n",
       "                /* Needs to be in here for Safari polyfill so background images work as expected. */\n",
       "                background-size: auto;\n",
       "            }\n",
       "            .progress-bar-interrupted, .progress-bar-interrupted::-webkit-progress-bar {\n",
       "                background: #F44336;\n",
       "            }\n",
       "        </style>\n",
       "      <progress value='3' class='' max='4' style='width:300px; height:20px; vertical-align: middle;'></progress>\n",
       "      75.00% [3/4 00:20<00:06]\n",
       "    </div>\n",
       "    \n",
       "<table border=\"1\" class=\"dataframe\">\n",
       "  <thead>\n",
       "    <tr style=\"text-align: left;\">\n",
       "      <th>epoch</th>\n",
       "      <th>train_loss</th>\n",
       "      <th>valid_loss</th>\n",
       "      <th>accuracy</th>\n",
       "      <th>time</th>\n",
       "    </tr>\n",
       "  </thead>\n",
       "  <tbody>\n",
       "    <tr>\n",
       "      <td>0</td>\n",
       "      <td>0.698588</td>\n",
       "      <td>#na#</td>\n",
       "      <td>00:05</td>\n",
       "    </tr>\n",
       "    <tr>\n",
       "      <td>1</td>\n",
       "      <td>0.611159</td>\n",
       "      <td>#na#</td>\n",
       "      <td>00:06</td>\n",
       "    </tr>\n",
       "    <tr>\n",
       "      <td>2</td>\n",
       "      <td>0.464679</td>\n",
       "      <td>#na#</td>\n",
       "      <td>00:08</td>\n",
       "    </tr>\n",
       "  </tbody>\n",
       "</table><p>\n",
       "\n",
       "    <div>\n",
       "        <style>\n",
       "            /* Turns off some styling */\n",
       "            progress {\n",
       "                /* gets rid of default border in Firefox and Opera. */\n",
       "                border: none;\n",
       "                /* Needs to be in here for Safari polyfill so background images work as expected. */\n",
       "                background-size: auto;\n",
       "            }\n",
       "            .progress-bar-interrupted, .progress-bar-interrupted::-webkit-progress-bar {\n",
       "                background: #F44336;\n",
       "            }\n",
       "        </style>\n",
       "      <progress value='8' class='' max='163' style='width:300px; height:20px; vertical-align: middle;'></progress>\n",
       "      4.91% [8/163 00:00<00:06 0.5054]\n",
       "    </div>\n",
       "    "
      ],
      "text/plain": [
       "<IPython.core.display.HTML object>"
      ]
     },
     "metadata": {},
     "output_type": "display_data"
    },
    {
     "name": "stdout",
     "output_type": "stream",
     "text": [
      "LR Finder is complete, type {learner_name}.recorder.plot() to see the graph.\n"
     ]
    },
    {
     "data": {
      "image/png": "[encoded data removed]",
      "text/plain": [
       "<Figure size 432x288 with 1 Axes>"
      ]
     },
     "metadata": {
      "needs_background": "light"
     },
     "output_type": "display_data"
    }
   ],
   "source": [
    "learn.lr_find(num_it=500)\n",
    "learn.recorder.plot()"
   ]
  },
  {
   "cell_type": "markdown",
   "metadata": {},
   "source": [
    "Here we can see that a good learning rate should be around 1e-1.\n",
    "\n",
    "We can now fine tune our model."
   ]
  },
  {
   "cell_type": "code",
   "execution_count": 23,
   "metadata": {
    "ExecuteTime": {
     "end_time": "2020-05-15T11:27:40.253302Z",
     "start_time": "2020-05-15T11:27:05.951152Z"
    }
   },
   "outputs": [
    {
     "data": {
      "text/html": [
       "<table border=\"1\" class=\"dataframe\">\n",
       "  <thead>\n",
       "    <tr style=\"text-align: left;\">\n",
       "      <th>epoch</th>\n",
       "      <th>train_loss</th>\n",
       "      <th>valid_loss</th>\n",
       "      <th>accuracy</th>\n",
       "      <th>time</th>\n",
       "    </tr>\n",
       "  </thead>\n",
       "  <tbody>\n",
       "    <tr>\n",
       "      <td>0</td>\n",
       "      <td>0.499266</td>\n",
       "      <td>0.471392</td>\n",
       "      <td>0.814012</td>\n",
       "      <td>00:14</td>\n",
       "    </tr>\n",
       "    <tr>\n",
       "      <td>1</td>\n",
       "      <td>0.436977</td>\n",
       "      <td>0.435265</td>\n",
       "      <td>0.833205</td>\n",
       "      <td>00:06</td>\n",
       "    </tr>\n",
       "    <tr>\n",
       "      <td>2</td>\n",
       "      <td>0.425428</td>\n",
       "      <td>0.427500</td>\n",
       "      <td>0.843570</td>\n",
       "      <td>00:04</td>\n",
       "    </tr>\n",
       "    <tr>\n",
       "      <td>3</td>\n",
       "      <td>0.425767</td>\n",
       "      <td>0.424902</td>\n",
       "      <td>0.845106</td>\n",
       "      <td>00:05</td>\n",
       "    </tr>\n",
       "    <tr>\n",
       "      <td>4</td>\n",
       "      <td>0.419661</td>\n",
       "      <td>0.424771</td>\n",
       "      <td>0.844914</td>\n",
       "      <td>00:03</td>\n",
       "    </tr>\n",
       "  </tbody>\n",
       "</table>"
      ],
      "text/plain": [
       "<IPython.core.display.HTML object>"
      ]
     },
     "metadata": {},
     "output_type": "display_data"
    }
   ],
   "source": [
    "learn.fit_one_cycle(5,1e-1 / 2)"
   ]
  },
  {
   "cell_type": "markdown",
   "metadata": {},
   "source": [
    "Here we can have a look at the performance of the Neural Random Forest tuned with respect to the original sklearn Random Forest."
   ]
  },
  {
   "cell_type": "code",
   "execution_count": 24,
   "metadata": {
    "ExecuteTime": {
     "end_time": "2020-05-15T11:27:40.866313Z",
     "start_time": "2020-05-15T11:27:40.257058Z"
    }
   },
   "outputs": [
    {
     "name": "stdout",
     "output_type": "stream",
     "text": [
      "Original accuracy : 0.819961612284069\n",
      "Accuracy : 0.8449136276391555\n",
      "Same output : 0.9028790786948176\n"
     ]
    }
   ],
   "source": [
    "pred = rf.predict(X_valid_normalized)\n",
    "\n",
    "with torch.no_grad():\n",
    "    neural_pred = model(torch.tensor(X_valid_normalized).float()).argmax(dim=1).numpy()\n",
    "\n",
    "print(f\"Original accuracy : {(pred == y_valid).mean()}\")\n",
    "print(f\"Accuracy : {(neural_pred == y_valid).mean()}\")\n",
    "print(f\"Same output : {(neural_pred == pred).mean()}\")"
   ]
  },
  {
   "cell_type": "markdown",
   "metadata": {},
   "source": [
    "## Homomorphic Random Forest"
   ]
  },
  {
   "cell_type": "markdown",
   "metadata": {
    "ExecuteTime": {
     "end_time": "2020-05-04T14:28:27.202632Z",
     "start_time": "2020-05-04T14:28:27.118290Z"
    }
   },
   "source": [
    "Now that we have seen how a Neural Random Forest can be obtained and fine tuned from a regular sklearn Random Forest, we can now see how its Homomorphic Random Forest counterpart performs."
   ]
  },
  {
   "cell_type": "markdown",
   "metadata": {},
   "source": [
    "To do so, we must first initialize the parameters of the CKKS SEAL library, and choose the polynomial activation function we want. Here we will use the same activation function as the above Neural Random Forest."
   ]
  },
  {
   "cell_type": "code",
   "execution_count": 25,
   "metadata": {
    "ExecuteTime": {
     "end_time": "2020-05-15T11:27:40.912726Z",
     "start_time": "2020-05-15T11:27:40.870392Z"
    }
   },
   "outputs": [
    {
     "name": "stdout",
     "output_type": "stream",
     "text": [
      "[39, 30, 30, 30, 30, 30, 30, 30, 30, 30, 30, 30, 30, 39]\n",
      "438\n"
     ]
    }
   ],
   "source": [
    "import numpy as np \n",
    "\n",
    "dilatation_factor = 16\n",
    "degree = dilatation_factor\n",
    "\n",
    "PRECISION_BITS = 30\n",
    "UPPER_BITS = 9\n",
    "\n",
    "polynomial_multiplications = int(np.ceil(np.log2(degree))) + 1\n",
    "n_polynomials = 2\n",
    "matrix_multiplications = 2\n",
    "\n",
    "depth = matrix_multiplications + polynomial_multiplications * n_polynomials\n",
    "\n",
    "poly_modulus_degree = 16384\n",
    "\n",
    "moduli = [PRECISION_BITS + UPPER_BITS] + (depth) * [PRECISION_BITS] + [PRECISION_BITS + UPPER_BITS]\n",
    "print(moduli)\n",
    "print(sum(moduli))"
   ]
  },
  {
   "cell_type": "markdown",
   "metadata": {},
   "source": [
    "Now we just need to use the parameters defined above to populate our environment with SEAL context."
   ]
  },
  {
   "cell_type": "code",
   "execution_count": 26,
   "metadata": {
    "ExecuteTime": {
     "end_time": "2020-05-15T11:27:54.583141Z",
     "start_time": "2020-05-15T11:27:40.918626Z"
    }
   },
   "outputs": [],
   "source": [
    "from cryptotree.seal_helper import create_seal_globals, append_globals_to_builtins\n",
    "import builtins\n",
    "\n",
    "create_seal_globals(globals(), poly_modulus_degree, moduli, PRECISION_BITS)\n",
    "append_globals_to_builtins(globals(), builtins)"
   ]
  },
  {
   "cell_type": "markdown",
   "metadata": {},
   "source": [
    "We can then create our Homomorphic Random Forest from the Neural Random Forest we fine tuned earlier.\n",
    "\n",
    "We first have to extract the weights using the Homomorphic Random Forest class, and pass it to the Homomorphic Tree Evaluator which will do the computation, using the polynomial activation given, and the SEAL context.\n",
    "\n",
    "A featurizer is also created for the client side, in order to preprocess, encode and encrypt the data."
   ]
  },
  {
   "cell_type": "code",
   "execution_count": 27,
   "metadata": {
    "ExecuteTime": {
     "end_time": "2020-05-15T11:27:58.823300Z",
     "start_time": "2020-05-15T11:27:58.631124Z"
    }
   },
   "outputs": [],
   "source": [
    "from cryptotree.cryptotree import HomomorphicNeuralRandomForest, HomomorphicTreeEvaluator, HomomorphicTreeFeaturizer\n",
    "from cryptotree.polynomials import polyeval_tree\n",
    "\n",
    "h_rf = HomomorphicNeuralRandomForest(model)\n",
    "\n",
    "tree_evaluator = HomomorphicTreeEvaluator.from_model(h_rf, tree_maker.coeffs, \n",
    "                                                   polyeval_tree, evaluator, encoder, relin_keys, galois_keys, \n",
    "                                                   scale)\n",
    "\n",
    "homomorphic_featurizer = HomomorphicTreeFeaturizer(h_rf.return_comparator(), encoder, encryptor, scale)"
   ]
  },
  {
   "cell_type": "markdown",
   "metadata": {},
   "source": [
    "Now we can take some data, encrypt it, and pass it to our Homorphic Tree Evaluator : "
   ]
  },
  {
   "cell_type": "code",
   "execution_count": 28,
   "metadata": {
    "ExecuteTime": {
     "end_time": "2020-05-15T11:28:02.678700Z",
     "start_time": "2020-05-15T11:27:59.638536Z"
    }
   },
   "outputs": [],
   "source": [
    "i = 0\n",
    "\n",
    "x = X_train_normalized[i]\n",
    "ctx = homomorphic_featurizer.encrypt(x)\n",
    "\n",
    "outputs = tree_evaluator(ctx)"
   ]
  },
  {
   "cell_type": "markdown",
   "metadata": {},
   "source": [
    "We can decrypt and decode the data to see the output :"
   ]
  },
  {
   "cell_type": "code",
   "execution_count": 31,
   "metadata": {
    "ExecuteTime": {
     "end_time": "2020-05-15T11:28:26.513208Z",
     "start_time": "2020-05-15T11:28:26.479553Z"
    }
   },
   "outputs": [
    {
     "name": "stdout",
     "output_type": "stream",
     "text": [
      "[0.5042572021484368, -0.6406860351562466]\n"
     ]
    }
   ],
   "source": [
    "import tenseal.sealapi as seal\n",
    "\n",
    "homomorphic_pred = []\n",
    "\n",
    "for output in outputs:\n",
    "    ptx = seal.Plaintext()\n",
    "    decryptor.decrypt(output, ptx)\n",
    "    \n",
    "    values = encoder.decode_double(ptx)\n",
    "    \n",
    "    output = sum(list(values))\n",
    "    homomorphic_pred.append(output)\n",
    "    \n",
    "print(homomorphic_pred)"
   ]
  },
  {
   "cell_type": "markdown",
   "metadata": {},
   "source": [
    "We can see what was the original output, if we had used only the Neural Random Forest : "
   ]
  },
  {
   "cell_type": "code",
   "execution_count": 32,
   "metadata": {
    "ExecuteTime": {
     "end_time": "2020-05-15T11:28:28.643323Z",
     "start_time": "2020-05-15T11:28:28.547722Z"
    }
   },
   "outputs": [
    {
     "name": "stdout",
     "output_type": "stream",
     "text": [
      "Original Random Forest output : [[0.699365 0.300635]]\n",
      "Neural Random Forest output : tensor([[ 0.4759, -0.5972]])\n",
      "Homomorphic Random Forest output : [0.5042572021484368, -0.6406860351562466]\n"
     ]
    }
   ],
   "source": [
    "x = X_train_normalized[i]\n",
    "\n",
    "pred = rf.predict_proba(x.reshape(1,-1))\n",
    "neural_pred = model(torch.tensor(x).float().unsqueeze(0))\n",
    "\n",
    "print(f\"Original Random Forest output : {pred}\")\n",
    "print(f\"Neural Random Forest output : {neural_pred.detach()}\")\n",
    "print(f\"Homomorphic Random Forest output : {homomorphic_pred}\")"
   ]
  },
  {
   "cell_type": "markdown",
   "metadata": {},
   "source": [
    "Here we can see our Neural Random Forest, and Homomorphic Random Forest have very similar outputs."
   ]
  },
  {
   "cell_type": "markdown",
   "metadata": {},
   "source": [
    "## Exporting featurizer and models"
   ]
  },
  {
   "cell_type": "markdown",
   "metadata": {},
   "source": [
    "The preprocessing pipeline can be saved for later use on the client side. We can save and load it with pickle."
   ]
  },
  {
   "cell_type": "code",
   "execution_count": 38,
   "metadata": {
    "ExecuteTime": {
     "end_time": "2020-05-15T11:34:06.490258Z",
     "start_time": "2020-05-15T11:34:06.459529Z"
    }
   },
   "outputs": [],
   "source": [
    "import pickle\n",
    "\n",
    "pickle.dump(pipe, open(\"pipe.pkl\", \"wb\"))\n",
    "pipe = pickle.load(open(\"pipe.pkl\" , \"rb\"))"
   ]
  },
  {
   "cell_type": "markdown",
   "metadata": {},
   "source": [
    "We can also store as well the featurizer, used to shuffle the features before the comparisons. This will be sent to the client side to prepare the data before sending it."
   ]
  },
  {
   "cell_type": "code",
   "execution_count": 39,
   "metadata": {
    "ExecuteTime": {
     "end_time": "2020-05-15T11:34:58.502122Z",
     "start_time": "2020-05-15T11:34:58.468689Z"
    }
   },
   "outputs": [],
   "source": [
    "homomorphic_featurizer.save(\"homomorphic_featurizer.pkl\")"
   ]
  },
  {
   "cell_type": "markdown",
   "metadata": {},
   "source": [
    "Finally, we can store the Homomorphic Random Forest to use on the server side."
   ]
  },
  {
   "cell_type": "code",
   "execution_count": 40,
   "metadata": {
    "ExecuteTime": {
     "end_time": "2020-05-15T11:35:41.225082Z",
     "start_time": "2020-05-15T11:35:41.184229Z"
    }
   },
   "outputs": [],
   "source": [
    "pickle.dump(h_rf, open(\"h_rf.pkl\", \"wb\"))"
   ]
  }
 ],
 "metadata": {
  "kernelspec": {
   "display_name": "Python 3",
   "language": "python",
   "name": "python3"
  },
  "language_info": {
   "codemirror_mode": {
    "name": "ipython",
    "version": 3
   },
   "file_extension": ".py",
   "mimetype": "text/x-python",
   "name": "python",
   "nbconvert_exporter": "python",
   "pygments_lexer": "ipython3",
   "version": "3.8.2"
  },
  "toc": {
   "base_numbering": 1,
   "nav_menu": {
    "height": "274.9px",
    "width": "214px"
   },
   "number_sections": true,
   "sideBar": true,
   "skip_h1_title": false,
   "title_cell": "Table of Contents",
   "title_sidebar": "Contents",
   "toc_cell": false,
   "toc_position": {},
   "toc_section_display": true,
   "toc_window_display": false
  }
 },
 "nbformat": 4,
 "nbformat_minor": 4
}

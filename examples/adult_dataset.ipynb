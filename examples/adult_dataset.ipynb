{
 "cells": [
  {
   "cell_type": "code",
   "execution_count": 1,
   "metadata": {
    "ExecuteTime": {
     "end_time": "2020-05-04T14:19:02.605171Z",
     "start_time": "2020-05-04T14:19:02.590007Z"
    }
   },
   "outputs": [],
   "source": [
    "# hide\n",
    "%load_ext autoreload\n",
    "%autoreload 2"
   ]
  },
  {
   "cell_type": "markdown",
   "metadata": {},
   "source": [
    "# Adult income dataset"
   ]
  },
  {
   "cell_type": "markdown",
   "metadata": {},
   "source": [
    "Here we wll study the Adult Income Dataset and see how we can apply Homomorphic Random Forest to it."
   ]
  },
  {
   "cell_type": "markdown",
   "metadata": {},
   "source": [
    "## Data loading"
   ]
  },
  {
   "cell_type": "code",
   "execution_count": 1,
   "metadata": {
    "ExecuteTime": {
     "end_time": "2020-05-05T09:27:59.027569Z",
     "start_time": "2020-05-05T09:27:55.305341Z"
    }
   },
   "outputs": [],
   "source": [
    "import pandas as pd\n",
    "from sklearn.model_selection import train_test_split\n",
    "\n",
    "df = pd.read_csv(\n",
    "    \"https://archive.ics.uci.edu/ml/machine-learning-databases/adult/adult.data\",\n",
    "    header=None)\n",
    "\n",
    "df.columns = [\n",
    "    \"Age\", \"WorkClass\", \"fnlwgt\", \"Education\", \"EducationNum\",\n",
    "    \"MaritalStatus\", \"Occupation\", \"Relationship\", \"Race\", \"Gender\",\n",
    "    \"CapitalGain\", \"CapitalLoss\", \"HoursPerWeek\", \"NativeCountry\", \"Income\"\n",
    "]\n",
    "\n",
    "# df = df.sample(frac=0.1, random_state=1)\n",
    "train_cols = df.columns[0:-1]\n",
    "label = df.columns[-1]\n",
    "X = df[train_cols]\n",
    "y = df[label].apply(lambda x: 0 if x == \" <=50K\" else 1) #Turning response into 0 and 1\n",
    "\n",
    "seed = 1\n",
    "X_train, X_test, y_train, y_test = train_test_split(X, y, test_size=0.20, random_state=seed)"
   ]
  },
  {
   "cell_type": "markdown",
   "metadata": {},
   "source": [
    "## Data preprocessing"
   ]
  },
  {
   "cell_type": "markdown",
   "metadata": {},
   "source": [
    "Because we need our data to be in the range$[-1,1]$ at the beginning, we will create a preprocessing pipeline using sklearn Pipelines. \n",
    "\n",
    "It will apply a LabelEncoder on categorical columns, before using it in a MinMaxScaler."
   ]
  },
  {
   "cell_type": "code",
   "execution_count": 3,
   "metadata": {
    "ExecuteTime": {
     "end_time": "2020-05-05T10:08:53.382760Z",
     "start_time": "2020-05-05T10:08:53.308326Z"
    }
   },
   "outputs": [],
   "source": [
    "from sklearn.base import BaseEstimator, TransformerMixin\n",
    "from sklearn.pipeline import Pipeline, FeatureUnion\n",
    "from sklearn.preprocessing import MinMaxScaler, LabelEncoder\n",
    "\n",
    "class ColumnSelector(BaseEstimator, TransformerMixin):\n",
    "    \"\"\"Sklearn pipeline to select a column from a dataframe\"\"\"\n",
    "    def fit(self, column):\n",
    "        self.column = column\n",
    "        \n",
    "    def transform(self, X):\n",
    "        return X[self.column].values\n",
    "    \n",
    "    def inverse_transform(self, X):\n",
    "        return X\n",
    "    \n",
    "class Reshaper(BaseEstimator, TransformerMixin):\n",
    "    \"\"\"Reshapes a numpy array from 1D to 2D\"\"\"\n",
    "    def transform(self, X):\n",
    "        return X.reshape(-1,1)\n",
    "    \n",
    "    def inverse_transform(self, X):\n",
    "        return X.reshape(-1)"
   ]
  },
  {
   "cell_type": "code",
   "execution_count": 4,
   "metadata": {
    "ExecuteTime": {
     "end_time": "2020-05-05T10:09:25.414532Z",
     "start_time": "2020-05-05T10:09:25.386675Z"
    }
   },
   "outputs": [],
   "source": [
    "class Featurizer(BaseEstimator, TransformerMixin):\n",
    "    \"\"\"Featurizer which normalize a dataset to [-1,1]\"\"\"\n",
    "    def __init__(self, categorical_columns):\n",
    "        self.categorical_columns = categorical_columns\n",
    "        \n",
    "    def fit(self, df):\n",
    "        pipelines = []\n",
    "        for col in df.columns.values:\n",
    "            steps = []\n",
    "            column_selector = ColumnSelector()\n",
    "            column_selector.fit(col)\n",
    "            \n",
    "            column_values = column_selector.transform(df)\n",
    "            \n",
    "            steps.append((col,column_selector))\n",
    "            \n",
    "            if col in self.categorical_columns:\n",
    "                le = LabelEncoder()\n",
    "                le.fit(column_values)\n",
    "                column_values = le.transform(column_values)\n",
    "                \n",
    "                steps.append((\"label_encoding\",le))\n",
    "                \n",
    "            reshaper = Reshaper()\n",
    "            column_values = reshaper.transform(column_values)\n",
    "            steps.append((\"reshape\", reshaper))\n",
    "            \n",
    "            min_max = MinMaxScaler()\n",
    "            min_max.fit(column_values)\n",
    "            steps.append((\"min_max\", min_max))\n",
    "            \n",
    "            pipeline = Pipeline(steps)\n",
    "            pipelines.append((col, pipeline))\n",
    "\n",
    "        self.pipelines = FeatureUnion(pipelines)\n",
    "        return self\n",
    "    \n",
    "    def transform(self, df):\n",
    "        return self.pipelines.transform(df)"
   ]
  },
  {
   "cell_type": "markdown",
   "metadata": {},
   "source": [
    "Now that we have defined the featurizer, we can use it on our dataset."
   ]
  },
  {
   "cell_type": "code",
   "execution_count": 6,
   "metadata": {
    "ExecuteTime": {
     "end_time": "2020-05-05T10:10:29.200891Z",
     "start_time": "2020-05-05T10:10:29.196720Z"
    }
   },
   "outputs": [],
   "source": [
    "categorical_columns = [\"WorkClass\",\"Education\",\"MaritalStatus\", \"Occupation\", \"Relationship\", \n",
    "                       \"Race\", \"Gender\", \"NativeCountry\"]\n",
    "\n",
    "featurizer = Featurizer(categorical_columns)"
   ]
  },
  {
   "cell_type": "code",
   "execution_count": 7,
   "metadata": {
    "ExecuteTime": {
     "end_time": "2020-05-05T10:10:33.732602Z",
     "start_time": "2020-05-05T10:10:33.572077Z"
    }
   },
   "outputs": [],
   "source": [
    "X_train_normalized = featurizer.fit_transform(X_train)"
   ]
  },
  {
   "cell_type": "markdown",
   "metadata": {},
   "source": [
    "We can have a look and check that input is in $[-1,1]$."
   ]
  },
  {
   "cell_type": "code",
   "execution_count": 9,
   "metadata": {
    "ExecuteTime": {
     "end_time": "2020-05-05T10:10:47.258017Z",
     "start_time": "2020-05-05T10:10:47.250292Z"
    }
   },
   "outputs": [
    {
     "data": {
      "text/plain": [
       "array([[0.30136986, 0.75      , 0.11883726, 0.06666667, 0.4       ,\n",
       "        0.33333333, 1.        , 0.        , 1.        , 1.        ,\n",
       "        0.        , 0.        , 0.39795918, 0.95      ],\n",
       "       [0.50684932, 0.75      , 0.06202921, 0.6       , 0.8       ,\n",
       "        0.33333333, 0.28571429, 0.        , 1.        , 1.        ,\n",
       "        0.        , 0.        , 0.39795918, 0.95      ]])"
      ]
     },
     "execution_count": 9,
     "metadata": {},
     "output_type": "execute_result"
    }
   ],
   "source": [
    "X_train_normalized[:2]"
   ]
  },
  {
   "cell_type": "markdown",
   "metadata": {},
   "source": [
    "## Neural Random Forest"
   ]
  },
  {
   "cell_type": "code",
   "execution_count": 11,
   "metadata": {
    "ExecuteTime": {
     "end_time": "2020-05-05T10:12:38.346956Z",
     "start_time": "2020-05-05T10:12:38.342734Z"
    }
   },
   "outputs": [],
   "source": [
    "import torch\n",
    "import numpy as np"
   ]
  },
  {
   "cell_type": "markdown",
   "metadata": {},
   "source": [
    "Now that data has been preprocessed, we can feed it to a Neural Random Forest."
   ]
  },
  {
   "cell_type": "markdown",
   "metadata": {},
   "source": [
    "Here we can have a look at the activation function we will use, for instance sigmoid."
   ]
  },
  {
   "cell_type": "code",
   "execution_count": 15,
   "metadata": {
    "ExecuteTime": {
     "end_time": "2020-05-05T10:14:18.574411Z",
     "start_time": "2020-05-05T10:14:18.326773Z"
    }
   },
   "outputs": [
    {
     "data": {
      "text/plain": [
       "(<Figure size 432x288 with 1 Axes>,\n",
       " <matplotlib.axes._subplots.AxesSubplot at 0x7ff834e0a490>)"
      ]
     },
     "execution_count": 15,
     "metadata": {},
     "output_type": "execute_result"
    },
    {
     "data": {
      "image/png": "[encoded data removed]",
      "text/plain": [
       "<Figure size 432x288 with 1 Axes>"
      ]
     },
     "metadata": {
      "needs_background": "light"
     },
     "output_type": "display_data"
    }
   ],
   "source": [
    "from cryptotree.tree import NeuralRandomForest, SigmoidTreeMaker, TanhTreeMaker\n",
    "from cryptotree.polynomials import plot_graph_function_approximation\n",
    "\n",
    "max_depth = 3\n",
    "\n",
    "dilatation_factor = 16\n",
    "polynomial_degree = dilatation_factor\n",
    "\n",
    "plot_graph_function_approximation(torch.sigmoid,\n",
    "                                  dilatation_factor=dilatation_factor,polynomial_degree=polynomial_degree)"
   ]
  },
  {
   "cell_type": "markdown",
   "metadata": {},
   "source": [
    "Now that we have te parameters of dilation and polynomial degree for the activation functions, we can create the tree makers."
   ]
  },
  {
   "cell_type": "code",
   "execution_count": 16,
   "metadata": {
    "ExecuteTime": {
     "end_time": "2020-05-05T10:14:20.995412Z",
     "start_time": "2020-05-05T10:14:20.970042Z"
    }
   },
   "outputs": [],
   "source": [
    "sigmoid_tree_maker = SigmoidTreeMaker(use_polynomial=True,\n",
    "                                  dilatation_factor=dilatation_factor, polynomial_degree=polynomial_degree)\n",
    "\n",
    "tanh_tree_maker = TanhTreeMaker(use_polynomial=True,\n",
    "                                  dilatation_factor=dilatation_factor, polynomial_degree=polynomial_degree)"
   ]
  },
  {
   "cell_type": "markdown",
   "metadata": {},
   "source": [
    "We can fit a regular sklearn Random Forest now."
   ]
  },
  {
   "cell_type": "code",
   "execution_count": 17,
   "metadata": {
    "ExecuteTime": {
     "end_time": "2020-05-05T10:14:31.664560Z",
     "start_time": "2020-05-05T10:14:30.868296Z"
    }
   },
   "outputs": [
    {
     "data": {
      "text/plain": [
       "RandomForestClassifier(bootstrap=True, ccp_alpha=0.0, class_weight=None,\n",
       "                       criterion='gini', max_depth=3, max_features='auto',\n",
       "                       max_leaf_nodes=None, max_samples=None,\n",
       "                       min_impurity_decrease=0.0, min_impurity_split=None,\n",
       "                       min_samples_leaf=1, min_samples_split=2,\n",
       "                       min_weight_fraction_leaf=0.0, n_estimators=100,\n",
       "                       n_jobs=None, oob_score=False, random_state=0, verbose=0,\n",
       "                       warm_start=False)"
      ]
     },
     "execution_count": 17,
     "metadata": {},
     "output_type": "execute_result"
    }
   ],
   "source": [
    "from sklearn.ensemble import RandomForestClassifier\n",
    "\n",
    "rf = RandomForestClassifier(max_depth=max_depth, random_state=0)\n",
    "rf.fit(X_train_normalized, y_train)"
   ]
  },
  {
   "cell_type": "markdown",
   "metadata": {},
   "source": [
    "From the regular RF, we can define the Neural Random Forest, with sigmoid and tanh activations."
   ]
  },
  {
   "cell_type": "markdown",
   "metadata": {},
   "source": [
    "### Without finetuning"
   ]
  },
  {
   "cell_type": "code",
   "execution_count": 18,
   "metadata": {
    "ExecuteTime": {
     "end_time": "2020-05-05T10:15:23.603445Z",
     "start_time": "2020-05-05T10:15:23.101234Z"
    }
   },
   "outputs": [],
   "source": [
    "sigmoid_neural_rf = NeuralRandomForest(rf.estimators_, sigmoid_tree_maker)\n",
    "tanh_neural_rf = NeuralRandomForest(rf.estimators_, tanh_tree_maker)"
   ]
  },
  {
   "cell_type": "code",
   "execution_count": 20,
   "metadata": {
    "ExecuteTime": {
     "end_time": "2020-05-05T10:16:19.236268Z",
     "start_time": "2020-05-05T10:15:56.742128Z"
    }
   },
   "outputs": [
    {
     "name": "stdout",
     "output_type": "stream",
     "text": [
      "Original accuracy : 0.8257831695331695\n",
      "Accuracy of sigmoid  : 0.29549293611793614\n",
      "Accuracy of tanh : 0.7574477886977887\n",
      "Match between sigmoid and original : 0.14139281326781328\n",
      "Match between tanh and original : 0.9136977886977887\n"
     ]
    }
   ],
   "source": [
    "with torch.no_grad():\n",
    "    sigmoid_neural_pred = sigmoid_neural_rf(torch.tensor(X_train_normalized).float()).argmax(dim=1).numpy()\n",
    "    tanh_neural_pred = tanh_neural_rf(torch.tensor(X_train_normalized).float()).argmax(dim=1).numpy()\n",
    "\n",
    "pred = rf.predict(X_train_normalized)\n",
    "print(f\"Original accuracy : {(pred == y_train).mean()}\")\n",
    "\n",
    "print(f\"Accuracy of sigmoid  : {(sigmoid_neural_pred == y_train).mean()}\")\n",
    "print(f\"Accuracy of tanh : {(tanh_neural_pred == y_train).mean()}\")\n",
    "\n",
    "print(f\"Match between sigmoid and original : {(sigmoid_neural_pred == pred).mean()}\")\n",
    "print(f\"Match between tanh and original : {(tanh_neural_pred == pred).mean()}\")"
   ]
  },
  {
   "cell_type": "markdown",
   "metadata": {},
   "source": [
    "We can see that there is a discrepancy between the original Random Forest and the neural ones, especially for the sigmoid one.\n",
    "\n",
    "Nonetheless we can correct this error by finetuning the final layer of our neural networks to take into account the fact that due to using activation functions not sharp enough."
   ]
  },
  {
   "cell_type": "markdown",
   "metadata": {},
   "source": [
    "### With finetuning"
   ]
  },
  {
   "cell_type": "markdown",
   "metadata": {},
   "source": [
    "Because we need to make sure that at each step of the Neural Network the output is in $[-1,1]$, to be able to use the polynomial approximation of the activation, we can only safely train the last layer."
   ]
  },
  {
   "cell_type": "markdown",
   "metadata": {},
   "source": [
    "To do so we will use Pytorch and [fastai](https://github.com/fastai/fastai)."
   ]
  },
  {
   "cell_type": "markdown",
   "metadata": {},
   "source": [
    "Here we first define our Pytorch Dataset."
   ]
  },
  {
   "cell_type": "code",
   "execution_count": 24,
   "metadata": {
    "ExecuteTime": {
     "end_time": "2020-05-05T10:21:28.294875Z",
     "start_time": "2020-05-05T10:21:28.283123Z"
    }
   },
   "outputs": [],
   "source": [
    "from torch.utils import data\n",
    "import numpy as np\n",
    "\n",
    "class TabularDataset(data.Dataset):\n",
    "    'Characterizes a dataset for PyTorch'\n",
    "    def __init__(self, X: np.ndarray, y: np.ndarray):\n",
    "        'Initialization'\n",
    "        self.X, self.y = X,y\n",
    "\n",
    "    def __len__(self):\n",
    "        'Denotes the total number of samples'\n",
    "        return len(self.X)\n",
    "\n",
    "    def __getitem__(self, index):\n",
    "        'Generates one sample of data'\n",
    "\n",
    "        # Load data and get label\n",
    "        X = torch.tensor(self.X[index]).float()\n",
    "        y = torch.tensor(self.y[index])\n",
    "\n",
    "        return X, y"
   ]
  },
  {
   "cell_type": "markdown",
   "metadata": {},
   "source": [
    "Then we split our training data into training and validation."
   ]
  },
  {
   "cell_type": "code",
   "execution_count": 25,
   "metadata": {
    "ExecuteTime": {
     "end_time": "2020-05-05T10:21:28.921148Z",
     "start_time": "2020-05-05T10:21:28.796322Z"
    }
   },
   "outputs": [],
   "source": [
    "from sklearn.model_selection import train_test_split\n",
    "\n",
    "X_train, X_test, y_train, y_test = train_test_split(X, y, test_size=0.20, random_state=seed)\n",
    "X_train_normalized, X_valid_normalized, y_train, y_valid = train_test_split(featurizer.transform(X_train), \n",
    "                                                                            y_train,\n",
    "                                                                            train_size=0.8)"
   ]
  },
  {
   "cell_type": "markdown",
   "metadata": {},
   "source": [
    "Then we create the Pytorch dataloaders."
   ]
  },
  {
   "cell_type": "code",
   "execution_count": 26,
   "metadata": {
    "ExecuteTime": {
     "end_time": "2020-05-05T10:21:29.571610Z",
     "start_time": "2020-05-05T10:21:29.566197Z"
    }
   },
   "outputs": [],
   "source": [
    "train_ds = TabularDataset(X_train_normalized, y_train.values)\n",
    "valid_ds = TabularDataset(X_valid_normalized, y_valid.values)"
   ]
  },
  {
   "cell_type": "code",
   "execution_count": 27,
   "metadata": {
    "ExecuteTime": {
     "end_time": "2020-05-05T10:21:30.249494Z",
     "start_time": "2020-05-05T10:21:30.244269Z"
    }
   },
   "outputs": [],
   "source": [
    "bs = 128\n",
    "\n",
    "train_dl = data.DataLoader(train_ds, batch_size=bs, shuffle=True)\n",
    "valid_dl = data.DataLoader(valid_ds, batch_size=bs)\n",
    "fix_dl = data.DataLoader(train_ds, batch_size=bs, shuffle=False)"
   ]
  },
  {
   "cell_type": "markdown",
   "metadata": {},
   "source": [
    "Here we will just define the model, which is a sigmoid Neural Random Forest."
   ]
  },
  {
   "cell_type": "code",
   "execution_count": 37,
   "metadata": {
    "ExecuteTime": {
     "end_time": "2020-05-05T10:27:35.396117Z",
     "start_time": "2020-05-05T10:27:35.039735Z"
    }
   },
   "outputs": [],
   "source": [
    "tree_maker = sigmoid_tree_maker\n",
    "\n",
    "model = NeuralRandomForest(rf.estimators_, tree_maker=tree_maker)"
   ]
  },
  {
   "cell_type": "markdown",
   "metadata": {},
   "source": [
    "Because we only want to train the last layer, we will freeze the first two layers and check they are frozen."
   ]
  },
  {
   "cell_type": "code",
   "execution_count": 75,
   "metadata": {
    "ExecuteTime": {
     "end_time": "2020-05-05T10:45:36.924314Z",
     "start_time": "2020-05-05T10:45:36.914683Z"
    }
   },
   "outputs": [
    {
     "name": "stdout",
     "output_type": "stream",
     "text": [
      "torch.Size([14, 7, 100]) False\n",
      "torch.Size([7, 100]) False\n",
      "torch.Size([8, 7, 100]) False\n",
      "torch.Size([8, 100]) False\n",
      "torch.Size([2, 8, 100]) True\n",
      "torch.Size([2, 100]) True\n"
     ]
    }
   ],
   "source": [
    "model.freeze_layer(\"comparator\")\n",
    "model.freeze_layer(\"matcher\")\n",
    "\n",
    "for p in model.parameters():\n",
    "    print(p.shape, p.requires_grad)"
   ]
  },
  {
   "cell_type": "code",
   "execution_count": 40,
   "metadata": {
    "ExecuteTime": {
     "end_time": "2020-05-05T10:27:39.586670Z",
     "start_time": "2020-05-05T10:27:36.735535Z"
    }
   },
   "outputs": [
    {
     "name": "stdout",
     "output_type": "stream",
     "text": [
      "Original accuracy : 0.8264228812745945\n",
      "Accuracy : 0.29302236299069007\n",
      "Same output : 0.1396007294366062\n"
     ]
    }
   ],
   "source": [
    "pred = rf.predict(X_train_normalized)\n",
    "\n",
    "with torch.no_grad():\n",
    "    neural_pred = model(torch.tensor(X_train_normalized).float()).argmax(dim=1).numpy()\n",
    "\n",
    "print(f\"Original accuracy : {(pred == y_train).mean()}\")\n",
    "print(f\"Accuracy : {(neural_pred == y_train).mean()}\")\n",
    "print(f\"Same output : {(neural_pred == pred).mean()}\")"
   ]
  },
  {
   "cell_type": "markdown",
   "metadata": {},
   "source": [
    "Now we can define our fastai Learner, with the dataset, the model, and the loss function, which is a Label Smoothing Cross Entropy here."
   ]
  },
  {
   "cell_type": "code",
   "execution_count": 41,
   "metadata": {
    "ExecuteTime": {
     "end_time": "2020-05-05T10:27:39.641176Z",
     "start_time": "2020-05-05T10:27:39.601727Z"
    }
   },
   "outputs": [],
   "source": [
    "from fastai.basic_data import DataBunch\n",
    "from fastai.tabular.learner import Learner\n",
    "from fastai.metrics import accuracy\n",
    "\n",
    "from cryptotree.tree import CrossEntropyLabelSmoothing\n",
    "import torch.nn as nn\n",
    "\n",
    "data = DataBunch(train_dl, valid_dl,fix_dl=fix_dl)\n",
    "\n",
    "criterion = CrossEntropyLabelSmoothing()\n",
    "\n",
    "learn = Learner(data, model, loss_func=criterion, metrics=accuracy)"
   ]
  },
  {
   "cell_type": "markdown",
   "metadata": {},
   "source": [
    "We will use fastai lr finder to have an idea of what learning rate to choose."
   ]
  },
  {
   "cell_type": "code",
   "execution_count": 35,
   "metadata": {
    "ExecuteTime": {
     "end_time": "2020-05-05T10:26:17.053278Z",
     "start_time": "2020-05-05T10:26:09.095095Z"
    }
   },
   "outputs": [
    {
     "data": {
      "text/html": [
       "\n",
       "    <div>\n",
       "        <style>\n",
       "            /* Turns off some styling */\n",
       "            progress {\n",
       "                /* gets rid of default border in Firefox and Opera. */\n",
       "                border: none;\n",
       "                /* Needs to be in here for Safari polyfill so background images work as expected. */\n",
       "                background-size: auto;\n",
       "            }\n",
       "            .progress-bar-interrupted, .progress-bar-interrupted::-webkit-progress-bar {\n",
       "                background: #F44336;\n",
       "            }\n",
       "        </style>\n",
       "      <progress value='3' class='' max='4' style='width:300px; height:20px; vertical-align: middle;'></progress>\n",
       "      75.00% [3/4 00:07<00:02]\n",
       "    </div>\n",
       "    \n",
       "<table border=\"1\" class=\"dataframe\">\n",
       "  <thead>\n",
       "    <tr style=\"text-align: left;\">\n",
       "      <th>epoch</th>\n",
       "      <th>train_loss</th>\n",
       "      <th>valid_loss</th>\n",
       "      <th>accuracy</th>\n",
       "      <th>time</th>\n",
       "    </tr>\n",
       "  </thead>\n",
       "  <tbody>\n",
       "    <tr>\n",
       "      <td>0</td>\n",
       "      <td>0.699034</td>\n",
       "      <td>#na#</td>\n",
       "      <td>00:02</td>\n",
       "    </tr>\n",
       "    <tr>\n",
       "      <td>1</td>\n",
       "      <td>0.614957</td>\n",
       "      <td>#na#</td>\n",
       "      <td>00:02</td>\n",
       "    </tr>\n",
       "    <tr>\n",
       "      <td>2</td>\n",
       "      <td>0.452756</td>\n",
       "      <td>#na#</td>\n",
       "      <td>00:02</td>\n",
       "    </tr>\n",
       "  </tbody>\n",
       "</table><p>\n",
       "\n",
       "    <div>\n",
       "        <style>\n",
       "            /* Turns off some styling */\n",
       "            progress {\n",
       "                /* gets rid of default border in Firefox and Opera. */\n",
       "                border: none;\n",
       "                /* Needs to be in here for Safari polyfill so background images work as expected. */\n",
       "                background-size: auto;\n",
       "            }\n",
       "            .progress-bar-interrupted, .progress-bar-interrupted::-webkit-progress-bar {\n",
       "                background: #F44336;\n",
       "            }\n",
       "        </style>\n",
       "      <progress value='5' class='' max='163' style='width:300px; height:20px; vertical-align: middle;'></progress>\n",
       "      3.07% [5/163 00:00<00:03 0.5244]\n",
       "    </div>\n",
       "    "
      ],
      "text/plain": [
       "<IPython.core.display.HTML object>"
      ]
     },
     "metadata": {},
     "output_type": "display_data"
    },
    {
     "name": "stdout",
     "output_type": "stream",
     "text": [
      "LR Finder is complete, type {learner_name}.recorder.plot() to see the graph.\n"
     ]
    },
    {
     "data": {
      "image/png": "[encoded data removed]",
      "text/plain": [
       "<Figure size 432x288 with 1 Axes>"
      ]
     },
     "metadata": {
      "needs_background": "light"
     },
     "output_type": "display_data"
    }
   ],
   "source": [
    "learn.lr_find(num_it=500)\n",
    "learn.recorder.plot()"
   ]
  },
  {
   "cell_type": "markdown",
   "metadata": {},
   "source": [
    "Here we can see that a good learning rate should be around 1e-1.\n",
    "\n",
    "We can now fine tune our model."
   ]
  },
  {
   "cell_type": "code",
   "execution_count": 42,
   "metadata": {
    "ExecuteTime": {
     "end_time": "2020-05-05T10:28:26.303698Z",
     "start_time": "2020-05-05T10:28:10.334187Z"
    }
   },
   "outputs": [
    {
     "data": {
      "text/html": [
       "<table border=\"1\" class=\"dataframe\">\n",
       "  <thead>\n",
       "    <tr style=\"text-align: left;\">\n",
       "      <th>epoch</th>\n",
       "      <th>train_loss</th>\n",
       "      <th>valid_loss</th>\n",
       "      <th>accuracy</th>\n",
       "      <th>time</th>\n",
       "    </tr>\n",
       "  </thead>\n",
       "  <tbody>\n",
       "    <tr>\n",
       "      <td>0</td>\n",
       "      <td>0.502182</td>\n",
       "      <td>0.463438</td>\n",
       "      <td>0.816891</td>\n",
       "      <td>00:03</td>\n",
       "    </tr>\n",
       "    <tr>\n",
       "      <td>1</td>\n",
       "      <td>0.437246</td>\n",
       "      <td>0.428313</td>\n",
       "      <td>0.837812</td>\n",
       "      <td>00:03</td>\n",
       "    </tr>\n",
       "    <tr>\n",
       "      <td>2</td>\n",
       "      <td>0.426256</td>\n",
       "      <td>0.421618</td>\n",
       "      <td>0.846449</td>\n",
       "      <td>00:02</td>\n",
       "    </tr>\n",
       "    <tr>\n",
       "      <td>3</td>\n",
       "      <td>0.421481</td>\n",
       "      <td>0.419780</td>\n",
       "      <td>0.845489</td>\n",
       "      <td>00:03</td>\n",
       "    </tr>\n",
       "    <tr>\n",
       "      <td>4</td>\n",
       "      <td>0.419754</td>\n",
       "      <td>0.419628</td>\n",
       "      <td>0.844722</td>\n",
       "      <td>00:03</td>\n",
       "    </tr>\n",
       "  </tbody>\n",
       "</table>"
      ],
      "text/plain": [
       "<IPython.core.display.HTML object>"
      ]
     },
     "metadata": {},
     "output_type": "display_data"
    }
   ],
   "source": [
    "learn.fit_one_cycle(5,1e-1 / 2)"
   ]
  },
  {
   "cell_type": "markdown",
   "metadata": {},
   "source": [
    "Here we can have a look at the performance of the Neural Random Forest tuned with respect to the original sklearn Random Forest."
   ]
  },
  {
   "cell_type": "code",
   "execution_count": 45,
   "metadata": {
    "ExecuteTime": {
     "end_time": "2020-05-05T10:29:35.787782Z",
     "start_time": "2020-05-05T10:29:35.328968Z"
    }
   },
   "outputs": [
    {
     "name": "stdout",
     "output_type": "stream",
     "text": [
      "Original accuracy : 0.8232245681381958\n",
      "Accuracy : 0.844721689059501\n",
      "Same output : 0.9074856046065259\n"
     ]
    }
   ],
   "source": [
    "pred = rf.predict(X_valid_normalized)\n",
    "\n",
    "with torch.no_grad():\n",
    "    neural_pred = model(torch.tensor(X_valid_normalized).float()).argmax(dim=1).numpy()\n",
    "\n",
    "print(f\"Original accuracy : {(pred == y_valid).mean()}\")\n",
    "print(f\"Accuracy : {(neural_pred == y_valid).mean()}\")\n",
    "print(f\"Same output : {(neural_pred == pred).mean()}\")"
   ]
  },
  {
   "cell_type": "markdown",
   "metadata": {},
   "source": [
    "## Homomorphic Random Forest"
   ]
  },
  {
   "cell_type": "markdown",
   "metadata": {
    "ExecuteTime": {
     "end_time": "2020-05-04T14:28:27.202632Z",
     "start_time": "2020-05-04T14:28:27.118290Z"
    }
   },
   "source": [
    "Now that we have seen how a Neural Random Forest can be obtained and fine tuned from a regular sklearn Random Forest, we can now see how its Homomorphic Random Forest counterpart performs."
   ]
  },
  {
   "cell_type": "markdown",
   "metadata": {},
   "source": [
    "To do so, we must first initialize the parameters of the CKKS SEAL library, and choose the polynomial activation function we want. Here we will use the same activation function as the above Neural Random Forest."
   ]
  },
  {
   "cell_type": "code",
   "execution_count": 47,
   "metadata": {
    "ExecuteTime": {
     "end_time": "2020-05-05T10:32:33.537942Z",
     "start_time": "2020-05-05T10:32:33.528343Z"
    }
   },
   "outputs": [
    {
     "name": "stdout",
     "output_type": "stream",
     "text": [
      "[39, 30, 30, 30, 30, 30, 30, 30, 30, 30, 30, 30, 30, 39]\n",
      "438\n"
     ]
    }
   ],
   "source": [
    "import numpy as np \n",
    "\n",
    "dilatation_factor = 16\n",
    "degree = dilatation_factor\n",
    "\n",
    "PRECISION_BITS = 30\n",
    "UPPER_BITS = 9\n",
    "\n",
    "polynomial_multiplications = int(np.ceil(np.log2(degree))) + 1\n",
    "n_polynomials = 2\n",
    "matrix_multiplications = 2\n",
    "\n",
    "depth = matrix_multiplications + polynomial_multiplications * n_polynomials\n",
    "\n",
    "poly_modulus_degree = 16384\n",
    "\n",
    "moduli = [PRECISION_BITS + UPPER_BITS] + (depth) * [PRECISION_BITS] + [PRECISION_BITS + UPPER_BITS]\n",
    "print(moduli)\n",
    "print(sum(moduli))"
   ]
  },
  {
   "cell_type": "markdown",
   "metadata": {},
   "source": [
    "Now we just need to use the parameters defined above to populate our environment with SEAL context."
   ]
  },
  {
   "cell_type": "code",
   "execution_count": 48,
   "metadata": {
    "ExecuteTime": {
     "end_time": "2020-05-05T10:33:28.482947Z",
     "start_time": "2020-05-05T10:33:16.445075Z"
    }
   },
   "outputs": [],
   "source": [
    "from cryptotree.seal_helper import create_seal_globals, append_globals_to_builtins\n",
    "import builtins\n",
    "\n",
    "create_seal_globals(globals(), poly_modulus_degree, moduli, PRECISION_BITS)\n",
    "append_globals_to_builtins(globals(), builtins)"
   ]
  },
  {
   "cell_type": "markdown",
   "metadata": {},
   "source": [
    "We can then create our Homomorphic Random Forest from the Neural Random Forest we fine tuned earlier.\n",
    "\n",
    "We first have to extract the weights using the Homomorphic Random Forest class, and pass it to the Homomorphic Tree Evaluator which will do the computation, using the polynomial activation given, and the SEAL context.\n",
    "\n",
    "A featurizer is also created for the client side, in order to preprocess, encode and encrypt the data."
   ]
  },
  {
   "cell_type": "code",
   "execution_count": 49,
   "metadata": {
    "ExecuteTime": {
     "end_time": "2020-05-05T10:36:16.080442Z",
     "start_time": "2020-05-05T10:36:15.884550Z"
    }
   },
   "outputs": [],
   "source": [
    "from cryptotree.cryptotree import HomomorphicNeuralRandomForest, HomomorphicTreeEvaluator, HomomorphicTreeFeaturizer\n",
    "from cryptotree.polynomials import polyeval_tree\n",
    "\n",
    "h_rf = HomomorphicNeuralRandomForest(model)\n",
    "\n",
    "tree_evaluator = HomomorphicTreeEvaluator.from_model(h_rf, tree_maker.coeffs, \n",
    "                                                   polyeval_tree, evaluator, encoder, relin_keys, galois_keys, \n",
    "                                                   scale)\n",
    "\n",
    "featurizer = HomomorphicTreeFeaturizer(h_rf.return_comparator(), encoder, encryptor, scale)"
   ]
  },
  {
   "cell_type": "markdown",
   "metadata": {},
   "source": [
    "Now we can take some data, encrypt it, and pass it to our Homorphic Tree Evaluator : "
   ]
  },
  {
   "cell_type": "code",
   "execution_count": 54,
   "metadata": {
    "ExecuteTime": {
     "end_time": "2020-05-05T10:38:28.873135Z",
     "start_time": "2020-05-05T10:38:25.770644Z"
    }
   },
   "outputs": [],
   "source": [
    "i = 0\n",
    "\n",
    "x = X_train_normalized[i]\n",
    "ctx = featurizer.encrypt(x)\n",
    "\n",
    "outputs = tree_evaluator(ctx)"
   ]
  },
  {
   "cell_type": "markdown",
   "metadata": {},
   "source": [
    "We can decrypt and decode the data to see the output :"
   ]
  },
  {
   "cell_type": "code",
   "execution_count": 57,
   "metadata": {
    "ExecuteTime": {
     "end_time": "2020-05-05T10:39:15.920214Z",
     "start_time": "2020-05-05T10:39:15.902379Z"
    }
   },
   "outputs": [
    {
     "name": "stdout",
     "output_type": "stream",
     "text": [
      "[1.6387176513671915, -1.8611526489257806]\n"
     ]
    }
   ],
   "source": [
    "from seal import Plaintext, DoubleVector\n",
    "\n",
    "homomorphic_pred = []\n",
    "\n",
    "for output in outputs:\n",
    "    ptx = Plaintext()\n",
    "    decryptor.decrypt(output, ptx)\n",
    "    \n",
    "    values = DoubleVector()\n",
    "    encoder.decode(ptx, values)\n",
    "    \n",
    "    output = sum(list(values))\n",
    "    homomorphic_pred.append(output)\n",
    "    \n",
    "print(homomorphic_pred)"
   ]
  },
  {
   "cell_type": "markdown",
   "metadata": {},
   "source": [
    "We can see what was the original output, if we had used only the Neural Random Forest : "
   ]
  },
  {
   "cell_type": "code",
   "execution_count": 59,
   "metadata": {
    "ExecuteTime": {
     "end_time": "2020-05-05T10:40:04.413433Z",
     "start_time": "2020-05-05T10:40:04.385129Z"
    }
   },
   "outputs": [
    {
     "name": "stdout",
     "output_type": "stream",
     "text": [
      "Original Random Forest output : [[0.964255 0.035745]]\n",
      "Neural Random Forest output : tensor([[ 1.6459, -1.8561]])\n",
      "Homomorphic Random Forest output : [1.6387176513671915, -1.8611526489257806]\n"
     ]
    }
   ],
   "source": [
    "x = X_train_normalized[i]\n",
    "\n",
    "pred = rf.predict_proba(x.reshape(1,-1))\n",
    "neural_pred = model(torch.tensor(x).float().unsqueeze(0))\n",
    "\n",
    "print(f\"Original Random Forest output : {pred}\")\n",
    "print(f\"Neural Random Forest output : {neural_pred.detach()}\")\n",
    "print(f\"Homomorphic Random Forest output : {homomorphic_pred}\")"
   ]
  },
  {
   "cell_type": "markdown",
   "metadata": {},
   "source": [
    "Here we can see our Neural Random Forest, and Homomorphic Random Forest have very similar outputs."
   ]
  },
  {
   "cell_type": "markdown",
   "metadata": {
    "heading_collapsed": true
   },
   "source": [
    "## Test"
   ]
  },
  {
   "cell_type": "code",
   "execution_count": 61,
   "metadata": {
    "ExecuteTime": {
     "end_time": "2020-05-05T10:41:32.906194Z",
     "start_time": "2020-05-05T10:41:32.896509Z"
    },
    "hidden": true
   },
   "outputs": [
    {
     "name": "stdout",
     "output_type": "stream",
     "text": [
      "torch.Size([14, 7, 100]) False\n",
      "torch.Size([7, 100]) False\n",
      "torch.Size([8, 7, 100]) False\n",
      "torch.Size([8, 100]) False\n",
      "torch.Size([2, 8, 100]) True\n",
      "torch.Size([2, 100]) True\n"
     ]
    }
   ],
   "source": [
    "for p in model.parameters():\n",
    "    print(p.shape,p.requires_grad)"
   ]
  },
  {
   "cell_type": "code",
   "execution_count": 62,
   "metadata": {
    "ExecuteTime": {
     "end_time": "2020-05-05T10:41:44.966087Z",
     "start_time": "2020-05-05T10:41:44.961534Z"
    },
    "hidden": true
   },
   "outputs": [],
   "source": [
    "model.comparator_bias.requires_grad = True"
   ]
  },
  {
   "cell_type": "code",
   "execution_count": 63,
   "metadata": {
    "ExecuteTime": {
     "end_time": "2020-05-05T10:41:51.108590Z",
     "start_time": "2020-05-05T10:41:51.098569Z"
    },
    "hidden": true
   },
   "outputs": [],
   "source": [
    "neural_pred = model(torch.tensor(x).float().unsqueeze(0))"
   ]
  },
  {
   "cell_type": "code",
   "execution_count": 64,
   "metadata": {
    "ExecuteTime": {
     "end_time": "2020-05-05T10:42:02.394159Z",
     "start_time": "2020-05-05T10:42:02.389805Z"
    },
    "hidden": true
   },
   "outputs": [],
   "source": [
    "l = neural_pred.mean()"
   ]
  },
  {
   "cell_type": "code",
   "execution_count": 65,
   "metadata": {
    "ExecuteTime": {
     "end_time": "2020-05-05T10:42:07.215158Z",
     "start_time": "2020-05-05T10:42:07.197798Z"
    },
    "hidden": true
   },
   "outputs": [],
   "source": [
    "l.backward()"
   ]
  },
  {
   "cell_type": "code",
   "execution_count": 88,
   "metadata": {
    "ExecuteTime": {
     "end_time": "2020-05-05T10:49:46.025891Z",
     "start_time": "2020-05-05T10:49:46.019927Z"
    },
    "hidden": true
   },
   "outputs": [
    {
     "data": {
      "text/plain": [
       "0.07142857142857142"
      ]
     },
     "execution_count": 88,
     "metadata": {},
     "output_type": "execute_result"
    }
   ],
   "source": [
    "1 / 14"
   ]
  },
  {
   "cell_type": "code",
   "execution_count": 76,
   "metadata": {
    "ExecuteTime": {
     "end_time": "2020-05-05T10:45:45.009774Z",
     "start_time": "2020-05-05T10:45:44.469224Z"
    },
    "hidden": true
   },
   "outputs": [
    {
     "data": {
      "text/plain": [
       "RandomForestClassifier(bootstrap=True, ccp_alpha=0.0, class_weight=None,\n",
       "                       criterion='gini', max_depth=3, max_features=0.1,\n",
       "                       max_leaf_nodes=None, max_samples=None,\n",
       "                       min_impurity_decrease=0.0, min_impurity_split=None,\n",
       "                       min_samples_leaf=1, min_samples_split=2,\n",
       "                       min_weight_fraction_leaf=0.0, n_estimators=100,\n",
       "                       n_jobs=None, oob_score=False, random_state=0, verbose=0,\n",
       "                       warm_start=False)"
      ]
     },
     "execution_count": 76,
     "metadata": {},
     "output_type": "execute_result"
    }
   ],
   "source": [
    "rf = RandomForestClassifier(max_depth=max_depth, max_features=0.1, random_state=0)\n",
    "rf.fit(X_train_normalized, y_train)"
   ]
  },
  {
   "cell_type": "code",
   "execution_count": 77,
   "metadata": {
    "ExecuteTime": {
     "end_time": "2020-05-05T10:45:45.466863Z",
     "start_time": "2020-05-05T10:45:45.014269Z"
    },
    "hidden": true
   },
   "outputs": [],
   "source": [
    "tree_maker = sigmoid_tree_maker\n",
    "\n",
    "model = NeuralRandomForest(rf.estimators_, tree_maker=tree_maker)"
   ]
  },
  {
   "cell_type": "code",
   "execution_count": 78,
   "metadata": {
    "ExecuteTime": {
     "end_time": "2020-05-05T10:45:45.482672Z",
     "start_time": "2020-05-05T10:45:45.470380Z"
    },
    "hidden": true
   },
   "outputs": [
    {
     "name": "stdout",
     "output_type": "stream",
     "text": [
      "torch.Size([14, 7, 100]) False\n",
      "torch.Size([7, 100]) False\n",
      "torch.Size([8, 7, 100]) False\n",
      "torch.Size([8, 100]) False\n",
      "torch.Size([2, 8, 100]) True\n",
      "torch.Size([2, 100]) True\n"
     ]
    }
   ],
   "source": [
    "model.freeze_layer(\"comparator\")\n",
    "model.freeze_layer(\"matcher\")\n",
    "\n",
    "for p in model.parameters():\n",
    "    print(p.shape, p.requires_grad)"
   ]
  },
  {
   "cell_type": "code",
   "execution_count": 79,
   "metadata": {
    "ExecuteTime": {
     "end_time": "2020-05-05T10:46:02.498574Z",
     "start_time": "2020-05-05T10:45:58.723795Z"
    },
    "hidden": true
   },
   "outputs": [
    {
     "name": "stdout",
     "output_type": "stream",
     "text": [
      "Original accuracy : 0.7745944908340532\n",
      "Accuracy : 0.2619733179767732\n",
      "Same output : 0.03925520683366926\n"
     ]
    }
   ],
   "source": [
    "pred = rf.predict(X_train_normalized)\n",
    "\n",
    "with torch.no_grad():\n",
    "    neural_pred = model(torch.tensor(X_train_normalized).float()).argmax(dim=1).numpy()\n",
    "\n",
    "print(f\"Original accuracy : {(pred == y_train).mean()}\")\n",
    "print(f\"Accuracy : {(neural_pred == y_train).mean()}\")\n",
    "print(f\"Same output : {(neural_pred == pred).mean()}\")"
   ]
  },
  {
   "cell_type": "code",
   "execution_count": 80,
   "metadata": {
    "ExecuteTime": {
     "end_time": "2020-05-05T10:47:01.143433Z",
     "start_time": "2020-05-05T10:47:01.135159Z"
    },
    "hidden": true
   },
   "outputs": [],
   "source": [
    "data = DataBunch(train_dl, valid_dl,fix_dl=fix_dl)\n",
    "\n",
    "criterion = CrossEntropyLabelSmoothing()\n",
    "\n",
    "learn = Learner(data, model, loss_func=criterion, metrics=accuracy)"
   ]
  },
  {
   "cell_type": "code",
   "execution_count": 81,
   "metadata": {
    "ExecuteTime": {
     "end_time": "2020-05-05T10:47:21.262599Z",
     "start_time": "2020-05-05T10:47:12.563802Z"
    },
    "hidden": true
   },
   "outputs": [
    {
     "data": {
      "text/html": [
       "\n",
       "    <div>\n",
       "        <style>\n",
       "            /* Turns off some styling */\n",
       "            progress {\n",
       "                /* gets rid of default border in Firefox and Opera. */\n",
       "                border: none;\n",
       "                /* Needs to be in here for Safari polyfill so background images work as expected. */\n",
       "                background-size: auto;\n",
       "            }\n",
       "            .progress-bar-interrupted, .progress-bar-interrupted::-webkit-progress-bar {\n",
       "                background: #F44336;\n",
       "            }\n",
       "        </style>\n",
       "      <progress value='3' class='' max='4' style='width:300px; height:20px; vertical-align: middle;'></progress>\n",
       "      75.00% [3/4 00:08<00:02]\n",
       "    </div>\n",
       "    \n",
       "<table border=\"1\" class=\"dataframe\">\n",
       "  <thead>\n",
       "    <tr style=\"text-align: left;\">\n",
       "      <th>epoch</th>\n",
       "      <th>train_loss</th>\n",
       "      <th>valid_loss</th>\n",
       "      <th>accuracy</th>\n",
       "      <th>time</th>\n",
       "    </tr>\n",
       "  </thead>\n",
       "  <tbody>\n",
       "    <tr>\n",
       "      <td>0</td>\n",
       "      <td>0.702281</td>\n",
       "      <td>#na#</td>\n",
       "      <td>00:02</td>\n",
       "    </tr>\n",
       "    <tr>\n",
       "      <td>1</td>\n",
       "      <td>0.624608</td>\n",
       "      <td>#na#</td>\n",
       "      <td>00:02</td>\n",
       "    </tr>\n",
       "    <tr>\n",
       "      <td>2</td>\n",
       "      <td>0.496620</td>\n",
       "      <td>#na#</td>\n",
       "      <td>00:02</td>\n",
       "    </tr>\n",
       "  </tbody>\n",
       "</table><p>\n",
       "\n",
       "    <div>\n",
       "        <style>\n",
       "            /* Turns off some styling */\n",
       "            progress {\n",
       "                /* gets rid of default border in Firefox and Opera. */\n",
       "                border: none;\n",
       "                /* Needs to be in here for Safari polyfill so background images work as expected. */\n",
       "                background-size: auto;\n",
       "            }\n",
       "            .progress-bar-interrupted, .progress-bar-interrupted::-webkit-progress-bar {\n",
       "                background: #F44336;\n",
       "            }\n",
       "        </style>\n",
       "      <progress value='5' class='' max='163' style='width:300px; height:20px; vertical-align: middle;'></progress>\n",
       "      3.07% [5/163 00:00<00:03 0.5460]\n",
       "    </div>\n",
       "    "
      ],
      "text/plain": [
       "<IPython.core.display.HTML object>"
      ]
     },
     "metadata": {},
     "output_type": "display_data"
    },
    {
     "name": "stdout",
     "output_type": "stream",
     "text": [
      "LR Finder is complete, type {learner_name}.recorder.plot() to see the graph.\n"
     ]
    },
    {
     "data": {
      "image/png": "[encoded data removed]",
      "text/plain": [
       "<Figure size 432x288 with 1 Axes>"
      ]
     },
     "metadata": {
      "needs_background": "light"
     },
     "output_type": "display_data"
    }
   ],
   "source": [
    "learn.lr_find(num_it=500)\n",
    "learn.recorder.plot()"
   ]
  },
  {
   "cell_type": "code",
   "execution_count": 82,
   "metadata": {
    "ExecuteTime": {
     "end_time": "2020-05-05T10:47:57.252309Z",
     "start_time": "2020-05-05T10:47:40.287409Z"
    },
    "hidden": true
   },
   "outputs": [
    {
     "data": {
      "text/html": [
       "<table border=\"1\" class=\"dataframe\">\n",
       "  <thead>\n",
       "    <tr style=\"text-align: left;\">\n",
       "      <th>epoch</th>\n",
       "      <th>train_loss</th>\n",
       "      <th>valid_loss</th>\n",
       "      <th>accuracy</th>\n",
       "      <th>time</th>\n",
       "    </tr>\n",
       "  </thead>\n",
       "  <tbody>\n",
       "    <tr>\n",
       "      <td>0</td>\n",
       "      <td>0.493335</td>\n",
       "      <td>0.459089</td>\n",
       "      <td>0.819386</td>\n",
       "      <td>00:03</td>\n",
       "    </tr>\n",
       "    <tr>\n",
       "      <td>1</td>\n",
       "      <td>0.441052</td>\n",
       "      <td>0.431430</td>\n",
       "      <td>0.836852</td>\n",
       "      <td>00:03</td>\n",
       "    </tr>\n",
       "    <tr>\n",
       "      <td>2</td>\n",
       "      <td>0.430401</td>\n",
       "      <td>0.427154</td>\n",
       "      <td>0.844722</td>\n",
       "      <td>00:03</td>\n",
       "    </tr>\n",
       "    <tr>\n",
       "      <td>3</td>\n",
       "      <td>0.423195</td>\n",
       "      <td>0.423650</td>\n",
       "      <td>0.840691</td>\n",
       "      <td>00:03</td>\n",
       "    </tr>\n",
       "    <tr>\n",
       "      <td>4</td>\n",
       "      <td>0.422513</td>\n",
       "      <td>0.421959</td>\n",
       "      <td>0.840691</td>\n",
       "      <td>00:04</td>\n",
       "    </tr>\n",
       "  </tbody>\n",
       "</table>"
      ],
      "text/plain": [
       "<IPython.core.display.HTML object>"
      ]
     },
     "metadata": {},
     "output_type": "display_data"
    }
   ],
   "source": [
    "learn.fit_one_cycle(5,1e-1)"
   ]
  },
  {
   "cell_type": "code",
   "execution_count": 87,
   "metadata": {
    "ExecuteTime": {
     "end_time": "2020-05-05T10:49:14.683809Z",
     "start_time": "2020-05-05T10:49:14.675820Z"
    },
    "hidden": true
   },
   "outputs": [
    {
     "data": {
      "text/plain": [
       "tensor([[0., 0., 0., 0., 0., 0., 0., 0., 0., 0., 1., 0., 0., 0.],\n",
       "        [0., 0., 0., 0., 0., 0., 0., 0., 0., 0., 0., 0., 0., 1.],\n",
       "        [0., 0., 0., 0., 1., 0., 0., 0., 0., 0., 0., 0., 0., 0.],\n",
       "        [0., 0., 0., 0., 0., 0., 0., 0., 0., 0., 0., 0., 0., 1.],\n",
       "        [0., 0., 0., 0., 0., 0., 0., 0., 0., 0., 1., 0., 0., 0.],\n",
       "        [1., 0., 0., 0., 0., 0., 0., 0., 0., 0., 0., 0., 0., 0.],\n",
       "        [1., 0., 0., 0., 0., 0., 0., 0., 0., 0., 0., 0., 0., 0.]])"
      ]
     },
     "execution_count": 87,
     "metadata": {},
     "output_type": "execute_result"
    }
   ],
   "source": [
    "model.comparator[:,:,0].T"
   ]
  }
 ],
 "metadata": {
  "kernelspec": {
   "display_name": "Python 3",
   "language": "python",
   "name": "python3"
  },
  "language_info": {
   "codemirror_mode": {
    "name": "ipython",
    "version": 3
   },
   "file_extension": ".py",
   "mimetype": "text/x-python",
   "name": "python",
   "nbconvert_exporter": "python",
   "pygments_lexer": "ipython3",
   "version": "3.8.2"
  },
  "toc": {
   "base_numbering": 1,
   "nav_menu": {
    "height": "274.9px",
    "width": "214px"
   },
   "number_sections": true,
   "sideBar": true,
   "skip_h1_title": false,
   "title_cell": "Table of Contents",
   "title_sidebar": "Contents",
   "toc_cell": false,
   "toc_position": {},
   "toc_section_display": true,
   "toc_window_display": false
  }
 },
 "nbformat": 4,
 "nbformat_minor": 4
}

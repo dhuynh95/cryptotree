{
 "cells": [
  {
   "cell_type": "code",
   "execution_count": null,
   "metadata": {},
   "outputs": [],
   "source": [
    "# default_exp linear"
   ]
  },
  {
   "cell_type": "code",
   "execution_count": null,
   "metadata": {},
   "outputs": [],
   "source": [
    "# hide\n",
    "%load_ext autoreload\n",
    "%autoreload 2"
   ]
  },
  {
   "cell_type": "markdown",
   "metadata": {},
   "source": [
    "# linear\n",
    "\n",
    "> Linear functions helpers"
   ]
  },
  {
   "cell_type": "code",
   "execution_count": null,
   "metadata": {},
   "outputs": [],
   "source": [
    "# export \n",
    "import numpy as np\n",
    "import tenseal.sealapi as seal\n",
    "from typing import List"
   ]
  },
  {
   "cell_type": "code",
   "execution_count": null,
   "metadata": {},
   "outputs": [],
   "source": [
    "# export\n",
    "def pad_along_axis(array: np.ndarray, target_length, axis=0):\n",
    "    \"\"\"Pads an array to a given target length, on a given axis.\"\"\"\n",
    "    pad_size = target_length - array.shape[axis]\n",
    "    axis_nb = len(array.shape)\n",
    "\n",
    "    if pad_size <= 0:\n",
    "        return array\n",
    "\n",
    "    npad = [(0, 0) for x in range(axis_nb)]\n",
    "    npad[axis] = (0, pad_size)\n",
    "\n",
    "    b = np.pad(array, pad_width=npad, mode='constant', constant_values=0)\n",
    "\n",
    "    return b"
   ]
  },
  {
   "cell_type": "code",
   "execution_count": null,
   "metadata": {},
   "outputs": [],
   "source": [
    "# export\n",
    "def arrays_to_ptx(arrays: List[np.ndarray], encoder: seal.CKKSEncoder, scale: float) -> List[seal.Plaintext]:\n",
    "    \"\"\"Converts an array of arrays to an array of plaintexts.\"\"\"\n",
    "    outputs = []\n",
    "    for array in arrays:\n",
    "        ptx = seal.Plaintext()\n",
    "        encoder.encode(DoubleVector(list(array)), scale, ptx)\n",
    "        outputs.append(ptx)\n",
    "    return outputs"
   ]
  },
  {
   "cell_type": "code",
   "execution_count": null,
   "metadata": {},
   "outputs": [],
   "source": [
    "# export\n",
    "def extract_diagonals(matrix: np.ndarray) -> List[np.ndarray]:\n",
    "    \"\"\"Extracts the diagonals of the matrix\"\"\"\n",
    "    assert matrix.shape[0] == matrix.shape[1], \"Non square matrix\"\n",
    "    dim = matrix.shape[0]\n",
    "    \n",
    "    diagonals = []\n",
    "    \n",
    "    for i in range(dim):\n",
    "        diagonal = []\n",
    "        for j in range(dim):\n",
    "            diagonal.append(matrix[j][(j+i) % dim])\n",
    "        diagonal = np.array(diagonal)\n",
    "        diagonals.append(diagonal)\n",
    "    return diagonals"
   ]
  },
  {
   "cell_type": "code",
   "execution_count": null,
   "metadata": {},
   "outputs": [],
   "source": [
    "# export\n",
    "def matrix_multiply_diagonals(diagonals: List[seal.Plaintext], ctx: seal.Ciphertext, \n",
    "                              evaluator: seal.Evaluator, galois_keys: seal.GaloisKeys):\n",
    "    output = seal.Ciphertext()\n",
    "    \n",
    "    for i in range(len(diagonals)):\n",
    "        \n",
    "        temp = seal.Ciphertext()\n",
    "        diagonal = diagonals[i]\n",
    "        \n",
    "        evaluator.rotate_vector(ctx, i, galois_keys, temp)\n",
    "            \n",
    "        evaluator.mod_switch_to_inplace(diagonal, temp.parms_id())\n",
    "        evaluator.multiply_plain_inplace(temp, diagonal)\n",
    "        evaluator.rescale_to_next_inplace(temp)\n",
    "        \n",
    "        if i == 0:\n",
    "            output = temp\n",
    "        else:\n",
    "            evaluator.add_inplace(output, temp)\n",
    "\n",
    "    return output"
   ]
  },
  {
   "cell_type": "code",
   "execution_count": null,
   "metadata": {},
   "outputs": [],
   "source": [
    "# export\n",
    "def sum_reduce(ctx: seal.Ciphertext, evaluator: seal.Evaluator, \n",
    "               galois_keys: seal.GaloisKeys, n_slot: int):\n",
    "    \"\"\"Sums all the coefficients of the ciphertext, supposing that coefficients up to n_slot \n",
    "    are non zero. The first coefficient of the output will then be the sum of the coefficients.\"\"\"\n",
    "    n = int(np.ceil(np.log2(n_slot)))\n",
    "    \n",
    "    temp = seal.Ciphertext()\n",
    "    output = seal.Ciphertext()\n",
    "    \n",
    "    for i in range(n):\n",
    "        if i == 0:\n",
    "            evaluator.rotate_vector(ctx, 2**i, galois_keys, temp)\n",
    "            evaluator.add(ctx, temp, output)\n",
    "        else:\n",
    "            evaluator.rotate_vector(output, 2**i, galois_keys, temp)\n",
    "            evaluator.add_inplace(output, temp)\n",
    "    return output\n",
    "\n",
    "def dot_product_plain(ctx: seal.Ciphertext, ptx: seal.Plaintext,\n",
    "                      evaluator: seal.Evaluator, galois_keys: seal.GaloisKeys, n_slot: int):\n",
    "    \"\"\"Computes the dot product between a ciphertext and a plaintext\"\"\"\n",
    "    output = seal.Ciphertext()\n",
    "    \n",
    "    evaluator.multiply_plain(ctx, ptx, output)\n",
    "    output = sum_reduce(output, evaluator, galois_keys, n_slot)\n",
    "    \n",
    "    return output"
   ]
  },
  {
   "cell_type": "code",
   "execution_count": null,
   "metadata": {},
   "outputs": [],
   "source": [
    "import builtins\n",
    "from cryptotree.seal_helper import print_ctx, print_ptx, create_seal_globals, append_globals_to_builtins\n",
    "\n",
    "poly_modulus_degree = 8192\n",
    "moduli = [40,30,30,40]\n",
    "PRECISION_BITS = 30\n",
    "\n",
    "create_seal_globals(globals(), poly_modulus_degree, moduli, PRECISION_BITS)\n",
    "append_globals_to_builtins(globals(), builtins)"
   ]
  },
  {
   "cell_type": "code",
   "execution_count": null,
   "metadata": {},
   "outputs": [],
   "source": [
    "x = [1,2,3,4]\n",
    "n_slot = len(x)\n",
    "\n",
    "ptx = seal.Plaintext()\n",
    "encoder.encode(x, scale, ptx)\n",
    "\n",
    "ctx = seal.Ciphertext()\n",
    "encryptor.encrypt(ptx, ctx)"
   ]
  },
  {
   "cell_type": "code",
   "execution_count": null,
   "metadata": {},
   "outputs": [],
   "source": [
    "# export\n",
    "from fastcore.test import test_close\n",
    "\n",
    "def test_sum(x: List[float], evaluator, encoder, encryptor, decryptor, scale, eps=1e-2):\n",
    "    \"\"\"Tests if the output of the polynomial, defined by the coeffs, is the same\n",
    "    between the homomorphic evaluation and the regular one\"\"\"\n",
    "    n_slot = len(x)\n",
    "    \n",
    "    ptx = seal.Plaintext()\n",
    "    encoder.encode(x, scale, ptx)\n",
    "    \n",
    "    ctx = seal.Ciphertext()\n",
    "    encryptor.encrypt(ptx, ctx)\n",
    "    \n",
    "    output = sum_reduce(ctx, evaluator, galois_keys, n_slot)\n",
    "    decryptor.decrypt(output, ptx)\n",
    "    \n",
    "    values = encoder.decode_double(ptx)\n",
    "    \n",
    "    homomorphic_output = values[0]\n",
    "    expected_output = np.sum(x)\n",
    "    \n",
    "    test_close(homomorphic_output, expected_output, eps)\n",
    "    \n",
    "def test_dot_product_plain(x: List[float], y: List[float], \n",
    "                           evaluator, encoder, encryptor, decryptor, \n",
    "                           galois_keys,\n",
    "                           scale, eps=1e-2):\n",
    "    \"\"\"Tests if the output of the polynomial, defined by the coeffs, is the same\n",
    "    between the homomorphic evaluation and the regular one\"\"\"\n",
    "    assert len(x) == len(y), f\"x and y must have same length {len(x)} != {len(y)}\"\n",
    "    n_slot = len(x)\n",
    "    \n",
    "    ptx = seal.Plaintext()\n",
    "    encoder.encode(x, scale, ptx)\n",
    "    \n",
    "    ctx = seal.Ciphertext()\n",
    "    encryptor.encrypt(ptx, ctx)\n",
    "    \n",
    "    pty = seal.Plaintext()\n",
    "    encoder.encode(y, scale, pty)\n",
    "    \n",
    "    output = dot_product_plain(ctx, pty, evaluator, galois_keys, n_slot)\n",
    "    decryptor.decrypt(output, ptx)\n",
    "    \n",
    "    values = encoder.decode_double(ptx)\n",
    "    \n",
    "    homomorphic_output = values[0]\n",
    "    expected_output = np.dot(x, y)\n",
    "    \n",
    "    test_close(homomorphic_output, expected_output, eps)"
   ]
  },
  {
   "cell_type": "code",
   "execution_count": null,
   "metadata": {},
   "outputs": [
    {
     "name": "stdout",
     "output_type": "stream",
     "text": [
      "\n",
      "    [ 9.9998279, 8.9999951, 7.0000600, ..., 0.9999810, 3.0002584, 5.9999985 ]\n",
      "\n",
      "\n",
      "    [ 30.0000022, 29.0000026, 25.0000020, ..., 0.9999995, 5.0000002, 13.9999996 ]\n",
      "\n"
     ]
    }
   ],
   "source": [
    "print_ctx(sum_reduce(ctx, evaluator, galois_keys, n_slot))\n",
    "print_ctx(dot_product_plain(ctx, ptx, evaluator, galois_keys, n_slot))"
   ]
  },
  {
   "cell_type": "code",
   "execution_count": null,
   "metadata": {},
   "outputs": [],
   "source": [
    "test_sum([1,2], evaluator, encoder, encryptor, decryptor, scale)\n",
    "test_sum([1,2,3], evaluator, encoder, encryptor, decryptor, scale)"
   ]
  },
  {
   "cell_type": "code",
   "execution_count": null,
   "metadata": {},
   "outputs": [],
   "source": [
    "test_dot_product_plain([1,2,3], [1,1,1], evaluator, encoder, encryptor, decryptor, galois_keys, scale)\n",
    "test_dot_product_plain([1,2,3,5], [1,1,1,-6], evaluator, encoder, encryptor, decryptor, galois_keys, scale)"
   ]
  }
 ],
 "metadata": {
  "kernelspec": {
   "display_name": "Python 3",
   "language": "python",
   "name": "python3"
  },
  "language_info": {
   "codemirror_mode": {
    "name": "ipython",
    "version": 3
   },
   "file_extension": ".py",
   "mimetype": "text/x-python",
   "name": "python",
   "nbconvert_exporter": "python",
   "pygments_lexer": "ipython3",
   "version": "3.8.2"
  },
  "toc": {
   "base_numbering": 1,
   "nav_menu": {},
   "number_sections": true,
   "sideBar": true,
   "skip_h1_title": false,
   "title_cell": "Table of Contents",
   "title_sidebar": "Contents",
   "toc_cell": false,
   "toc_position": {},
   "toc_section_display": true,
   "toc_window_display": false
  }
 },
 "nbformat": 4,
 "nbformat_minor": 4
}

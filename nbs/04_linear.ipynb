{
 "cells": [
  {
   "cell_type": "code",
   "execution_count": null,
   "metadata": {},
   "outputs": [],
   "source": [
    "# default_exp linear"
   ]
  },
  {
   "cell_type": "code",
   "execution_count": null,
   "metadata": {},
   "outputs": [],
   "source": [
    "# hide\n",
    "%load_ext autoreload\n",
    "%autoreload 2"
   ]
  },
  {
   "cell_type": "markdown",
   "metadata": {},
   "source": [
    "# linear\n",
    "\n",
    "> Linear functions helpers"
   ]
  },
  {
   "cell_type": "code",
   "execution_count": null,
   "metadata": {},
   "outputs": [],
   "source": [
    "# export \n",
    "import numpy as np\n",
    "from seal import Ciphertext, Plaintext, CKKSEncoder, DoubleVector, Evaluator, GaloisKeys\n",
    "from typing import List"
   ]
  },
  {
   "cell_type": "code",
   "execution_count": null,
   "metadata": {},
   "outputs": [],
   "source": [
    "# export\n",
    "def pad_along_axis(array: np.ndarray, target_length, axis=0):\n",
    "    \"\"\"Pads an array to a given target length, on a given axis.\"\"\"\n",
    "    pad_size = target_length - array.shape[axis]\n",
    "    axis_nb = len(array.shape)\n",
    "\n",
    "    if pad_size <= 0:\n",
    "        return array\n",
    "\n",
    "    npad = [(0, 0) for x in range(axis_nb)]\n",
    "    npad[axis] = (0, pad_size)\n",
    "\n",
    "    b = np.pad(array, pad_width=npad, mode='constant', constant_values=0)\n",
    "\n",
    "    return b"
   ]
  },
  {
   "cell_type": "code",
   "execution_count": null,
   "metadata": {},
   "outputs": [],
   "source": [
    "# export\n",
    "def arrays_to_ptx(arrays: List[np.ndarray], encoder: CKKSEncoder, scale: float) -> List[Plaintext]:\n",
    "    \"\"\"Converts an array of arrays to an array of plaintexts.\"\"\"\n",
    "    outputs = []\n",
    "    for array in arrays:\n",
    "        ptx = Plaintext()\n",
    "        encoder.encode(DoubleVector(list(array)), scale, ptx)\n",
    "        outputs.append(ptx)\n",
    "    return outputs"
   ]
  },
  {
   "cell_type": "code",
   "execution_count": null,
   "metadata": {},
   "outputs": [],
   "source": [
    "# export\n",
    "def extract_diagonals(matrix: np.ndarray) -> List[np.ndarray]:\n",
    "    \"\"\"Extracts the diagonals of the matrix\"\"\"\n",
    "    assert matrix.shape[0] == matrix.shape[1], \"Non square matrix\"\n",
    "    dim = matrix.shape[0]\n",
    "    \n",
    "    diagonals = []\n",
    "    \n",
    "    for i in range(dim):\n",
    "        diagonal = []\n",
    "        for j in range(dim):\n",
    "            diagonal.append(matrix[j][(j+i) % dim])\n",
    "        diagonal = np.array(diagonal)\n",
    "        diagonals.append(diagonal)\n",
    "    return diagonals"
   ]
  },
  {
   "cell_type": "code",
   "execution_count": null,
   "metadata": {},
   "outputs": [],
   "source": [
    "# export\n",
    "def matrix_multiply_diagonals(diagonals: List[Plaintext], ctx: Ciphertext, \n",
    "                              evaluator: Evaluator, galois_keys: GaloisKeys):\n",
    "    output = Ciphertext()\n",
    "    \n",
    "    for i in range(len(diagonals)):\n",
    "        \n",
    "        temp = Ciphertext()\n",
    "        diagonal = diagonals[i]\n",
    "        \n",
    "        evaluator.rotate_vector(ctx, i, galois_keys, temp)\n",
    "            \n",
    "        evaluator.mod_switch_to_inplace(diagonal, temp.parms_id())\n",
    "        evaluator.multiply_plain_inplace(temp, diagonal)\n",
    "        evaluator.rescale_to_next_inplace(temp)\n",
    "        \n",
    "        if i == 0:\n",
    "            output = temp\n",
    "        else:\n",
    "            evaluator.add_inplace(output, temp)\n",
    "\n",
    "    return output"
   ]
  }
 ],
 "metadata": {
  "kernelspec": {
   "display_name": "Python 3",
   "language": "python",
   "name": "python3"
  }
 },
 "nbformat": 4,
 "nbformat_minor": 4
}

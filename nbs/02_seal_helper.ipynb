{
 "cells": [
  {
   "cell_type": "code",
   "execution_count": null,
   "metadata": {},
   "outputs": [],
   "source": [
    "# default_exp seal_helper"
   ]
  },
  {
   "cell_type": "code",
   "execution_count": null,
   "metadata": {},
   "outputs": [],
   "source": [
    "# hide\n",
    "%load_ext autoreload\n",
    "%autoreload 2"
   ]
  },
  {
   "cell_type": "markdown",
   "metadata": {},
   "source": [
    "# seal_helper"
   ]
  },
  {
   "cell_type": "code",
   "execution_count": null,
   "metadata": {},
   "outputs": [],
   "source": [
    "# export\n",
    "from seal import *\n",
    "from typing import List"
   ]
  },
  {
   "cell_type": "code",
   "execution_count": null,
   "metadata": {},
   "outputs": [],
   "source": [
    "# export\n",
    "def print_vector(vec, print_size=4, prec=3):\n",
    "    \"\"\"Prints a vector with a given level of precision and print size\"\"\"\n",
    "    slot_count = len(vec)\n",
    "    print()\n",
    "    if slot_count <= 2*print_size:\n",
    "        print(\"    [\", end=\"\")\n",
    "        for i in range(slot_count):\n",
    "            print(\" \" + (f\"%.{prec}f\" % vec[i]) + (\",\" if (i != slot_count - 1) else \" ]\\n\"), end=\"\")\n",
    "    else:\n",
    "        print(\"    [\", end=\"\")\n",
    "        for i in range(print_size):\n",
    "            print(\" \" + (f\"%.{prec}f\" % vec[i]) + \",\", end=\"\")\n",
    "        if len(vec) > 2*print_size:\n",
    "            print(\" ...,\", end=\"\")\n",
    "        for i in range(slot_count - print_size, slot_count):\n",
    "            print(\" \" + (f\"%.{prec}f\" % vec[i]) + (\",\" if (i != slot_count - 1) else \" ]\\n\"), end=\"\")\n",
    "    print()\n",
    "    \n",
    "def ptx_value(ptx, i=0):\n",
    "    \"\"\"Returns the value of a Plaintext at a given position\"\"\"\n",
    "    result = DoubleVector()\n",
    "    encoder.decode(ptx,result)\n",
    "    value = result[i]\n",
    "    return value\n",
    "    \n",
    "def ctx_value(ctx, i=0):\n",
    "    \"\"\"Returns the value of a Ciphertext at a given position\"\"\"\n",
    "    ptx = Plaintext()\n",
    "    decryptor.decrypt(ctx, ptx)\n",
    "    value = ptx_value(ptx,i)\n",
    "    return value\n",
    "    \n",
    "def print_ctx(ctx):\n",
    "    ptx = Plaintext()\n",
    "    decryptor.decrypt(ctx, ptx)\n",
    "    result = DoubleVector()\n",
    "    encoder.decode(ptx,result)\n",
    "    print_vector(result, 3, 7)\n",
    "    \n",
    "def print_ptx(ptx):\n",
    "    result = DoubleVector()\n",
    "    encoder.decode(ptx,result)\n",
    "    print_vector(result, 3, 7)\n",
    "    \n",
    "def print_range_ctx(ctx, end=0, begin=0):\n",
    "    ptx = Plaintext()\n",
    "    decryptor.decrypt(ctx, ptx)\n",
    "    \n",
    "    print_range_ptx(ptx, end, begin)\n",
    "        \n",
    "def print_range_ptx(ptx, end=0, begin=0):\n",
    "    r = range(begin,end)\n",
    "    \n",
    "    values = DoubleVector()\n",
    "    encoder.decode(ptx, values)\n",
    "    for i in r:\n",
    "        print(f\"{i} : {values[i]}\")"
   ]
  },
  {
   "cell_type": "code",
   "execution_count": null,
   "metadata": {},
   "outputs": [],
   "source": [
    "# export\n",
    "def float_to_ctx(x, encoder: CKKSEncoder, encryptor: Encryptor):\n",
    "    ptx = Plaintext()\n",
    "    if len(x) > 1:\n",
    "        x = list(x)\n",
    "        x = DoubleVector(x)\n",
    "    encoder.encode(x, scale, ptx)\n",
    "\n",
    "    ctx = Ciphertext()\n",
    "    encryptor.encrypt(ptx, ctx)\n",
    "    \n",
    "    return ctx"
   ]
  },
  {
   "cell_type": "code",
   "execution_count": null,
   "metadata": {},
   "outputs": [],
   "source": [
    "# export\n",
    "def vrep(x, n):\n",
    "    k = n // len(x)\n",
    "    rest = n % len(x)\n",
    "    output = x * k + x[:rest]\n",
    "    return output"
   ]
  },
  {
   "cell_type": "code",
   "execution_count": null,
   "metadata": {},
   "outputs": [],
   "source": [
    "# export\n",
    "def create_seal_globals(globals: dict, poly_modulus_degree: int, moduli: List[int], PRECISION_BITS: int):\n",
    "    \"\"\"Creates SEAL context variables and populates the globals with it.\"\"\"\n",
    "    parms = EncryptionParameters(scheme_type.CKKS)\n",
    "    parms.set_poly_modulus_degree(poly_modulus_degree)\n",
    "    parms.set_coeff_modulus(CoeffModulus.Create(\n",
    "        poly_modulus_degree, moduli))\n",
    "\n",
    "    context = SEALContext.Create(parms)\n",
    "\n",
    "    keygen = KeyGenerator(context)\n",
    "    \n",
    "    globals[\"parms\"] = parms\n",
    "    globals[\"context\"] = context\n",
    "    globals[\"scale\"] = pow(2.0, PRECISION_BITS)\n",
    "    \n",
    "    globals[\"public_key\"] = keygen.public_key()\n",
    "    globals[\"secret_key\"] = keygen.secret_key()\n",
    "    globals[\"relin_keys\"] = keygen.relin_keys()\n",
    "    globals[\"galois_keys\"] = keygen.galois_keys()\n",
    "\n",
    "    globals[\"encryptor\"] = Encryptor(context, globals[\"public_key\"])\n",
    "    globals[\"evaluator\"] = Evaluator(context)\n",
    "    globals[\"decryptor\"] = Decryptor(context, globals[\"secret_key\"])\n",
    "    globals[\"encoder\"] = CKKSEncoder(context)\n",
    "    \n",
    "def append_globals_to_builtins(globals, builtins):\n",
    "    \"\"\"Appends the SEAL context variables to the builtins.\n",
    "    \n",
    "    This allows the following variables to be called from functions globally. Only use for testing purposes.\n",
    "    \"\"\"\n",
    "    \n",
    "    variables = [\"public_key\", \"secret_key\", \"relin_keys\", \"galois_keys\",\n",
    "                 \"encryptor\", \"evaluator\", \"decryptor\", \"encoder\", \"scale\", \"parms\", \"context\"]\n",
    "    \n",
    "    for var in variables:\n",
    "        setattr(builtins, var, globals[var])"
   ]
  },
  {
   "cell_type": "code",
   "execution_count": null,
   "metadata": {},
   "outputs": [],
   "source": [
    "# export\n",
    "from pathlib import Path\n",
    "\n",
    "def save_seal_globals(globals, path:Path = Path(\"seal\")):\n",
    "    parms = globals[\"parms\"]\n",
    "    \n",
    "    public_key = globals[\"public_key\"]\n",
    "    secret_key = globals[\"secret_key\"]\n",
    "    relin_keys = globals[\"relin_keys\"]\n",
    "    galois_keys = globals[\"galois_keys\"]\n",
    "    \n",
    "    if not path.exists():\n",
    "        path.mkdir()\n",
    "        \n",
    "    parms.save(str(path/\"parms\"))\n",
    "    \n",
    "    public_key.save(str(path/\"public_key\"))\n",
    "    secret_key.save(str(path/\"secret_key\"))\n",
    "    relin_keys.save(str(path/\"relin_keys\"))\n",
    "    galois_keys.save(str(path/\"galois_keys\"))\n",
    "\n",
    "def load_seal_globals(globals, path:Path = Path(\"seal\"), load_pk:bool = False, load_sk:bool = False):\n",
    "    \"\"\"Loads and populates SEAL globals from saved files.\"\"\"\n",
    "    if not path.exists():\n",
    "        raise FileNotFoundError(\"Path not found\")\n",
    "        \n",
    "    parms = EncryptionParameters(scheme_type.CKKS)\n",
    "    parms.load(str(path/\"parms\"))\n",
    "    \n",
    "    context = SEALContext.Create(parms)\n",
    "    \n",
    "    if load_pk:\n",
    "        public_key = PublicKey()\n",
    "        public_key.load(context, str(path/\"public_key\"))\n",
    "        globals[\"public_key\"] = public_key\n",
    "        globals[\"encryptor\"] = Encryptor(context, public_key)\n",
    "        \n",
    "    if load_sk:\n",
    "        secret_key = SecretKey()\n",
    "        secret_key.load(context, str(path/\"secret_key\"))\n",
    "        globals[\"secret_key\"] = secret_key\n",
    "        globals[\"decryptor\"] = Decryptor(context, secret_key)\n",
    "    \n",
    "    relin_keys = RelinKeys()\n",
    "    relin_keys.load(context, str(path/\"relin_keys\"))\n",
    "    \n",
    "    galois_keys = GaloisKeys()\n",
    "    galois_keys.load(context, str(path/\"galois_keys\"))\n",
    "    \n",
    "    globals[\"relin_keys\"] = relin_keys\n",
    "    globals[\"galois_keys\"] = galois_keys\n",
    "\n",
    "    globals[\"evaluator\"] = Evaluator(context)\n",
    "    globals[\"encoder\"] = CKKSEncoder(context)"
   ]
  },
  {
   "cell_type": "markdown",
   "metadata": {},
   "source": [
    "The examples bellow shows how one can play with SEAL.\n",
    "\n",
    "First we initialize the SEAL context :"
   ]
  },
  {
   "cell_type": "code",
   "execution_count": null,
   "metadata": {},
   "outputs": [],
   "source": [
    "from seal import *\n",
    "\n",
    "poly_modulus_degree = 4096\n",
    "moduli = [35,30,35]\n",
    "PRECISION_BITS = 30\n",
    "\n",
    "create_seal_globals(globals(), poly_modulus_degree, moduli, PRECISION_BITS)"
   ]
  },
  {
   "cell_type": "markdown",
   "metadata": {},
   "source": [
    "We can also save those parameters."
   ]
  },
  {
   "cell_type": "code",
   "execution_count": null,
   "metadata": {},
   "outputs": [],
   "source": [
    "save_seal_globals(globals())"
   ]
  },
  {
   "cell_type": "markdown",
   "metadata": {},
   "source": [
    "In order to load them later, or to send them to a third party which will do computation on our data."
   ]
  },
  {
   "cell_type": "code",
   "execution_count": null,
   "metadata": {},
   "outputs": [],
   "source": [
    "load_seal_globals(globals())"
   ]
  },
  {
   "cell_type": "markdown",
   "metadata": {},
   "source": [
    "Now we can start using the SEAL context to encrypt data and perform arithmetic on it."
   ]
  },
  {
   "cell_type": "code",
   "execution_count": null,
   "metadata": {},
   "outputs": [],
   "source": [
    "def dot_product_plain(ctx, ptx, n_slots:int):\n",
    "    \"\"\"Performs the dot product between ctx and ptx.\"\"\"\n",
    "    "
   ]
  },
  {
   "cell_type": "code",
   "execution_count": null,
   "metadata": {},
   "outputs": [
    {
     "name": "stdout",
     "output_type": "stream",
     "text": [
      "\n",
      "    [ 1.0000000, 2.0000000, 3.0000000, ..., -0.0000000, -0.0000000, -0.0000000 ]\n",
      "\n",
      "\n",
      "    [ 0.9999997, 2.0000005, 2.9999996, ..., -0.0000000, -0.0000000, -0.0000001 ]\n",
      "\n",
      "\n",
      "    [ 1.9999997, 4.0000005, 5.9999996, ..., -0.0000001, -0.0000000, -0.0000001 ]\n",
      "\n"
     ]
    }
   ],
   "source": [
    "# First we encode x in a Plaintext\n",
    "x = DoubleVector([1,2,3])\n",
    "\n",
    "ptx = Plaintext()\n",
    "encoder.encode(x, scale, ptx)\n",
    "\n",
    "# Then we display it\n",
    "print_ptx(ptx)\n",
    "\n",
    "# Then we encrypt it\n",
    "ctx = Ciphertext()\n",
    "encryptor.encrypt(ptx, ctx)\n",
    "\n",
    "print_ctx(ctx)\n",
    "\n",
    "evaluator.add_plain_inplace(ctx, ptx)\n",
    "print_ctx(ctx)"
   ]
  },
  {
   "cell_type": "code",
   "execution_count": null,
   "metadata": {},
   "outputs": [
    {
     "data": {
      "text/plain": [
       "3"
      ]
     },
     "execution_count": null,
     "metadata": {},
     "output_type": "execute_result"
    }
   ],
   "source": [
    "import numpy as np\n",
    "\n",
    "n_slot = 5\n",
    "n = int(np.ceil(np.log2(n_slot)))\n",
    "\n",
    "output = Ciphertext()\n",
    "evaluator.multiply_plain(ctx, ptx)\n",
    "for i in range(n):\n",
    "    "
   ]
  }
 ],
 "metadata": {
  "kernelspec": {
   "display_name": "Python 3",
   "language": "python",
   "name": "python3"
  }
 },
 "nbformat": 4,
 "nbformat_minor": 4
}

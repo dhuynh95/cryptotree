{
 "cells": [
  {
   "cell_type": "code",
   "execution_count": null,
   "metadata": {},
   "outputs": [],
   "source": [
    "# default_exp seal_helper"
   ]
  },
  {
   "cell_type": "code",
   "execution_count": null,
   "metadata": {},
   "outputs": [],
   "source": [
    "# hide\n",
    "%load_ext autoreload\n",
    "%autoreload 2"
   ]
  },
  {
   "cell_type": "markdown",
   "metadata": {},
   "source": [
    "# seal_helper"
   ]
  },
  {
   "cell_type": "code",
   "execution_count": null,
   "metadata": {},
   "outputs": [],
   "source": [
    "# export\n",
    "import tenseal.sealapi as seal\n",
    "from typing import List"
   ]
  },
  {
   "cell_type": "code",
   "execution_count": null,
   "metadata": {},
   "outputs": [],
   "source": [
    "# export\n",
    "def print_vector(vec, print_size=4, prec=3):\n",
    "    \"\"\"Prints a vector with a given level of precision and print size\"\"\"\n",
    "    slot_count = len(vec)\n",
    "    print()\n",
    "    if slot_count <= 2*print_size:\n",
    "        print(\"    [\", end=\"\")\n",
    "        for i in range(slot_count):\n",
    "            print(\" \" + (f\"%.{prec}f\" % vec[i]) + (\",\" if (i != slot_count - 1) else \" ]\\n\"), end=\"\")\n",
    "    else:\n",
    "        print(\"    [\", end=\"\")\n",
    "        for i in range(print_size):\n",
    "            print(\" \" + (f\"%.{prec}f\" % vec[i]) + \",\", end=\"\")\n",
    "        if len(vec) > 2*print_size:\n",
    "            print(\" ...,\", end=\"\")\n",
    "        for i in range(slot_count - print_size, slot_count):\n",
    "            print(\" \" + (f\"%.{prec}f\" % vec[i]) + (\",\" if (i != slot_count - 1) else \" ]\\n\"), end=\"\")\n",
    "    print()\n",
    "    \n",
    "def print_ptx(ptx):\n",
    "    result = encoder.decode_double(ptx)\n",
    "    print_vector(result, 3, 7)\n",
    "    \n",
    "def print_ctx(ctx):\n",
    "    ptx = seal.Plaintext()\n",
    "    decryptor.decrypt(ctx, ptx)\n",
    "    print_ptx(ptx)\n",
    "        \n",
    "def print_range_ptx(ptx, end=0, begin=0):\n",
    "    r = range(begin,end)\n",
    "    \n",
    "    values = encoder.decode_double(ptx)\n",
    "    for i in r:\n",
    "        print(f\"{i} : {values[i]}\")\n",
    "    \n",
    "def print_range_ctx(ctx, end=0, begin=0):\n",
    "    ptx = seal.Plaintext()\n",
    "    decryptor.decrypt(ctx, ptx)\n",
    "    \n",
    "    print_range_ptx(ptx, end, begin)"
   ]
  },
  {
   "cell_type": "code",
   "execution_count": null,
   "metadata": {},
   "outputs": [],
   "source": [
    "# export\n",
    "def float_to_ctx(x, encoder: seal.CKKSEncoder, encryptor: seal.Encryptor):\n",
    "    ptx = seal.Plaintext()\n",
    "    if len(x) > 1:\n",
    "        x = list(x)\n",
    "    encoder.encode(x, scale, ptx)\n",
    "\n",
    "    ctx = seal.Ciphertext()\n",
    "    encryptor.encrypt(ptx, ctx)\n",
    "    \n",
    "    return ctx"
   ]
  },
  {
   "cell_type": "code",
   "execution_count": null,
   "metadata": {},
   "outputs": [],
   "source": [
    "# export\n",
    "def vrep(x, n):\n",
    "    k = n // len(x)\n",
    "    rest = n % len(x)\n",
    "    output = x * k + x[:rest]\n",
    "    return output"
   ]
  },
  {
   "cell_type": "code",
   "execution_count": null,
   "metadata": {},
   "outputs": [],
   "source": [
    "# export\n",
    "def create_seal_globals(globals: dict, poly_modulus_degree: int, moduli: List[int], PRECISION_BITS: int,\n",
    "                       use_local=True, use_symmetric_key=False):\n",
    "    \"\"\"Creates SEAL context variables and populates the globals with it.\"\"\"\n",
    "    parms = seal.EncryptionParameters(seal.SCHEME_TYPE.CKKS)\n",
    "    parms.set_poly_modulus_degree(poly_modulus_degree)\n",
    "    parms.set_coeff_modulus(seal.CoeffModulus.Create(\n",
    "        poly_modulus_degree, moduli))\n",
    "\n",
    "    context = seal.SEALContext.Create(parms, True, seal.SEC_LEVEL_TYPE.TC128)\n",
    "\n",
    "    keygen = seal.KeyGenerator(context)\n",
    "    \n",
    "    globals[\"parms\"] = parms\n",
    "    globals[\"context\"] = context\n",
    "    globals[\"scale\"] = pow(2.0, PRECISION_BITS)\n",
    "    \n",
    "    globals[\"public_key\"] = keygen.public_key()\n",
    "    globals[\"secret_key\"] = keygen.secret_key()\n",
    "    if use_local:\n",
    "        globals[\"relin_keys\"] = keygen.relin_keys_local()\n",
    "        globals[\"galois_keys\"] = keygen.galois_keys_local()\n",
    "    else:\n",
    "        globals[\"relin_keys\"] = keygen.relin_keys()\n",
    "        globals[\"galois_keys\"] = keygen.galois_keys()\n",
    "    \n",
    "    if use_symmetric_key:\n",
    "        globals[\"encryptor\"] = seal.Encryptor(context, globals[\"secret_key\"])\n",
    "    else:\n",
    "        globals[\"encryptor\"] = seal.Encryptor(context, globals[\"public_key\"])\n",
    "        \n",
    "    globals[\"evaluator\"] = seal.Evaluator(context)\n",
    "    globals[\"decryptor\"] = seal.Decryptor(context, globals[\"secret_key\"])\n",
    "    globals[\"encoder\"] = seal.CKKSEncoder(context)\n",
    "    \n",
    "def append_globals_to_builtins(globals, builtins):\n",
    "    \"\"\"Appends the SEAL context variables to the builtins.\n",
    "    \n",
    "    This allows the following variables to be called from functions globally. Only use for testing purposes.\n",
    "    \"\"\"\n",
    "    \n",
    "    variables = [\"public_key\", \"secret_key\", \"relin_keys\", \"galois_keys\",\n",
    "                 \"encryptor\", \"evaluator\", \"decryptor\", \"encoder\", \"scale\", \"parms\", \"context\"]\n",
    "    \n",
    "    for var in variables:\n",
    "        setattr(builtins, var, globals[var])"
   ]
  },
  {
   "cell_type": "code",
   "execution_count": null,
   "metadata": {},
   "outputs": [],
   "source": [
    "# export\n",
    "from pathlib import Path\n",
    "\n",
    "def save_seal_globals(globals, path:Path = Path(\"seal\")):\n",
    "    parms = globals[\"parms\"]\n",
    "    \n",
    "    public_key = globals[\"public_key\"]\n",
    "    secret_key = globals[\"secret_key\"]\n",
    "    relin_keys = globals[\"relin_keys\"]\n",
    "    galois_keys = globals[\"galois_keys\"]\n",
    "    \n",
    "    if not path.exists():\n",
    "        path.mkdir()\n",
    "        \n",
    "    parms.save(str(path/\"parms\"))\n",
    "    \n",
    "    public_key.save(str(path/\"public_key\"))\n",
    "    secret_key.save(str(path/\"secret_key\"))\n",
    "    relin_keys.save(str(path/\"relin_keys\"))\n",
    "    galois_keys.save(str(path/\"galois_keys\"))\n",
    "\n",
    "def load_seal_globals(globals, path:Path = Path(\"seal\"), load_pk:bool = False, load_sk:bool = False):\n",
    "    \"\"\"Loads and populates SEAL globals from saved files.\"\"\"\n",
    "    if not path.exists():\n",
    "        raise FileNotFoundError(\"Path not found\")\n",
    "        \n",
    "    parms = seal.EncryptionParameters(seal.SCHEME_TYPE.CKKS)\n",
    "    parms.load(str(path/\"parms\"))\n",
    "    \n",
    "    context = seal.SEALContext.Create(parms, True, seal.SEC_LEVEL_TYPE.TC128)\n",
    "    globals[\"context\"] = context\n",
    "    \n",
    "    if load_pk:\n",
    "        public_key = seal.PublicKey()\n",
    "        public_key.load(context, str(path/\"public_key\"))\n",
    "        globals[\"public_key\"] = public_key\n",
    "        globals[\"encryptor\"] = seal.Encryptor(context, public_key)\n",
    "        \n",
    "    if load_sk:\n",
    "        secret_key = seal.SecretKey()\n",
    "        secret_key.load(context, str(path/\"secret_key\"))\n",
    "        globals[\"secret_key\"] = secret_key\n",
    "        globals[\"decryptor\"] = seal.Decryptor(context, secret_key)\n",
    "    \n",
    "    relin_keys = seal.RelinKeys()\n",
    "    relin_keys.load(context, str(path/\"relin_keys\"))\n",
    "    \n",
    "    galois_keys = seal.GaloisKeys()\n",
    "    galois_keys.load(context, str(path/\"galois_keys\"))\n",
    "    \n",
    "    globals[\"relin_keys\"] = relin_keys\n",
    "    globals[\"galois_keys\"] = galois_keys\n",
    "\n",
    "    globals[\"evaluator\"] = seal.Evaluator(context)\n",
    "    globals[\"encoder\"] = seal.CKKSEncoder(context)"
   ]
  },
  {
   "cell_type": "markdown",
   "metadata": {},
   "source": [
    "The examples bellow shows how one can play with SEAL.\n",
    "\n",
    "First we initialize the SEAL context :"
   ]
  },
  {
   "cell_type": "code",
   "execution_count": null,
   "metadata": {},
   "outputs": [],
   "source": [
    "poly_modulus_degree = 4096\n",
    "moduli = [35,30,35]\n",
    "PRECISION_BITS = 30\n",
    "\n",
    "create_seal_globals(globals(), poly_modulus_degree, moduli, PRECISION_BITS)"
   ]
  },
  {
   "cell_type": "markdown",
   "metadata": {},
   "source": [
    "We can also save those parameters."
   ]
  },
  {
   "cell_type": "code",
   "execution_count": null,
   "metadata": {},
   "outputs": [],
   "source": [
    "save_seal_globals(globals())"
   ]
  },
  {
   "cell_type": "markdown",
   "metadata": {},
   "source": [
    "In order to load them later, or to send them to a third party which will do computation on our data."
   ]
  },
  {
   "cell_type": "code",
   "execution_count": null,
   "metadata": {},
   "outputs": [],
   "source": [
    "load_seal_globals(globals())"
   ]
  },
  {
   "cell_type": "markdown",
   "metadata": {},
   "source": [
    "Now we can start using the SEAL context to encrypt data and perform arithmetic on it."
   ]
  },
  {
   "cell_type": "code",
   "execution_count": null,
   "metadata": {},
   "outputs": [
    {
     "name": "stdout",
     "output_type": "stream",
     "text": [
      "\n",
      "    [ 1.0000000, 2.0000000, 3.0000000, ..., -0.0000000, -0.0000000, -0.0000000 ]\n",
      "\n",
      "\n",
      "    [ 0.9999999, 1.9999997, 3.0000000, ..., 0.0000002, -0.0000001, 0.0000000 ]\n",
      "\n",
      "\n",
      "    [ 1.9999999, 3.9999997, 6.0000000, ..., 0.0000002, -0.0000001, 0.0000000 ]\n",
      "\n"
     ]
    }
   ],
   "source": [
    "# First we encode x in a Plaintext\n",
    "x = [1,2,3]\n",
    "\n",
    "ptx = seal.Plaintext()\n",
    "encoder.encode(x, scale, ptx)\n",
    "\n",
    "# Then we display it\n",
    "print_ptx(ptx)\n",
    "\n",
    "# Then we encrypt it\n",
    "ctx = seal.Ciphertext()\n",
    "encryptor.encrypt(ptx, ctx)\n",
    "\n",
    "print_ctx(ctx)\n",
    "\n",
    "evaluator.add_plain_inplace(ctx, ptx)\n",
    "print_ctx(ctx)"
   ]
  }
 ],
 "metadata": {
  "kernelspec": {
   "display_name": "Python 3",
   "language": "python",
   "name": "python3"
  }
 },
 "nbformat": 4,
 "nbformat_minor": 4
}

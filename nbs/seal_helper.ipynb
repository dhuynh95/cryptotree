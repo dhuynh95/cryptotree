{
 "cells": [
  {
   "cell_type": "code",
   "execution_count": null,
   "metadata": {},
   "outputs": [],
   "source": [
    "# default_exp seal_helper"
   ]
  },
  {
   "cell_type": "code",
   "execution_count": null,
   "metadata": {},
   "outputs": [],
   "source": [
    "# hide\n",
    "%load_ext autoreload\n",
    "%autoreload 2"
   ]
  },
  {
   "cell_type": "markdown",
   "metadata": {},
   "source": [
    "# seal_helper"
   ]
  },
  {
   "cell_type": "code",
   "execution_count": null,
   "metadata": {},
   "outputs": [],
   "source": [
    "# export\n",
    "from seal import *\n",
    "from typing import List"
   ]
  },
  {
   "cell_type": "code",
   "execution_count": null,
   "metadata": {},
   "outputs": [],
   "source": [
    "# export\n",
    "def print_vector(vec, print_size=4, prec=3):\n",
    "    \"\"\"Prints a vector with a given level of precision and print size\"\"\"\n",
    "    slot_count = len(vec)\n",
    "    print()\n",
    "    if slot_count <= 2*print_size:\n",
    "        print(\"    [\", end=\"\")\n",
    "        for i in range(slot_count):\n",
    "            print(\" \" + (f\"%.{prec}f\" % vec[i]) + (\",\" if (i != slot_count - 1) else \" ]\\n\"), end=\"\")\n",
    "    else:\n",
    "        print(\"    [\", end=\"\")\n",
    "        for i in range(print_size):\n",
    "            print(\" \" + (f\"%.{prec}f\" % vec[i]) + \",\", end=\"\")\n",
    "        if len(vec) > 2*print_size:\n",
    "            print(\" ...,\", end=\"\")\n",
    "        for i in range(slot_count - print_size, slot_count):\n",
    "            print(\" \" + (f\"%.{prec}f\" % vec[i]) + (\",\" if (i != slot_count - 1) else \" ]\\n\"), end=\"\")\n",
    "    print()\n",
    "    \n",
    "def ptx_value(ptx, i=0):\n",
    "    \"\"\"Returns the value of a Plaintext at a given position\"\"\"\n",
    "    result = DoubleVector()\n",
    "    encoder.decode(ptx,result)\n",
    "    value = result[i]\n",
    "    return value\n",
    "    \n",
    "def ctx_value(ctx, i=0):\n",
    "    \"\"\"Returns the value of a Ciphertext at a given position\"\"\"\n",
    "    ptx = Plaintext()\n",
    "    decryptor.decrypt(ctx, ptx)\n",
    "    value = ptx_value(ptx,i)\n",
    "    return value\n",
    "    \n",
    "def print_ctx(ctx):\n",
    "    ptx = Plaintext()\n",
    "    decryptor.decrypt(ctx, ptx)\n",
    "    result = DoubleVector()\n",
    "    encoder.decode(ptx,result)\n",
    "    print_vector(result, 3, 7)\n",
    "    \n",
    "def print_ptx(ptx):\n",
    "    result = DoubleVector()\n",
    "    encoder.decode(ptx,result)\n",
    "    print_vector(result, 3, 7)\n",
    "    \n",
    "def print_range_ctx(ctx, end=0, begin=0):\n",
    "    r = range(begin,end)\n",
    "    for i in r:\n",
    "        print(ctx_value(ctx, i))\n",
    "        \n",
    "def print_range_ptx(ptx, end=0, begin=0):\n",
    "    r = range(begin,end)\n",
    "    for i in r:\n",
    "        print(ptx_value(ptx, i))"
   ]
  },
  {
   "cell_type": "code",
   "execution_count": null,
   "metadata": {},
   "outputs": [],
   "source": [
    "# export\n",
    "def float_to_ctx(x, encoder: CKKSEncoder, encryptor: Encryptor):\n",
    "    ptx = Plaintext()\n",
    "    if len(x) > 1:\n",
    "        x = list(x)\n",
    "        x = DoubleVector(x)\n",
    "    encoder.encode(x, scale, ptx)\n",
    "\n",
    "    ctx = Ciphertext()\n",
    "    encryptor.encrypt(ptx, ctx)\n",
    "    \n",
    "    return ctx"
   ]
  },
  {
   "cell_type": "code",
   "execution_count": null,
   "metadata": {},
   "outputs": [],
   "source": [
    "# export\n",
    "def vrep(x, n):\n",
    "    k = n // len(x)\n",
    "    rest = n % len(x)\n",
    "    output = x * k + x[:rest]\n",
    "    return output"
   ]
  },
  {
   "cell_type": "code",
   "execution_count": null,
   "metadata": {},
   "outputs": [],
   "source": [
    "# export\n",
    "def create_seal_globals(globals: dict, poly_modulus_degree: int, moduli: List[int], PRECISION_BITS: int):\n",
    "    \"\"\"Creates SEAL context variables and populates the globals with it.\"\"\"\n",
    "    parms = EncryptionParameters(scheme_type.CKKS)\n",
    "    parms.set_poly_modulus_degree(poly_modulus_degree)\n",
    "    parms.set_coeff_modulus(CoeffModulus.Create(\n",
    "        poly_modulus_degree, moduli))\n",
    "\n",
    "    globals[\"scale\"] = pow(2.0, PRECISION_BITS)\n",
    "    context = SEALContext.Create(parms)\n",
    "\n",
    "    keygen = KeyGenerator(context)\n",
    "    globals[\"public_key\"] = keygen.public_key()\n",
    "    globals[\"secret_key\"] = keygen.secret_key()\n",
    "    globals[\"relin_keys\"] = keygen.relin_keys()\n",
    "    globals[\"galois_keys\"] = keygen.galois_keys()\n",
    "\n",
    "    globals[\"encryptor\"] = Encryptor(context, globals[\"public_key\"])\n",
    "    globals[\"evaluator\"] = Evaluator(context)\n",
    "    globals[\"decryptor\"] = Decryptor(context, globals[\"secret_key\"])\n",
    "    globals[\"encoder\"] = CKKSEncoder(context)\n",
    "    \n",
    "def append_globals_to_builtins(globals, builtins):\n",
    "    \"\"\"Appends the SEAL context variables to the builtins.\"\"\"\n",
    "    \n",
    "    variables = [\"public_key\", \"secret_key\", \"relin_keys\", \"galois_keys\",\n",
    "                 \"encryptor\", \"evaluator\", \"decryptor\", \"encoder\"]\n",
    "    \n",
    "    for var in variables:\n",
    "        setattr(builtins, var, globals[var])"
   ]
  },
  {
   "cell_type": "markdown",
   "metadata": {},
   "source": [
    "The examples bellow shows how one can play with SEAL.\n",
    "\n",
    "First we initialize the SEAL context :"
   ]
  },
  {
   "cell_type": "code",
   "execution_count": null,
   "metadata": {},
   "outputs": [],
   "source": [
    "from seal import *\n",
    "\n",
    "poly_modulus_degree = 8192\n",
    "moduli = [40,30,30,40]\n",
    "PRECISION_BITS = 30\n",
    "\n",
    "create_seal_globals(globals(), poly_modulus_degree, moduli, PRECISION_BITS)"
   ]
  },
  {
   "cell_type": "markdown",
   "metadata": {},
   "source": [
    "Now we can start using the SEAL context to encrypt data and perform arithmetic on it."
   ]
  },
  {
   "cell_type": "code",
   "execution_count": null,
   "metadata": {},
   "outputs": [
    {
     "name": "stdout",
     "output_type": "stream",
     "text": [
      "\n",
      "    [ 1.0000000, 1.9999999, 3.0000000, ..., -0.0000000, 0.0000000, -0.0000000 ]\n",
      "\n",
      "\n",
      "    [ 0.9999997, 2.0000011, 2.9999992, ..., 0.0000006, 0.0000018, 0.0000000 ]\n",
      "\n",
      "\n",
      "    [ 1.9999998, 4.0000010, 5.9999992, ..., 0.0000006, 0.0000018, -0.0000000 ]\n",
      "\n"
     ]
    }
   ],
   "source": [
    "# First we encode x in a Plaintext\n",
    "x = DoubleVector([1,2,3])\n",
    "\n",
    "ptx = Plaintext()\n",
    "encoder.encode(x, scale, ptx)\n",
    "\n",
    "# Then we display it\n",
    "print_ptx(ptx)\n",
    "\n",
    "# Then we encrypt it\n",
    "ctx = Ciphertext()\n",
    "encryptor.encrypt(ptx, ctx)\n",
    "\n",
    "print_ctx(ctx)\n",
    "\n",
    "evaluator.add_plain_inplace(ctx, ptx)\n",
    "print_ctx(ctx)"
   ]
  }
 ],
 "metadata": {
  "kernelspec": {
   "display_name": "Python 3",
   "language": "python",
   "name": "python3"
  }
 },
 "nbformat": 4,
 "nbformat_minor": 4
}

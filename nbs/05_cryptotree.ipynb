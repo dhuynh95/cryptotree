{
 "cells": [
  {
   "cell_type": "code",
   "execution_count": null,
   "metadata": {},
   "outputs": [],
   "source": [
    "# default_exp cryptotree"
   ]
  },
  {
   "cell_type": "code",
   "execution_count": null,
   "metadata": {},
   "outputs": [],
   "source": [
    "# hide\n",
    "%load_ext autoreload\n",
    "%autoreload 2"
   ]
  },
  {
   "cell_type": "markdown",
   "metadata": {},
   "source": [
    "# cryptotree\n",
    "\n",
    "> Homomorphic implementations of neural decisions trees."
   ]
  },
  {
   "cell_type": "markdown",
   "metadata": {},
   "source": [
    "## Homomorphic trees"
   ]
  },
  {
   "cell_type": "code",
   "execution_count": null,
   "metadata": {},
   "outputs": [],
   "source": [
    "# export\n",
    "from cryptotree.seal_helper import *\n",
    "from cryptotree.polynomials import polyeval_tree\n",
    "from cryptotree.linear import arrays_to_ptx, extract_diagonals, matrix_multiply_diagonals, pad_along_axis\n",
    "\n",
    "from seal import *\n",
    "\n",
    "import numpy as np\n",
    "import torch\n",
    "from typing import List, Callable"
   ]
  },
  {
   "cell_type": "code",
   "execution_count": null,
   "metadata": {},
   "outputs": [],
   "source": [
    "# export\n",
    "def to_list_and_duplicate(array):\n",
    "    \"\"\"Takes an array, append a 0 then copies itself once more.\n",
    "\n",
    "    This step is necessary to do matrix multiplication with Galois rotations.\n",
    "    \"\"\"\n",
    "    array = list(array)\n",
    "    array = array + [0] + array\n",
    "    return array\n",
    "\n",
    "def to_list_and_pad(array):\n",
    "    \"\"\"Takes an array, append a 0 then copies itself once more.\n",
    "\n",
    "    This step is necessary to do matrix multiplication with Galois rotations.\n",
    "    \"\"\"\n",
    "    array = list(array)\n",
    "    array = array + [0] * (len(array) - 1)\n",
    "    return array"
   ]
  },
  {
   "cell_type": "code",
   "execution_count": null,
   "metadata": {},
   "outputs": [],
   "source": [
    "# export\n",
    "from cryptotree.tree import NeuralDecisionTree\n",
    "\n",
    "class HomomorphicModel:\n",
    "    \"\"\"Base class for Homormorphic Decision Trees and Random Forest. \n",
    "    \n",
    "    As the Homomorphic Evaluator will only need weights, and comparator \n",
    "    for the Homomorphic Featurizer, a model should only return these two. \n",
    "    \"\"\"\n",
    "    def return_weights(self):\n",
    "        return self.b0, self.w1, self.b1, self.w2, self.b2\n",
    "    \n",
    "    def return_comparator(self) -> np.ndarray:\n",
    "        \"\"\"Returns the comparator, which is a numpy array of the comparator,\n",
    "        with -1 indices for null values. The array is repeated for Galois\n",
    "        rotations before the multiplication.\"\"\"\n",
    "        \n",
    "        comparator = list(self.comparator)\n",
    "        comparator = comparator + [-1] + comparator\n",
    "        comparator = np.array(comparator)\n",
    "        return comparator\n",
    "\n",
    "class HomomorphicDecisionTree(HomomorphicModel):\n",
    "    \"\"\"Homomorphic Decision Tree, which extracts appropriate weights for\n",
    "    homomorphic operations from a Neural Decision Tree.\"\"\"\n",
    "    \n",
    "    def __init__(self, tree: NeuralDecisionTree):\n",
    "        matcher = tree.matcher\n",
    "        head = tree.head\n",
    "        \n",
    "        # We first get the comparator and set to -1 the rows that were padded\n",
    "        comparator = tree.comparator.weight.data.numpy()\n",
    "        padded_rows = (comparator.sum(axis=1) == 0)\n",
    "        \n",
    "        # We then get the indices of non padded rows\n",
    "        comparator = comparator.argmax(axis=1)\n",
    "        comparator[padded_rows] = -1\n",
    "        self.comparator = comparator\n",
    "        \n",
    "        self.n_leaves = matcher.weight.data.shape[0]\n",
    "        \n",
    "        # We add a 0 then copy the initial \n",
    "        b0 = tree.comparator.bias.data.numpy()\n",
    "        self.b0 = to_list_and_duplicate(b0)\n",
    "        \n",
    "        # For weights, we first pad the columns, then extract the diagonals, and pad them\n",
    "        w1 = matcher.weight.data.numpy()\n",
    "        w1 = pad_along_axis(w1, w1.shape[0], axis=1)\n",
    "        w1 = extract_diagonals(w1)\n",
    "        self.w1 = [to_list_and_pad(w1[i]) for i in range(len(w1))]\n",
    "        \n",
    "        b1 = matcher.bias.data.numpy()\n",
    "        self.b1 = to_list_and_pad(b1)\n",
    "        \n",
    "        w2 = head.weight.data.numpy()\n",
    "        self.w2 = [to_list_and_pad(w2[c]) for c in range(len(w2))]\n",
    "        \n",
    "        b2 = head.bias.data.numpy()\n",
    "        self.b2 = [to_list_and_pad(([b2[c] / self.n_leaves]) * self.n_leaves) for c in range(len(b2))]"
   ]
  },
  {
   "cell_type": "code",
   "execution_count": null,
   "metadata": {},
   "outputs": [],
   "source": [
    "# export\n",
    "from cryptotree.tree import NeuralRandomForest\n",
    "\n",
    "class HomomorphicNeuralRandomForest(HomomorphicModel):\n",
    "    \"\"\"\"\"\"\n",
    "    def __init__(self, neural_rf: NeuralRandomForest):\n",
    "        \n",
    "        homomorphic_trees = [HomomorphicDecisionTree(neural_tree) for neural_tree in neural_rf.neural_trees]\n",
    "\n",
    "        B0, W1, B1, W2, B2 = [], [], [], [], []\n",
    "        comparator = []\n",
    "\n",
    "        for h in homomorphic_trees:\n",
    "            b0, w1, b1, w2, b2 = h.return_weights()\n",
    "            B0 += b0\n",
    "            W1.append(w1)\n",
    "            B1 += b1\n",
    "            W2.append(w2)\n",
    "            B2.append(b2)\n",
    "            comparator += list(h.return_comparator())\n",
    "\n",
    "        self.comparator = comparator\n",
    "\n",
    "        W1 = list(np.concatenate(W1, axis=-1))\n",
    "        W2 = list(np.concatenate(W2, axis=-1))\n",
    "        B2 = list(np.concatenate(B2, axis=-1))\n",
    "        \n",
    "        # We will multiply each class vector with the corresponding weight for each tree\n",
    "        weights = neural_rf.weights\n",
    "        block_size = neural_rf.n_leaves_max * 2 - 1\n",
    "        weights = [[weight.item()] * block_size for weight in weights]\n",
    "        weights = np.concatenate(weights)\n",
    "        \n",
    "        W2 = [w2 * weights for w2 in W2]\n",
    "        B2 = [b2 * weights for b2 in B2]\n",
    "        \n",
    "        self.b0 = B0\n",
    "        self.w1 = W1\n",
    "        self.b1 = B1\n",
    "        self.w2 = W2\n",
    "        self.b2 = B2"
   ]
  },
  {
   "cell_type": "markdown",
   "metadata": {},
   "source": [
    "## Homomorphic evaluator and featurizer"
   ]
  },
  {
   "cell_type": "markdown",
   "metadata": {},
   "source": [
    "Now to evaluate our models, we will use an evaluator, which is a general purpose class which will do the computing based on the provided weights."
   ]
  },
  {
   "cell_type": "code",
   "execution_count": null,
   "metadata": {},
   "outputs": [],
   "source": [
    "# export\n",
    "from typing import List\n",
    "from functools import partial\n",
    "from cryptotree.tree import NeuralDecisionTree\n",
    "\n",
    "class HomomorphicTreeEvaluator:\n",
    "    \"\"\"Evaluator which will perform homomorphic computation\"\"\"\n",
    "    \n",
    "    def __init__(self, b0: np.ndarray, w1, b1, w2, b2,\n",
    "                 activation_coeffs: List[float], polynomial_evaluator: Callable,\n",
    "                 evaluator: Evaluator, encoder: CKKSEncoder,\n",
    "                 relin_keys: RelinKeys, galois_keys: GaloisKeys, scale: float):\n",
    "        \"\"\"Initializes with the weights used during computation.\n",
    "        \n",
    "        Args:\n",
    "            b0: bias of the comparison step\n",
    "        \n",
    "        \"\"\"\n",
    "        self.slot_count = encoder.slot_count()\n",
    "        \n",
    "        self.evaluator = evaluator\n",
    "        self.encoder = encoder\n",
    "        self.relin_keys = relin_keys\n",
    "        self.galois_keys = galois_keys\n",
    "        self.scale = scale\n",
    "        \n",
    "        self.activation = partial(polynomial_evaluator, coeffs=activation_coeffs,\n",
    "                                            evaluator=evaluator, encoder=encoder, \n",
    "                                            relin_keys=relin_keys, scale=scale)\n",
    "        \n",
    "        self.b0_ptx = self.to_ptx(b0)\n",
    "        self.w1_ptx = [self.to_ptx(w) for w in w1]\n",
    "        self.b1_ptx = self.to_ptx(b1)\n",
    "        self.w2_ptx = [self.to_ptx(w) for w in w2]\n",
    "        self.b2_ptx = [self.to_ptx(b) for b in b2]\n",
    "        \n",
    "    def __call__(self, ctx: Ciphertext):\n",
    "        \n",
    "        # First we add the first bias to do the comparisons\n",
    "        ctx = self.compare(ctx)\n",
    "        ctx = self.match(ctx)\n",
    "        outputs = self.decide(ctx)\n",
    "        \n",
    "        return outputs\n",
    "    \n",
    "    def compare(self, ctx: Ciphertext) -> Ciphertext:\n",
    "        \"\"\"Applies comparisons homomorphically.\n",
    "        \n",
    "        It first adds the thresholds, then compute the activation.\n",
    "        \"\"\"\n",
    "        output = Ciphertext()\n",
    "        evaluator.add_plain(ctx, self.b0_ptx, output)\n",
    "        output = self.activation(output)\n",
    "        return output\n",
    "    \n",
    "    def match(self, ctx: Ciphertext) -> Ciphertext:\n",
    "        \"\"\"Applies matching homomorphically.\n",
    "        \n",
    "        First it does the matrix multiplication with diagonals, then activate it.\n",
    "        \"\"\"\n",
    "        output = matrix_multiply_diagonals(self.w1_ptx, ctx, self.evaluator, self.galois_keys)\n",
    "\n",
    "        self.evaluator.mod_switch_to_inplace(self.b1_ptx, output.parms_id())\n",
    "        output.scale(self.scale)\n",
    "        self.evaluator.add_plain_inplace(output, self.b1_ptx)\n",
    "        \n",
    "        output = self.activation(output)\n",
    "        return output\n",
    "    \n",
    "    def decide(self, ctx: Ciphertext):\n",
    "        \"\"\"Applies the decisions homomorphically.\n",
    "        \n",
    "        For each class, multiply the ciphertext with the corresponding weight of that class and\n",
    "        add the bias afterwards.\n",
    "        \"\"\"\n",
    "        outputs = []\n",
    "        for w_ptx,b_ptx in zip(self.w2_ptx, self.b2_ptx):\n",
    "            output = Ciphertext()\n",
    "\n",
    "            self.evaluator.mod_switch_to_inplace(w_ptx, ctx.parms_id())\n",
    "\n",
    "            self.evaluator.multiply_plain(ctx, w_ptx, output)\n",
    "            self.evaluator.rescale_to_next_inplace(output)\n",
    "\n",
    "            evaluator.mod_switch_to_inplace(b_ptx, output.parms_id())\n",
    "            output.scale(scale)\n",
    "\n",
    "            evaluator.add_plain_inplace(output, b_ptx)\n",
    "            outputs.append(output)\n",
    "        return outputs\n",
    "        \n",
    "    def to_ptx(self, array):\n",
    "        \"\"\"Pads an array and convert it to a plaintext\"\"\"\n",
    "        array = DoubleVector(list(array))\n",
    "        \n",
    "        ptx = Plaintext()\n",
    "        self.encoder.encode(array, self.scale, ptx)\n",
    "        return ptx\n",
    "    \n",
    "    @classmethod\n",
    "    def from_model(cls, model: HomomorphicModel, \n",
    "                  activation_coeffs: List[float], polynomial_evaluator: Callable,\n",
    "                  evaluator: Evaluator, encoder: CKKSEncoder,\n",
    "                  relin_keys: RelinKeys, galois_keys: GaloisKeys, scale: float):\n",
    "        \"\"\"Creates an Homomorphic Tree Evaluator from a model, i.e a neural tree or\n",
    "        a neural random forest. \"\"\"\n",
    "        b0, w1, b1, w2, b2 = model.return_weights()\n",
    "        \n",
    "        return cls(b0, w1, b1, w2, b2, activation_coeffs, polynomial_evaluator,\n",
    "                   evaluator, encoder, relin_keys, galois_keys, scale)"
   ]
  },
  {
   "cell_type": "code",
   "execution_count": null,
   "metadata": {},
   "outputs": [],
   "source": [
    "# export\n",
    "class HomomorphicTreeFeaturizer:\n",
    "    \"\"\"Featurizer used by the client to encode and encrypt data.\"\"\"\n",
    "    def __init__(self, comparator: np.ndarray, \n",
    "                 encoder: CKKSEncoder, encryptor: Encryptor, scale: float):\n",
    "        self.comparator = comparator\n",
    "        self.encryptor = encryptor\n",
    "        self.encoder = encoder\n",
    "        self.scale = scale\n",
    "        \n",
    "    def encrypt(self, x: np.ndarray):\n",
    "        features = x[self.comparator]\n",
    "        features[self.comparator == -1] = 0\n",
    "        features = DoubleVector(list(features))\n",
    "        \n",
    "        ptx = Plaintext()\n",
    "        encoder.encode(features, scale, ptx)\n",
    "        \n",
    "        ctx = Ciphertext()\n",
    "        encryptor.encrypt(ptx, ctx)\n",
    "        return ctx"
   ]
  },
  {
   "cell_type": "markdown",
   "metadata": {},
   "source": [
    "## Example"
   ]
  },
  {
   "cell_type": "markdown",
   "metadata": {},
   "source": [
    "Here we will see an example of Homomorphic trees in action.\n",
    "\n",
    "First we can have a look at the activation that will be used, which is a polynomial approximation of the sigmoid with a dilatation factor of 16."
   ]
  },
  {
   "cell_type": "code",
   "execution_count": null,
   "metadata": {},
   "outputs": [
    {
     "data": {
      "text/plain": [
       "(<Figure size 432x288 with 1 Axes>,\n",
       " <matplotlib.axes._subplots.AxesSubplot at 0x7f2d33ee1610>)"
      ]
     },
     "execution_count": null,
     "metadata": {},
     "output_type": "execute_result"
    },
    {
     "data": {
      "image/png": "[encoded data removed]",
      "text/plain": [
       "<Figure size 432x288 with 1 Axes>"
      ]
     },
     "metadata": {
      "needs_background": "light"
     },
     "output_type": "display_data"
    }
   ],
   "source": [
    "from cryptotree.polynomials import (chebyshev_approximation, polynomial_approximation_coefficients, \n",
    "plot_graph_function_approximation)\n",
    "import torch\n",
    "\n",
    "dilatation_factor = 16\n",
    "degree = dilatation_factor\n",
    "\n",
    "p,_ = chebyshev_approximation(torch.sigmoid, dilatation_factor=dilatation_factor,\n",
    "                                              polynomial_degree=degree)\n",
    "coeffs = polynomial_approximation_coefficients(torch.sigmoid, dilatation_factor=dilatation_factor,\n",
    "                                              polynomial_degree=degree)\n",
    "plot_graph_function_approximation(torch.sigmoid, dilatation_factor=dilatation_factor,\n",
    "                                              polynomial_degree=degree)"
   ]
  },
  {
   "cell_type": "code",
   "execution_count": null,
   "metadata": {},
   "outputs": [
    {
     "data": {
      "text/plain": [
       "9.728525111322655"
      ]
     },
     "execution_count": null,
     "metadata": {},
     "output_type": "execute_result"
    }
   ],
   "source": [
    "np.log2(np.abs(coeffs.max()))"
   ]
  },
  {
   "cell_type": "code",
   "execution_count": null,
   "metadata": {},
   "outputs": [
    {
     "name": "stdout",
     "output_type": "stream",
     "text": [
      "[35, 30, 30, 30, 30, 30, 30, 30, 30, 30, 30, 30, 30, 35]\n",
      "430\n"
     ]
    }
   ],
   "source": [
    "import numpy as np \n",
    "\n",
    "PRECISION_BITS = 30\n",
    "UPPER_BITS = 5\n",
    "\n",
    "polynomial_multiplications = int(np.ceil(np.log2(degree))) + 1\n",
    "n_polynomials = 2\n",
    "matrix_multiplications = 2\n",
    "\n",
    "depth = matrix_multiplications + polynomial_multiplications * n_polynomials\n",
    "\n",
    "poly_modulus_degree = 16384 * 2\n",
    "\n",
    "moduli = [PRECISION_BITS + UPPER_BITS] + (depth) * [PRECISION_BITS] + [PRECISION_BITS + UPPER_BITS]\n",
    "print(moduli)\n",
    "print(sum(moduli))"
   ]
  },
  {
   "cell_type": "markdown",
   "metadata": {},
   "source": [
    "Now we will populate our SEAL environment with a helper function using the parameters we have defined. Using the builtins, we will be able to call *print_ctx* without having to provide the encoder and decryptor."
   ]
  },
  {
   "cell_type": "code",
   "execution_count": null,
   "metadata": {},
   "outputs": [],
   "source": [
    "from cryptotree.seal_helper import create_seal_globals, append_globals_to_builtins\n",
    "import builtins\n",
    "\n",
    "create_seal_globals(globals(), poly_modulus_degree, moduli, PRECISION_BITS)\n",
    "append_globals_to_builtins(globals(), builtins)"
   ]
  },
  {
   "cell_type": "code",
   "execution_count": null,
   "metadata": {},
   "outputs": [
    {
     "data": {
      "text/plain": [
       "RandomForestClassifier(bootstrap=True, ccp_alpha=0.0, class_weight=None,\n",
       "                       criterion='gini', max_depth=4, max_features='auto',\n",
       "                       max_leaf_nodes=None, max_samples=None,\n",
       "                       min_impurity_decrease=0.0, min_impurity_split=None,\n",
       "                       min_samples_leaf=1, min_samples_split=2,\n",
       "                       min_weight_fraction_leaf=0.0, n_estimators=100,\n",
       "                       n_jobs=None, oob_score=False, random_state=0, verbose=0,\n",
       "                       warm_start=False)"
      ]
     },
     "execution_count": null,
     "metadata": {},
     "output_type": "execute_result"
    }
   ],
   "source": [
    "import numpy as np\n",
    "from sklearn.tree import DecisionTreeClassifier\n",
    "from sklearn.ensemble import RandomForestClassifier\n",
    "from sklearn.model_selection import train_test_split\n",
    "from sklearn.datasets import load_iris\n",
    "\n",
    "from sklearn.preprocessing import MinMaxScaler\n",
    "\n",
    "scaler = MinMaxScaler()\n",
    "\n",
    "iris = load_iris()\n",
    "X = iris.data\n",
    "y = iris.target\n",
    "X_train, X_test, y_train, y_test = train_test_split(X, y, random_state=0)\n",
    "X_train = scaler.fit_transform(X_train)\n",
    "\n",
    "rf = RandomForestClassifier(max_depth=4, random_state=0)\n",
    "rf.fit(X_train, y_train)"
   ]
  },
  {
   "cell_type": "code",
   "execution_count": null,
   "metadata": {},
   "outputs": [
    {
     "data": {
      "text/plain": [
       "DecisionTreeClassifier(ccp_alpha=0.0, class_weight=None, criterion='gini',\n",
       "                       max_depth=4, max_features=None, max_leaf_nodes=None,\n",
       "                       min_impurity_decrease=0.0, min_impurity_split=None,\n",
       "                       min_samples_leaf=1, min_samples_split=2,\n",
       "                       min_weight_fraction_leaf=0.0, presort='deprecated',\n",
       "                       random_state=0, splitter='best')"
      ]
     },
     "execution_count": null,
     "metadata": {},
     "output_type": "execute_result"
    }
   ],
   "source": [
    "from sklearn.tree import DecisionTreeClassifier\n",
    "\n",
    "tree = DecisionTreeClassifier(max_depth=4, random_state=0)\n",
    "tree.fit(X_train, y_train)"
   ]
  },
  {
   "cell_type": "code",
   "execution_count": null,
   "metadata": {},
   "outputs": [
    {
     "name": "stdout",
     "output_type": "stream",
     "text": [
      "The binary tree structure has 13 nodes and has the following tree structure:\n",
      "node=0 test node: go to node 1 if X[:, 3] <= 0.2916666641831398 else to node 2.\n",
      "\tnode=1 leaf node.\n",
      "\tnode=2 test node: go to node 3 if X[:, 2] <= 0.6637930870056152 else to node 8.\n",
      "\t\tnode=3 test node: go to node 4 if X[:, 3] <= 0.6458333432674408 else to node 5.\n",
      "\t\t\tnode=4 leaf node.\n",
      "\t\t\tnode=5 test node: go to node 6 if X[:, 1] <= 0.4583333283662796 else to node 7.\n",
      "\t\t\t\tnode=6 leaf node.\n",
      "\t\t\t\tnode=7 leaf node.\n",
      "\t\tnode=8 test node: go to node 9 if X[:, 3] <= 0.6875 else to node 12.\n",
      "\t\t\tnode=9 test node: go to node 10 if X[:, 3] <= 0.6458333432674408 else to node 11.\n",
      "\t\t\t\tnode=10 leaf node.\n",
      "\t\t\t\tnode=11 leaf node.\n",
      "\t\t\tnode=12 leaf node.\n",
      "\n"
     ]
    }
   ],
   "source": [
    "n_nodes = tree.tree_.node_count\n",
    "children_left = tree.tree_.children_left\n",
    "children_right = tree.tree_.children_right\n",
    "feature = tree.tree_.feature\n",
    "threshold = tree.tree_.threshold\n",
    "\n",
    "# The tree structure can be traversed to compute various properties such\n",
    "# as the depth of each node and whether or not it is a leaf.\n",
    "node_depth = np.zeros(shape=n_nodes, dtype=np.int64)\n",
    "is_leaves = np.zeros(shape=n_nodes, dtype=bool)\n",
    "stack = [(0, -1)]  # seed is the root node id and its parent depth\n",
    "while len(stack) > 0:\n",
    "    node_id, parent_depth = stack.pop()\n",
    "    node_depth[node_id] = parent_depth + 1\n",
    "\n",
    "    # If we have a test node\n",
    "    if (children_left[node_id] != children_right[node_id]):\n",
    "        stack.append((children_left[node_id], parent_depth + 1))\n",
    "        stack.append((children_right[node_id], parent_depth + 1))\n",
    "    else:\n",
    "        is_leaves[node_id] = True\n",
    "        \n",
    "print(\"The binary tree structure has %s nodes and has \"\n",
    "      \"the following tree structure:\"\n",
    "      % n_nodes)\n",
    "for i in range(n_nodes):\n",
    "    if is_leaves[i]:\n",
    "        print(\"%snode=%s leaf node.\" % (node_depth[i] * \"\\t\", i))\n",
    "    else:\n",
    "        print(\"%snode=%s test node: go to node %s if X[:, %s] <= %s else to \"\n",
    "              \"node %s.\"\n",
    "              % (node_depth[i] * \"\\t\",\n",
    "                 i,\n",
    "                 children_left[i],\n",
    "                 feature[i],\n",
    "                 threshold[i],\n",
    "                 children_right[i],\n",
    "                 ))\n",
    "print()"
   ]
  },
  {
   "cell_type": "code",
   "execution_count": null,
   "metadata": {},
   "outputs": [
    {
     "name": "stdout",
     "output_type": "stream",
     "text": [
      "0.08981352184491735\n",
      "0.6723222702858054\n",
      "0.03394028177717689\n"
     ]
    }
   ],
   "source": [
    "from cryptotree.tree import SigmoidTreeMaker\n",
    "\n",
    "tree_maker = SigmoidTreeMaker(dilatation_factor=dilatation_factor, polynomial_degree=degree, \n",
    "                              use_polynomial=True)\n",
    "\n",
    "neural_tree = tree_maker.make_tree(tree)\n",
    "htree = HomomorphicDecisionTree(neural_tree)\n",
    "\n",
    "tree_evaluator = HomomorphicTreeEvaluator.from_model(htree, tree_maker.coeffs, \n",
    "                                                   polyeval_tree, evaluator, encoder, relin_keys, galois_keys, \n",
    "                                                   scale)\n",
    "\n",
    "featurizer = HomomorphicTreeFeaturizer(htree.return_comparator(), encoder, encryptor, scale)\n",
    "\n",
    "x = X_train[0]\n",
    "ctx = featurizer.encrypt(x)\n",
    "\n",
    "outputs = tree_evaluator(ctx)\n",
    "\n",
    "for output in outputs:\n",
    "    ptx = Plaintext()\n",
    "    decryptor.decrypt(output, ptx)\n",
    "    \n",
    "    values = DoubleVector()\n",
    "    encoder.decode(ptx, values)\n",
    "    \n",
    "    output = sum(list(values))\n",
    "    print(output)"
   ]
  },
  {
   "cell_type": "code",
   "execution_count": null,
   "metadata": {},
   "outputs": [
    {
     "data": {
      "text/plain": [
       "tensor([0.0915, 0.6718, 0.0358], grad_fn=<AddBackward0>)"
      ]
     },
     "execution_count": null,
     "metadata": {},
     "output_type": "execute_result"
    }
   ],
   "source": [
    "neural_tree(torch.tensor(x).float())"
   ]
  },
  {
   "cell_type": "code",
   "execution_count": null,
   "metadata": {},
   "outputs": [],
   "source": [
    "from cryptotree.tree import NeuralRandomForest\n",
    "\n",
    "tree_maker = SigmoidTreeMaker(dilatation_factor=dilatation_factor, polynomial_degree=degree, use_polynomial=True)\n",
    "\n",
    "neural_rf = NeuralRandomForest(rf.estimators_, tree_maker)"
   ]
  },
  {
   "cell_type": "code",
   "execution_count": null,
   "metadata": {},
   "outputs": [],
   "source": [
    "x = X_train[0]\n",
    "x = torch.tensor(x).float()\n",
    "x = x.unsqueeze(0)"
   ]
  },
  {
   "cell_type": "code",
   "execution_count": null,
   "metadata": {},
   "outputs": [],
   "source": [
    "neural_rf(x)"
   ]
  },
  {
   "cell_type": "code",
   "execution_count": null,
   "metadata": {},
   "outputs": [],
   "source": [
    "h_rf = HomomorphicNeuralRandomForest(neural_rf)\n",
    "\n",
    "tree_evaluator = HomomorphicTreeEvaluator.from_model(h_rf, tree_maker.coeffs, \n",
    "                                                   polyeval_tree, evaluator, encoder, relin_keys, galois_keys, \n",
    "                                                   scale)\n",
    "\n",
    "featurizer = HomomorphicTreeFeaturizer(h_rf.return_comparator(), encoder, encryptor, scale)\n",
    "\n",
    "x = X_train[0]\n",
    "ctx = featurizer.encrypt(x)\n",
    "\n",
    "outputs = tree_evaluator(ctx)\n",
    "\n",
    "for output in outputs:\n",
    "    ptx = Plaintext()\n",
    "    decryptor.decrypt(output, ptx)\n",
    "    \n",
    "    values = DoubleVector()\n",
    "    encoder.decode(ptx, values)\n",
    "    \n",
    "    output = sum(list(values))\n",
    "    print(output)"
   ]
  },
  {
   "cell_type": "code",
   "execution_count": null,
   "metadata": {},
   "outputs": [],
   "source": [
    "x = np.arange(16)\n",
    "ctx = featurizer.encrypt(x)"
   ]
  },
  {
   "cell_type": "code",
   "execution_count": null,
   "metadata": {},
   "outputs": [
    {
     "name": "stdout",
     "output_type": "stream",
     "text": [
      "0 : 3.0000016404868814\n",
      "1 : 1.9999958839850382\n",
      "2 : 2.9999994127167877\n",
      "3 : 1.0000004244528027\n",
      "4 : -1.14699563824594e-06\n",
      "5 : 2.000002310047675\n",
      "6 : 3.1227868845413394e-06\n",
      "7 : 8.855974365899294e-06\n"
     ]
    }
   ],
   "source": [
    "print_range_ctx(ctx, 8)"
   ]
  },
  {
   "cell_type": "code",
   "execution_count": null,
   "metadata": {},
   "outputs": [],
   "source": [
    "neural_trees = neural_rf.neural_trees[:2]\n",
    "homomorphic_trees = [HomomorphicDecisionTree(tree) for tree in neural_trees]\n",
    "\n",
    "B0, W1, B1, W2, B2 = [], [], [], [], []\n",
    "comparator = []\n",
    "\n",
    "for h in homomorphic_trees:\n",
    "    b0, w1, b1, w2, b2 = h.return_weights()\n",
    "    B0 += b0\n",
    "    W1.append(w1)\n",
    "    B1 += b1\n",
    "    W2.append(w2)\n",
    "    B2.append(b2)\n",
    "    comparator += list(h.return_comparator())\n",
    "    \n",
    "comparator = np.array(comparator)\n",
    "\n",
    "W1 = list(np.concatenate(W1, axis=-1))\n",
    "W2 = list(np.concatenate(W2, axis=-1))\n",
    "B2 = list(np.concatenate(B2, axis=-1))"
   ]
  },
  {
   "cell_type": "code",
   "execution_count": null,
   "metadata": {},
   "outputs": [
    {
     "data": {
      "text/plain": [
       "(3, 42)"
      ]
     },
     "execution_count": null,
     "metadata": {},
     "output_type": "execute_result"
    }
   ],
   "source": [
    "np.array(W2).shape"
   ]
  },
  {
   "cell_type": "code",
   "execution_count": null,
   "metadata": {},
   "outputs": [],
   "source": [
    "# export\n",
    "from fastcore.test import test_close\n",
    "\n",
    "def test_ciphertext(ctx_target: Ciphertext, ctxs: List[Ciphertext], distance: int):\n",
    "    \"\"\"Tests if the ctx target is equal to the other ciphertexts when shifted by the distance\"\"\"\n",
    "    \n",
    "    output = Ciphertext()\n",
    "    temp = Ciphertext()\n",
    "    \n",
    "    for i,ctx in enumerate(ctxs):\n",
    "        shift = -(i * distance)\n",
    "        evaluator.rotate_vector(ctx, shift, galois_keys, temp)\n",
    "        if i == 0:\n",
    "            evaluator.sub(ctx_target, temp, output)\n",
    "        else:\n",
    "            evaluator.sub_inplace(output, temp)\n",
    "    values = DoubleVector()\n",
    "    ptx = Plaintext()\n",
    "    \n",
    "    decryptor.decrypt(output, ptx)\n",
    "    encoder.decode(ptx, values)\n",
    "    return test_close(np.abs(np.mean(values)), 0)"
   ]
  },
  {
   "cell_type": "code",
   "execution_count": null,
   "metadata": {},
   "outputs": [],
   "source": [
    "x = X_train[0]\n",
    "\n",
    "distance = len(comparator) // len(neural_trees)\n",
    "\n",
    "# We create the different featurizer\n",
    "featurizer = HomomorphicTreeFeaturizer(comparator, encoder, encryptor, scale)\n",
    "f1 = HomomorphicTreeFeaturizer(htree1.return_comparator(), encoder, encryptor, scale)\n",
    "f2 = HomomorphicTreeFeaturizer(htree2.return_comparator(), encoder, encryptor, scale)\n",
    "\n",
    "ctx = featurizer.encrypt(x)\n",
    "ctx1 = f1.encrypt(x)\n",
    "ctx2 = f2.encrypt(x)\n",
    "\n",
    "test_ciphertext(ctx, [ctx1, ctx2], distance)"
   ]
  },
  {
   "cell_type": "code",
   "execution_count": null,
   "metadata": {},
   "outputs": [],
   "source": [
    "B0_ptx = to_ptx(B0)"
   ]
  },
  {
   "cell_type": "code",
   "execution_count": null,
   "metadata": {},
   "outputs": [],
   "source": [
    "output = Ciphertext()\n",
    "evaluator.add_plain(ctx, B0_ptx, output)"
   ]
  },
  {
   "cell_type": "code",
   "execution_count": null,
   "metadata": {},
   "outputs": [],
   "source": [
    "b01 = to_ptx(htree1.b0)\n",
    "b02 = to_ptx(htree2.b0)\n",
    "\n",
    "output1 = Ciphertext()\n",
    "output2 = Ciphertext()\n",
    "\n",
    "evaluator.add_plain(ctx1, b01, output1)\n",
    "evaluator.add_plain(ctx2, b02, output2)"
   ]
  },
  {
   "cell_type": "code",
   "execution_count": null,
   "metadata": {},
   "outputs": [],
   "source": [
    "test_ciphertext(output, [output1, output2], distance)"
   ]
  },
  {
   "cell_type": "code",
   "execution_count": null,
   "metadata": {},
   "outputs": [],
   "source": [
    "def to_ptx(values):\n",
    "    ptx = Plaintext()\n",
    "    encoder.encode(DoubleVector(list(values)), scale, ptx)\n",
    "    return ptx"
   ]
  },
  {
   "cell_type": "code",
   "execution_count": null,
   "metadata": {},
   "outputs": [],
   "source": [
    "output = Ciphertext()\n",
    "evaluator.add_plain(ctx, )"
   ]
  },
  {
   "cell_type": "code",
   "execution_count": null,
   "metadata": {},
   "outputs": [
    {
     "data": {
      "text/plain": [
       "True"
      ]
     },
     "execution_count": null,
     "metadata": {},
     "output_type": "execute_result"
    }
   ],
   "source": []
  },
  {
   "cell_type": "code",
   "execution_count": null,
   "metadata": {},
   "outputs": [],
   "source": [
    "\n",
    "\n",
    "output = Ciphertext()\n",
    "evaluator.sub(ctx, ctx1, temp)\n",
    "evaluator.rotate_vector(ctx2, -shift, galois_keys)\n",
    "evaluator.sub_inplace(temp, ctx2)"
   ]
  },
  {
   "cell_type": "code",
   "execution_count": null,
   "metadata": {},
   "outputs": [],
   "source": [
    "from fastcore.test import is_close, test_eq"
   ]
  },
  {
   "cell_type": "code",
   "execution_count": null,
   "metadata": {},
   "outputs": [
    {
     "data": {
      "text/plain": [
       "True"
      ]
     },
     "execution_count": null,
     "metadata": {},
     "output_type": "execute_result"
    }
   ],
   "source": [
    "values = DoubleVector()\n",
    "ptx = Plaintext()\n",
    "decryptor.decrypt(temp, ptx)\n",
    "encoder.decode(ptx, values)\n",
    "\n",
    "is_close(np.abs(np.mean(values)), 0)"
   ]
  },
  {
   "cell_type": "code",
   "execution_count": null,
   "metadata": {},
   "outputs": [],
   "source": [
    "evaluator.rotate_vector_inplace(ctx2, -21, galois_keys)"
   ]
  },
  {
   "cell_type": "code",
   "execution_count": null,
   "metadata": {},
   "outputs": [],
   "source": [
    "from cryptotree.tree import NeuralRandomForest\n",
    "\n",
    "tree_maker = SigmoidTreeMaker(dilatation_factor=dilatation_factor, polynomial_degree=degree, use_polynomial=True)\n",
    "\n",
    "neural_rf = NeuralRandomForest(rf.estimators_, tree_maker)"
   ]
  },
  {
   "cell_type": "code",
   "execution_count": null,
   "metadata": {},
   "outputs": [],
   "source": [
    "htree = HomomorphicDecisionTree(neural_rf.neural_trees[0])\n",
    "tree_evaluator = HomomorphicTreeEvaluator.from_tree(neural_rf.neural_trees[0], \n",
    "                                                    tree_maker.coeffs, polyeval_tree, \n",
    "                                                    evaluator, encoder, relin_keys, galois_keys, scale)\n",
    "featurizer = HomomorphicTreeFeaturizer(htree.return_comparator(), encoder, encryptor, scale)\n",
    "\n",
    "i = 0\n",
    "x = X_train[i]\n",
    "\n",
    "ctx = featurizer.encrypt(X_train[i])"
   ]
  },
  {
   "cell_type": "code",
   "execution_count": null,
   "metadata": {},
   "outputs": [
    {
     "ename": "NameError",
     "evalue": "name 'return_comparator' is not defined",
     "output_type": "error",
     "traceback": [
      "\u001b[0;31m---------------------------------------------------------------------------\u001b[0m",
      "\u001b[0;31mNameError\u001b[0m                                 Traceback (most recent call last)",
      "\u001b[0;32m<ipython-input-113-b44e06b114a1>\u001b[0m in \u001b[0;36m<module>\u001b[0;34m\u001b[0m\n\u001b[0;32m----> 1\u001b[0;31m \u001b[0mcomparator\u001b[0m \u001b[0;34m=\u001b[0m \u001b[0mreturn_comparator\u001b[0m\u001b[0;34m(\u001b[0m\u001b[0mhtrees\u001b[0m\u001b[0;34m)\u001b[0m\u001b[0;34m\u001b[0m\u001b[0;34m\u001b[0m\u001b[0m\n\u001b[0m\u001b[1;32m      2\u001b[0m \u001b[0mfeaturizer\u001b[0m \u001b[0;34m=\u001b[0m \u001b[0mHomomorphicTreeFeaturizer\u001b[0m\u001b[0;34m(\u001b[0m\u001b[0mcomparator\u001b[0m\u001b[0;34m,\u001b[0m \u001b[0mencoder\u001b[0m\u001b[0;34m,\u001b[0m \u001b[0mencryptor\u001b[0m\u001b[0;34m,\u001b[0m \u001b[0mscale\u001b[0m\u001b[0;34m)\u001b[0m\u001b[0;34m\u001b[0m\u001b[0;34m\u001b[0m\u001b[0m\n\u001b[1;32m      3\u001b[0m \u001b[0;34m\u001b[0m\u001b[0m\n\u001b[1;32m      4\u001b[0m \u001b[0mi\u001b[0m \u001b[0;34m=\u001b[0m \u001b[0;36m0\u001b[0m\u001b[0;34m\u001b[0m\u001b[0;34m\u001b[0m\u001b[0m\n\u001b[1;32m      5\u001b[0m \u001b[0mx\u001b[0m \u001b[0;34m=\u001b[0m \u001b[0mX_train\u001b[0m\u001b[0;34m[\u001b[0m\u001b[0mi\u001b[0m\u001b[0;34m]\u001b[0m\u001b[0;34m\u001b[0m\u001b[0;34m\u001b[0m\u001b[0m\n",
      "\u001b[0;31mNameError\u001b[0m: name 'return_comparator' is not defined"
     ]
    }
   ],
   "source": [
    "comparator = return_comparator(htrees)\n",
    "featurizer = HomomorphicTreeFeaturizer(comparator, encoder, encryptor, scale)\n",
    "\n",
    "i = 0\n",
    "x = X_train[i]\n",
    "\n",
    "ctx = featurizer.encrypt(X_train[i])"
   ]
  },
  {
   "cell_type": "code",
   "execution_count": null,
   "metadata": {},
   "outputs": [
    {
     "ename": "RuntimeError",
     "evalue": "result ciphertext is transparent",
     "output_type": "error",
     "traceback": [
      "\u001b[0;31m---------------------------------------------------------------------------\u001b[0m",
      "\u001b[0;31mRuntimeError\u001b[0m                              Traceback (most recent call last)",
      "\u001b[0;32m<ipython-input-123-5be0b24e1cb8>\u001b[0m in \u001b[0;36m<module>\u001b[0;34m\u001b[0m\n\u001b[0;32m----> 1\u001b[0;31m \u001b[0moutputs\u001b[0m \u001b[0;34m=\u001b[0m \u001b[0mtree_evaluator\u001b[0m\u001b[0;34m(\u001b[0m\u001b[0mctx\u001b[0m\u001b[0;34m)\u001b[0m\u001b[0;34m\u001b[0m\u001b[0;34m\u001b[0m\u001b[0m\n\u001b[0m\u001b[1;32m      2\u001b[0m \u001b[0;34m\u001b[0m\u001b[0m\n\u001b[1;32m      3\u001b[0m \u001b[0;32mfor\u001b[0m \u001b[0moutput\u001b[0m \u001b[0;32min\u001b[0m \u001b[0moutputs\u001b[0m\u001b[0;34m:\u001b[0m\u001b[0;34m\u001b[0m\u001b[0;34m\u001b[0m\u001b[0m\n\u001b[1;32m      4\u001b[0m     \u001b[0mptx\u001b[0m \u001b[0;34m=\u001b[0m \u001b[0mPlaintext\u001b[0m\u001b[0;34m(\u001b[0m\u001b[0;34m)\u001b[0m\u001b[0;34m\u001b[0m\u001b[0;34m\u001b[0m\u001b[0m\n\u001b[1;32m      5\u001b[0m     \u001b[0mdecryptor\u001b[0m\u001b[0;34m.\u001b[0m\u001b[0mdecrypt\u001b[0m\u001b[0;34m(\u001b[0m\u001b[0moutput\u001b[0m\u001b[0;34m,\u001b[0m \u001b[0mptx\u001b[0m\u001b[0;34m)\u001b[0m\u001b[0;34m\u001b[0m\u001b[0;34m\u001b[0m\u001b[0m\n",
      "\u001b[0;32m<ipython-input-120-33c69d544d6d>\u001b[0m in \u001b[0;36m__call__\u001b[0;34m(self, ctx)\u001b[0m\n\u001b[1;32m     39\u001b[0m         \u001b[0;31m# First we add the first bias to do the comparisons\u001b[0m\u001b[0;34m\u001b[0m\u001b[0;34m\u001b[0m\u001b[0;34m\u001b[0m\u001b[0m\n\u001b[1;32m     40\u001b[0m         \u001b[0mctx\u001b[0m \u001b[0;34m=\u001b[0m \u001b[0mself\u001b[0m\u001b[0;34m.\u001b[0m\u001b[0mcompare\u001b[0m\u001b[0;34m(\u001b[0m\u001b[0mctx\u001b[0m\u001b[0;34m)\u001b[0m\u001b[0;34m\u001b[0m\u001b[0;34m\u001b[0m\u001b[0m\n\u001b[0;32m---> 41\u001b[0;31m         \u001b[0mctx\u001b[0m \u001b[0;34m=\u001b[0m \u001b[0mself\u001b[0m\u001b[0;34m.\u001b[0m\u001b[0mmatch\u001b[0m\u001b[0;34m(\u001b[0m\u001b[0mctx\u001b[0m\u001b[0;34m)\u001b[0m\u001b[0;34m\u001b[0m\u001b[0;34m\u001b[0m\u001b[0m\n\u001b[0m\u001b[1;32m     42\u001b[0m         \u001b[0moutputs\u001b[0m \u001b[0;34m=\u001b[0m \u001b[0mself\u001b[0m\u001b[0;34m.\u001b[0m\u001b[0mdecide\u001b[0m\u001b[0;34m(\u001b[0m\u001b[0mctx\u001b[0m\u001b[0;34m)\u001b[0m\u001b[0;34m\u001b[0m\u001b[0;34m\u001b[0m\u001b[0m\n\u001b[1;32m     43\u001b[0m \u001b[0;34m\u001b[0m\u001b[0m\n",
      "\u001b[0;32m<ipython-input-120-33c69d544d6d>\u001b[0m in \u001b[0;36mmatch\u001b[0;34m(self, ctx)\u001b[0m\n\u001b[1;32m     51\u001b[0m \u001b[0;34m\u001b[0m\u001b[0m\n\u001b[1;32m     52\u001b[0m     \u001b[0;32mdef\u001b[0m \u001b[0mmatch\u001b[0m\u001b[0;34m(\u001b[0m\u001b[0mself\u001b[0m\u001b[0;34m,\u001b[0m \u001b[0mctx\u001b[0m\u001b[0;34m:\u001b[0m \u001b[0mCiphertext\u001b[0m\u001b[0;34m)\u001b[0m\u001b[0;34m:\u001b[0m\u001b[0;34m\u001b[0m\u001b[0;34m\u001b[0m\u001b[0m\n\u001b[0;32m---> 53\u001b[0;31m         \u001b[0moutput\u001b[0m \u001b[0;34m=\u001b[0m \u001b[0mmatrix_multiply_diagonals\u001b[0m\u001b[0;34m(\u001b[0m\u001b[0mself\u001b[0m\u001b[0;34m.\u001b[0m\u001b[0mw1_ptx\u001b[0m\u001b[0;34m,\u001b[0m \u001b[0mctx\u001b[0m\u001b[0;34m,\u001b[0m \u001b[0mself\u001b[0m\u001b[0;34m.\u001b[0m\u001b[0mevaluator\u001b[0m\u001b[0;34m,\u001b[0m \u001b[0mself\u001b[0m\u001b[0;34m.\u001b[0m\u001b[0mgalois_keys\u001b[0m\u001b[0;34m)\u001b[0m\u001b[0;34m\u001b[0m\u001b[0;34m\u001b[0m\u001b[0m\n\u001b[0m\u001b[1;32m     54\u001b[0m \u001b[0;34m\u001b[0m\u001b[0m\n\u001b[1;32m     55\u001b[0m         \u001b[0mself\u001b[0m\u001b[0;34m.\u001b[0m\u001b[0mevaluator\u001b[0m\u001b[0;34m.\u001b[0m\u001b[0mmod_switch_to_inplace\u001b[0m\u001b[0;34m(\u001b[0m\u001b[0mself\u001b[0m\u001b[0;34m.\u001b[0m\u001b[0mb1_ptx\u001b[0m\u001b[0;34m,\u001b[0m \u001b[0moutput\u001b[0m\u001b[0;34m.\u001b[0m\u001b[0mparms_id\u001b[0m\u001b[0;34m(\u001b[0m\u001b[0;34m)\u001b[0m\u001b[0;34m)\u001b[0m\u001b[0;34m\u001b[0m\u001b[0;34m\u001b[0m\u001b[0m\n",
      "\u001b[0;32m~/cryptotree/cryptotree/linear.py\u001b[0m in \u001b[0;36mmatrix_multiply_diagonals\u001b[0;34m(diagonals, ctx, evaluator, galois_keys)\u001b[0m\n\u001b[1;32m     63\u001b[0m \u001b[0;34m\u001b[0m\u001b[0m\n\u001b[1;32m     64\u001b[0m         \u001b[0mevaluator\u001b[0m\u001b[0;34m.\u001b[0m\u001b[0mmod_switch_to_inplace\u001b[0m\u001b[0;34m(\u001b[0m\u001b[0mdiagonal\u001b[0m\u001b[0;34m,\u001b[0m \u001b[0mtemp\u001b[0m\u001b[0;34m.\u001b[0m\u001b[0mparms_id\u001b[0m\u001b[0;34m(\u001b[0m\u001b[0;34m)\u001b[0m\u001b[0;34m)\u001b[0m\u001b[0;34m\u001b[0m\u001b[0;34m\u001b[0m\u001b[0m\n\u001b[0;32m---> 65\u001b[0;31m         \u001b[0mevaluator\u001b[0m\u001b[0;34m.\u001b[0m\u001b[0mmultiply_plain_inplace\u001b[0m\u001b[0;34m(\u001b[0m\u001b[0mtemp\u001b[0m\u001b[0;34m,\u001b[0m \u001b[0mdiagonal\u001b[0m\u001b[0;34m)\u001b[0m\u001b[0;34m\u001b[0m\u001b[0;34m\u001b[0m\u001b[0m\n\u001b[0m\u001b[1;32m     66\u001b[0m         \u001b[0mevaluator\u001b[0m\u001b[0;34m.\u001b[0m\u001b[0mrescale_to_next_inplace\u001b[0m\u001b[0;34m(\u001b[0m\u001b[0mtemp\u001b[0m\u001b[0;34m)\u001b[0m\u001b[0;34m\u001b[0m\u001b[0;34m\u001b[0m\u001b[0m\n\u001b[1;32m     67\u001b[0m \u001b[0;34m\u001b[0m\u001b[0m\n",
      "\u001b[0;31mRuntimeError\u001b[0m: result ciphertext is transparent"
     ]
    }
   ],
   "source": [
    "outputs = tree_evaluator(ctx)\n",
    "\n",
    "for output in outputs:\n",
    "    ptx = Plaintext()\n",
    "    decryptor.decrypt(output, ptx)\n",
    "    \n",
    "    values = DoubleVector()\n",
    "    encoder.decode(ptx, values)\n",
    "    \n",
    "    output = sum(list(values))\n",
    "    print(output)\n",
    "    \n",
    "with torch.no_grad():\n",
    "    x = X_train[i]\n",
    "    expected_output = tree.comparator(torch.tensor(x).float())\n",
    "    expected_activation = tree.activation(expected_output)\n",
    "    expected_z1 = tree.matcher(expected_activation)\n",
    "    expected_activation1 = tree.activation(expected_z1)\n",
    "\n",
    "tree.head(expected_activation1)"
   ]
  },
  {
   "cell_type": "code",
   "execution_count": null,
   "metadata": {},
   "outputs": [
    {
     "name": "stdout",
     "output_type": "stream",
     "text": [
      "Expected value : 1.003414273262024, real value : 1.003414339758932\n",
      "Expected value : 0.17561917006969452, real value : 0.17561912736812443\n",
      "Expected value : 0.2473641335964203, real value : 0.2473641970353432\n",
      "Expected value : 0.3680550754070282, real value : 0.368055114730459\n",
      "Expected value : 0.038348451256752014, real value : 0.038348424935052416\n",
      "Expected value : 0.06468749046325684, real value : 0.06468743037114652\n"
     ]
    }
   ],
   "source": [
    "activation = tree_evaluator.compare(ctx)\n",
    "\n",
    "with torch.no_grad():\n",
    "    x = X_train[i]\n",
    "    expected_output = tree.comparator(torch.tensor(x).float())\n",
    "    expected_activation = tree.activation(expected_output)\n",
    "\n",
    "def print_comparison(expected_output: torch.tensor, output: Ciphertext):\n",
    "    for i, value in enumerate(expected_output.view(-1,1)):\n",
    "        print(f\"Expected value : {value.item()}, real value : {ctx_value(output,i)}\")\n",
    "        \n",
    "print_comparison(expected_activation,activation)"
   ]
  },
  {
   "cell_type": "code",
   "execution_count": null,
   "metadata": {},
   "outputs": [
    {
     "name": "stdout",
     "output_type": "stream",
     "text": [
      "Expected value : 0.24583998322486877, real value : 0.24583996976655587\n",
      "Expected value : 0.5430112481117249, real value : 0.543011231603536\n",
      "Expected value : 0.13242687284946442, real value : 0.1324269443717729\n",
      "Expected value : 0.05972161889076233, real value : 0.059721653811459496\n",
      "Expected value : 0.3132869303226471, real value : 0.31328694712229244\n",
      "Expected value : 0.013727903366088867, real value : 0.013727909255017323\n",
      "Expected value : 0.0042535364627838135, real value : 0.0042535198961835\n"
     ]
    }
   ],
   "source": [
    "expected_z1 = tree.matcher(expected_activation)\n",
    "expected_activation1 = tree.activation(expected_z1)\n",
    "\n",
    "activation1 = tree_evaluator.match(activation)\n",
    "print_comparison(expected_activation1, activation1)"
   ]
  },
  {
   "cell_type": "code",
   "execution_count": null,
   "metadata": {},
   "outputs": [
    {
     "name": "stdout",
     "output_type": "stream",
     "text": [
      "Expected value : 1.003414273262024, real value : 1.0034143492655687\n",
      "Expected value : 0.17561917006969452, real value : 0.17561913080749808\n",
      "Expected value : 0.2473641335964203, real value : 0.24736420766782413\n",
      "Expected value : 0.3680550754070282, real value : 0.3680551012469389\n",
      "Expected value : 0.038348451256752014, real value : 0.038348434757127986\n",
      "Expected value : 0.06468749046325684, real value : 0.06468745118821684\n",
      "Expected value : 0.24583998322486877, real value : 0.24583996976655587\n",
      "Expected value : 0.5430112481117249, real value : 0.543011231603536\n",
      "Expected value : 0.13242687284946442, real value : 0.1324269443717729\n",
      "Expected value : 0.05972161889076233, real value : 0.059721653811459496\n",
      "Expected value : 0.3132869303226471, real value : 0.31328694712229244\n",
      "Expected value : 0.013727903366088867, real value : 0.013727909255017323\n",
      "Expected value : 0.0042535364627838135, real value : 0.0042535198961835\n",
      "-0.06642822816502385\n",
      "0.1774497263832028\n",
      "-0.09325138102576604\n"
     ]
    },
    {
     "data": {
      "text/plain": [
       "tensor([-0.0664,  0.1774, -0.0933], grad_fn=<AddBackward0>)"
      ]
     },
     "execution_count": null,
     "metadata": {},
     "output_type": "execute_result"
    }
   ],
   "source": [
    "activation = tree_evaluator.compare(ctx)\n",
    "print_comparison(expected_activation, activation)\n",
    "activation1 = tree_evaluator.match(activation)\n",
    "print_comparison(expected_activation1, activation1)\n",
    "outputs = tree_evaluator.decide(activation1)\n",
    "\n",
    "for output in outputs:\n",
    "    ptx = Plaintext()\n",
    "    decryptor.decrypt(output, ptx)\n",
    "    \n",
    "    values = DoubleVector()\n",
    "    encoder.decode(ptx, values)\n",
    "    \n",
    "    output = sum(list(values))\n",
    "    print(output)\n",
    "    \n",
    "tree.head(expected_activation1)"
   ]
  },
  {
   "cell_type": "code",
   "execution_count": null,
   "metadata": {},
   "outputs": [
    {
     "name": "stdout",
     "output_type": "stream",
     "text": [
      "0.32487582422618266\n",
      "0.272924422199138\n",
      "-0.13027203940146034\n"
     ]
    }
   ],
   "source": [
    "activation = tree_evaluator.compare(ctx)\n",
    "activation1 = tree_evaluator.match(activation)\n",
    "outputs = tree_evaluator.decide(activation1)\n",
    "\n",
    "for output in outputs:\n",
    "    ptx = Plaintext()\n",
    "    decryptor.decrypt(output, ptx)\n",
    "    \n",
    "    values = DoubleVector()\n",
    "    encoder.decode(ptx, values)\n",
    "    \n",
    "    output = sum(list(values))\n",
    "    print(output)"
   ]
  },
  {
   "cell_type": "code",
   "execution_count": null,
   "metadata": {},
   "outputs": [
    {
     "name": "stdout",
     "output_type": "stream",
     "text": [
      "0.03729203950206293\n",
      "0.24896383547456827\n",
      "-0.15045334061142052\n"
     ]
    }
   ],
   "source": [
    "for output in outputs:\n",
    "    ptx = Plaintext()\n",
    "    decryptor.decrypt(output, ptx)\n",
    "    \n",
    "    values = DoubleVector()\n",
    "    encoder.decode(ptx, values)\n",
    "    \n",
    "    output = sum(list(values))\n",
    "    print(output)"
   ]
  },
  {
   "cell_type": "code",
   "execution_count": null,
   "metadata": {},
   "outputs": [
    {
     "data": {
      "text/plain": [
       "2"
      ]
     },
     "execution_count": null,
     "metadata": {},
     "output_type": "execute_result"
    }
   ],
   "source": [
    "ctx.size()"
   ]
  }
 ],
 "metadata": {
  "kernelspec": {
   "display_name": "Python 3",
   "language": "python",
   "name": "python3"
  }
 },
 "nbformat": 4,
 "nbformat_minor": 4
}

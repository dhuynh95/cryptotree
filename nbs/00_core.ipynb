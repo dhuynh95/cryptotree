{
 "cells": [
  {
   "cell_type": "code",
   "execution_count": null,
   "metadata": {},
   "outputs": [],
   "source": [
    "# default_exp core"
   ]
  },
  {
   "cell_type": "markdown",
   "metadata": {},
   "source": [
    "# module name here\n",
    "\n",
    "> API details."
   ]
  },
  {
   "cell_type": "code",
   "execution_count": null,
   "metadata": {},
   "outputs": [],
   "source": [
    "#hide\n",
    "from nbdev.showdoc import *"
   ]
  },
  {
   "cell_type": "code",
   "execution_count": null,
   "metadata": {},
   "outputs": [],
   "source": [
    "# export\n",
    "import numpy as np\n",
    "from typing import List\n",
    "import torch.nn as nn\n",
    "import torch\n",
    "from sklearn.tree import BaseDecisionTree\n",
    "from functools import partial\n",
    "from numpy.polynomial.chebyshev import Chebyshev\n",
    "import matplotlib.pyplot as plt\n",
    "\n",
    "def shift_bit_eps(bit: int, eps: float = 0.5):\n",
    "    assert bit in [0,1], \"Bit must be 0 or 1\"\n",
    "    return (2 * eps - 1) * bit + 1 - eps\n",
    "\n",
    "def create_base_vectors(circuit: List[int], eps: float = 0.5):\n",
    "    vectors = []\n",
    "    n = len(circuit)\n",
    "    \n",
    "    for i in range(n):\n",
    "        vector = list(circuit).copy()\n",
    "        vector[i] = shift_bit_eps(vector[i], eps=eps)\n",
    "        vectors.append(vector)\n",
    "        \n",
    "    return vectors\n",
    "\n",
    "def create_linear_system(vectors: List[List[float]]):\n",
    "    X = np.array(vectors)\n",
    "\n",
    "    y = -X[:,-1]\n",
    "\n",
    "    X[:,-1] = 1\n",
    "    \n",
    "    return X,y\n",
    "\n",
    "class BitComparison(nn.Module):\n",
    "    def __init__(self,target: List[int], eps : float = 0.5):\n",
    "        super(BitComparison, self).__init__()\n",
    "                \n",
    "        vectors = create_base_vectors(target, eps=eps)\n",
    "        X,y = create_linear_system(vectors)\n",
    "        W = np.linalg.solve(X,y)\n",
    "        w = W[:-1]\n",
    "        w = np.concatenate([w,np.ones(1)])\n",
    "        c = W[-1]\n",
    "        \n",
    "        if not target[-1]:\n",
    "            w = -w\n",
    "            c = -c\n",
    "            \n",
    "        n = len(target)\n",
    "        self.n = n\n",
    "        self.linear = nn.Linear(n,1)\n",
    "        \n",
    "        self.linear.weight.data = torch.tensor(w.reshape(1,-1)).float()\n",
    "        self.linear.bias.data = torch.tensor(c).unsqueeze(0).float()\n",
    "        \n",
    "    def forward(self,x):\n",
    "        return self.linear(x)\n",
    "        \n",
    "    def __repr__(self):\n",
    "        output = \"\"\n",
    "        for i in range(self.n):\n",
    "            if i < self.n - 1:\n",
    "                output += f\"{self.linear.weight.data[0][i]}*x_{i} + \"\n",
    "            else:\n",
    "                output += f\"{self.linear.weight.data[0][i]}*y + \"\n",
    "        output += f\"{self.linear.bias.data[0]} = 0\"\n",
    "        return output"
   ]
  },
  {
   "cell_type": "code",
   "execution_count": null,
   "metadata": {},
   "outputs": [],
   "source": [
    "\n",
    "import itertools\n",
    "\n",
    "def create_test_cases_x(n):\n",
    "    products = [[0,1]] * n\n",
    "\n",
    "    x = list(itertools.product(*products))\n",
    "    x = np.array(x)\n",
    "    \n",
    "    return x\n",
    "\n",
    "def create_test_cases_y(x,target):\n",
    "    y = ((x == target).sum(axis=1) == n).astype(int)\n",
    "    return y"
   ]
  },
  {
   "cell_type": "code",
   "execution_count": null,
   "metadata": {},
   "outputs": [],
   "source": [
    "eps = 0.25\n",
    "n = 7\n",
    "\n",
    "x = create_test_cases_x(n)\n",
    "\n",
    "for target in x:\n",
    "    y = create_test_cases_y(x,target)\n",
    "    y = torch.tensor(y)\n",
    "    \n",
    "    bitcomparison = BitComparison(target, eps=eps)\n",
    "    accuracy = (y == (bitcomparison.linear(torch.tensor(x).float()) > 0).view(-1)).float().mean().item()\n",
    "    \n",
    "    assert accuracy == 1, f\"Accuracy inferior to 1 {accuracy}\""
   ]
  },
  {
   "cell_type": "code",
   "execution_count": null,
   "metadata": {},
   "outputs": [
    {
     "name": "stdout",
     "output_type": "stream",
     "text": [
      "1.0*x_0 + 1.0*x_1 + 1.0*x_2 + 1.0*x_3 + 1.0*x_4 + 1.0*x_5 + 1.0*y + -6.25 = 0\n"
     ]
    }
   ],
   "source": [
    "print(bitcomparison)"
   ]
  },
  {
   "cell_type": "code",
   "execution_count": null,
   "metadata": {},
   "outputs": [],
   "source": [
    "# export\n",
    "from numpy.polynomial import Polynomial\n",
    "\n",
    "def chebyshev_approximation(f, dilatation_factor=50, polynomial_degree=25, bound=1, convertToTensor=True):\n",
    "    if convertToTensor:\n",
    "        f_a = lambda x: f(torch.tensor(x*dilatation_factor))\n",
    "    else:\n",
    "        f_a = lambda x: f(x*dilatation_factor)\n",
    "        \n",
    "    domain = [-bound,bound]\n",
    "\n",
    "    p = Chebyshev.interpolate(f_a,deg=polynomial_degree,domain=domain)\n",
    "    return p, f_a\n",
    "\n",
    "def polynomial_approximation_coefficients(f, dilatation_factor=50, polynomial_degree=25, \n",
    "                                          bound=1, convertToTensor=True):\n",
    "    p,_ = chebyshev_approximation(f, dilatation_factor, polynomial_degree, bound, convertToTensor)\n",
    "    \n",
    "    return Polynomial.cast(p).coef\n",
    "\n",
    "def plot_graph_function_approximation(f, dilatation_factor=50, polynomial_degree=25, bound=1, convertToTensor=True):\n",
    "    \n",
    "    p, f_a = chebyshev_approximation(f, dilatation_factor, polynomial_degree, bound, convertToTensor)\n",
    "    \n",
    "    x = np.linspace(*domain,100)\n",
    "    y = f_a(x)\n",
    "    pred = p(x)\n",
    "\n",
    "    fig, ax = plt.subplots()\n",
    "\n",
    "    # plot the function\n",
    "    ax.plot(x,y, 'g', label=\"Sigmoid\")\n",
    "    ax.plot(x,pred,\"b-\", label=f\"Polynomial approximation\")\n",
    "    ax.legend()\n",
    "\n",
    "    # show the plot\n",
    "    fig.suptitle(f\"Tchebytchev polynomials with expansion a={dilatation_factor} and degree n={polynomial_degree}\")\n",
    "    fig.show()\n",
    "    \n",
    "    return fig,ax"
   ]
  },
  {
   "cell_type": "code",
   "execution_count": null,
   "metadata": {},
   "outputs": [
    {
     "data": {
      "text/plain": [
       "0.5000000000000127"
      ]
     },
     "execution_count": null,
     "metadata": {},
     "output_type": "execute_result"
    }
   ],
   "source": [
    "polynomial_approximation_coefficients(torch.sigmoid, dilatation_factor=125, polynomial_degree=2**7)[0]"
   ]
  },
  {
   "cell_type": "code",
   "execution_count": null,
   "metadata": {},
   "outputs": [],
   "source": []
  },
  {
   "cell_type": "code",
   "execution_count": null,
   "metadata": {},
   "outputs": [],
   "source": [
    "p,_ = chebyshev_approximation(torch.sigmoid, dilatation_factor=5, polynomial_degree=5)"
   ]
  },
  {
   "cell_type": "code",
   "execution_count": null,
   "metadata": {},
   "outputs": [
    {
     "data": {
      "text/plain": [
       "array([ 5.00000000e-01,  1.19223237e+00,  2.66453526e-15, -1.41814557e+00,\n",
       "       -2.96059473e-15,  7.35598437e-01])"
      ]
     },
     "execution_count": null,
     "metadata": {},
     "output_type": "execute_result"
    }
   ],
   "source": [
    "Polynomial.cast(p).coef"
   ]
  },
  {
   "cell_type": "code",
   "execution_count": null,
   "metadata": {},
   "outputs": [],
   "source": [
    "chebyshev_approximation()"
   ]
  },
  {
   "cell_type": "code",
   "execution_count": null,
   "metadata": {},
   "outputs": [
    {
     "name": "stderr",
     "output_type": "stream",
     "text": [
      "C:\\Users\\Daniel\\Anaconda3\\envs\\emd\\lib\\site-packages\\ipykernel_launcher.py:30: UserWarning: Matplotlib is currently using module://ipykernel.pylab.backend_inline, which is a non-GUI backend, so cannot show the figure.\n"
     ]
    },
    {
     "data": {
      "text/plain": [
       "(<Figure size 432x288 with 1 Axes>,\n",
       " <matplotlib.axes._subplots.AxesSubplot at 0x17496c39e88>)"
      ]
     },
     "execution_count": null,
     "metadata": {},
     "output_type": "execute_result"
    },
    {
     "data": {
      "image/png": "[encoded data removed]",
      "text/plain": [
       "<Figure size 432x288 with 1 Axes>"
      ]
     },
     "metadata": {
      "needs_background": "light"
     },
     "output_type": "display_data"
    }
   ],
   "source": [
    "plot_graph_function_approximation(torch.sigmoid,dilatation_factor=125,polynomial_degree=128)"
   ]
  },
  {
   "cell_type": "code",
   "execution_count": null,
   "metadata": {},
   "outputs": [
    {
     "data": {
      "text/plain": [
       "array([ 2.73285668e-17,  6.36471926e-01, -1.70803542e-17, -2.11763171e-01,\n",
       "       -5.12410627e-17,  1.26585314e-01,  3.75767793e-17, -8.99123960e-02,\n",
       "        8.36937357e-17,  6.94083850e-02, -1.70803542e-17, -5.62544929e-02,\n",
       "        0.00000000e+00,  4.70589665e-02, -4.78249918e-17, -4.02390407e-02,\n",
       "       -1.84467826e-16,  3.49568035e-02,  1.16146409e-16, -3.07271437e-02,\n",
       "        2.68161561e-16,  2.72497261e-02, -1.57139259e-16, -2.43286299e-02,\n",
       "       -1.02482125e-16,  2.18305592e-02, -1.70803542e-18, -1.96616255e-02,\n",
       "       -9.39419482e-17,  1.77537366e-02,  6.83214169e-17, -1.60562532e-02,\n",
       "        3.29650837e-16,  1.45306789e-02, -1.87883896e-16, -1.31471707e-02,\n",
       "       -1.12730338e-16,  1.18821798e-02,  1.70803542e-18, -1.07168183e-02,\n",
       "       -2.28876747e-16,  9.63570331e-03,  1.91299967e-16, -8.62612237e-03,\n",
       "        5.72191867e-16,  7.67742106e-03, -3.26234766e-16, -6.78054551e-03,\n",
       "       -5.17534733e-16,  5.92769576e-03,  1.16146409e-16, -5.11205898e-03,\n",
       "        1.48599082e-16,  4.32760119e-03,  2.18628534e-16, -3.56890198e-03,\n",
       "        4.06512431e-16,  2.83102119e-03, -6.10622664e-16, -2.10938931e-03,\n",
       "       -3.79183864e-16,  1.39971528e-03,  4.47932290e-16, -6.97906899e-04,\n",
       "        6.10622664e-17])"
      ]
     },
     "execution_count": null,
     "metadata": {},
     "output_type": "execute_result"
    }
   ],
   "source": [
    "p_sigmoid.coef"
   ]
  },
  {
   "cell_type": "code",
   "execution_count": null,
   "metadata": {},
   "outputs": [
    {
     "name": "stderr",
     "output_type": "stream",
     "text": [
      "C:\\Users\\Daniel\\Anaconda3\\envs\\emd\\lib\\site-packages\\ipykernel_launcher.py:36: UserWarning: Matplotlib is currently using module://ipykernel.pylab.backend_inline, which is a non-GUI backend, so cannot show the figure.\n"
     ]
    },
    {
     "data": {
      "image/png": "[encoded data removed]",
      "text/plain": [
       "<Figure size 1152x288 with 2 Axes>"
      ]
     },
     "metadata": {
      "needs_background": "light"
     },
     "output_type": "display_data"
    }
   ],
   "source": [
    "from numpy.polynomial.chebyshev import Chebyshev\n",
    "import matplotlib.pyplot as plt\n",
    "\n",
    "a = 125\n",
    "n = 2 ** 7\n",
    "A = 1\n",
    "domain = [-A,A]\n",
    "\n",
    "sigmoid_a = lambda x: torch.sigmoid(torch.tensor(x*a)) - 0.5\n",
    "p_sigmoid = Chebyshev.interpolate(sigmoid_a,deg=n,domain=domain)\n",
    "\n",
    "tanh_a = lambda x: torch.tanh(torch.tensor(x*a))\n",
    "p_tanh = Chebyshev.interpolate(tanh_a, deg=n, domain=domain)\n",
    "\n",
    "x = np.linspace(*domain,100)\n",
    "y1 = sigmoid_a(x)\n",
    "pred1 = p_sigmoid(x)\n",
    "\n",
    "y2 = tanh_a(x)\n",
    "pred2 = p_tanh(x)\n",
    "\n",
    "fig, (ax1, ax2) = plt.subplots(1,2, figsize=(16,4))\n",
    "\n",
    "# plot the function\n",
    "ax1.plot(x,y1, 'g', label=\"Sigmoid\")\n",
    "ax1.plot(x,pred1,\"b-\", label=f\"Polynomial approximation\")\n",
    "ax1.legend()\n",
    "\n",
    "# plot the function\n",
    "ax2.plot(x,y2, 'g', label=\"Tanh\")\n",
    "ax2.plot(x,pred2,\"b-\", label=f\"Polynomial approximation\")\n",
    "ax2.legend()\n",
    "\n",
    "# show the plot\n",
    "fig.suptitle(f\"Tchebytchev polynomials with expansion a={a} and degree n={n}\")\n",
    "fig.show()"
   ]
  },
  {
   "cell_type": "code",
   "execution_count": null,
   "metadata": {},
   "outputs": [
    {
     "name": "stderr",
     "output_type": "stream",
     "text": [
      "C:\\Users\\Daniel\\Anaconda3\\envs\\emd\\lib\\site-packages\\ipykernel_launcher.py:9: UserWarning: To copy construct from a tensor, it is recommended to use sourceTensor.clone().detach() or sourceTensor.clone().detach().requires_grad_(True), rather than torch.tensor(sourceTensor).\n",
      "  if __name__ == '__main__':\n",
      "C:\\Users\\Daniel\\Anaconda3\\envs\\emd\\lib\\site-packages\\ipykernel_launcher.py:12: UserWarning: To copy construct from a tensor, it is recommended to use sourceTensor.clone().detach() or sourceTensor.clone().detach().requires_grad_(True), rather than torch.tensor(sourceTensor).\n",
      "  if sys.path[0] == '':\n"
     ]
    },
    {
     "name": "stdout",
     "output_type": "stream",
     "text": [
      "Loss of sigmoid : 0.17564505338668823\n",
      "Loss of tanh : 1.752206563949585\n",
      "Mean derivative of sigmoid : 24.735008239746094\n",
      "Mean derivative of tanh : 56.3404426574707\n"
     ]
    },
    {
     "name": "stderr",
     "output_type": "stream",
     "text": [
      "C:\\Users\\Daniel\\Anaconda3\\envs\\emd\\lib\\site-packages\\numpy\\polynomial\\chebyshev.py:1156: RuntimeWarning: overflow encountered in double_scalars\n",
      "  return c0 + c1*x\n",
      "C:\\Users\\Daniel\\Anaconda3\\envs\\emd\\lib\\site-packages\\numpy\\polynomial\\chebyshev.py:1155: RuntimeWarning: overflow encountered in double_scalars\n",
      "  c1 = tmp + c1*x2\n"
     ]
    },
    {
     "name": "stdout",
     "output_type": "stream",
     "text": [
      "Saturation point of 0.9 for sigmoid : 157107 * 0.001\n",
      "Saturation point of 0.9 for tanh : 20 * 0.001\n"
     ]
    },
    {
     "name": "stderr",
     "output_type": "stream",
     "text": [
      "C:\\Users\\Daniel\\Anaconda3\\envs\\emd\\lib\\site-packages\\numpy\\polynomial\\chebyshev.py:1156: RuntimeWarning: invalid value encountered in double_scalars\n",
      "  return c0 + c1*x\n"
     ]
    }
   ],
   "source": [
    "eps = 0.005\n",
    "\n",
    "x = torch.linspace(-eps,eps,)\n",
    "delta_x = x[1] - x[0]\n",
    "\n",
    "l_sigmoid = torch.norm(p_sigmoid(x) - sigmoid_a(x))\n",
    "l_tanh = torch.norm(p_tanh(x) - tanh_a(x))\n",
    "\n",
    "print(f\"Loss of sigmoid : {l_sigmoid}\")\n",
    "print(f\"Loss of tanh : {l_tanh}\")\n",
    "\n",
    "a,b = len(x) // 2 - len(x) // 4, len(x) // 2 + len(x) // 4\n",
    "\n",
    "def derivative(f,x,i,delta_x):\n",
    "    output = (f(x[i+1]) - f(x[i])) / delta_x\n",
    "    return output\n",
    "\n",
    "derivatives_tanh = []\n",
    "derivatives_sigmoid = []\n",
    "\n",
    "for i in range(a,b):\n",
    "    derivatives_sigmoid.append(derivative(p_sigmoid,x,i,delta_x))\n",
    "    derivatives_tanh.append(derivative(p_tanh,x,i,delta_x))\n",
    "    \n",
    "print(f\"Mean derivative of sigmoid : {torch.tensor(derivatives_sigmoid).mean()}\")\n",
    "print(f\"Mean derivative of tanh : {torch.tensor(derivatives_tanh).mean()}\")\n",
    "\n",
    "saturation = 0.9\n",
    "precision = 1e-3\n",
    "\n",
    "i = 0\n",
    "while p_sigmoid(i * precision) <= saturation:\n",
    "    i += 1\n",
    "print(f\"Saturation point of {saturation} for sigmoid : {i} * {precision}\")\n",
    "\n",
    "i = 0\n",
    "while p_tanh(i * precision) <= saturation:\n",
    "    i += 1\n",
    "print(f\"Saturation point of {saturation} for tanh : {i} * {precision}\")"
   ]
  },
  {
   "cell_type": "code",
   "execution_count": null,
   "metadata": {},
   "outputs": [
    {
     "name": "stdout",
     "output_type": "stream",
     "text": [
      "The binary tree structure has 13 nodes and has the following tree structure:\n",
      "node=0 test node: go to node 1 if X[:, 3] <= 0.2916666641831398 else to node 2.\n",
      "\tnode=1 leaf node.\n",
      "\tnode=2 test node: go to node 3 if X[:, 2] <= 0.6637930870056152 else to node 8.\n",
      "\t\tnode=3 test node: go to node 4 if X[:, 3] <= 0.6458333432674408 else to node 5.\n",
      "\t\t\tnode=4 leaf node.\n",
      "\t\t\tnode=5 test node: go to node 6 if X[:, 1] <= 0.4583333283662796 else to node 7.\n",
      "\t\t\t\tnode=6 leaf node.\n",
      "\t\t\t\tnode=7 leaf node.\n",
      "\t\tnode=8 test node: go to node 9 if X[:, 3] <= 0.6875 else to node 12.\n",
      "\t\t\tnode=9 test node: go to node 10 if X[:, 3] <= 0.6458333432674408 else to node 11.\n",
      "\t\t\t\tnode=10 leaf node.\n",
      "\t\t\t\tnode=11 leaf node.\n",
      "\t\t\tnode=12 leaf node.\n",
      "\n"
     ]
    }
   ],
   "source": [
    "import numpy as np\n",
    "from sklearn.tree import DecisionTreeClassifier\n",
    "from sklearn.model_selection import train_test_split\n",
    "from sklearn.datasets import load_iris\n",
    "\n",
    "from sklearn.preprocessing import MinMaxScaler\n",
    "\n",
    "scaler = MinMaxScaler()\n",
    "\n",
    "iris = load_iris()\n",
    "X = iris.data\n",
    "y = iris.target\n",
    "X_train, X_test, y_train, y_test = train_test_split(X, y, random_state=0)\n",
    "X_train = scaler.fit_transform(X_train)\n",
    "\n",
    "estimator = DecisionTreeClassifier(max_depth=4, random_state=0)\n",
    "estimator.fit(X_train, y_train)\n",
    "\n",
    "n_nodes = estimator.tree_.node_count\n",
    "children_left = estimator.tree_.children_left\n",
    "children_right = estimator.tree_.children_right\n",
    "feature = estimator.tree_.feature\n",
    "threshold = estimator.tree_.threshold\n",
    "\n",
    "# The tree structure can be traversed to compute various properties such\n",
    "# as the depth of each node and whether or not it is a leaf.\n",
    "node_depth = np.zeros(shape=n_nodes, dtype=np.int64)\n",
    "is_leaves = np.zeros(shape=n_nodes, dtype=bool)\n",
    "stack = [(0, -1)]  # seed is the root node id and its parent depth\n",
    "while len(stack) > 0:\n",
    "    node_id, parent_depth = stack.pop()\n",
    "    node_depth[node_id] = parent_depth + 1\n",
    "\n",
    "    # If we have a test node\n",
    "    if (children_left[node_id] != children_right[node_id]):\n",
    "        stack.append((children_left[node_id], parent_depth + 1))\n",
    "        stack.append((children_right[node_id], parent_depth + 1))\n",
    "    else:\n",
    "        is_leaves[node_id] = True\n",
    "        \n",
    "print(\"The binary tree structure has %s nodes and has \"\n",
    "      \"the following tree structure:\"\n",
    "      % n_nodes)\n",
    "for i in range(n_nodes):\n",
    "    if is_leaves[i]:\n",
    "        print(\"%snode=%s leaf node.\" % (node_depth[i] * \"\\t\", i))\n",
    "    else:\n",
    "        print(\"%snode=%s test node: go to node %s if X[:, %s] <= %s else to \"\n",
    "              \"node %s.\"\n",
    "              % (node_depth[i] * \"\\t\",\n",
    "                 i,\n",
    "                 children_left[i],\n",
    "                 feature[i],\n",
    "                 threshold[i],\n",
    "                 children_right[i],\n",
    "                 ))\n",
    "print()"
   ]
  },
  {
   "cell_type": "code",
   "execution_count": null,
   "metadata": {},
   "outputs": [],
   "source": [
    "# export\n",
    "def compute_leaves(n_nodes, children_left, children_right):\n",
    "    # The tree structure can be traversed to compute various properties such\n",
    "    # as the depth of each node and whether or not it is a leaf.\n",
    "    node_depth = np.zeros(shape=n_nodes, dtype=np.int64)\n",
    "\n",
    "    is_leaves = np.zeros(shape=n_nodes, dtype=bool)\n",
    "    stack = [(0, -1)]  # seed is the root node id and its parent depth\n",
    "    while len(stack) > 0:\n",
    "        node_id, parent_depth = stack.pop()\n",
    "        node_depth[node_id] = parent_depth + 1\n",
    "\n",
    "        # If we have a test node\n",
    "        if (children_left[node_id] != children_right[node_id]):\n",
    "            stack.append((children_left[node_id], parent_depth + 1))\n",
    "            stack.append((children_right[node_id], parent_depth + 1))\n",
    "        else:\n",
    "            is_leaves[node_id] = True\n",
    "\n",
    "    return node_depth, is_leaves"
   ]
  },
  {
   "cell_type": "code",
   "execution_count": null,
   "metadata": {},
   "outputs": [],
   "source": [
    "# export\n",
    "def create_linear_node_comparator(tree: BaseDecisionTree) -> nn.Linear:\n",
    "    \n",
    "    n_nodes = tree.tree_.node_count\n",
    "    children_left = tree.tree_.children_left\n",
    "    children_right = tree.tree_.children_right\n",
    "    \n",
    "    feature = tree.tree_.feature\n",
    "    threshold = tree.tree_.threshold\n",
    "    \n",
    "    d = estimator.n_features_\n",
    "\n",
    "    node_depth, is_leaves = compute_leaves(n_nodes, children_left, children_right)\n",
    "    internal_nodes = [i for i,isLeaf in enumerate(is_leaves)if not isLeaf]\n",
    "\n",
    "    W = []\n",
    "    B = []\n",
    "\n",
    "    for node in internal_nodes:\n",
    "        w = np.zeros(d)\n",
    "        w[feature[node]] = 1\n",
    "\n",
    "        b = - threshold[node]\n",
    "        W.append(w)\n",
    "        B.append(b)\n",
    "\n",
    "    W = np.stack(W)\n",
    "    B = np.stack(B)\n",
    "\n",
    "    linear = nn.Linear(W.shape[1],W.shape[0])\n",
    "    linear.weight.data = torch.tensor(W).float()\n",
    "    linear.bias.data = torch.tensor(B).float()\n",
    "\n",
    "    return linear"
   ]
  },
  {
   "cell_type": "code",
   "execution_count": null,
   "metadata": {},
   "outputs": [
    {
     "data": {
      "text/plain": [
       "Linear(in_features=4, out_features=6, bias=True)"
      ]
     },
     "execution_count": null,
     "metadata": {},
     "output_type": "execute_result"
    }
   ],
   "source": [
    "create_linear_node_comparator(estimator)"
   ]
  },
  {
   "cell_type": "code",
   "execution_count": null,
   "metadata": {},
   "outputs": [
    {
     "data": {
      "text/plain": [
       "(Parameter containing:\n",
       " tensor([[0., 0., 0., 1.],\n",
       "         [0., 0., 1., 0.],\n",
       "         [0., 0., 0., 1.],\n",
       "         [0., 1., 0., 0.],\n",
       "         [0., 0., 0., 1.],\n",
       "         [0., 0., 0., 1.]], requires_grad=True), Parameter containing:\n",
       " tensor([-0.2917, -0.6638, -0.6458, -0.4583, -0.6875, -0.6458],\n",
       "        requires_grad=True))"
      ]
     },
     "execution_count": null,
     "metadata": {},
     "output_type": "execute_result"
    }
   ],
   "source": [
    "d = X.shape[1]\n",
    "\n",
    "linear = create_linear_node_comparator(estimator)\n",
    "\n",
    "linear.weight, linear.bias"
   ]
  },
  {
   "cell_type": "code",
   "execution_count": null,
   "metadata": {},
   "outputs": [],
   "source": [
    "# export\n",
    "def create_parent_of(n_nodes, is_leaves, children_left, children_right,left_value=0,right_value=1):\n",
    "    parentOf = {}\n",
    "\n",
    "    for i in range(n_nodes):\n",
    "        if not is_leaves[i]:\n",
    "            parentOf[children_left[i]] = (i,left_value)\n",
    "            parentOf[children_right[i]] = (i,right_value)\n",
    "    return parentOf"
   ]
  },
  {
   "cell_type": "code",
   "execution_count": null,
   "metadata": {},
   "outputs": [
    {
     "data": {
      "text/plain": [
       "{1: (0, 0),\n",
       " 2: (0, 1),\n",
       " 3: (2, 0),\n",
       " 8: (2, 1),\n",
       " 4: (3, 0),\n",
       " 5: (3, 1),\n",
       " 6: (5, 0),\n",
       " 7: (5, 1),\n",
       " 9: (8, 0),\n",
       " 12: (8, 1),\n",
       " 10: (9, 0),\n",
       " 11: (9, 1)}"
      ]
     },
     "execution_count": null,
     "metadata": {},
     "output_type": "execute_result"
    }
   ],
   "source": [
    "idx2nodes = [i for i,isLeaf in enumerate(is_leaves) if not isLeaf]\n",
    "nodes2idx = {node : i for i, node in enumerate(idx2nodes)}\n",
    "\n",
    "idx2leaves = [i for i,isLeaf in enumerate(is_leaves) if isLeaf]\n",
    "leaves2idx = { leaf : i for i,leaf in enumerate(idx2leaves)}\n",
    "\n",
    "parentOf = create_parent_of(n_nodes,is_leaves,children_left,children_right)\n",
    "parentOf"
   ]
  },
  {
   "cell_type": "code",
   "execution_count": null,
   "metadata": {},
   "outputs": [],
   "source": [
    "# export\n",
    "def create_leaf_to_path(n_nodes, is_leaves, children_left, children_right,left_value=0,right_value=1):\n",
    "    parentOf = create_parent_of(n_nodes, is_leaves, children_left, children_right,left_value,right_value)\n",
    "    leafToPath = []\n",
    "\n",
    "    for i,isLeaf in enumerate(is_leaves):\n",
    "        if isLeaf:\n",
    "            node = i\n",
    "            path = []\n",
    "\n",
    "            parent = parentOf[node]\n",
    "\n",
    "            while parent[0] != 0:\n",
    "                path.append(parent)\n",
    "                parent = parentOf[parent[0]]\n",
    "\n",
    "            path.append(parent)\n",
    "            leafToPath.append(path[::-1])\n",
    "            \n",
    "    return leafToPath"
   ]
  },
  {
   "cell_type": "code",
   "execution_count": null,
   "metadata": {},
   "outputs": [
    {
     "data": {
      "text/plain": [
       "[[(0, 0)],\n",
       " [(0, 1), (2, 0), (3, 0)],\n",
       " [(0, 1), (2, 0), (3, 1), (5, 0)],\n",
       " [(0, 1), (2, 0), (3, 1), (5, 1)],\n",
       " [(0, 1), (2, 1), (8, 0), (9, 0)],\n",
       " [(0, 1), (2, 1), (8, 0), (9, 1)],\n",
       " [(0, 1), (2, 1), (8, 1)]]"
      ]
     },
     "execution_count": null,
     "metadata": {},
     "output_type": "execute_result"
    }
   ],
   "source": [
    "leafToPath = create_leaf_to_path(n_nodes,is_leaves,children_left,children_right,left_value=0)\n",
    "leafToPath"
   ]
  },
  {
   "cell_type": "code",
   "execution_count": null,
   "metadata": {},
   "outputs": [
    {
     "data": {
      "text/plain": [
       "[(0, 1), (2, 0), (3, 0)]"
      ]
     },
     "execution_count": null,
     "metadata": {},
     "output_type": "execute_result"
    }
   ],
   "source": [
    "path = leafToPath[1]\n",
    "path"
   ]
  },
  {
   "cell_type": "code",
   "execution_count": null,
   "metadata": {},
   "outputs": [
    {
     "data": {
      "text/plain": [
       "[(0, 1), (2, 0), (3, 0)]"
      ]
     },
     "execution_count": null,
     "metadata": {},
     "output_type": "execute_result"
    }
   ],
   "source": [
    "path"
   ]
  },
  {
   "cell_type": "code",
   "execution_count": null,
   "metadata": {},
   "outputs": [
    {
     "data": {
      "text/plain": [
       "[(0, 1), (2, 0), (3, 0)]"
      ]
     },
     "execution_count": null,
     "metadata": {},
     "output_type": "execute_result"
    }
   ],
   "source": [
    "leafToPath = create_leaf_to_path(n_nodes,is_leaves,children_left,children_right)\n",
    "path = leafToPath[1]\n",
    "path"
   ]
  },
  {
   "cell_type": "code",
   "execution_count": null,
   "metadata": {},
   "outputs": [
    {
     "data": {
      "text/plain": [
       "[1, 0, 0]"
      ]
     },
     "execution_count": null,
     "metadata": {},
     "output_type": "execute_result"
    }
   ],
   "source": [
    "bits = [v for k,v in path]\n",
    "bits"
   ]
  },
  {
   "cell_type": "code",
   "execution_count": null,
   "metadata": {},
   "outputs": [
    {
     "data": {
      "text/plain": [
       "{1: 0, 4: 1, 6: 2, 7: 3, 10: 4, 11: 5, 12: 6}"
      ]
     },
     "execution_count": null,
     "metadata": {},
     "output_type": "execute_result"
    }
   ],
   "source": [
    "leaves2idx"
   ]
  },
  {
   "cell_type": "code",
   "execution_count": null,
   "metadata": {},
   "outputs": [
    {
     "data": {
      "text/plain": [
       "1"
      ]
     },
     "execution_count": null,
     "metadata": {},
     "output_type": "execute_result"
    }
   ],
   "source": [
    "node_depth[1]"
   ]
  },
  {
   "cell_type": "code",
   "execution_count": null,
   "metadata": {},
   "outputs": [
    {
     "data": {
      "text/plain": [
       "{1: 0, 4: 1, 6: 2, 7: 3, 10: 4, 11: 5, 12: 6}"
      ]
     },
     "execution_count": null,
     "metadata": {},
     "output_type": "execute_result"
    }
   ],
   "source": [
    "leaves2idx"
   ]
  },
  {
   "cell_type": "code",
   "execution_count": null,
   "metadata": {},
   "outputs": [
    {
     "ename": "AssertionError",
     "evalue": "Bits outside of -1 and 1 : [1, 0, 0]",
     "output_type": "error",
     "traceback": [
      "\u001b[1;31m---------------------------------------------------------------------------\u001b[0m",
      "\u001b[1;31mAssertionError\u001b[0m                            Traceback (most recent call last)",
      "\u001b[1;32m<ipython-input-26-bc3fbb1a3e6f>\u001b[0m in \u001b[0;36m<module>\u001b[1;34m\u001b[0m\n\u001b[0;32m      2\u001b[0m \u001b[0mleaf\u001b[0m \u001b[1;33m=\u001b[0m \u001b[1;36m4\u001b[0m\u001b[1;33m\u001b[0m\u001b[1;33m\u001b[0m\u001b[0m\n\u001b[0;32m      3\u001b[0m \u001b[0mbits\u001b[0m \u001b[1;33m=\u001b[0m \u001b[1;33m[\u001b[0m\u001b[0mv\u001b[0m \u001b[1;32mfor\u001b[0m \u001b[0mk\u001b[0m\u001b[1;33m,\u001b[0m\u001b[0mv\u001b[0m \u001b[1;32min\u001b[0m \u001b[0mpath\u001b[0m\u001b[1;33m]\u001b[0m\u001b[1;33m\u001b[0m\u001b[1;33m\u001b[0m\u001b[0m\n\u001b[1;32m----> 4\u001b[1;33m \u001b[1;32massert\u001b[0m \u001b[0mset\u001b[0m\u001b[1;33m(\u001b[0m\u001b[0mbits\u001b[0m\u001b[1;33m)\u001b[0m \u001b[1;33m==\u001b[0m \u001b[0mset\u001b[0m\u001b[1;33m(\u001b[0m\u001b[1;33m[\u001b[0m\u001b[1;33m-\u001b[0m\u001b[1;36m1\u001b[0m\u001b[1;33m,\u001b[0m\u001b[1;36m1\u001b[0m\u001b[1;33m]\u001b[0m\u001b[1;33m)\u001b[0m\u001b[1;33m,\u001b[0m \u001b[1;34mf\"Bits outside of -1 and 1 : {bits}\"\u001b[0m\u001b[1;33m\u001b[0m\u001b[1;33m\u001b[0m\u001b[0m\n\u001b[0m\u001b[0;32m      5\u001b[0m \u001b[1;33m\u001b[0m\u001b[0m\n\u001b[0;32m      6\u001b[0m \u001b[0midx\u001b[0m \u001b[1;33m=\u001b[0m \u001b[1;33m[\u001b[0m\u001b[0mnodes2idx\u001b[0m\u001b[1;33m[\u001b[0m\u001b[0mk\u001b[0m\u001b[1;33m]\u001b[0m \u001b[1;32mfor\u001b[0m \u001b[0mk\u001b[0m\u001b[1;33m,\u001b[0m\u001b[0mv\u001b[0m \u001b[1;32min\u001b[0m \u001b[0mpath\u001b[0m\u001b[1;33m]\u001b[0m\u001b[1;33m\u001b[0m\u001b[1;33m\u001b[0m\u001b[0m\n",
      "\u001b[1;31mAssertionError\u001b[0m: Bits outside of -1 and 1 : [1, 0, 0]"
     ]
    }
   ],
   "source": [
    "eps = 0.5\n",
    "leaf = 4\n",
    "bits = [v for k,v in path]\n",
    "assert set(bits) == set([-1,1]), f\"Bits outside of -1 and 1 : {bits}\"\n",
    "\n",
    "idx = [nodes2idx[k] for k,v in path]\n",
    "\n",
    "K = len(nodes2idx)\n",
    "w = np.zeros(K)\n",
    "\n",
    "w[idx] = bits\n",
    "b = -node_depth[leaf] + eps"
   ]
  },
  {
   "cell_type": "code",
   "execution_count": null,
   "metadata": {},
   "outputs": [],
   "source": [
    "# export\n",
    "def tanh_path_to_weight(path, nodes2idx, node_depth, leaf, eps=0.5):\n",
    "    bits = [v for k,v in path]\n",
    "    assert (set(bits) == set([-1,1])) or (set(bits) == set([-1])) or (set(bits) == set([1])), f\"Bits outside of -1 and 1 : {bits}\"\n",
    "    \n",
    "    idx = [nodes2idx[k] for k,v in path]\n",
    "    \n",
    "    K = len(nodes2idx)\n",
    "    w = np.zeros(K)\n",
    "    \n",
    "    w[idx] = bits\n",
    "    b = -node_depth[leaf] + eps\n",
    "    \n",
    "    return w,b"
   ]
  },
  {
   "cell_type": "code",
   "execution_count": null,
   "metadata": {},
   "outputs": [],
   "source": [
    "# export\n",
    "def tanh_path_to_linear(leafToPath, nodes2idx, idx2leaves, node_depth, eps=0.5):\n",
    "    \n",
    "    # For each leaf, we compute the linear layer to match it\n",
    "    W = []\n",
    "    B = []\n",
    "    for leaf_id, path in enumerate(leafToPath):\n",
    "        leaf = idx2leaves[leaf_id]\n",
    "        w,b = tanh_path_to_weight(path, nodes2idx, node_depth, leaf, eps)\n",
    "        W.append(w)\n",
    "        B.append(b)\n",
    "\n",
    "    W = np.stack(W)\n",
    "    B = np.stack(B)\n",
    "    \n",
    "    # We divide the weights \n",
    "    K = len(nodes2idx)\n",
    "    \n",
    "    linear = nn.Linear(W.shape[1],W.shape[0])\n",
    "    linear.weight.data = torch.tensor(W).float() / (2 * K)\n",
    "    linear.bias.data = torch.tensor(B).view(-1).float() / (2 * K)\n",
    "    \n",
    "    return linear"
   ]
  },
  {
   "cell_type": "code",
   "execution_count": null,
   "metadata": {},
   "outputs": [],
   "source": [
    "# export\n",
    "def tanh_linear_leaf_matcher(tree: BaseDecisionTree, eps=0.5) -> nn.Linear:\n",
    "    \n",
    "    n_nodes = tree.tree_.node_count\n",
    "    children_left = tree.tree_.children_left\n",
    "    children_right = tree.tree_.children_right\n",
    "    node_depth, is_leaves = compute_leaves(n_nodes, children_left, children_right)\n",
    "    \n",
    "    leafToPath = create_leaf_to_path(n_nodes,is_leaves,children_left,children_right,left_value=-1)\n",
    "    \n",
    "    internal_nodes = [i for i,isLeaf in enumerate(is_leaves) if not isLeaf]\n",
    "    leaves = [i for i,isLeaf in enumerate(is_leaves) if isLeaf]\n",
    "    \n",
    "    nodes2idx = {node : i for i, node in enumerate(internal_nodes)}\n",
    "    leaves2idx = { leaf : i for i,leaf in enumerate(leaves)}\n",
    "    \n",
    "    matcher = tanh_path_to_linear(leafToPath, nodes2idx, idx2leaves, node_depth, eps)\n",
    "    \n",
    "    return matcher"
   ]
  },
  {
   "cell_type": "code",
   "execution_count": null,
   "metadata": {},
   "outputs": [
    {
     "ename": "NameError",
     "evalue": "name 'tanh_path_to_weight' is not defined",
     "output_type": "error",
     "traceback": [
      "\u001b[1;31m---------------------------------------------------------------------------\u001b[0m",
      "\u001b[1;31mNameError\u001b[0m                                 Traceback (most recent call last)",
      "\u001b[1;32m<ipython-input-29-2f24acd6bd3b>\u001b[0m in \u001b[0;36m<module>\u001b[1;34m\u001b[0m\n\u001b[1;32m----> 1\u001b[1;33m \u001b[0mmatcher\u001b[0m \u001b[1;33m=\u001b[0m \u001b[0mtanh_linear_leaf_matcher\u001b[0m\u001b[1;33m(\u001b[0m\u001b[0mestimator\u001b[0m\u001b[1;33m)\u001b[0m\u001b[1;33m\u001b[0m\u001b[1;33m\u001b[0m\u001b[0m\n\u001b[0m\u001b[0;32m      2\u001b[0m \u001b[0mmatcher\u001b[0m\u001b[1;33m.\u001b[0m\u001b[0mweight\u001b[0m \u001b[1;33m*\u001b[0m \u001b[1;36m12\u001b[0m\u001b[1;33m,\u001b[0m \u001b[0mmatcher\u001b[0m\u001b[1;33m.\u001b[0m\u001b[0mbias\u001b[0m \u001b[1;33m*\u001b[0m \u001b[1;36m12\u001b[0m\u001b[1;33m\u001b[0m\u001b[1;33m\u001b[0m\u001b[0m\n",
      "\u001b[1;32m<ipython-input-28-c6918b365922>\u001b[0m in \u001b[0;36mtanh_linear_leaf_matcher\u001b[1;34m(tree, eps)\u001b[0m\n\u001b[0;32m     15\u001b[0m     \u001b[0mleaves2idx\u001b[0m \u001b[1;33m=\u001b[0m \u001b[1;33m{\u001b[0m \u001b[0mleaf\u001b[0m \u001b[1;33m:\u001b[0m \u001b[0mi\u001b[0m \u001b[1;32mfor\u001b[0m \u001b[0mi\u001b[0m\u001b[1;33m,\u001b[0m\u001b[0mleaf\u001b[0m \u001b[1;32min\u001b[0m \u001b[0menumerate\u001b[0m\u001b[1;33m(\u001b[0m\u001b[0mleaves\u001b[0m\u001b[1;33m)\u001b[0m\u001b[1;33m}\u001b[0m\u001b[1;33m\u001b[0m\u001b[1;33m\u001b[0m\u001b[0m\n\u001b[0;32m     16\u001b[0m \u001b[1;33m\u001b[0m\u001b[0m\n\u001b[1;32m---> 17\u001b[1;33m     \u001b[0mmatcher\u001b[0m \u001b[1;33m=\u001b[0m \u001b[0mtanh_path_to_linear\u001b[0m\u001b[1;33m(\u001b[0m\u001b[0mleafToPath\u001b[0m\u001b[1;33m,\u001b[0m \u001b[0mnodes2idx\u001b[0m\u001b[1;33m,\u001b[0m \u001b[0midx2leaves\u001b[0m\u001b[1;33m,\u001b[0m \u001b[0mnode_depth\u001b[0m\u001b[1;33m,\u001b[0m \u001b[0meps\u001b[0m\u001b[1;33m)\u001b[0m\u001b[1;33m\u001b[0m\u001b[1;33m\u001b[0m\u001b[0m\n\u001b[0m\u001b[0;32m     18\u001b[0m \u001b[1;33m\u001b[0m\u001b[0m\n\u001b[0;32m     19\u001b[0m     \u001b[1;32mreturn\u001b[0m \u001b[0mmatcher\u001b[0m\u001b[1;33m\u001b[0m\u001b[1;33m\u001b[0m\u001b[0m\n",
      "\u001b[1;32m<ipython-input-27-779f5fd8fef5>\u001b[0m in \u001b[0;36mtanh_path_to_linear\u001b[1;34m(leafToPath, nodes2idx, idx2leaves, node_depth, eps)\u001b[0m\n\u001b[0;32m      7\u001b[0m     \u001b[1;32mfor\u001b[0m \u001b[0mleaf_id\u001b[0m\u001b[1;33m,\u001b[0m \u001b[0mpath\u001b[0m \u001b[1;32min\u001b[0m \u001b[0menumerate\u001b[0m\u001b[1;33m(\u001b[0m\u001b[0mleafToPath\u001b[0m\u001b[1;33m)\u001b[0m\u001b[1;33m:\u001b[0m\u001b[1;33m\u001b[0m\u001b[1;33m\u001b[0m\u001b[0m\n\u001b[0;32m      8\u001b[0m         \u001b[0mleaf\u001b[0m \u001b[1;33m=\u001b[0m \u001b[0midx2leaves\u001b[0m\u001b[1;33m[\u001b[0m\u001b[0mleaf_id\u001b[0m\u001b[1;33m]\u001b[0m\u001b[1;33m\u001b[0m\u001b[1;33m\u001b[0m\u001b[0m\n\u001b[1;32m----> 9\u001b[1;33m         \u001b[0mw\u001b[0m\u001b[1;33m,\u001b[0m\u001b[0mb\u001b[0m \u001b[1;33m=\u001b[0m \u001b[0mtanh_path_to_weight\u001b[0m\u001b[1;33m(\u001b[0m\u001b[0mpath\u001b[0m\u001b[1;33m,\u001b[0m \u001b[0mnodes2idx\u001b[0m\u001b[1;33m,\u001b[0m \u001b[0mnode_depth\u001b[0m\u001b[1;33m,\u001b[0m \u001b[0mleaf\u001b[0m\u001b[1;33m,\u001b[0m \u001b[0meps\u001b[0m\u001b[1;33m)\u001b[0m\u001b[1;33m\u001b[0m\u001b[1;33m\u001b[0m\u001b[0m\n\u001b[0m\u001b[0;32m     10\u001b[0m         \u001b[0mW\u001b[0m\u001b[1;33m.\u001b[0m\u001b[0mappend\u001b[0m\u001b[1;33m(\u001b[0m\u001b[0mw\u001b[0m\u001b[1;33m)\u001b[0m\u001b[1;33m\u001b[0m\u001b[1;33m\u001b[0m\u001b[0m\n\u001b[0;32m     11\u001b[0m         \u001b[0mB\u001b[0m\u001b[1;33m.\u001b[0m\u001b[0mappend\u001b[0m\u001b[1;33m(\u001b[0m\u001b[0mb\u001b[0m\u001b[1;33m)\u001b[0m\u001b[1;33m\u001b[0m\u001b[1;33m\u001b[0m\u001b[0m\n",
      "\u001b[1;31mNameError\u001b[0m: name 'tanh_path_to_weight' is not defined"
     ]
    }
   ],
   "source": [
    "matcher = tanh_linear_leaf_matcher(estimator)\n",
    "matcher.weight * 12, matcher.bias * 12"
   ]
  },
  {
   "cell_type": "code",
   "execution_count": null,
   "metadata": {},
   "outputs": [],
   "source": [
    "# export\n",
    "def sigmoid_path_to_weight(path, nodes2idx, eps=0.5):\n",
    "    # This is the target of the Bitcomparison\n",
    "    bits = [v for k,v in path]\n",
    "    bit_comparison = BitComparison(bits, eps=eps)\n",
    "    \n",
    "    # Those are the indexes to be replaced by the corresponding weights\n",
    "    idx = [nodes2idx[k] for k,v in path]\n",
    "    \n",
    "    K = len(nodes2idx)\n",
    "    w = np.zeros(K)\n",
    "    \n",
    "    w[idx] = bit_comparison.linear.weight.data.numpy().reshape(-1)\n",
    "    b = bit_comparison.linear.bias.data.numpy()\n",
    "    \n",
    "    return w,b"
   ]
  },
  {
   "cell_type": "code",
   "execution_count": null,
   "metadata": {},
   "outputs": [
    {
     "name": "stdout",
     "output_type": "stream",
     "text": [
      "[(0, 1), (2, 0), (3, 0)]\n",
      "[ 1. -1. -1.  0.  0.  0.] [-0.5]\n"
     ]
    }
   ],
   "source": [
    "print(path)\n",
    "w,b = sigmoid_path_to_weight(path,nodes2idx)\n",
    "print(w,b)"
   ]
  },
  {
   "cell_type": "code",
   "execution_count": null,
   "metadata": {},
   "outputs": [
    {
     "data": {
      "text/plain": [
       "[[(0, 0)],\n",
       " [(0, 1), (2, 0), (3, 0)],\n",
       " [(0, 1), (2, 0), (3, 1), (5, 0)],\n",
       " [(0, 1), (2, 0), (3, 1), (5, 1)],\n",
       " [(0, 1), (2, 1), (8, 0), (9, 0)],\n",
       " [(0, 1), (2, 1), (8, 0), (9, 1)],\n",
       " [(0, 1), (2, 1), (8, 1)]]"
      ]
     },
     "execution_count": null,
     "metadata": {},
     "output_type": "execute_result"
    }
   ],
   "source": [
    "leafToPath"
   ]
  },
  {
   "cell_type": "code",
   "execution_count": null,
   "metadata": {},
   "outputs": [],
   "source": [
    "# export\n",
    "def sigmoid_path_to_linear(leafToPath, nodes2idx, eps=0.5):\n",
    "    \n",
    "    # For each leaf, we compute the linear layer to match it\n",
    "    W = []\n",
    "    B = []\n",
    "    for path in leafToPath:\n",
    "        w,b = sigmoid_path_to_weight(path,nodes2idx, eps=eps)\n",
    "        W.append(w)\n",
    "        B.append(b)\n",
    "\n",
    "    W = np.stack(W)\n",
    "    B = np.stack(B)\n",
    "    \n",
    "    # We divide the weights \n",
    "    K = len(nodes2idx)\n",
    "    \n",
    "    linear = nn.Linear(W.shape[1],W.shape[0])\n",
    "    linear.weight.data = torch.tensor(W).float() / K\n",
    "    linear.bias.data = torch.tensor(B).view(-1).float() / K\n",
    "    \n",
    "    return linear"
   ]
  },
  {
   "cell_type": "code",
   "execution_count": null,
   "metadata": {},
   "outputs": [],
   "source": [
    "# export\n",
    "def sigmoid_linear_leaf_matcher(tree: BaseDecisionTree, eps=0.5) -> nn.Linear:\n",
    "    \n",
    "    n_nodes = tree.tree_.node_count\n",
    "    children_left = tree.tree_.children_left\n",
    "    children_right = tree.tree_.children_right\n",
    "    node_depth, is_leaves = compute_leaves(n_nodes, children_left, children_right)\n",
    "    \n",
    "    leafToPath = create_leaf_to_path(n_nodes,is_leaves,children_left,children_right)\n",
    "    \n",
    "    internal_nodes = [i for i,isLeaf in enumerate(is_leaves) if not isLeaf]\n",
    "    nodes2idx = {node : i for i, node in enumerate(internal_nodes)}\n",
    "    \n",
    "    matcher = sigmoid_path_to_linear(leafToPath,nodes2idx, eps=0.5)\n",
    "    \n",
    "    return matcher"
   ]
  },
  {
   "cell_type": "code",
   "execution_count": null,
   "metadata": {},
   "outputs": [
    {
     "data": {
      "text/plain": [
       "(Parameter containing:\n",
       " tensor([[-0.1667,  0.0000,  0.0000,  0.0000,  0.0000,  0.0000],\n",
       "         [ 0.1667, -0.1667, -0.1667,  0.0000,  0.0000,  0.0000],\n",
       "         [ 0.1667, -0.1667,  0.1667, -0.1667,  0.0000,  0.0000],\n",
       "         [ 0.1667, -0.1667,  0.1667,  0.1667,  0.0000,  0.0000],\n",
       "         [ 0.1667,  0.1667,  0.0000,  0.0000, -0.1667, -0.1667],\n",
       "         [ 0.1667,  0.1667,  0.0000,  0.0000, -0.1667,  0.1667],\n",
       "         [ 0.1667,  0.1667,  0.0000,  0.0000,  0.1667,  0.0000]],\n",
       "        requires_grad=True), Parameter containing:\n",
       " tensor([ 0.0833, -0.0833, -0.2500, -0.4167, -0.2500, -0.4167, -0.4167],\n",
       "        requires_grad=True))"
      ]
     },
     "execution_count": null,
     "metadata": {},
     "output_type": "execute_result"
    }
   ],
   "source": [
    "matcher = sigmoid_linear_leaf_matcher(estimator)\n",
    "matcher.weight, matcher.bias"
   ]
  },
  {
   "cell_type": "code",
   "execution_count": null,
   "metadata": {},
   "outputs": [],
   "source": [
    "# export\n",
    "def sigmoid_classification_head(tree: BaseDecisionTree) -> nn.Linear:\n",
    "    n_nodes = tree.tree_.node_count\n",
    "    children_left = tree.tree_.children_left\n",
    "    children_right = tree.tree_.children_right\n",
    "    node_depth, is_leaves = compute_leaves(n_nodes, children_left, children_right)\n",
    "    \n",
    "    leaves = [i for i,isLeaf in enumerate(is_leaves) if isLeaf]\n",
    "    \n",
    "    leaf_values = tree.tree_.value[leaves]\n",
    "    leaf_values = torch.tensor(leaf_values).float()\n",
    "    leaf_values = leaf_values.squeeze(1)\n",
    "\n",
    "    head = nn.Linear(*leaf_values.shape,bias=False)\n",
    "    head.weight.data = leaf_values.T / tree.tree_.value[0].max()\n",
    "    \n",
    "    return head"
   ]
  },
  {
   "cell_type": "code",
   "execution_count": null,
   "metadata": {},
   "outputs": [
    {
     "data": {
      "text/plain": [
       "(Parameter containing:\n",
       " tensor([[0.9024, 0.0000, 0.0000, 0.0000, 0.0000, 0.0000, 0.0000],\n",
       "         [0.0000, 0.7805, 0.0000, 0.0244, 0.0000, 0.0244, 0.0000],\n",
       "         [0.0000, 0.0000, 0.0732, 0.0000, 0.0732, 0.0000, 0.8537]],\n",
       "        requires_grad=True), None)"
      ]
     },
     "execution_count": null,
     "metadata": {},
     "output_type": "execute_result"
    }
   ],
   "source": [
    "head = sigmoid_classification_head(estimator)\n",
    "head.weight, head.bias"
   ]
  },
  {
   "cell_type": "code",
   "execution_count": null,
   "metadata": {},
   "outputs": [],
   "source": [
    "# export\n",
    "from sklearn.tree import BaseDecisionTree\n",
    "from sklearn.base import is_classifier\n",
    "\n",
    "from typing import Callable\n",
    "from numpy.polynomial.chebyshev import Chebyshev\n",
    "\n",
    "DEFAULT_POLYNOMIAL_DEGREE = 25\n",
    "DEFAULT_DILATATION_FACTOR = 100.0\n",
    "DEFAULT_BOUND = 1.0\n",
    "\n",
    "class DecisionTree(nn.Module):\n",
    "    def __init__(self, tree: BaseDecisionTree, \n",
    "                 activation: Callable, \n",
    "                 create_linear_leaf_matcher: Callable,\n",
    "                 create_regression_head: Callable,\n",
    "                 create_classifier_head: Callable,\n",
    "                 dilatation_factor : float = DEFAULT_DILATATION_FACTOR,\n",
    "                 use_polynomial : bool = False, \n",
    "                 polynomial_degree : int = DEFAULT_POLYNOMIAL_DEGREE, bound: float = DEFAULT_BOUND,\n",
    "                 *args,**kwargs):\n",
    "        super(DecisionTree, self).__init__()\n",
    "        \n",
    "        activation_fn = lambda x: activation(x * dilatation_factor)\n",
    "        if use_polynomial:\n",
    "            domain = [-bound, bound]\n",
    "            activation_fn_numpy = lambda x: activation_fn(torch.tensor(x))\n",
    "            self.activation = Chebyshev.interpolate(activation_fn_numpy,deg=polynomial_degree,domain=domain)\n",
    "        else:\n",
    "            self.activation = activation_fn\n",
    "        \n",
    "        self.comparator = create_linear_node_comparator(tree)\n",
    "        self.matcher = create_linear_leaf_matcher(tree)\n",
    "        \n",
    "        if is_classifier(estimator):\n",
    "            self.head = create_classifier_head(tree)\n",
    "        else:\n",
    "            self.head = create_regression_head(tree)\n",
    "            \n",
    "    def forward(self,x):\n",
    "        comparisons = self.comparator(x)\n",
    "        comparisons = self.activation(comparisons)\n",
    "        \n",
    "        matches = self.matcher(comparisons)\n",
    "        matches = self.activation(matches)\n",
    "        \n",
    "        output = self.head(matches)\n",
    "        \n",
    "        return output"
   ]
  },
  {
   "cell_type": "code",
   "execution_count": null,
   "metadata": {},
   "outputs": [],
   "source": [
    "# export\n",
    "def raise_error_wrong_tree(*args,**kwargs):\n",
    "    raise Exception(\"Wrong supervised tree used\")\n",
    "\n",
    "class SigmoidDecisionTree(DecisionTree):\n",
    "    def __init__(self, tree: BaseDecisionTree,\n",
    "                 create_regression_head: Callable,\n",
    "                 create_classifier_head: Callable,\n",
    "                 dilatation_factor : float = DEFAULT_DILATATION_FACTOR,\n",
    "                 use_polynomial : bool = False, \n",
    "                 polynomial_degree : int = DEFAULT_POLYNOMIAL_DEGREE, bound: float = DEFAULT_BOUND,eps=0.5):\n",
    "        \n",
    "        activation = torch.sigmoid\n",
    "        create_linear_leaf_matcher = partial(sigmoid_linear_leaf_matcher,eps=eps)\n",
    "        \n",
    "        super().__init__(tree, \n",
    "                 activation=activation, \n",
    "                 create_linear_leaf_matcher=create_linear_leaf_matcher,\n",
    "                 create_regression_head=create_regression_head,\n",
    "                 create_classifier_head=create_classifier_head,\n",
    "                 dilatation_factor=dilatation_factor,\n",
    "                 use_polynomial=use_polynomial, polynomial_degree=polynomial_degree, bound=bound)\n",
    "        \n",
    "class SigmoidClassificationTree(SigmoidDecisionTree):\n",
    "    def __init__(self, tree: BaseDecisionTree,\n",
    "                 dilatation_factor : float = DEFAULT_DILATATION_FACTOR,\n",
    "                 use_polynomial : bool = False, \n",
    "                 polynomial_degree : int = DEFAULT_POLYNOMIAL_DEGREE, bound: float = DEFAULT_BOUND,eps=0.5):\n",
    "        create_classifier_head = sigmoid_classification_head\n",
    "        create_regression_head = raise_error_wrong_tree\n",
    "        \n",
    "        super().__init__(tree,\n",
    "                         create_classifier_head=create_classifier_head,\n",
    "                         create_regression_head=create_regression_head,\n",
    "                         dilatation_factor=dilatation_factor,\n",
    "                         use_polynomial=use_polynomial, polynomial_degree=polynomial_degree, bound=bound,eps=eps)"
   ]
  },
  {
   "cell_type": "code",
   "execution_count": null,
   "metadata": {},
   "outputs": [],
   "source": [
    "# export\n",
    "def tanh_classification_head(tree: BaseDecisionTree) -> nn.Linear:\n",
    "    n_nodes = tree.tree_.node_count\n",
    "    children_left = tree.tree_.children_left\n",
    "    children_right = tree.tree_.children_right\n",
    "    node_depth, is_leaves = compute_leaves(n_nodes, children_left, children_right)\n",
    "    \n",
    "    leaves = [i for i,isLeaf in enumerate(is_leaves) if isLeaf]\n",
    "    \n",
    "    leaf_values = tree.tree_.value[leaves]\n",
    "    leaf_values = torch.tensor(leaf_values).float()\n",
    "    \n",
    "    leaf_values = leaf_values.squeeze(1) / tree.tree_.value[0].max()\n",
    "    \n",
    "    # We divide by 2 because we have -1 and 1 bits\n",
    "    bias = leaf_values.sum(dim=0) / 2\n",
    "    leaf_values = leaf_values / 2\n",
    "\n",
    "    head = nn.Linear(*leaf_values.shape)\n",
    "    head.weight.data = leaf_values.T\n",
    "    head.bias.data = bias\n",
    "    \n",
    "    return head"
   ]
  },
  {
   "cell_type": "code",
   "execution_count": null,
   "metadata": {},
   "outputs": [],
   "source": [
    "# export\n",
    "class TanhDecisionTree(DecisionTree):\n",
    "    def __init__(self, tree: BaseDecisionTree,\n",
    "                 create_regression_head: Callable,\n",
    "                 create_classifier_head: Callable,\n",
    "                 dilatation_factor : float = DEFAULT_DILATATION_FACTOR,\n",
    "                 use_polynomial : bool = False, \n",
    "                 polynomial_degree : int = DEFAULT_POLYNOMIAL_DEGREE, bound: float = DEFAULT_BOUND,eps=0.5):\n",
    "        activation = torch.tanh\n",
    "        create_linear_leaf_matcher = partial(tanh_linear_leaf_matcher,eps=eps)\n",
    "        \n",
    "        super().__init__(tree, \n",
    "                 activation=activation, \n",
    "                 create_linear_leaf_matcher=create_linear_leaf_matcher,\n",
    "                 create_regression_head=create_regression_head,\n",
    "                 create_classifier_head=create_classifier_head,\n",
    "                 dilatation_factor=dilatation_factor,\n",
    "                 use_polynomial=use_polynomial, polynomial_degree=polynomial_degree, bound=bound)\n",
    "        \n",
    "class TanhClassificationTree(TanhDecisionTree):\n",
    "    def __init__(self, tree: BaseDecisionTree,\n",
    "                 dilatation_factor : float = DEFAULT_DILATATION_FACTOR,\n",
    "                 use_polynomial : bool = False, \n",
    "                 polynomial_degree : int = DEFAULT_POLYNOMIAL_DEGREE, bound: float = DEFAULT_BOUND,eps=0.5):\n",
    "        create_classifier_head = tanh_classification_head\n",
    "        create_regression_head = raise_error_wrong_tree\n",
    "        \n",
    "        super().__init__(tree,\n",
    "                         create_classifier_head=create_classifier_head,\n",
    "                         create_regression_head=create_regression_head,\n",
    "                         dilatation_factor=dilatation_factor,\n",
    "                         use_polynomial=use_polynomial, polynomial_degree=polynomial_degree, bound=bound,eps=eps)"
   ]
  },
  {
   "cell_type": "code",
   "execution_count": null,
   "metadata": {},
   "outputs": [],
   "source": [
    "# export\n",
    "def check_output_range(m, i, o, threshold=1):\n",
    "    rows_outside_range = ((torch.abs(o) > threshold).float().sum(dim=1) > 0).numpy()\n",
    "    idx_outside_range = np.arange(len(rows_outside_range))[rows_outside_range]\n",
    "    \n",
    "    assert len(idx_outside_range) == 0, f\"\"\"Out of range outputs for module {m}: \\n \n",
    "    {idx_outside_range} \\n\n",
    "    Rows with outside range : \\n\n",
    "    {o.numpy()[idx_outside_range]}\"\"\"\n",
    "\n",
    "def register_output_check(model, threshold=1):\n",
    "    for c in model.children():\n",
    "        if isinstance(c,nn.Linear):\n",
    "            hook = partial(check_output_range, threshold=threshold)\n",
    "            c.register_forward_hook(hook)"
   ]
  },
  {
   "cell_type": "code",
   "execution_count": null,
   "metadata": {},
   "outputs": [
    {
     "name": "stderr",
     "output_type": "stream",
     "text": [
      "C:\\Users\\Daniel\\Anaconda3\\envs\\emd\\lib\\site-packages\\ipykernel_launcher.py:25: UserWarning: Matplotlib is currently using module://ipykernel.pylab.backend_inline, which is a non-GUI backend, so cannot show the figure.\n"
     ]
    },
    {
     "data": {
      "text/plain": [
       "(<Figure size 432x288 with 1 Axes>,\n",
       " <matplotlib.axes._subplots.AxesSubplot at 0x145071e1248>)"
      ]
     },
     "execution_count": null,
     "metadata": {},
     "output_type": "execute_result"
    },
    {
     "data": {
      "image/png": "[encoded data removed]",
      "text/plain": [
       "<Figure size 432x288 with 1 Axes>"
      ]
     },
     "metadata": {
      "needs_background": "light"
     },
     "output_type": "display_data"
    }
   ],
   "source": [
    "dilatation_factor = 125\n",
    "polynomial_degree = 2 ** 7\n",
    "\n",
    "plot_graph_function_approximation(torch.sigmoid,dilatation_factor=dilatation_factor,polynomial_degree=polynomial_degree)"
   ]
  },
  {
   "cell_type": "code",
   "execution_count": null,
   "metadata": {},
   "outputs": [
    {
     "data": {
      "text/plain": [
       "tensor(1.)"
      ]
     },
     "execution_count": null,
     "metadata": {},
     "output_type": "execute_result"
    }
   ],
   "source": [
    "x = torch.tensor(X_train).float()\n",
    "tree = estimator\n",
    "model = SigmoidClassificationTree(tree,use_polynomial=True,\n",
    "                                  dilatation_factor=dilatation_factor, polynomial_degree=polynomial_degree)\n",
    "register_output_check(model, threshold=1)\n",
    "\n",
    "model.eval()\n",
    "\n",
    "with torch.no_grad():\n",
    "    output = model(x)\n",
    "pred = output.argmax(dim=1)\n",
    "y = estimator.predict(X_train)\n",
    "(pred == torch.tensor(y)).float().mean()"
   ]
  },
  {
   "cell_type": "code",
   "execution_count": null,
   "metadata": {},
   "outputs": [
    {
     "ename": "NameError",
     "evalue": "name 'tanh_path_to_weight' is not defined",
     "output_type": "error",
     "traceback": [
      "\u001b[1;31m---------------------------------------------------------------------------\u001b[0m",
      "\u001b[1;31mNameError\u001b[0m                                 Traceback (most recent call last)",
      "\u001b[1;32m<ipython-input-48-fc665709b1c4>\u001b[0m in \u001b[0;36m<module>\u001b[1;34m\u001b[0m\n\u001b[0;32m      2\u001b[0m \u001b[0mtree\u001b[0m \u001b[1;33m=\u001b[0m \u001b[0mestimator\u001b[0m\u001b[1;33m\u001b[0m\u001b[1;33m\u001b[0m\u001b[0m\n\u001b[0;32m      3\u001b[0m model = TanhClassificationTree(tree,use_polynomial=True,\n\u001b[1;32m----> 4\u001b[1;33m                                   dilatation_factor=dilatation_factor, polynomial_degree=polynomial_degree)\n\u001b[0m\u001b[0;32m      5\u001b[0m \u001b[0mregister_output_check\u001b[0m\u001b[1;33m(\u001b[0m\u001b[0mmodel\u001b[0m\u001b[1;33m,\u001b[0m \u001b[0mthreshold\u001b[0m\u001b[1;33m=\u001b[0m\u001b[1;36m1\u001b[0m\u001b[1;33m)\u001b[0m\u001b[1;33m\u001b[0m\u001b[1;33m\u001b[0m\u001b[0m\n\u001b[0;32m      6\u001b[0m \u001b[1;33m\u001b[0m\u001b[0m\n",
      "\u001b[1;32m<ipython-input-41-33a741a40945>\u001b[0m in \u001b[0;36m__init__\u001b[1;34m(self, tree, dilatation_factor, use_polynomial, polynomial_degree, bound, eps)\u001b[0m\n\u001b[0;32m     30\u001b[0m                          \u001b[0mcreate_regression_head\u001b[0m\u001b[1;33m=\u001b[0m\u001b[0mcreate_regression_head\u001b[0m\u001b[1;33m,\u001b[0m\u001b[1;33m\u001b[0m\u001b[1;33m\u001b[0m\u001b[0m\n\u001b[0;32m     31\u001b[0m                          \u001b[0mdilatation_factor\u001b[0m\u001b[1;33m=\u001b[0m\u001b[0mdilatation_factor\u001b[0m\u001b[1;33m,\u001b[0m\u001b[1;33m\u001b[0m\u001b[1;33m\u001b[0m\u001b[0m\n\u001b[1;32m---> 32\u001b[1;33m                          use_polynomial=use_polynomial, polynomial_degree=polynomial_degree, bound=bound,eps=eps)\n\u001b[0m",
      "\u001b[1;32m<ipython-input-41-33a741a40945>\u001b[0m in \u001b[0;36m__init__\u001b[1;34m(self, tree, create_regression_head, create_classifier_head, dilatation_factor, use_polynomial, polynomial_degree, bound, eps)\u001b[0m\n\u001b[0;32m     16\u001b[0m                  \u001b[0mcreate_classifier_head\u001b[0m\u001b[1;33m=\u001b[0m\u001b[0mcreate_classifier_head\u001b[0m\u001b[1;33m,\u001b[0m\u001b[1;33m\u001b[0m\u001b[1;33m\u001b[0m\u001b[0m\n\u001b[0;32m     17\u001b[0m                  \u001b[0mdilatation_factor\u001b[0m\u001b[1;33m=\u001b[0m\u001b[0mdilatation_factor\u001b[0m\u001b[1;33m,\u001b[0m\u001b[1;33m\u001b[0m\u001b[1;33m\u001b[0m\u001b[0m\n\u001b[1;32m---> 18\u001b[1;33m                  use_polynomial=use_polynomial, polynomial_degree=polynomial_degree, bound=bound)\n\u001b[0m\u001b[0;32m     19\u001b[0m \u001b[1;33m\u001b[0m\u001b[0m\n\u001b[0;32m     20\u001b[0m \u001b[1;32mclass\u001b[0m \u001b[0mTanhClassificationTree\u001b[0m\u001b[1;33m(\u001b[0m\u001b[0mTanhDecisionTree\u001b[0m\u001b[1;33m)\u001b[0m\u001b[1;33m:\u001b[0m\u001b[1;33m\u001b[0m\u001b[1;33m\u001b[0m\u001b[0m\n",
      "\u001b[1;32m<ipython-input-38-4b5b004d44a0>\u001b[0m in \u001b[0;36m__init__\u001b[1;34m(self, tree, activation, create_linear_leaf_matcher, create_regression_head, create_classifier_head, dilatation_factor, use_polynomial, polynomial_degree, bound, *args, **kwargs)\u001b[0m\n\u001b[0;32m     31\u001b[0m \u001b[1;33m\u001b[0m\u001b[0m\n\u001b[0;32m     32\u001b[0m         \u001b[0mself\u001b[0m\u001b[1;33m.\u001b[0m\u001b[0mcomparator\u001b[0m \u001b[1;33m=\u001b[0m \u001b[0mcreate_linear_node_comparator\u001b[0m\u001b[1;33m(\u001b[0m\u001b[0mtree\u001b[0m\u001b[1;33m)\u001b[0m\u001b[1;33m\u001b[0m\u001b[1;33m\u001b[0m\u001b[0m\n\u001b[1;32m---> 33\u001b[1;33m         \u001b[0mself\u001b[0m\u001b[1;33m.\u001b[0m\u001b[0mmatcher\u001b[0m \u001b[1;33m=\u001b[0m \u001b[0mcreate_linear_leaf_matcher\u001b[0m\u001b[1;33m(\u001b[0m\u001b[0mtree\u001b[0m\u001b[1;33m)\u001b[0m\u001b[1;33m\u001b[0m\u001b[1;33m\u001b[0m\u001b[0m\n\u001b[0m\u001b[0;32m     34\u001b[0m \u001b[1;33m\u001b[0m\u001b[0m\n\u001b[0;32m     35\u001b[0m         \u001b[1;32mif\u001b[0m \u001b[0mis_classifier\u001b[0m\u001b[1;33m(\u001b[0m\u001b[0mestimator\u001b[0m\u001b[1;33m)\u001b[0m\u001b[1;33m:\u001b[0m\u001b[1;33m\u001b[0m\u001b[1;33m\u001b[0m\u001b[0m\n",
      "\u001b[1;32m<ipython-input-28-c6918b365922>\u001b[0m in \u001b[0;36mtanh_linear_leaf_matcher\u001b[1;34m(tree, eps)\u001b[0m\n\u001b[0;32m     15\u001b[0m     \u001b[0mleaves2idx\u001b[0m \u001b[1;33m=\u001b[0m \u001b[1;33m{\u001b[0m \u001b[0mleaf\u001b[0m \u001b[1;33m:\u001b[0m \u001b[0mi\u001b[0m \u001b[1;32mfor\u001b[0m \u001b[0mi\u001b[0m\u001b[1;33m,\u001b[0m\u001b[0mleaf\u001b[0m \u001b[1;32min\u001b[0m \u001b[0menumerate\u001b[0m\u001b[1;33m(\u001b[0m\u001b[0mleaves\u001b[0m\u001b[1;33m)\u001b[0m\u001b[1;33m}\u001b[0m\u001b[1;33m\u001b[0m\u001b[1;33m\u001b[0m\u001b[0m\n\u001b[0;32m     16\u001b[0m \u001b[1;33m\u001b[0m\u001b[0m\n\u001b[1;32m---> 17\u001b[1;33m     \u001b[0mmatcher\u001b[0m \u001b[1;33m=\u001b[0m \u001b[0mtanh_path_to_linear\u001b[0m\u001b[1;33m(\u001b[0m\u001b[0mleafToPath\u001b[0m\u001b[1;33m,\u001b[0m \u001b[0mnodes2idx\u001b[0m\u001b[1;33m,\u001b[0m \u001b[0midx2leaves\u001b[0m\u001b[1;33m,\u001b[0m \u001b[0mnode_depth\u001b[0m\u001b[1;33m,\u001b[0m \u001b[0meps\u001b[0m\u001b[1;33m)\u001b[0m\u001b[1;33m\u001b[0m\u001b[1;33m\u001b[0m\u001b[0m\n\u001b[0m\u001b[0;32m     18\u001b[0m \u001b[1;33m\u001b[0m\u001b[0m\n\u001b[0;32m     19\u001b[0m     \u001b[1;32mreturn\u001b[0m \u001b[0mmatcher\u001b[0m\u001b[1;33m\u001b[0m\u001b[1;33m\u001b[0m\u001b[0m\n",
      "\u001b[1;32m<ipython-input-27-779f5fd8fef5>\u001b[0m in \u001b[0;36mtanh_path_to_linear\u001b[1;34m(leafToPath, nodes2idx, idx2leaves, node_depth, eps)\u001b[0m\n\u001b[0;32m      7\u001b[0m     \u001b[1;32mfor\u001b[0m \u001b[0mleaf_id\u001b[0m\u001b[1;33m,\u001b[0m \u001b[0mpath\u001b[0m \u001b[1;32min\u001b[0m \u001b[0menumerate\u001b[0m\u001b[1;33m(\u001b[0m\u001b[0mleafToPath\u001b[0m\u001b[1;33m)\u001b[0m\u001b[1;33m:\u001b[0m\u001b[1;33m\u001b[0m\u001b[1;33m\u001b[0m\u001b[0m\n\u001b[0;32m      8\u001b[0m         \u001b[0mleaf\u001b[0m \u001b[1;33m=\u001b[0m \u001b[0midx2leaves\u001b[0m\u001b[1;33m[\u001b[0m\u001b[0mleaf_id\u001b[0m\u001b[1;33m]\u001b[0m\u001b[1;33m\u001b[0m\u001b[1;33m\u001b[0m\u001b[0m\n\u001b[1;32m----> 9\u001b[1;33m         \u001b[0mw\u001b[0m\u001b[1;33m,\u001b[0m\u001b[0mb\u001b[0m \u001b[1;33m=\u001b[0m \u001b[0mtanh_path_to_weight\u001b[0m\u001b[1;33m(\u001b[0m\u001b[0mpath\u001b[0m\u001b[1;33m,\u001b[0m \u001b[0mnodes2idx\u001b[0m\u001b[1;33m,\u001b[0m \u001b[0mnode_depth\u001b[0m\u001b[1;33m,\u001b[0m \u001b[0mleaf\u001b[0m\u001b[1;33m,\u001b[0m \u001b[0meps\u001b[0m\u001b[1;33m)\u001b[0m\u001b[1;33m\u001b[0m\u001b[1;33m\u001b[0m\u001b[0m\n\u001b[0m\u001b[0;32m     10\u001b[0m         \u001b[0mW\u001b[0m\u001b[1;33m.\u001b[0m\u001b[0mappend\u001b[0m\u001b[1;33m(\u001b[0m\u001b[0mw\u001b[0m\u001b[1;33m)\u001b[0m\u001b[1;33m\u001b[0m\u001b[1;33m\u001b[0m\u001b[0m\n\u001b[0;32m     11\u001b[0m         \u001b[0mB\u001b[0m\u001b[1;33m.\u001b[0m\u001b[0mappend\u001b[0m\u001b[1;33m(\u001b[0m\u001b[0mb\u001b[0m\u001b[1;33m)\u001b[0m\u001b[1;33m\u001b[0m\u001b[1;33m\u001b[0m\u001b[0m\n",
      "\u001b[1;31mNameError\u001b[0m: name 'tanh_path_to_weight' is not defined"
     ]
    }
   ],
   "source": [
    "x = torch.tensor(X_train).float()\n",
    "tree = estimator\n",
    "model = TanhClassificationTree(tree,use_polynomial=True,\n",
    "                                  dilatation_factor=dilatation_factor, polynomial_degree=polynomial_degree)\n",
    "register_output_check(model, threshold=1)\n",
    "\n",
    "model.eval()\n",
    "\n",
    "with torch.no_grad():\n",
    "    output = model(x)\n",
    "pred = output.argmax(dim=1)\n",
    "y = estimator.predict(X_train)\n",
    "(pred == torch.tensor(y)).float().mean()"
   ]
  },
  {
   "cell_type": "code",
   "execution_count": null,
   "metadata": {},
   "outputs": [],
   "source": [
    "pred = model(x)\n",
    "label = torch.tensor(y_train).long()\n",
    "\n",
    "criterion = nn.CrossEntropyLoss()\n",
    "loss = criterion(pred,label)"
   ]
  },
  {
   "cell_type": "code",
   "execution_count": null,
   "metadata": {},
   "outputs": [],
   "source": [
    "loss.backward()"
   ]
  },
  {
   "cell_type": "code",
   "execution_count": null,
   "metadata": {},
   "outputs": [
    {
     "data": {
      "text/plain": [
       "(tensor([[-2.5226e-02,  7.3443e-03, -4.5732e-02, -3.7871e-02],\n",
       "         [-4.9783e-02, -2.7853e-02, -7.8843e-02, -1.0089e-01],\n",
       "         [ 5.1247e-02,  3.9488e-02,  5.1160e-02,  4.8214e-02],\n",
       "         [ 6.1523e-03,  3.6545e-03,  7.2192e-03,  8.1534e-03],\n",
       "         [-1.1175e-01, -6.4472e-02, -1.3726e-01, -1.3613e-01],\n",
       "         [ 7.8507e-04, -9.9554e-05,  1.2871e-03,  9.3524e-04]]),\n",
       " Parameter containing:\n",
       " tensor([[0., 0., 0., 1.],\n",
       "         [0., 0., 1., 0.],\n",
       "         [0., 0., 0., 1.],\n",
       "         [0., 1., 0., 0.],\n",
       "         [0., 0., 0., 1.],\n",
       "         [0., 0., 0., 1.]], requires_grad=True),\n",
       " tensor([-0.0609, -0.0748,  0.0969,  0.0088, -0.1795,  0.0004]),\n",
       " Parameter containing:\n",
       " tensor([-0.2917, -0.6638, -0.6458, -0.4583, -0.6875, -0.6458],\n",
       "        requires_grad=True))"
      ]
     },
     "execution_count": null,
     "metadata": {},
     "output_type": "execute_result"
    }
   ],
   "source": [
    "model.comparator.weight.grad, model.comparator.weight, model.comparator.bias.grad, model.comparator.bias"
   ]
  },
  {
   "cell_type": "code",
   "execution_count": null,
   "metadata": {},
   "outputs": [
    {
     "data": {
      "text/plain": [
       "(tensor([[ 5.6297e-01,  2.7994e-01,  3.0129e-01, -1.7548e-01,  2.6102e-01,\n",
       "           3.0129e-01],\n",
       "         [-3.5946e-01, -2.2524e-02, -4.6209e-03,  8.0025e-02,  1.5869e-02,\n",
       "          -4.6209e-03],\n",
       "         [-1.9923e-02, -2.0904e-02, -2.5816e-02, -6.4199e-03, -2.3795e-02,\n",
       "          -2.5816e-02],\n",
       "         [ 5.9223e-04,  1.7812e-03,  2.1452e-03,  2.4816e-04,  2.3098e-03,\n",
       "           2.1452e-03],\n",
       "         [ 6.8858e-03, -4.0357e-03, -2.5161e-03,  1.8481e-03, -2.2850e-03,\n",
       "          -2.5161e-03],\n",
       "         [ 3.1441e-03,  3.9137e-03,  4.2875e-03,  1.1285e-03,  4.1490e-03,\n",
       "           4.2875e-03],\n",
       "         [-5.3463e-01, -4.3756e-01, -4.9078e-01, -2.0055e-01, -4.5164e-01,\n",
       "          -4.9078e-01]]), Parameter containing:\n",
       " tensor([[-0.1667,  0.0000,  0.0000,  0.0000,  0.0000,  0.0000],\n",
       "         [ 0.1667, -0.1667, -0.1667,  0.0000,  0.0000,  0.0000],\n",
       "         [ 0.1667, -0.1667,  0.1667, -0.1667,  0.0000,  0.0000],\n",
       "         [ 0.1667, -0.1667,  0.1667,  0.1667,  0.0000,  0.0000],\n",
       "         [ 0.1667,  0.1667,  0.0000,  0.0000, -0.1667, -0.1667],\n",
       "         [ 0.1667,  0.1667,  0.0000,  0.0000, -0.1667,  0.1667],\n",
       "         [ 0.1667,  0.1667,  0.0000,  0.0000,  0.1667,  0.0000]],\n",
       "        requires_grad=True))"
      ]
     },
     "execution_count": null,
     "metadata": {},
     "output_type": "execute_result"
    }
   ],
   "source": [
    "model.matcher.weight.grad, model.matcher.weight"
   ]
  },
  {
   "cell_type": "code",
   "execution_count": null,
   "metadata": {},
   "outputs": [
    {
     "data": {
      "text/plain": [
       "(tensor([[-0.0870,  0.0247,  0.0258,  0.0106,  0.0241,  0.0157,  0.0606],\n",
       "         [ 0.0524, -0.0823, -0.0070,  0.0026, -0.0340,  0.0166,  0.0509],\n",
       "         [ 0.0346,  0.0576, -0.0188, -0.0132,  0.0099, -0.0323, -0.1116]]),\n",
       " Parameter containing:\n",
       " tensor([[0.9024, 0.0000, 0.0000, 0.0000, 0.0000, 0.0000, 0.0000],\n",
       "         [0.0000, 0.7805, 0.0000, 0.0244, 0.0000, 0.0244, 0.0000],\n",
       "         [0.0000, 0.0000, 0.0732, 0.0000, 0.0732, 0.0000, 0.8537]],\n",
       "        requires_grad=True))"
      ]
     },
     "execution_count": null,
     "metadata": {},
     "output_type": "execute_result"
    }
   ],
   "source": [
    "model.head.weight.grad, model.head.weight"
   ]
  },
  {
   "cell_type": "code",
   "execution_count": null,
   "metadata": {},
   "outputs": [
    {
     "data": {
      "text/plain": [
       "tensor(0.9464)"
      ]
     },
     "execution_count": null,
     "metadata": {},
     "output_type": "execute_result"
    }
   ],
   "source": [
    "x = torch.tensor(X_train).float()\n",
    "tree = estimator\n",
    "model = TanhClassificationTree(tree,use_polynomial=True,\n",
    "                                  dilatation_factor=dilatation_factor, polynomial_degree=polynomial_degree)\n",
    "register_output_check(model, threshold=1)\n",
    "\n",
    "model.eval()\n",
    "\n",
    "with torch.no_grad():\n",
    "    output = model(x)\n",
    "    pred = output.argmax(dim=1)\n",
    "y = estimator.predict(X_train)\n",
    "(pred == torch.tensor(y)).float().mean()"
   ]
  },
  {
   "cell_type": "code",
   "execution_count": null,
   "metadata": {},
   "outputs": [],
   "source": [
    "comparisons = model.comparator(x)\n",
    "a_comparisons = model.activation(comparisons)\n",
    "\n",
    "matches = model.matcher(comparisons)\n",
    "a_matches = model.activation(matches)\n",
    "\n",
    "output = model.head(matches)"
   ]
  },
  {
   "cell_type": "code",
   "execution_count": null,
   "metadata": {},
   "outputs": [],
   "source": [
    "idx = (pred != torch.tensor(y)).numpy()"
   ]
  },
  {
   "cell_type": "code",
   "execution_count": null,
   "metadata": {},
   "outputs": [
    {
     "data": {
      "text/plain": [
       "[0, 2, 3, 5, 8, 9]"
      ]
     },
     "execution_count": null,
     "metadata": {},
     "output_type": "execute_result"
    }
   ],
   "source": [
    "idx2nodes"
   ]
  },
  {
   "cell_type": "code",
   "execution_count": null,
   "metadata": {},
   "outputs": [],
   "source": []
  },
  {
   "cell_type": "code",
   "execution_count": null,
   "metadata": {},
   "outputs": [
    {
     "data": {
      "text/plain": [
       "torch.Size([112])"
      ]
     },
     "execution_count": null,
     "metadata": {},
     "output_type": "execute_result"
    }
   ],
   "source": [
    "criterion = nn."
   ]
  },
  {
   "cell_type": "code",
   "execution_count": null,
   "metadata": {},
   "outputs": [
    {
     "data": {
      "text/plain": [
       "array([[ 0.29166666,  0.00862068, -0.06250006, -0.37499997, -0.10416669,\n",
       "        -0.06250006],\n",
       "       [ 0.29166666,  0.0258621 , -0.06250006, -0.12499997, -0.10416669,\n",
       "        -0.06250006],\n",
       "       [ 0.37500003, -0.07758617,  0.02083331, -0.24999999, -0.02083331,\n",
       "         0.02083331],\n",
       "       [ 0.41666666, -0.02586204,  0.06249994, -0.04166666,  0.02083331,\n",
       "         0.06249994],\n",
       "       [ 0.37500003,  0.00862068,  0.02083331, -0.04166666, -0.02083331,\n",
       "         0.02083331],\n",
       "       [ 0.41666666, -0.02586204,  0.06249994,  0.04166669,  0.02083331,\n",
       "         0.06249994]], dtype=float32)"
      ]
     },
     "execution_count": null,
     "metadata": {},
     "output_type": "execute_result"
    }
   ],
   "source": [
    "\n",
    "comparisons.detach().numpy()[idx]"
   ]
  },
  {
   "cell_type": "code",
   "execution_count": null,
   "metadata": {},
   "outputs": [
    {
     "data": {
      "text/plain": [
       "array([[ 1.0226065 ,  0.53126144,  0.28143188,  0.00404172,  0.15864669,\n",
       "         0.28143188],\n",
       "       [ 1.0226065 ,  0.59325624,  0.28143188,  0.10803522,  0.15864669,\n",
       "         0.28143188],\n",
       "       [ 0.99595827,  0.23401788,  0.5752907 , -0.02687919,  0.4247093 ,\n",
       "         0.5752907 ],\n",
       "       [ 0.988738  ,  0.40674394,  0.71856767,  0.35126743,  0.5752907 ,\n",
       "         0.71856767],\n",
       "       [ 0.99595827,  0.53126144,  0.5752907 ,  0.35126743,  0.4247093 ,\n",
       "         0.5752907 ],\n",
       "       [ 0.988738  ,  0.40674394,  0.71856767,  0.64873266,  0.5752907 ,\n",
       "         0.71856767]], dtype=float32)"
      ]
     },
     "execution_count": null,
     "metadata": {},
     "output_type": "execute_result"
    }
   ],
   "source": [
    "a_comparisons.detach().numpy()[idx]"
   ]
  },
  {
   "cell_type": "code",
   "execution_count": null,
   "metadata": {},
   "outputs": [
    {
     "data": {
      "text/plain": [
       "array([[[37.,  0.,  0.]],\n",
       "\n",
       "       [[ 0., 32.,  0.]],\n",
       "\n",
       "       [[ 0.,  0.,  3.]],\n",
       "\n",
       "       [[ 0.,  1.,  0.]],\n",
       "\n",
       "       [[ 0.,  0.,  3.]],\n",
       "\n",
       "       [[ 0.,  1.,  0.]],\n",
       "\n",
       "       [[ 0.,  0., 35.]]])"
      ]
     },
     "execution_count": null,
     "metadata": {},
     "output_type": "execute_result"
    }
   ],
   "source": [
    "tree.tree_.value[idx2leaves]"
   ]
  },
  {
   "cell_type": "code",
   "execution_count": null,
   "metadata": {},
   "outputs": [
    {
     "data": {
      "text/plain": [
       "array([[ 0.03472222, -0.02574233, -0.15074235, -0.442409  , -0.1721743 ,\n",
       "        -0.35967433, -0.3839799 ],\n",
       "       [ 0.03472222, -0.0286159 , -0.19528258, -0.4036159 , -0.16930073,\n",
       "        -0.35680076, -0.38110632],\n",
       "       [ 0.02083333, -0.01137452, -0.12943009, -0.37943006, -0.20043102,\n",
       "        -0.36015323, -0.37056988],\n",
       "       [ 0.01388889, -0.01999521, -0.15888411, -0.33943966, -0.19875477,\n",
       "        -0.3445881 , -0.34806034],\n",
       "       [ 0.02083333, -0.02574233, -0.17852011, -0.35907567, -0.18606322,\n",
       "        -0.34578544, -0.3562021 ],\n",
       "       [ 0.01388889, -0.01999521, -0.172773  , -0.32555076, -0.19875477,\n",
       "        -0.3445881 , -0.34806034]], dtype=float32)"
      ]
     },
     "execution_count": null,
     "metadata": {},
     "output_type": "execute_result"
    }
   ],
   "source": [
    "matches.detach().numpy()[idx]"
   ]
  },
  {
   "cell_type": "code",
   "execution_count": null,
   "metadata": {},
   "outputs": [
    {
     "data": {
      "text/plain": [
       "[1, 4, 6, 7, 10, 11, 12]"
      ]
     },
     "execution_count": null,
     "metadata": {},
     "output_type": "execute_result"
    }
   ],
   "source": [
    "idx2leaves"
   ]
  },
  {
   "cell_type": "code",
   "execution_count": null,
   "metadata": {},
   "outputs": [
    {
     "data": {
      "text/plain": [
       "array([[ 6.2456876e-01,  4.0717018e-01,  5.6833252e-02,  1.1788622e-02,\n",
       "         2.4052277e-02, -3.6442280e-04,  6.2343478e-03],\n",
       "       [ 6.2456876e-01,  3.9696065e-01, -1.5120506e-03,  9.8398477e-03,\n",
       "         2.7931094e-02, -1.2688935e-03,  5.5673718e-03],\n",
       "       [ 5.7529074e-01,  4.5877376e-01,  9.8312348e-02,  5.1629841e-03,\n",
       "        -5.8923215e-03, -2.1582842e-04,  2.8478354e-03],\n",
       "       [ 5.5030900e-01,  4.2771468e-01,  4.3327749e-02, -7.0945472e-03,\n",
       "        -4.5168400e-03, -5.3164512e-03, -4.1372031e-03],\n",
       "       [ 5.7529074e-01,  4.0717015e-01,  1.6043767e-02, -5.5108964e-04,\n",
       "         7.5076222e-03, -4.9077272e-03, -1.4599264e-03],\n",
       "       [ 5.5030900e-01,  4.2771468e-01,  2.3264006e-02, -1.1965156e-02,\n",
       "        -4.5168400e-03, -5.3164512e-03, -4.1372031e-03]], dtype=float32)"
      ]
     },
     "execution_count": null,
     "metadata": {},
     "output_type": "execute_result"
    }
   ],
   "source": [
    "a_matches.detach().numpy()[idx]"
   ]
  },
  {
   "cell_type": "code",
   "execution_count": null,
   "metadata": {},
   "outputs": [],
   "source": [
    "idx = np.arange(len(X_train))[(pred != torch.tensor(y)).numpy()]"
   ]
  },
  {
   "cell_type": "code",
   "execution_count": null,
   "metadata": {},
   "outputs": [
    {
     "ename": "NameError",
     "evalue": "name 'nodes_to_linear' is not defined",
     "output_type": "error",
     "traceback": [
      "\u001b[1;31m---------------------------------------------------------------------------\u001b[0m",
      "\u001b[1;31mNameError\u001b[0m                                 Traceback (most recent call last)",
      "\u001b[1;32m<ipython-input-89-e9aecd6a8f5f>\u001b[0m in \u001b[0;36m<module>\u001b[1;34m\u001b[0m\n\u001b[1;32m----> 1\u001b[1;33m \u001b[0mcomparisons\u001b[0m \u001b[1;33m=\u001b[0m \u001b[0mnodes_to_linear\u001b[0m\u001b[1;33m(\u001b[0m\u001b[0midx2nodes\u001b[0m\u001b[1;33m,\u001b[0m\u001b[0mfeature\u001b[0m\u001b[1;33m,\u001b[0m\u001b[0mthreshold\u001b[0m\u001b[1;33m,\u001b[0m\u001b[0md\u001b[0m\u001b[1;33m)\u001b[0m\u001b[1;33m\u001b[0m\u001b[1;33m\u001b[0m\u001b[0m\n\u001b[0m\u001b[0;32m      2\u001b[0m \u001b[0mpaths\u001b[0m \u001b[1;33m=\u001b[0m \u001b[0mpath_to_linear\u001b[0m\u001b[1;33m(\u001b[0m\u001b[0mleafToPath\u001b[0m\u001b[1;33m,\u001b[0m\u001b[0mnodes2idx\u001b[0m\u001b[1;33m)\u001b[0m\u001b[1;33m\u001b[0m\u001b[1;33m\u001b[0m\u001b[0m\n",
      "\u001b[1;31mNameError\u001b[0m: name 'nodes_to_linear' is not defined"
     ]
    }
   ],
   "source": [
    "comparisons = nodes_to_linear(idx2nodes,feature,threshold,d)\n",
    "paths = path_to_linear(leafToPath,nodes2idx)"
   ]
  },
  {
   "cell_type": "code",
   "execution_count": null,
   "metadata": {},
   "outputs": [],
   "source": [
    "X_train = torch.tensor(X_train).float()"
   ]
  },
  {
   "cell_type": "code",
   "execution_count": null,
   "metadata": {},
   "outputs": [
    {
     "ename": "TypeError",
     "evalue": "'Tensor' object is not callable",
     "output_type": "error",
     "traceback": [
      "\u001b[1;31m---------------------------------------------------------------------------\u001b[0m",
      "\u001b[1;31mTypeError\u001b[0m                                 Traceback (most recent call last)",
      "\u001b[1;32m<ipython-input-91-e1098f7d6f75>\u001b[0m in \u001b[0;36m<module>\u001b[1;34m\u001b[0m\n\u001b[1;32m----> 1\u001b[1;33m \u001b[0mz\u001b[0m \u001b[1;33m=\u001b[0m \u001b[0mcomparisons\u001b[0m\u001b[1;33m(\u001b[0m\u001b[0mX_train\u001b[0m\u001b[1;33m)\u001b[0m\u001b[1;33m\u001b[0m\u001b[1;33m\u001b[0m\u001b[0m\n\u001b[0m",
      "\u001b[1;31mTypeError\u001b[0m: 'Tensor' object is not callable"
     ]
    }
   ],
   "source": [
    "z = comparisons(X_train)"
   ]
  },
  {
   "cell_type": "code",
   "execution_count": null,
   "metadata": {},
   "outputs": [
    {
     "ename": "NameError",
     "evalue": "name 'results' is not defined",
     "output_type": "error",
     "traceback": [
      "\u001b[1;31m---------------------------------------------------------------------------\u001b[0m",
      "\u001b[1;31mNameError\u001b[0m                                 Traceback (most recent call last)",
      "\u001b[1;32m<ipython-input-92-6f0cde8b139f>\u001b[0m in \u001b[0;36m<module>\u001b[1;34m\u001b[0m\n\u001b[1;32m----> 1\u001b[1;33m \u001b[0ma\u001b[0m \u001b[1;33m=\u001b[0m \u001b[0mp_sigmoid\u001b[0m\u001b[1;33m(\u001b[0m\u001b[0mresults\u001b[0m\u001b[1;33m)\u001b[0m\u001b[1;33m\u001b[0m\u001b[1;33m\u001b[0m\u001b[0m\n\u001b[0m",
      "\u001b[1;31mNameError\u001b[0m: name 'results' is not defined"
     ]
    }
   ],
   "source": [
    "a = p_sigmoid(results)"
   ]
  },
  {
   "cell_type": "code",
   "execution_count": null,
   "metadata": {},
   "outputs": [],
   "source": [
    "y = paths(a.float())"
   ]
  },
  {
   "cell_type": "code",
   "execution_count": null,
   "metadata": {},
   "outputs": [],
   "source": [
    "pred = p_sigmoid(y)"
   ]
  },
  {
   "cell_type": "code",
   "execution_count": null,
   "metadata": {},
   "outputs": [
    {
     "data": {
      "text/plain": [
       "tensor([[False,  True, False, False, False, False, False],\n",
       "        [False,  True, False, False, False, False, False],\n",
       "        [False, False, False, False, False, False,  True],\n",
       "        [ True, False, False, False, False, False, False],\n",
       "        [False, False, False, False, False, False,  True],\n",
       "        [ True, False, False, False, False, False, False],\n",
       "        [ True, False, False, False, False, False, False],\n",
       "        [False,  True, False, False, False, False, False],\n",
       "        [False, False, False, False, False, False,  True],\n",
       "        [False, False, False, False, False, False,  True],\n",
       "        [False, False, False, False,  True, False, False],\n",
       "        [False, False, False, False, False, False,  True],\n",
       "        [False,  True, False, False, False, False, False],\n",
       "        [False, False, False, False, False, False,  True],\n",
       "        [False,  True, False, False, False, False, False],\n",
       "        [False,  True, False, False, False, False, False],\n",
       "        [False, False,  True, False, False, False, False],\n",
       "        [False, False, False, False,  True, False, False],\n",
       "        [False, False,  True, False, False, False, False],\n",
       "        [False, False, False, False, False, False,  True],\n",
       "        [False,  True, False, False, False, False, False],\n",
       "        [False, False, False, False, False, False,  True],\n",
       "        [False,  True, False,  True, False, False, False],\n",
       "        [ True, False, False, False, False, False, False],\n",
       "        [False, False, False, False, False, False,  True],\n",
       "        [False,  True, False, False, False, False, False],\n",
       "        [False,  True, False, False, False, False, False],\n",
       "        [False,  True, False, False, False, False, False],\n",
       "        [False,  True, False, False, False, False, False],\n",
       "        [False, False, False, False, False, False,  True],\n",
       "        [ True, False, False, False, False, False, False],\n",
       "        [ True, False, False, False, False, False, False],\n",
       "        [False, False, False, False, False, False,  True],\n",
       "        [False,  True, False, False, False, False, False],\n",
       "        [ True, False, False, False, False, False, False],\n",
       "        [ True, False, False, False, False, False, False],\n",
       "        [False,  True, False, False,  True, False, False],\n",
       "        [ True, False, False, False, False, False, False],\n",
       "        [False, False, False, False, False, False, False],\n",
       "        [False,  True, False, False, False, False, False],\n",
       "        [ True, False, False, False, False, False, False],\n",
       "        [False,  True, False, False, False, False, False],\n",
       "        [False, False, False, False, False, False,  True],\n",
       "        [False,  True, False, False, False, False, False],\n",
       "        [ True, False, False, False, False, False, False],\n",
       "        [False, False, False, False, False, False,  True],\n",
       "        [False, False, False, False, False, False,  True],\n",
       "        [False, False, False, False, False, False,  True],\n",
       "        [False, False, False, False, False, False,  True],\n",
       "        [ True, False, False, False, False, False, False],\n",
       "        [ True, False, False, False, False, False, False],\n",
       "        [False, False, False, False, False, False,  True],\n",
       "        [False, False, False, False, False, False,  True],\n",
       "        [ True, False, False, False, False, False, False],\n",
       "        [False, False, False, False, False, False,  True],\n",
       "        [ True, False, False, False, False, False, False],\n",
       "        [False, False, False, False, False, False,  True],\n",
       "        [False, False, False, False, False, False,  True],\n",
       "        [ True, False, False, False, False, False, False],\n",
       "        [ True, False, False, False, False, False, False],\n",
       "        [False, False, False, False,  True, False, False],\n",
       "        [ True, False, False, False, False, False, False],\n",
       "        [ True, False, False, False, False, False, False],\n",
       "        [ True, False, False, False, False, False, False],\n",
       "        [False,  True, False, False, False, False, False],\n",
       "        [False, False, False, False, False, False,  True],\n",
       "        [False, False, False, False, False, False,  True],\n",
       "        [ True, False, False, False, False, False, False],\n",
       "        [ True, False, False, False, False, False, False],\n",
       "        [ True, False, False, False, False, False, False],\n",
       "        [False,  True, False, False, False, False, False],\n",
       "        [False,  True, False, False, False, False, False],\n",
       "        [ True, False, False, False, False, False, False],\n",
       "        [ True, False, False, False, False, False, False],\n",
       "        [False,  True, False, False, False, False, False],\n",
       "        [ True, False, False, False, False, False, False],\n",
       "        [False, False, False, False, False, False,  True],\n",
       "        [False,  True, False, False, False, False, False],\n",
       "        [False, False, False, False, False, False,  True],\n",
       "        [False,  True, False, False, False, False, False],\n",
       "        [ True, False, False, False, False, False, False],\n",
       "        [False, False,  True, False, False, False, False],\n",
       "        [ True, False, False, False, False, False, False],\n",
       "        [False, False, False, False, False, False,  True],\n",
       "        [ True, False, False, False, False, False, False],\n",
       "        [ True, False, False, False, False, False, False],\n",
       "        [False, False, False, False, False, False,  True],\n",
       "        [ True, False, False, False, False, False, False],\n",
       "        [False, False, False, False, False, False,  True],\n",
       "        [False,  True, False, False, False, False, False],\n",
       "        [False,  True, False, False, False, False, False],\n",
       "        [False,  True, False, False, False, False, False],\n",
       "        [False, False, False, False, False, False,  True],\n",
       "        [False, False, False, False, False, False,  True],\n",
       "        [False,  True, False, False,  True, False, False],\n",
       "        [False, False, False, False, False, False, False],\n",
       "        [ True, False, False, False, False, False, False],\n",
       "        [False,  True, False, False, False, False, False],\n",
       "        [False, False, False, False, False, False,  True],\n",
       "        [False, False, False, False, False, False,  True],\n",
       "        [ True, False, False, False, False, False, False],\n",
       "        [False,  True, False, False, False, False, False],\n",
       "        [False,  True, False, False, False, False, False],\n",
       "        [False, False, False,  True, False, False, False],\n",
       "        [False,  True, False, False, False, False, False],\n",
       "        [ True, False, False, False, False, False, False],\n",
       "        [ True, False, False, False, False, False, False],\n",
       "        [ True, False, False, False, False, False, False],\n",
       "        [False, False, False, False, False, False,  True],\n",
       "        [False,  True, False, False, False, False, False],\n",
       "        [False, False, False, False, False, False,  True],\n",
       "        [ True, False, False, False, False, False, False]])"
      ]
     },
     "execution_count": null,
     "metadata": {},
     "output_type": "execute_result"
    }
   ],
   "source": [
    "pred > 0.5"
   ]
  },
  {
   "cell_type": "code",
   "execution_count": null,
   "metadata": {},
   "outputs": [
    {
     "data": {
      "text/plain": [
       "array([1, 1, 2, 0, 2, 0, 0, 1, 2, 2, 2, 2, 1, 2, 1, 1, 2, 2, 2, 2, 1, 2,\n",
       "       1, 0, 2, 1, 1, 1, 1, 2, 0, 0, 2, 1, 0, 0, 1, 0, 2, 1, 0, 1, 2, 1,\n",
       "       0, 2, 2, 2, 2, 0, 0, 2, 2, 0, 2, 0, 2, 2, 0, 0, 2, 0, 0, 0, 1, 2,\n",
       "       2, 0, 0, 0, 1, 1, 0, 0, 1, 0, 2, 1, 2, 1, 0, 2, 0, 2, 0, 0, 2, 0,\n",
       "       2, 1, 1, 1, 2, 2, 1, 1, 0, 1, 2, 2, 0, 1, 1, 1, 1, 0, 0, 0, 2, 1,\n",
       "       2, 0])"
      ]
     },
     "execution_count": null,
     "metadata": {},
     "output_type": "execute_result"
    }
   ],
   "source": [
    "estimator.predict(X_train.numpy())"
   ]
  },
  {
   "cell_type": "code",
   "execution_count": null,
   "metadata": {},
   "outputs": [
    {
     "name": "stdout",
     "output_type": "stream",
     "text": [
      "> \u001b[1;32mc:\\users\\daniel\\anaconda3\\envs\\emd\\lib\\site-packages\\torch\\nn\\functional.py\u001b[0m(1370)\u001b[0;36mlinear\u001b[1;34m()\u001b[0m\n",
      "\u001b[1;32m   1368 \u001b[1;33m    \u001b[1;32mif\u001b[0m \u001b[0minput\u001b[0m\u001b[1;33m.\u001b[0m\u001b[0mdim\u001b[0m\u001b[1;33m(\u001b[0m\u001b[1;33m)\u001b[0m \u001b[1;33m==\u001b[0m \u001b[1;36m2\u001b[0m \u001b[1;32mand\u001b[0m \u001b[0mbias\u001b[0m \u001b[1;32mis\u001b[0m \u001b[1;32mnot\u001b[0m \u001b[1;32mNone\u001b[0m\u001b[1;33m:\u001b[0m\u001b[1;33m\u001b[0m\u001b[1;33m\u001b[0m\u001b[0m\n",
      "\u001b[0m\u001b[1;32m   1369 \u001b[1;33m        \u001b[1;31m# fused op is marginally faster\u001b[0m\u001b[1;33m\u001b[0m\u001b[1;33m\u001b[0m\u001b[1;33m\u001b[0m\u001b[0m\n",
      "\u001b[0m\u001b[1;32m-> 1370 \u001b[1;33m        \u001b[0mret\u001b[0m \u001b[1;33m=\u001b[0m \u001b[0mtorch\u001b[0m\u001b[1;33m.\u001b[0m\u001b[0maddmm\u001b[0m\u001b[1;33m(\u001b[0m\u001b[0mbias\u001b[0m\u001b[1;33m,\u001b[0m \u001b[0minput\u001b[0m\u001b[1;33m,\u001b[0m \u001b[0mweight\u001b[0m\u001b[1;33m.\u001b[0m\u001b[0mt\u001b[0m\u001b[1;33m(\u001b[0m\u001b[1;33m)\u001b[0m\u001b[1;33m)\u001b[0m\u001b[1;33m\u001b[0m\u001b[1;33m\u001b[0m\u001b[0m\n",
      "\u001b[0m\u001b[1;32m   1371 \u001b[1;33m    \u001b[1;32melse\u001b[0m\u001b[1;33m:\u001b[0m\u001b[1;33m\u001b[0m\u001b[1;33m\u001b[0m\u001b[0m\n",
      "\u001b[0m\u001b[1;32m   1372 \u001b[1;33m        \u001b[0moutput\u001b[0m \u001b[1;33m=\u001b[0m \u001b[0minput\u001b[0m\u001b[1;33m.\u001b[0m\u001b[0mmatmul\u001b[0m\u001b[1;33m(\u001b[0m\u001b[0mweight\u001b[0m\u001b[1;33m.\u001b[0m\u001b[0mt\u001b[0m\u001b[1;33m(\u001b[0m\u001b[1;33m)\u001b[0m\u001b[1;33m)\u001b[0m\u001b[1;33m\u001b[0m\u001b[1;33m\u001b[0m\u001b[0m\n",
      "\u001b[0m\n",
      "ipdb> bias\n",
      "Parameter containing:\n",
      "tensor([ 0.5000, -0.5000, -1.5000, -2.5000, -1.5000, -2.5000, -2.5000],\n",
      "       requires_grad=True)\n",
      "ipdb> input\n",
      "tensor([[ 0.9900, -0.1244, -0.0095,  0.1281, -0.1369, -0.0095],\n",
      "        [ 1.0365, -0.0444,  0.0179,  0.0580,  0.0757,  0.0179],\n",
      "        [ 1.0236,  1.1258,  0.9821,  0.1281,  1.0914,  0.9821],\n",
      "        [ 0.0696,  0.0122, -0.0125,  0.8719,  0.0243, -0.0125],\n",
      "        [ 0.9918,  0.7414,  0.9554,  0.5000,  0.9243,  0.9554],\n",
      "        [-0.0986, -0.0312,  0.0300,  1.0365,  0.0357,  0.0300],\n",
      "        [ 0.0696, -0.0208, -0.0125,  0.9304,  0.0243, -0.0125],\n",
      "        [ 1.0986,  0.0696,  0.0446,  0.0402, -0.0235,  0.0446],\n",
      "        [ 0.9920,  1.1258,  1.0095,  0.1281,  0.6964,  1.0095],\n",
      "        [ 1.0012,  1.1244,  1.0524,  1.0986,  1.0235,  1.0524],\n",
      "        [ 0.9900,  0.5825, -0.0095, -0.0418, -0.1369, -0.0095],\n",
      "        [ 0.9920,  1.0897,  1.0095,  0.0696,  0.6964,  1.0095],\n",
      "        [ 1.1303,  0.0020,  0.0757,  0.0696,  0.0446,  0.0757],\n",
      "        [ 0.9918,  0.9589,  0.9554,  0.1281,  0.9243,  0.9554],\n",
      "        [ 1.0462,  0.1172,  0.3036,  1.0986, -0.0095,  0.3036],\n",
      "        [ 1.1303,  0.0411,  0.0757,  0.0100,  0.0446,  0.0757],\n",
      "        [ 0.9920,  0.4175,  1.0095, -0.0365,  0.6964,  1.0095],\n",
      "        [ 0.9900,  0.7414, -0.0095, -0.1303, -0.1369, -0.0095],\n",
      "        [ 1.0418, -0.0792,  0.6964,  0.0696,  0.3036,  0.6964],\n",
      "        [ 0.9598,  0.5825,  1.1369,  0.0696,  1.0095,  1.1369],\n",
      "        [ 0.9304,  0.1172, -0.1369,  0.8719, -0.0914, -0.1369],\n",
      "        [ 0.9812,  0.8828,  1.0914,  0.1281,  1.1369,  1.0914],\n",
      "        [ 1.0462, -0.0792,  0.3036,  1.1303, -0.0095,  0.3036],\n",
      "        [ 0.0696, -0.0312, -0.0125,  0.5000,  0.0243, -0.0125],\n",
      "        [ 0.9598,  0.7414,  1.1369, -0.0365,  1.0095,  1.1369],\n",
      "        [ 0.9420, -0.1244, -0.0914, -0.0365,  0.0179, -0.0914],\n",
      "        [ 0.9420,  0.0763, -0.0914, -0.0986,  0.0179, -0.0914],\n",
      "        [ 0.9420, -0.0444, -0.0914,  0.0696,  0.0179, -0.0914],\n",
      "        [ 0.9304,  0.0026, -0.1369,  0.1281, -0.0914, -0.1369],\n",
      "        [ 0.9920,  0.9980,  1.0095,  0.8719,  0.6964,  1.0095],\n",
      "        [ 0.0696, -0.0208, -0.0125,  0.9304,  0.0243, -0.0125],\n",
      "        [ 0.0100,  0.0285,  0.0243,  0.1281,  0.0180,  0.0243],\n",
      "        [ 0.9598,  0.9974,  1.1369, -0.0365,  1.0095,  1.1369],\n",
      "        [ 1.0365, -0.1244,  0.0179,  0.1281,  0.0757,  0.0179],\n",
      "        [ 0.0696, -0.0327, -0.0125,  1.1303,  0.0243, -0.0125],\n",
      "        [-0.0365, -0.0208, -0.0038,  1.0236, -0.0330, -0.0038],\n",
      "        [ 0.9900,  0.4175, -0.0095,  0.5000, -0.1369, -0.0095],\n",
      "        [ 0.0696, -0.0208, -0.0125,  0.5000,  0.0243, -0.0125],\n",
      "        [ 0.9920,  0.7414,  1.0095,  0.1281,  0.6964,  1.0095],\n",
      "        [ 1.1303, -0.0481,  0.0757,  0.0696,  0.0446,  0.0757],\n",
      "        [ 0.0580, -0.0047, -0.0330,  1.1303, -0.0125, -0.0330],\n",
      "        [ 0.9900, -0.0792, -0.0095, -0.0418, -0.1369, -0.0095],\n",
      "        [ 1.0012,  0.9589,  1.0524,  0.9420,  1.0235,  1.0524],\n",
      "        [ 0.9420, -0.1244, -0.0914, -0.0986,  0.0179, -0.0914],\n",
      "        [ 0.0100, -0.0047,  0.0243,  0.1281,  0.0180,  0.0243],\n",
      "        [ 1.0236,  1.0444,  0.9821,  0.1281,  1.0914,  0.9821],\n",
      "        [ 0.9918,  1.1244,  0.9554,  0.8719,  0.9243,  0.9554],\n",
      "        [ 1.0286,  1.0897,  0.9243,  0.1281,  0.9821,  0.9243],\n",
      "        [ 1.0236,  1.1392,  0.9821, -0.1303,  1.0914,  0.9821],\n",
      "        [ 0.0696, -0.0312, -0.0125,  0.9900,  0.0243, -0.0125],\n",
      "        [ 0.0696, -0.0312, -0.0125,  1.1303,  0.0243, -0.0125],\n",
      "        [ 0.9812,  0.7414,  1.0914,  0.8719,  1.1369,  1.0914],\n",
      "        [ 1.0236,  1.1244,  0.9821,  1.0986,  1.0914,  0.9821],\n",
      "        [ 0.0580,  0.0122, -0.0330, -0.0462, -0.0125, -0.0330],\n",
      "        [ 0.9918,  1.0792,  0.9554,  1.1303,  0.9243,  0.9554],\n",
      "        [ 0.0696, -0.0047, -0.0125,  0.1281,  0.0243, -0.0125],\n",
      "        [ 0.9812,  0.5825,  1.0914,  0.0696,  1.1369,  1.0914],\n",
      "        [ 1.0236,  1.0792,  0.9821,  0.5000,  1.0914,  0.9821],\n",
      "        [ 0.0696,  0.0122, -0.0125,  0.8719,  0.0243, -0.0125],\n",
      "        [ 0.0696, -0.0047, -0.0125,  0.9420,  0.0243, -0.0125],\n",
      "        [ 1.0462,  1.0897,  0.3036,  0.1281, -0.0095,  0.3036],\n",
      "        [ 0.0580, -0.0047, -0.0330,  1.0365, -0.0125, -0.0330],\n",
      "        [ 0.0696,  0.0122, -0.0125,  0.1281,  0.0243, -0.0125],\n",
      "        [-0.0365, -0.0327, -0.0038,  1.0462, -0.0330, -0.0038],\n",
      "        [ 0.9420, -0.0444, -0.0914, -0.0462,  0.0179, -0.0914],\n",
      "        [ 0.9918,  1.0444,  0.9554,  0.8719,  0.9243,  0.9554],\n",
      "        [ 1.0236,  0.9777,  0.9821,  0.1281,  1.0914,  0.9821],\n",
      "        [ 0.0696, -0.0047, -0.0125,  1.0365,  0.0243, -0.0125],\n",
      "        [ 0.0696, -0.0208, -0.0125,  0.5000,  0.0243, -0.0125],\n",
      "        [ 0.0696, -0.0047, -0.0125,  1.1303,  0.0243, -0.0125],\n",
      "        [ 0.9420, -0.0792, -0.0914, -0.1303,  0.0179, -0.0914],\n",
      "        [ 0.9304, -0.1258, -0.1369,  0.1281, -0.0914, -0.1369],\n",
      "        [ 0.0696,  0.0246, -0.0125,  0.8719,  0.0243, -0.0125],\n",
      "        [-0.1303, -0.0327,  0.0357,  1.0986, -0.0038,  0.0357],\n",
      "        [ 0.9420, -0.1392, -0.0914, -0.0986,  0.0179, -0.0914],\n",
      "        [-0.0365, -0.0208, -0.0038,  1.1303, -0.0330, -0.0038],\n",
      "        [ 0.9918,  1.0481,  0.9554,  0.0580,  0.9243,  0.9554],\n",
      "        [ 1.0986,  0.0223,  0.0446,  0.0100, -0.0235,  0.0446],\n",
      "        [ 0.9812,  0.9304,  1.0914,  0.9900,  1.1369,  1.0914],\n",
      "        [ 0.9304, -0.1258, -0.1369,  0.5000, -0.0914, -0.1369],\n",
      "        [ 0.0100, -0.0208,  0.0243,  0.9920,  0.0180,  0.0243],\n",
      "        [ 0.9920,  0.2586,  1.0095,  0.1281,  0.6964,  1.0095],\n",
      "        [ 0.0696,  0.0246, -0.0125,  1.0418,  0.0243, -0.0125],\n",
      "        [ 0.9812,  1.0070,  1.0914, -0.1303,  1.1369,  1.0914],\n",
      "        [ 0.0580, -0.0208, -0.0330,  0.9900, -0.0125, -0.0330],\n",
      "        [ 0.0696, -0.0312, -0.0125,  0.8719,  0.0243, -0.0125],\n",
      "        [ 0.9598,  0.9589,  1.1369, -0.1303,  1.0095,  1.1369],\n",
      "        [ 0.0696, -0.0047, -0.0125,  1.0986,  0.0243, -0.0125],\n",
      "        [ 0.9718,  1.1392,  1.0235,  1.1303,  0.9554,  1.0235],\n",
      "        [ 0.9420, -0.0897, -0.0914, -0.1303,  0.0179, -0.0914],\n",
      "        [ 1.0365,  0.0020,  0.0179, -0.0365,  0.0757,  0.0179],\n",
      "        [ 1.0986,  0.0696,  0.0446,  0.0580, -0.0235,  0.0446],\n",
      "        [ 0.9918,  0.9974,  0.9554,  0.8719,  0.9243,  0.9554],\n",
      "        [ 0.9918,  0.8828,  0.9554,  0.1281,  0.9243,  0.9554],\n",
      "        [ 0.9900,  0.4175, -0.0095,  0.0696, -0.1369, -0.0095],\n",
      "        [ 1.0418,  0.5825,  0.6964,  0.1281,  0.3036,  0.6964],\n",
      "        [ 0.0696, -0.0312, -0.0125,  0.1281,  0.0243, -0.0125],\n",
      "        [ 1.0986,  0.0668,  0.0446,  0.0100, -0.0235,  0.0446],\n",
      "        [ 0.9718,  1.1392,  1.0235,  0.5000,  0.9554,  1.0235],\n",
      "        [ 0.9598,  0.7414,  1.1369, -0.0365,  1.0095,  1.1369],\n",
      "        [ 0.0696, -0.0208, -0.0125,  1.1303,  0.0243, -0.0125],\n",
      "        [ 0.9420,  0.0026, -0.0914, -0.0986,  0.0179, -0.0914],\n",
      "        [ 0.9420, -0.0897, -0.0914,  0.1281,  0.0179, -0.0914],\n",
      "        [ 0.9920,  0.2586,  1.0095,  0.8719,  0.6964,  1.0095],\n",
      "        [ 0.9420, -0.1258, -0.0914, -0.0462,  0.0179, -0.0914],\n",
      "        [ 0.0696,  0.0122, -0.0125,  1.0365,  0.0243, -0.0125],\n",
      "        [-0.0365, -0.0208, -0.0038,  0.9304, -0.0330, -0.0038],\n",
      "        [ 0.0100, -0.0208,  0.0243,  0.5000,  0.0180,  0.0243],\n",
      "        [ 0.9920,  1.1392,  1.0095, -0.0986,  0.6964,  1.0095],\n",
      "        [ 1.0986, -0.0897,  0.0446, -0.0365, -0.0235,  0.0446],\n",
      "        [ 1.0286,  1.0070,  0.9243,  0.9900,  0.9821,  0.9243],\n",
      "        [ 0.0696, -0.0047, -0.0125,  0.8719,  0.0243, -0.0125]],\n",
      "       dtype=torch.float64, grad_fn=<AddBackward0>)\n"
     ]
    },
    {
     "name": "stdout",
     "output_type": "stream",
     "text": [
      "ipdb> weight\n",
      "Parameter containing:\n",
      "tensor([[-1.,  0.,  0.,  0.,  0.,  0.],\n",
      "        [ 1., -1., -1.,  0.,  0.,  0.],\n",
      "        [ 1., -1.,  1., -1.,  0.,  0.],\n",
      "        [ 1., -1.,  1.,  1.,  0.,  0.],\n",
      "        [ 1.,  1.,  0.,  0., -1., -1.],\n",
      "        [ 1.,  1.,  0.,  0., -1.,  1.],\n",
      "        [ 1.,  1.,  0.,  0.,  1.,  0.]], requires_grad=True)\n",
      "ipdb> exit()\n"
     ]
    }
   ],
   "source": [
    "%debug"
   ]
  },
  {
   "cell_type": "code",
   "execution_count": null,
   "metadata": {},
   "outputs": [],
   "source": [
    "weight = bit.linear.weight.data.numpy().reshape(-1)"
   ]
  },
  {
   "cell_type": "code",
   "execution_count": null,
   "metadata": {},
   "outputs": [],
   "source": [
    "import pandas as pd\n",
    "\n",
    "d = X.shape[1]\n",
    "comparisons = {}\n",
    "\n",
    "for i in range(n_nodes):\n",
    "    if not is_leaves[i] and children_right[i]:\n",
    "        w = np.zeros(d)\n",
    "        w[feature[i]] = 1\n",
    "        b = - np.array([threshold[i]])\n",
    "        comparisons[children_right[i]] = dict(\n",
    "            w=w,\n",
    "            b=b\n",
    "        )\n",
    "    if not is_leaves[i] and children_left[i]:\n",
    "        w = np.zeros(d)\n",
    "        w[feature[i]] = -1\n",
    "        b = np.array([threshold[i]])\n",
    "        comparisons[children_left[i]] = dict(\n",
    "            w=w,\n",
    "            b=b\n",
    "        )"
   ]
  },
  {
   "cell_type": "code",
   "execution_count": null,
   "metadata": {},
   "outputs": [],
   "source": [
    "df = pd.DataFrame(comparisons).T.sort_index()"
   ]
  },
  {
   "cell_type": "code",
   "execution_count": null,
   "metadata": {},
   "outputs": [],
   "source": [
    "W = np.stack(df.w.values)"
   ]
  },
  {
   "cell_type": "code",
   "execution_count": null,
   "metadata": {},
   "outputs": [],
   "source": [
    "b = np.stack(df.b.values).reshape(-1)"
   ]
  },
  {
   "cell_type": "code",
   "execution_count": null,
   "metadata": {},
   "outputs": [],
   "source": [
    "import torch.nn as nn\n",
    "\n",
    "lin = nn.Linear(4,12)"
   ]
  },
  {
   "cell_type": "code",
   "execution_count": null,
   "metadata": {},
   "outputs": [],
   "source": [
    "lin.weight.data = torch.tensor(W)\n",
    "lin.bias.data = torch.tensor(b)"
   ]
  },
  {
   "cell_type": "code",
   "execution_count": null,
   "metadata": {},
   "outputs": [
    {
     "data": {
      "text/plain": [
       "tensor([[0.5229, 0.4771, 0.3238,  ..., 0.6096, 0.3904, 0.3805],\n",
       "        [0.5229, 0.4771, 0.3238,  ..., 0.6096, 0.3904, 0.3805],\n",
       "        [0.5229, 0.4771, 0.3461,  ..., 0.6096, 0.3904, 0.3805],\n",
       "        ...,\n",
       "        [0.1534, 0.8466, 0.0106,  ..., 0.2052, 0.7948, 0.7879],\n",
       "        [0.1183, 0.8817, 0.0087,  ..., 0.1605, 0.8395, 0.8338],\n",
       "        [0.1812, 0.8188, 0.0117,  ..., 0.2397, 0.7603, 0.7526]],\n",
       "       dtype=torch.float64, grad_fn=<SigmoidBackward>)"
      ]
     },
     "execution_count": null,
     "metadata": {},
     "output_type": "execute_result"
    }
   ],
   "source": [
    "torch.sigmoid(lin(torch.tensor(X)))"
   ]
  },
  {
   "cell_type": "code",
   "execution_count": null,
   "metadata": {},
   "outputs": [
    {
     "data": {
      "text/plain": [
       "tensor([[ True,  True,  True,  ..., False, False, False],\n",
       "        [False, False, False,  ...,  True,  True,  True],\n",
       "        [False, False, False,  ..., False, False, False],\n",
       "        ...,\n",
       "        [ True,  True,  True,  ..., False, False, False],\n",
       "        [False, False, False,  ...,  True,  True,  True],\n",
       "        [False, False, False,  ...,  True,  True,  True]])"
      ]
     },
     "execution_count": null,
     "metadata": {},
     "output_type": "execute_result"
    }
   ],
   "source": [
    "(torch.sigmoid(torch.tensor(np.matmul(W,X.T) + b)) > 0.5)"
   ]
  },
  {
   "cell_type": "code",
   "execution_count": null,
   "metadata": {},
   "outputs": [],
   "source": [
    "from collections import OrderedDict\n",
    "\n",
    "comparisons = OrderedDict(sorted(comparisons.items(), key=lambda t: t[0]))"
   ]
  },
  {
   "cell_type": "code",
   "execution_count": null,
   "metadata": {},
   "outputs": [
    {
     "data": {
      "text/plain": [
       "OrderedDict([(1, {'w': array([ 0.,  0.,  0., -1.]), 'b': array([0.29166666])}),\n",
       "             (2, {'w': array([0., 0., 0., 1.]), 'b': array([-0.29166666])}),\n",
       "             (3, {'w': array([ 0.,  0., -1.,  0.]), 'b': array([0.66379309])}),\n",
       "             (4, {'w': array([ 0.,  0.,  0., -1.]), 'b': array([0.64583334])}),\n",
       "             (5, {'w': array([0., 0., 0., 1.]), 'b': array([-0.64583334])}),\n",
       "             (6, {'w': array([ 0., -1.,  0.,  0.]), 'b': array([0.45833333])}),\n",
       "             (7, {'w': array([0., 1., 0., 0.]), 'b': array([-0.45833333])}),\n",
       "             (8, {'w': array([0., 0., 1., 0.]), 'b': array([-0.66379309])}),\n",
       "             (9, {'w': array([ 0.,  0.,  0., -1.]), 'b': array([0.6875])}),\n",
       "             (10,\n",
       "              {'w': array([ 0.,  0.,  0., -1.]), 'b': array([0.64583334])}),\n",
       "             (11, {'w': array([0., 0., 0., 1.]), 'b': array([-0.64583334])}),\n",
       "             (12, {'w': array([0., 0., 0., 1.]), 'b': array([-0.6875])})])"
      ]
     },
     "execution_count": null,
     "metadata": {},
     "output_type": "execute_result"
    }
   ],
   "source": [
    "comparisons"
   ]
  },
  {
   "cell_type": "code",
   "execution_count": null,
   "metadata": {},
   "outputs": [
    {
     "data": {
      "text/plain": [
       "odict_values([{'w': array([ 0.,  0.,  0., -1.]), 'b': array([0.29166666])}, {'w': array([0., 0., 0., 1.]), 'b': array([-0.29166666])}, {'w': array([ 0.,  0., -1.,  0.]), 'b': array([0.66379309])}, {'w': array([ 0.,  0.,  0., -1.]), 'b': array([0.64583334])}, {'w': array([0., 0., 0., 1.]), 'b': array([-0.64583334])}, {'w': array([ 0., -1.,  0.,  0.]), 'b': array([0.45833333])}, {'w': array([0., 1., 0., 0.]), 'b': array([-0.45833333])}, {'w': array([0., 0., 1., 0.]), 'b': array([-0.66379309])}, {'w': array([ 0.,  0.,  0., -1.]), 'b': array([0.6875])}, {'w': array([ 0.,  0.,  0., -1.]), 'b': array([0.64583334])}, {'w': array([0., 0., 0., 1.]), 'b': array([-0.64583334])}, {'w': array([0., 0., 0., 1.]), 'b': array([-0.6875])}])"
      ]
     },
     "execution_count": null,
     "metadata": {},
     "output_type": "execute_result"
    }
   ],
   "source": [
    "comparisons.values()"
   ]
  },
  {
   "cell_type": "code",
   "execution_count": null,
   "metadata": {},
   "outputs": [
    {
     "name": "stdout",
     "output_type": "stream",
     "text": [
      "1.1331583041478315\n",
      "-0.13315830414783147\n",
      "-0.13315830414783186\n"
     ]
    },
    {
     "data": {
      "text/plain": [
       "(None, None)"
      ]
     },
     "execution_count": null,
     "metadata": {},
     "output_type": "execute_result"
    }
   ],
   "source": [
    "t = 0.1\n",
    "print(p_sigmoid(t))\n",
    "print(1-p_sigmoid(t)), print(p_sigmoid(-t))"
   ]
  },
  {
   "cell_type": "code",
   "execution_count": null,
   "metadata": {},
   "outputs": [
    {
     "data": {
      "text/plain": [
       "array([[5.1, 3.5, 1.4, 0.2],\n",
       "       [4.9, 3. , 1.4, 0.2],\n",
       "       [4.7, 3.2, 1.3, 0.2],\n",
       "       [4.6, 3.1, 1.5, 0.2],\n",
       "       [5. , 3.6, 1.4, 0.2],\n",
       "       [5.4, 3.9, 1.7, 0.4],\n",
       "       [4.6, 3.4, 1.4, 0.3],\n",
       "       [5. , 3.4, 1.5, 0.2],\n",
       "       [4.4, 2.9, 1.4, 0.2],\n",
       "       [4.9, 3.1, 1.5, 0.1],\n",
       "       [5.4, 3.7, 1.5, 0.2],\n",
       "       [4.8, 3.4, 1.6, 0.2],\n",
       "       [4.8, 3. , 1.4, 0.1],\n",
       "       [4.3, 3. , 1.1, 0.1],\n",
       "       [5.8, 4. , 1.2, 0.2],\n",
       "       [5.7, 4.4, 1.5, 0.4],\n",
       "       [5.4, 3.9, 1.3, 0.4],\n",
       "       [5.1, 3.5, 1.4, 0.3],\n",
       "       [5.7, 3.8, 1.7, 0.3],\n",
       "       [5.1, 3.8, 1.5, 0.3],\n",
       "       [5.4, 3.4, 1.7, 0.2],\n",
       "       [5.1, 3.7, 1.5, 0.4],\n",
       "       [4.6, 3.6, 1. , 0.2],\n",
       "       [5.1, 3.3, 1.7, 0.5],\n",
       "       [4.8, 3.4, 1.9, 0.2],\n",
       "       [5. , 3. , 1.6, 0.2],\n",
       "       [5. , 3.4, 1.6, 0.4],\n",
       "       [5.2, 3.5, 1.5, 0.2],\n",
       "       [5.2, 3.4, 1.4, 0.2],\n",
       "       [4.7, 3.2, 1.6, 0.2],\n",
       "       [4.8, 3.1, 1.6, 0.2],\n",
       "       [5.4, 3.4, 1.5, 0.4],\n",
       "       [5.2, 4.1, 1.5, 0.1],\n",
       "       [5.5, 4.2, 1.4, 0.2],\n",
       "       [4.9, 3.1, 1.5, 0.2],\n",
       "       [5. , 3.2, 1.2, 0.2],\n",
       "       [5.5, 3.5, 1.3, 0.2],\n",
       "       [4.9, 3.6, 1.4, 0.1],\n",
       "       [4.4, 3. , 1.3, 0.2],\n",
       "       [5.1, 3.4, 1.5, 0.2],\n",
       "       [5. , 3.5, 1.3, 0.3],\n",
       "       [4.5, 2.3, 1.3, 0.3],\n",
       "       [4.4, 3.2, 1.3, 0.2],\n",
       "       [5. , 3.5, 1.6, 0.6],\n",
       "       [5.1, 3.8, 1.9, 0.4],\n",
       "       [4.8, 3. , 1.4, 0.3],\n",
       "       [5.1, 3.8, 1.6, 0.2],\n",
       "       [4.6, 3.2, 1.4, 0.2],\n",
       "       [5.3, 3.7, 1.5, 0.2],\n",
       "       [5. , 3.3, 1.4, 0.2],\n",
       "       [7. , 3.2, 4.7, 1.4],\n",
       "       [6.4, 3.2, 4.5, 1.5],\n",
       "       [6.9, 3.1, 4.9, 1.5],\n",
       "       [5.5, 2.3, 4. , 1.3],\n",
       "       [6.5, 2.8, 4.6, 1.5],\n",
       "       [5.7, 2.8, 4.5, 1.3],\n",
       "       [6.3, 3.3, 4.7, 1.6],\n",
       "       [4.9, 2.4, 3.3, 1. ],\n",
       "       [6.6, 2.9, 4.6, 1.3],\n",
       "       [5.2, 2.7, 3.9, 1.4],\n",
       "       [5. , 2. , 3.5, 1. ],\n",
       "       [5.9, 3. , 4.2, 1.5],\n",
       "       [6. , 2.2, 4. , 1. ],\n",
       "       [6.1, 2.9, 4.7, 1.4],\n",
       "       [5.6, 2.9, 3.6, 1.3],\n",
       "       [6.7, 3.1, 4.4, 1.4],\n",
       "       [5.6, 3. , 4.5, 1.5],\n",
       "       [5.8, 2.7, 4.1, 1. ],\n",
       "       [6.2, 2.2, 4.5, 1.5],\n",
       "       [5.6, 2.5, 3.9, 1.1],\n",
       "       [5.9, 3.2, 4.8, 1.8],\n",
       "       [6.1, 2.8, 4. , 1.3],\n",
       "       [6.3, 2.5, 4.9, 1.5],\n",
       "       [6.1, 2.8, 4.7, 1.2],\n",
       "       [6.4, 2.9, 4.3, 1.3],\n",
       "       [6.6, 3. , 4.4, 1.4],\n",
       "       [6.8, 2.8, 4.8, 1.4],\n",
       "       [6.7, 3. , 5. , 1.7],\n",
       "       [6. , 2.9, 4.5, 1.5],\n",
       "       [5.7, 2.6, 3.5, 1. ],\n",
       "       [5.5, 2.4, 3.8, 1.1],\n",
       "       [5.5, 2.4, 3.7, 1. ],\n",
       "       [5.8, 2.7, 3.9, 1.2],\n",
       "       [6. , 2.7, 5.1, 1.6],\n",
       "       [5.4, 3. , 4.5, 1.5],\n",
       "       [6. , 3.4, 4.5, 1.6],\n",
       "       [6.7, 3.1, 4.7, 1.5],\n",
       "       [6.3, 2.3, 4.4, 1.3],\n",
       "       [5.6, 3. , 4.1, 1.3],\n",
       "       [5.5, 2.5, 4. , 1.3],\n",
       "       [5.5, 2.6, 4.4, 1.2],\n",
       "       [6.1, 3. , 4.6, 1.4],\n",
       "       [5.8, 2.6, 4. , 1.2],\n",
       "       [5. , 2.3, 3.3, 1. ],\n",
       "       [5.6, 2.7, 4.2, 1.3],\n",
       "       [5.7, 3. , 4.2, 1.2],\n",
       "       [5.7, 2.9, 4.2, 1.3],\n",
       "       [6.2, 2.9, 4.3, 1.3],\n",
       "       [5.1, 2.5, 3. , 1.1],\n",
       "       [5.7, 2.8, 4.1, 1.3],\n",
       "       [6.3, 3.3, 6. , 2.5],\n",
       "       [5.8, 2.7, 5.1, 1.9],\n",
       "       [7.1, 3. , 5.9, 2.1],\n",
       "       [6.3, 2.9, 5.6, 1.8],\n",
       "       [6.5, 3. , 5.8, 2.2],\n",
       "       [7.6, 3. , 6.6, 2.1],\n",
       "       [4.9, 2.5, 4.5, 1.7],\n",
       "       [7.3, 2.9, 6.3, 1.8],\n",
       "       [6.7, 2.5, 5.8, 1.8],\n",
       "       [7.2, 3.6, 6.1, 2.5],\n",
       "       [6.5, 3.2, 5.1, 2. ],\n",
       "       [6.4, 2.7, 5.3, 1.9],\n",
       "       [6.8, 3. , 5.5, 2.1],\n",
       "       [5.7, 2.5, 5. , 2. ],\n",
       "       [5.8, 2.8, 5.1, 2.4],\n",
       "       [6.4, 3.2, 5.3, 2.3],\n",
       "       [6.5, 3. , 5.5, 1.8],\n",
       "       [7.7, 3.8, 6.7, 2.2],\n",
       "       [7.7, 2.6, 6.9, 2.3],\n",
       "       [6. , 2.2, 5. , 1.5],\n",
       "       [6.9, 3.2, 5.7, 2.3],\n",
       "       [5.6, 2.8, 4.9, 2. ],\n",
       "       [7.7, 2.8, 6.7, 2. ],\n",
       "       [6.3, 2.7, 4.9, 1.8],\n",
       "       [6.7, 3.3, 5.7, 2.1],\n",
       "       [7.2, 3.2, 6. , 1.8],\n",
       "       [6.2, 2.8, 4.8, 1.8],\n",
       "       [6.1, 3. , 4.9, 1.8],\n",
       "       [6.4, 2.8, 5.6, 2.1],\n",
       "       [7.2, 3. , 5.8, 1.6],\n",
       "       [7.4, 2.8, 6.1, 1.9],\n",
       "       [7.9, 3.8, 6.4, 2. ],\n",
       "       [6.4, 2.8, 5.6, 2.2],\n",
       "       [6.3, 2.8, 5.1, 1.5],\n",
       "       [6.1, 2.6, 5.6, 1.4],\n",
       "       [7.7, 3. , 6.1, 2.3],\n",
       "       [6.3, 3.4, 5.6, 2.4],\n",
       "       [6.4, 3.1, 5.5, 1.8],\n",
       "       [6. , 3. , 4.8, 1.8],\n",
       "       [6.9, 3.1, 5.4, 2.1],\n",
       "       [6.7, 3.1, 5.6, 2.4],\n",
       "       [6.9, 3.1, 5.1, 2.3],\n",
       "       [5.8, 2.7, 5.1, 1.9],\n",
       "       [6.8, 3.2, 5.9, 2.3],\n",
       "       [6.7, 3.3, 5.7, 2.5],\n",
       "       [6.7, 3. , 5.2, 2.3],\n",
       "       [6.3, 2.5, 5. , 1.9],\n",
       "       [6.5, 3. , 5.2, 2. ],\n",
       "       [6.2, 3.4, 5.4, 2.3],\n",
       "       [5.9, 3. , 5.1, 1.8]])"
      ]
     },
     "execution_count": null,
     "metadata": {},
     "output_type": "execute_result"
    }
   ],
   "source": [
    "X"
   ]
  },
  {
   "cell_type": "code",
   "execution_count": null,
   "metadata": {},
   "outputs": [
    {
     "data": {
      "text/plain": [
       "array([ 0.80000001, -2.        ,  4.95000005, -2.        , -2.        ])"
      ]
     },
     "execution_count": null,
     "metadata": {},
     "output_type": "execute_result"
    }
   ],
   "source": [
    "threshold"
   ]
  },
  {
   "cell_type": "code",
   "execution_count": null,
   "metadata": {},
   "outputs": [],
   "source": [
    "a = [0,1,1]\n",
    "n = len(a)\n",
    "\n",
    "products = [[0,1]] * n\n",
    "\n",
    "x = list(itertools.product(*products))\n",
    "x = np.array(x)"
   ]
  },
  {
   "cell_type": "code",
   "execution_count": null,
   "metadata": {},
   "outputs": [
    {
     "ename": "TypeError",
     "evalue": "eq() received an invalid combination of arguments - got (list), but expected one of:\n * (Tensor other)\n      didn't match because some of the arguments have invalid types: (\u001b[31;1mlist\u001b[0m)\n * (Number other)\n      didn't match because some of the arguments have invalid types: (\u001b[31;1mlist\u001b[0m)\n",
     "output_type": "error",
     "traceback": [
      "\u001b[1;31m---------------------------------------------------------------------------\u001b[0m",
      "\u001b[1;31mTypeError\u001b[0m                                 Traceback (most recent call last)",
      "\u001b[1;32m<ipython-input-37-1294190defb7>\u001b[0m in \u001b[0;36m<module>\u001b[1;34m\u001b[0m\n\u001b[1;32m----> 1\u001b[1;33m \u001b[0mtorch\u001b[0m\u001b[1;33m.\u001b[0m\u001b[0mtensor\u001b[0m\u001b[1;33m(\u001b[0m\u001b[0mx\u001b[0m\u001b[1;33m)\u001b[0m \u001b[1;33m==\u001b[0m \u001b[0ma\u001b[0m\u001b[1;33m\u001b[0m\u001b[1;33m\u001b[0m\u001b[0m\n\u001b[0m",
      "\u001b[1;31mTypeError\u001b[0m: eq() received an invalid combination of arguments - got (list), but expected one of:\n * (Tensor other)\n      didn't match because some of the arguments have invalid types: (\u001b[31;1mlist\u001b[0m)\n * (Number other)\n      didn't match because some of the arguments have invalid types: (\u001b[31;1mlist\u001b[0m)\n"
     ]
    }
   ],
   "source": [
    "torch.tensor(x) == "
   ]
  },
  {
   "cell_type": "code",
   "execution_count": null,
   "metadata": {},
   "outputs": [
    {
     "data": {
      "text/plain": [
       "torch.Size([1, 5])"
      ]
     },
     "execution_count": null,
     "metadata": {},
     "output_type": "execute_result"
    }
   ],
   "source": [
    "bitcomparison.linear.weight.data.shape"
   ]
  }
 ],
 "metadata": {
  "kernelspec": {
   "display_name": "Python 3",
   "language": "python",
   "name": "python3"
  }
 },
 "nbformat": 4,
 "nbformat_minor": 2
}

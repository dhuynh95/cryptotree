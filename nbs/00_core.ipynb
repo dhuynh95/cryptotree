{
 "cells": [
  {
   "cell_type": "code",
   "execution_count": null,
   "metadata": {},
   "outputs": [],
   "source": [
    "# default_exp core"
   ]
  },
  {
   "cell_type": "markdown",
   "metadata": {},
   "source": [
    "# module name here\n",
    "\n",
    "> API details."
   ]
  },
  {
   "cell_type": "code",
   "execution_count": null,
   "metadata": {},
   "outputs": [],
   "source": [
    "#hide\n",
    "from nbdev.showdoc import *"
   ]
  },
  {
   "cell_type": "code",
   "execution_count": null,
   "metadata": {},
   "outputs": [],
   "source": [
    "# export\n",
    "import numpy as np\n",
    "from typing import List\n",
    "import torch.nn as nn\n",
    "import torch\n",
    "\n",
    "def shift_bit_eps(bit: int, eps: float = 0.5):\n",
    "    assert bit in [0,1], \"Bit must be 0 or 1\"\n",
    "    return (2 * eps - 1) * bit + 1 - eps\n",
    "\n",
    "def create_base_vectors(circuit: List[int], eps: float = 0.5):\n",
    "    vectors = []\n",
    "    n = len(circuit)\n",
    "    \n",
    "    for i in range(n):\n",
    "        vector = list(circuit).copy()\n",
    "        vector[i] = shift_bit_eps(vector[i], eps=eps)\n",
    "        vectors.append(vector)\n",
    "        \n",
    "    return vectors\n",
    "\n",
    "def create_linear_system(vectors: List[List[float]]):\n",
    "    X = np.array(vectors)\n",
    "\n",
    "    y = -X[:,-1]\n",
    "\n",
    "    X[:,-1] = 1\n",
    "    \n",
    "    return X,y\n",
    "\n",
    "class BitComparison(nn.Module):\n",
    "    def __init__(self,target: List[int], eps : float = 0.5):\n",
    "        super(BitComparison, self).__init__()\n",
    "                \n",
    "        vectors = create_base_vectors(target, eps=eps)\n",
    "        X,y = create_linear_system(vectors)\n",
    "        W = np.linalg.solve(X,y)\n",
    "        w = W[:-1]\n",
    "        w = np.concatenate([w,np.ones(1)])\n",
    "        c = W[-1]\n",
    "        \n",
    "        if not target[-1]:\n",
    "            w = -w\n",
    "            c = -c\n",
    "            \n",
    "        n = len(target)\n",
    "        self.n = n\n",
    "        self.linear = nn.Linear(n,1)\n",
    "        \n",
    "        self.linear.weight.data = torch.tensor(w.reshape(1,-1)).float()\n",
    "        self.linear.bias.data = torch.tensor(c).unsqueeze(0).float()\n",
    "        \n",
    "    def forward(self,x):\n",
    "        return self.linear(x)\n",
    "        \n",
    "    def __repr__(self):\n",
    "        output = \"\"\n",
    "        for i in range(self.n):\n",
    "            if i < self.n - 1:\n",
    "                output += f\"{self.linear.weight.data[0][i]}*x_{i} + \"\n",
    "            else:\n",
    "                output += f\"{self.linear.weight.data[0][i]}*y + \"\n",
    "        output += f\"{self.linear.bias.data[0]} = 0\"\n",
    "        return output"
   ]
  },
  {
   "cell_type": "code",
   "execution_count": null,
   "metadata": {},
   "outputs": [],
   "source": [
    "# export\n",
    "import itertools\n",
    "\n",
    "def create_test_cases_x(n):\n",
    "    products = [[0,1]] * n\n",
    "\n",
    "    x = list(itertools.product(*products))\n",
    "    x = np.array(x)\n",
    "    \n",
    "    return x\n",
    "\n",
    "def create_test_cases_y(x,target):\n",
    "    y = ((x == target).sum(axis=1) == n).astype(int)\n",
    "    return y"
   ]
  },
  {
   "cell_type": "code",
   "execution_count": null,
   "metadata": {},
   "outputs": [],
   "source": [
    "eps = 0.25\n",
    "n = 5\n",
    "\n",
    "x = create_test_cases_x(n)\n",
    "\n",
    "for target in x:\n",
    "    y = create_test_cases_y(x,target)\n",
    "    y = torch.tensor(y)\n",
    "    \n",
    "    bitcomparison = BitComparison(target, eps=eps)\n",
    "    accuracy = (y == (bitcomparison.linear(torch.tensor(x).float()) > 0).view(-1)).float().mean().item()\n",
    "    \n",
    "    assert accuracy == 1, f\"Accuracy inferior to 1 {accuracy}\""
   ]
  },
  {
   "cell_type": "code",
   "execution_count": null,
   "metadata": {},
   "outputs": [
    {
     "name": "stdout",
     "output_type": "stream",
     "text": [
      "1.0*x_0 + 1.0*x_1 + 1.0*x_2 + 1.0*x_3 + 1.0*y + -4.25 = 0\n"
     ]
    }
   ],
   "source": [
    "print(bitcomparison)"
   ]
  },
  {
   "cell_type": "code",
   "execution_count": null,
   "metadata": {},
   "outputs": [],
   "source": [
    "from numpy.polynomial.chebyshev import Chebyshev\n",
    "import matplotlib.pyplot as plt"
   ]
  },
  {
   "cell_type": "code",
   "execution_count": null,
   "metadata": {},
   "outputs": [
    {
     "name": "stderr",
     "output_type": "stream",
     "text": [
      "C:\\Users\\Daniel\\Anaconda3\\envs\\emd\\lib\\site-packages\\ipykernel_launcher.py:33: UserWarning: Matplotlib is currently using module://ipykernel.pylab.backend_inline, which is a non-GUI backend, so cannot show the figure.\n"
     ]
    },
    {
     "data": {
      "image/png": "[encoded data removed]",
      "text/plain": [
       "<Figure size 1152x288 with 2 Axes>"
      ]
     },
     "metadata": {
      "needs_background": "light"
     },
     "output_type": "display_data"
    }
   ],
   "source": [
    "a = 100\n",
    "n = 25\n",
    "A = 1\n",
    "domain = [-A,A]\n",
    "\n",
    "sigmoid_a = lambda x: torch.sigmoid(torch.tensor(x*a))\n",
    "p_sigmoid = Chebyshev.interpolate(sigmoid_a,deg=n,domain=domain)\n",
    "\n",
    "tanh_a = lambda x: torch.tanh(torch.tensor(x*a))\n",
    "p_tanh = Chebyshev.interpolate(tanh_a, deg=n, domain=domain)\n",
    "\n",
    "x = np.linspace(*domain,100)\n",
    "y1 = sigmoid_a(x)\n",
    "pred1 = p_sigmoid(x)\n",
    "\n",
    "y2 = tanh_a(x)\n",
    "pred2 = p_tanh(x)\n",
    "\n",
    "fig, (ax1, ax2) = plt.subplots(1,2, figsize=(16,4))\n",
    "\n",
    "# plot the function\n",
    "ax1.plot(x,y1, 'g', label=\"Sigmoid\")\n",
    "ax1.plot(x,pred1,\"b-\", label=f\"Polynomial approximation\")\n",
    "ax1.legend()\n",
    "\n",
    "# plot the function\n",
    "ax2.plot(x,y2, 'g', label=\"Tanh\")\n",
    "ax2.plot(x,pred2,\"b-\", label=f\"Polynomial approximation\")\n",
    "ax2.legend()\n",
    "\n",
    "# show the plot\n",
    "fig.suptitle(f\"Tchebytchev polynomials with expansion a={a} and degree n={n}\")\n",
    "fig.show()"
   ]
  },
  {
   "cell_type": "code",
   "execution_count": null,
   "metadata": {},
   "outputs": [
    {
     "name": "stderr",
     "output_type": "stream",
     "text": [
      "C:\\Users\\Daniel\\Anaconda3\\envs\\emd\\lib\\site-packages\\ipykernel_launcher.py:6: UserWarning: To copy construct from a tensor, it is recommended to use sourceTensor.clone().detach() or sourceTensor.clone().detach().requires_grad_(True), rather than torch.tensor(sourceTensor).\n",
      "  \n",
      "C:\\Users\\Daniel\\Anaconda3\\envs\\emd\\lib\\site-packages\\ipykernel_launcher.py:9: UserWarning: To copy construct from a tensor, it is recommended to use sourceTensor.clone().detach() or sourceTensor.clone().detach().requires_grad_(True), rather than torch.tensor(sourceTensor).\n",
      "  if __name__ == '__main__':\n"
     ]
    },
    {
     "name": "stdout",
     "output_type": "stream",
     "text": [
      "Loss of sigmoid : 0.4401373267173767\n",
      "Loss of tanh : 2.215545177459717\n",
      "Mean derivative of sigmoid : 9.595970153808594\n",
      "Mean derivative of tanh : 19.291946411132812\n",
      "Saturation point of 0.9 for sigmoid : 46 * 0.001\n",
      "Saturation point of 0.9 for tanh : 53 * 0.001\n"
     ]
    }
   ],
   "source": [
    "eps = 0.005\n",
    "\n",
    "x = torch.linspace(-eps,eps,)\n",
    "delta_x = x[1] - x[0]\n",
    "\n",
    "l_sigmoid = torch.norm(p_sigmoid(x) - sigmoid_a(x))\n",
    "l_tanh = torch.norm(p_tanh(x) - tanh_a(x))\n",
    "\n",
    "print(f\"Loss of sigmoid : {l_sigmoid}\")\n",
    "print(f\"Loss of tanh : {l_tanh}\")\n",
    "\n",
    "a,b = len(x) // 2 - len(x) // 4, len(x) // 2 + len(x) // 4\n",
    "\n",
    "def derivative(f,x,i,delta_x):\n",
    "    output = (f(x[i+1]) - f(x[i])) / delta_x\n",
    "    return output\n",
    "\n",
    "derivatives_tanh = []\n",
    "derivatives_sigmoid = []\n",
    "\n",
    "for i in range(a,b):\n",
    "    derivatives_sigmoid.append(derivative(p_sigmoid,x,i,delta_x))\n",
    "    derivatives_tanh.append(derivative(p_tanh,x,i,delta_x))\n",
    "    \n",
    "print(f\"Mean derivative of sigmoid : {torch.tensor(derivatives_sigmoid).mean()}\")\n",
    "print(f\"Mean derivative of tanh : {torch.tensor(derivatives_tanh).mean()}\")\n",
    "\n",
    "saturation = 0.9\n",
    "precision = 1e-3\n",
    "\n",
    "i = 0\n",
    "while p_sigmoid(i * precision) <= saturation:\n",
    "    i += 1\n",
    "print(f\"Saturation point of {saturation} for sigmoid : {i} * {precision}\")\n",
    "\n",
    "i = 0\n",
    "while p_tanh(i * precision) <= saturation:\n",
    "    i += 1\n",
    "print(f\"Saturation point of {saturation} for tanh : {i} * {precision}\")"
   ]
  },
  {
   "cell_type": "code",
   "execution_count": null,
   "metadata": {},
   "outputs": [
    {
     "name": "stdout",
     "output_type": "stream",
     "text": [
      "The binary tree structure has 13 nodes and has the following tree structure:\n",
      "node=0 test node: go to node 1 if X[:, 3] <= 0.2916666641831398 else to node 2.\n",
      "\tnode=1 leaf node.\n",
      "\tnode=2 test node: go to node 3 if X[:, 2] <= 0.6637930870056152 else to node 8.\n",
      "\t\tnode=3 test node: go to node 4 if X[:, 3] <= 0.6458333432674408 else to node 5.\n",
      "\t\t\tnode=4 leaf node.\n",
      "\t\t\tnode=5 test node: go to node 6 if X[:, 1] <= 0.4583333283662796 else to node 7.\n",
      "\t\t\t\tnode=6 leaf node.\n",
      "\t\t\t\tnode=7 leaf node.\n",
      "\t\tnode=8 test node: go to node 9 if X[:, 3] <= 0.6875 else to node 12.\n",
      "\t\t\tnode=9 test node: go to node 10 if X[:, 3] <= 0.6458333432674408 else to node 11.\n",
      "\t\t\t\tnode=10 leaf node.\n",
      "\t\t\t\tnode=11 leaf node.\n",
      "\t\t\tnode=12 leaf node.\n",
      "\n"
     ]
    }
   ],
   "source": [
    "import numpy as np\n",
    "\n",
    "from sklearn.model_selection import train_test_split\n",
    "from sklearn.datasets import load_iris\n",
    "from sklearn.tree import DecisionTreeClassifier\n",
    "\n",
    "from sklearn.preprocessing import MinMaxScaler\n",
    "\n",
    "scaler = MinMaxScaler()\n",
    "\n",
    "iris = load_iris()\n",
    "X = iris.data\n",
    "y = iris.target\n",
    "X_train, X_test, y_train, y_test = train_test_split(X, y, random_state=0)\n",
    "X_train = scaler.fit_transform(X_train)\n",
    "\n",
    "estimator = DecisionTreeClassifier(max_depth=4, random_state=0)\n",
    "estimator.fit(X_train, y_train)\n",
    "\n",
    "n_nodes = estimator.tree_.node_count\n",
    "children_left = estimator.tree_.children_left\n",
    "children_right = estimator.tree_.children_right\n",
    "feature = estimator.tree_.feature\n",
    "threshold = estimator.tree_.threshold\n",
    "\n",
    "# The tree structure can be traversed to compute various properties such\n",
    "# as the depth of each node and whether or not it is a leaf.\n",
    "node_depth = np.zeros(shape=n_nodes, dtype=np.int64)\n",
    "is_leaves = np.zeros(shape=n_nodes, dtype=bool)\n",
    "stack = [(0, -1)]  # seed is the root node id and its parent depth\n",
    "while len(stack) > 0:\n",
    "    node_id, parent_depth = stack.pop()\n",
    "    node_depth[node_id] = parent_depth + 1\n",
    "\n",
    "    # If we have a test node\n",
    "    if (children_left[node_id] != children_right[node_id]):\n",
    "        stack.append((children_left[node_id], parent_depth + 1))\n",
    "        stack.append((children_right[node_id], parent_depth + 1))\n",
    "    else:\n",
    "        is_leaves[node_id] = True\n",
    "        \n",
    "print(\"The binary tree structure has %s nodes and has \"\n",
    "      \"the following tree structure:\"\n",
    "      % n_nodes)\n",
    "for i in range(n_nodes):\n",
    "    if is_leaves[i]:\n",
    "        print(\"%snode=%s leaf node.\" % (node_depth[i] * \"\\t\", i))\n",
    "    else:\n",
    "        print(\"%snode=%s test node: go to node %s if X[:, %s] <= %s else to \"\n",
    "              \"node %s.\"\n",
    "              % (node_depth[i] * \"\\t\",\n",
    "                 i,\n",
    "                 children_left[i],\n",
    "                 feature[i],\n",
    "                 threshold[i],\n",
    "                 children_right[i],\n",
    "                 ))\n",
    "print()"
   ]
  },
  {
   "cell_type": "code",
   "execution_count": null,
   "metadata": {},
   "outputs": [],
   "source": [
    "b = a"
   ]
  },
  {
   "cell_type": "code",
   "execution_count": null,
   "metadata": {},
   "outputs": [],
   "source": [
    "# export\n",
    "def create_parent_of(n_nodes, is_leaves, children_left, children_right):\n",
    "    parentOf = {}\n",
    "\n",
    "    for i in range(n_nodes):\n",
    "        if not is_leaves[i]:\n",
    "            parentOf[children_left[i]] = (i,0)\n",
    "            parentOf[children_right[i]] = (i,1)\n",
    "    return parentOf"
   ]
  },
  {
   "cell_type": "code",
   "execution_count": null,
   "metadata": {},
   "outputs": [],
   "source": [
    "idx2nodes = [i for i,isLeaf in enumerate(is_leaves) if not isLeaf]\n",
    "nodes2idx = {node : i for i, node in enumerate(idx2nodes)}\n",
    "\n",
    "idx2leaves = [i for i,isLeaf in enumerate(is_leaves) if isLeaf]\n",
    "leaves2idx = { leaf : i for i,leaf in enumerate(idx2leaves)}\n",
    "\n",
    "parentOf = create_parent_of(n_nodes,is_leaves,children_left,children_right)"
   ]
  },
  {
   "cell_type": "code",
   "execution_count": null,
   "metadata": {},
   "outputs": [],
   "source": [
    "# export\n",
    "def create_leaf_to_path(is_leaves,parentOf):\n",
    "    leafToPath = []\n",
    "\n",
    "    for i,isLeaf in enumerate(is_leaves):\n",
    "        if isLeaf:\n",
    "            node = i\n",
    "            path = []\n",
    "\n",
    "            parent = parentOf[node]\n",
    "\n",
    "            while parent[0] != 0:\n",
    "                path.append(parent)\n",
    "                parent = parentOf[parent[0]]\n",
    "\n",
    "            path.append(parent)\n",
    "            leafToPath.append(path[::-1])\n",
    "            \n",
    "    return leafToPath"
   ]
  },
  {
   "cell_type": "code",
   "execution_count": null,
   "metadata": {},
   "outputs": [
    {
     "data": {
      "text/plain": [
       "[[(0, 0)],\n",
       " [(0, 1), (2, 0), (3, 0)],\n",
       " [(0, 1), (2, 0), (3, 1), (5, 0)],\n",
       " [(0, 1), (2, 0), (3, 1), (5, 1)],\n",
       " [(0, 1), (2, 1), (8, 0), (9, 0)],\n",
       " [(0, 1), (2, 1), (8, 0), (9, 1)],\n",
       " [(0, 1), (2, 1), (8, 1)]]"
      ]
     },
     "execution_count": null,
     "metadata": {},
     "output_type": "execute_result"
    }
   ],
   "source": [
    "leafToPath = create_leaf_to_path(is_leaves,parentOf)\n",
    "leafToPath"
   ]
  },
  {
   "cell_type": "code",
   "execution_count": null,
   "metadata": {},
   "outputs": [
    {
     "data": {
      "text/plain": [
       "[(0, 1), (2, 1), (8, 0), (9, 1)]"
      ]
     },
     "execution_count": null,
     "metadata": {},
     "output_type": "execute_result"
    }
   ],
   "source": [
    "path = leafToPath[11]\n",
    "path"
   ]
  },
  {
   "cell_type": "code",
   "execution_count": null,
   "metadata": {},
   "outputs": [],
   "source": [
    "# export\n",
    "def path_to_weight(path, nodes2idx):\n",
    "    # This is the target of the Bitcomparison\n",
    "    bits = [v for k,v in path]\n",
    "    bit_comparison = BitComparison(bits)\n",
    "    \n",
    "    # Those are the indexes to be replaced by the corresponding weights\n",
    "    idx = [nodes2idx[k] for k,v in path]\n",
    "    \n",
    "    K = len(nodes2idx)\n",
    "    w = np.zeros(K)\n",
    "    \n",
    "    w[idx] = bit_comparison.linear.weight.data.numpy().reshape(-1)\n",
    "    b = bit_comparison.linear.bias.data.numpy()\n",
    "    \n",
    "    return w,b"
   ]
  },
  {
   "cell_type": "code",
   "execution_count": null,
   "metadata": {},
   "outputs": [
    {
     "name": "stdout",
     "output_type": "stream",
     "text": [
      "[(0, 1), (2, 1), (8, 0), (9, 1)]\n"
     ]
    }
   ],
   "source": [
    "print(path)\n",
    "w,b = path_to_weight(path,nodes2idx)"
   ]
  },
  {
   "cell_type": "code",
   "execution_count": null,
   "metadata": {},
   "outputs": [
    {
     "data": {
      "text/plain": [
       "[[(0, 0)],\n",
       " [(0, 1), (2, 0), (3, 0)],\n",
       " [(0, 1), (2, 0), (3, 1), (5, 0)],\n",
       " [(0, 1), (2, 0), (3, 1), (5, 1)],\n",
       " [(0, 1), (2, 1), (8, 0), (9, 0)],\n",
       " [(0, 1), (2, 1), (8, 0), (9, 1)],\n",
       " [(0, 1), (2, 1), (8, 1)]]"
      ]
     },
     "execution_count": null,
     "metadata": {},
     "output_type": "execute_result"
    }
   ],
   "source": [
    "leafToPath"
   ]
  },
  {
   "cell_type": "code",
   "execution_count": null,
   "metadata": {},
   "outputs": [],
   "source": [
    "def path_to_linear(leafToPath, nodes2idx):\n",
    "    W = []\n",
    "    B = []\n",
    "    for path in leafToPath:\n",
    "        w,b = path_to_weight(path,nodes2idx)\n",
    "        W.append(w)\n",
    "        B.append(b)\n",
    "\n",
    "    W = np.stack(W)\n",
    "    B = np.stack(B)\n",
    "    \n",
    "    linear = nn.Linear(*W.shape)\n",
    "    linear.weight.data = torch.tensor(W)\n",
    "    linear.bias.data = torch.tensor(B)\n",
    "    \n",
    "    return linear"
   ]
  },
  {
   "cell_type": "code",
   "execution_count": null,
   "metadata": {},
   "outputs": [],
   "source": [
    "linear = path_to_linear(leafToPath, nodes2idx)"
   ]
  },
  {
   "cell_type": "code",
   "execution_count": null,
   "metadata": {},
   "outputs": [
    {
     "data": {
      "text/plain": [
       "([[(0, 0)],\n",
       "  [(0, 1), (2, 0), (3, 0)],\n",
       "  [(0, 1), (2, 0), (3, 1), (5, 0)],\n",
       "  [(0, 1), (2, 0), (3, 1), (5, 1)],\n",
       "  [(0, 1), (2, 1), (8, 0), (9, 0)],\n",
       "  [(0, 1), (2, 1), (8, 0), (9, 1)],\n",
       "  [(0, 1), (2, 1), (8, 1)]],\n",
       " Parameter containing:\n",
       " tensor([[-1.,  0.,  0.,  0.,  0.,  0.],\n",
       "         [ 1., -1., -1.,  0.,  0.,  0.],\n",
       "         [ 1., -1.,  1., -1.,  0.,  0.],\n",
       "         [ 1., -1.,  1.,  1.,  0.,  0.],\n",
       "         [ 1.,  1.,  0.,  0., -1., -1.],\n",
       "         [ 1.,  1.,  0.,  0., -1.,  1.],\n",
       "         [ 1.,  1.,  0.,  0.,  1.,  0.]], dtype=torch.float64,\n",
       "        requires_grad=True),\n",
       " Parameter containing:\n",
       " tensor([[ 0.5000],\n",
       "         [-0.5000],\n",
       "         [-1.5000],\n",
       "         [-2.5000],\n",
       "         [-1.5000],\n",
       "         [-2.5000],\n",
       "         [-2.5000]], requires_grad=True))"
      ]
     },
     "execution_count": null,
     "metadata": {},
     "output_type": "execute_result"
    }
   ],
   "source": [
    "leafToPath, linear.weight, linear.bias"
   ]
  },
  {
   "cell_type": "code",
   "execution_count": null,
   "metadata": {},
   "outputs": [
    {
     "data": {
      "text/plain": [
       "torch.Size([7, 6])"
      ]
     },
     "execution_count": null,
     "metadata": {},
     "output_type": "execute_result"
    }
   ],
   "source": [
    "linear.weight.data.shape"
   ]
  },
  {
   "cell_type": "code",
   "execution_count": null,
   "metadata": {},
   "outputs": [],
   "source": [
    "weight = bit.linear.weight.data.numpy().reshape(-1)"
   ]
  },
  {
   "cell_type": "code",
   "execution_count": null,
   "metadata": {},
   "outputs": [],
   "source": [
    "import pandas as pd\n",
    "\n",
    "d = X.shape[1]\n",
    "comparisons = {}\n",
    "\n",
    "for i in range(n_nodes):\n",
    "    if not is_leaves[i] and children_right[i]:\n",
    "        w = np.zeros(d)\n",
    "        w[feature[i]] = 1\n",
    "        b = - np.array([threshold[i]])\n",
    "        comparisons[children_right[i]] = dict(\n",
    "            w=w,\n",
    "            b=b\n",
    "        )\n",
    "    if not is_leaves[i] and children_left[i]:\n",
    "        w = np.zeros(d)\n",
    "        w[feature[i]] = -1\n",
    "        b = np.array([threshold[i]])\n",
    "        comparisons[children_left[i]] = dict(\n",
    "            w=w,\n",
    "            b=b\n",
    "        )"
   ]
  },
  {
   "cell_type": "code",
   "execution_count": null,
   "metadata": {},
   "outputs": [],
   "source": [
    "df = pd.DataFrame(comparisons).T.sort_index()"
   ]
  },
  {
   "cell_type": "code",
   "execution_count": null,
   "metadata": {},
   "outputs": [],
   "source": [
    "W = np.stack(df.w.values)"
   ]
  },
  {
   "cell_type": "code",
   "execution_count": null,
   "metadata": {},
   "outputs": [],
   "source": [
    "b = np.stack(df.b.values).reshape(-1)"
   ]
  },
  {
   "cell_type": "code",
   "execution_count": null,
   "metadata": {},
   "outputs": [],
   "source": [
    "import torch.nn as nn\n",
    "\n",
    "lin = nn.Linear(4,12)"
   ]
  },
  {
   "cell_type": "code",
   "execution_count": null,
   "metadata": {},
   "outputs": [],
   "source": [
    "lin.weight.data = torch.tensor(W)\n",
    "lin.bias.data = torch.tensor(b)"
   ]
  },
  {
   "cell_type": "code",
   "execution_count": null,
   "metadata": {},
   "outputs": [
    {
     "data": {
      "text/plain": [
       "tensor([[0.5229, 0.4771, 0.3238,  ..., 0.6096, 0.3904, 0.3805],\n",
       "        [0.5229, 0.4771, 0.3238,  ..., 0.6096, 0.3904, 0.3805],\n",
       "        [0.5229, 0.4771, 0.3461,  ..., 0.6096, 0.3904, 0.3805],\n",
       "        ...,\n",
       "        [0.1534, 0.8466, 0.0106,  ..., 0.2052, 0.7948, 0.7879],\n",
       "        [0.1183, 0.8817, 0.0087,  ..., 0.1605, 0.8395, 0.8338],\n",
       "        [0.1812, 0.8188, 0.0117,  ..., 0.2397, 0.7603, 0.7526]],\n",
       "       dtype=torch.float64, grad_fn=<SigmoidBackward>)"
      ]
     },
     "execution_count": null,
     "metadata": {},
     "output_type": "execute_result"
    }
   ],
   "source": [
    "torch.sigmoid(lin(torch.tensor(X)))"
   ]
  },
  {
   "cell_type": "code",
   "execution_count": null,
   "metadata": {},
   "outputs": [
    {
     "data": {
      "text/plain": [
       "tensor([[ True,  True,  True,  ..., False, False, False],\n",
       "        [False, False, False,  ...,  True,  True,  True],\n",
       "        [False, False, False,  ..., False, False, False],\n",
       "        ...,\n",
       "        [ True,  True,  True,  ..., False, False, False],\n",
       "        [False, False, False,  ...,  True,  True,  True],\n",
       "        [False, False, False,  ...,  True,  True,  True]])"
      ]
     },
     "execution_count": null,
     "metadata": {},
     "output_type": "execute_result"
    }
   ],
   "source": [
    "(torch.sigmoid(torch.tensor(np.matmul(W,X.T) + b)) > 0.5)"
   ]
  },
  {
   "cell_type": "code",
   "execution_count": null,
   "metadata": {},
   "outputs": [],
   "source": [
    "from collections import OrderedDict\n",
    "\n",
    "comparisons = OrderedDict(sorted(comparisons.items(), key=lambda t: t[0]))"
   ]
  },
  {
   "cell_type": "code",
   "execution_count": null,
   "metadata": {},
   "outputs": [
    {
     "data": {
      "text/plain": [
       "OrderedDict([(1, {'w': array([ 0.,  0.,  0., -1.]), 'b': array([0.29166666])}),\n",
       "             (2, {'w': array([0., 0., 0., 1.]), 'b': array([-0.29166666])}),\n",
       "             (3, {'w': array([ 0.,  0., -1.,  0.]), 'b': array([0.66379309])}),\n",
       "             (4, {'w': array([ 0.,  0.,  0., -1.]), 'b': array([0.64583334])}),\n",
       "             (5, {'w': array([0., 0., 0., 1.]), 'b': array([-0.64583334])}),\n",
       "             (6, {'w': array([ 0., -1.,  0.,  0.]), 'b': array([0.45833333])}),\n",
       "             (7, {'w': array([0., 1., 0., 0.]), 'b': array([-0.45833333])}),\n",
       "             (8, {'w': array([0., 0., 1., 0.]), 'b': array([-0.66379309])}),\n",
       "             (9, {'w': array([ 0.,  0.,  0., -1.]), 'b': array([0.6875])}),\n",
       "             (10,\n",
       "              {'w': array([ 0.,  0.,  0., -1.]), 'b': array([0.64583334])}),\n",
       "             (11, {'w': array([0., 0., 0., 1.]), 'b': array([-0.64583334])}),\n",
       "             (12, {'w': array([0., 0., 0., 1.]), 'b': array([-0.6875])})])"
      ]
     },
     "execution_count": null,
     "metadata": {},
     "output_type": "execute_result"
    }
   ],
   "source": [
    "comparisons"
   ]
  },
  {
   "cell_type": "code",
   "execution_count": null,
   "metadata": {},
   "outputs": [
    {
     "data": {
      "text/plain": [
       "odict_values([{'w': array([ 0.,  0.,  0., -1.]), 'b': array([0.29166666])}, {'w': array([0., 0., 0., 1.]), 'b': array([-0.29166666])}, {'w': array([ 0.,  0., -1.,  0.]), 'b': array([0.66379309])}, {'w': array([ 0.,  0.,  0., -1.]), 'b': array([0.64583334])}, {'w': array([0., 0., 0., 1.]), 'b': array([-0.64583334])}, {'w': array([ 0., -1.,  0.,  0.]), 'b': array([0.45833333])}, {'w': array([0., 1., 0., 0.]), 'b': array([-0.45833333])}, {'w': array([0., 0., 1., 0.]), 'b': array([-0.66379309])}, {'w': array([ 0.,  0.,  0., -1.]), 'b': array([0.6875])}, {'w': array([ 0.,  0.,  0., -1.]), 'b': array([0.64583334])}, {'w': array([0., 0., 0., 1.]), 'b': array([-0.64583334])}, {'w': array([0., 0., 0., 1.]), 'b': array([-0.6875])}])"
      ]
     },
     "execution_count": null,
     "metadata": {},
     "output_type": "execute_result"
    }
   ],
   "source": [
    "comparisons.values()"
   ]
  },
  {
   "cell_type": "code",
   "execution_count": null,
   "metadata": {},
   "outputs": [
    {
     "name": "stdout",
     "output_type": "stream",
     "text": [
      "1.1331583041478315\n",
      "-0.13315830414783147\n",
      "-0.13315830414783186\n"
     ]
    },
    {
     "data": {
      "text/plain": [
       "(None, None)"
      ]
     },
     "execution_count": null,
     "metadata": {},
     "output_type": "execute_result"
    }
   ],
   "source": [
    "t = 0.1\n",
    "print(p_sigmoid(t))\n",
    "print(1-p_sigmoid(t)), print(p_sigmoid(-t))"
   ]
  },
  {
   "cell_type": "code",
   "execution_count": null,
   "metadata": {},
   "outputs": [
    {
     "data": {
      "text/plain": [
       "array([[5.1, 3.5, 1.4, 0.2],\n",
       "       [4.9, 3. , 1.4, 0.2],\n",
       "       [4.7, 3.2, 1.3, 0.2],\n",
       "       [4.6, 3.1, 1.5, 0.2],\n",
       "       [5. , 3.6, 1.4, 0.2],\n",
       "       [5.4, 3.9, 1.7, 0.4],\n",
       "       [4.6, 3.4, 1.4, 0.3],\n",
       "       [5. , 3.4, 1.5, 0.2],\n",
       "       [4.4, 2.9, 1.4, 0.2],\n",
       "       [4.9, 3.1, 1.5, 0.1],\n",
       "       [5.4, 3.7, 1.5, 0.2],\n",
       "       [4.8, 3.4, 1.6, 0.2],\n",
       "       [4.8, 3. , 1.4, 0.1],\n",
       "       [4.3, 3. , 1.1, 0.1],\n",
       "       [5.8, 4. , 1.2, 0.2],\n",
       "       [5.7, 4.4, 1.5, 0.4],\n",
       "       [5.4, 3.9, 1.3, 0.4],\n",
       "       [5.1, 3.5, 1.4, 0.3],\n",
       "       [5.7, 3.8, 1.7, 0.3],\n",
       "       [5.1, 3.8, 1.5, 0.3],\n",
       "       [5.4, 3.4, 1.7, 0.2],\n",
       "       [5.1, 3.7, 1.5, 0.4],\n",
       "       [4.6, 3.6, 1. , 0.2],\n",
       "       [5.1, 3.3, 1.7, 0.5],\n",
       "       [4.8, 3.4, 1.9, 0.2],\n",
       "       [5. , 3. , 1.6, 0.2],\n",
       "       [5. , 3.4, 1.6, 0.4],\n",
       "       [5.2, 3.5, 1.5, 0.2],\n",
       "       [5.2, 3.4, 1.4, 0.2],\n",
       "       [4.7, 3.2, 1.6, 0.2],\n",
       "       [4.8, 3.1, 1.6, 0.2],\n",
       "       [5.4, 3.4, 1.5, 0.4],\n",
       "       [5.2, 4.1, 1.5, 0.1],\n",
       "       [5.5, 4.2, 1.4, 0.2],\n",
       "       [4.9, 3.1, 1.5, 0.2],\n",
       "       [5. , 3.2, 1.2, 0.2],\n",
       "       [5.5, 3.5, 1.3, 0.2],\n",
       "       [4.9, 3.6, 1.4, 0.1],\n",
       "       [4.4, 3. , 1.3, 0.2],\n",
       "       [5.1, 3.4, 1.5, 0.2],\n",
       "       [5. , 3.5, 1.3, 0.3],\n",
       "       [4.5, 2.3, 1.3, 0.3],\n",
       "       [4.4, 3.2, 1.3, 0.2],\n",
       "       [5. , 3.5, 1.6, 0.6],\n",
       "       [5.1, 3.8, 1.9, 0.4],\n",
       "       [4.8, 3. , 1.4, 0.3],\n",
       "       [5.1, 3.8, 1.6, 0.2],\n",
       "       [4.6, 3.2, 1.4, 0.2],\n",
       "       [5.3, 3.7, 1.5, 0.2],\n",
       "       [5. , 3.3, 1.4, 0.2],\n",
       "       [7. , 3.2, 4.7, 1.4],\n",
       "       [6.4, 3.2, 4.5, 1.5],\n",
       "       [6.9, 3.1, 4.9, 1.5],\n",
       "       [5.5, 2.3, 4. , 1.3],\n",
       "       [6.5, 2.8, 4.6, 1.5],\n",
       "       [5.7, 2.8, 4.5, 1.3],\n",
       "       [6.3, 3.3, 4.7, 1.6],\n",
       "       [4.9, 2.4, 3.3, 1. ],\n",
       "       [6.6, 2.9, 4.6, 1.3],\n",
       "       [5.2, 2.7, 3.9, 1.4],\n",
       "       [5. , 2. , 3.5, 1. ],\n",
       "       [5.9, 3. , 4.2, 1.5],\n",
       "       [6. , 2.2, 4. , 1. ],\n",
       "       [6.1, 2.9, 4.7, 1.4],\n",
       "       [5.6, 2.9, 3.6, 1.3],\n",
       "       [6.7, 3.1, 4.4, 1.4],\n",
       "       [5.6, 3. , 4.5, 1.5],\n",
       "       [5.8, 2.7, 4.1, 1. ],\n",
       "       [6.2, 2.2, 4.5, 1.5],\n",
       "       [5.6, 2.5, 3.9, 1.1],\n",
       "       [5.9, 3.2, 4.8, 1.8],\n",
       "       [6.1, 2.8, 4. , 1.3],\n",
       "       [6.3, 2.5, 4.9, 1.5],\n",
       "       [6.1, 2.8, 4.7, 1.2],\n",
       "       [6.4, 2.9, 4.3, 1.3],\n",
       "       [6.6, 3. , 4.4, 1.4],\n",
       "       [6.8, 2.8, 4.8, 1.4],\n",
       "       [6.7, 3. , 5. , 1.7],\n",
       "       [6. , 2.9, 4.5, 1.5],\n",
       "       [5.7, 2.6, 3.5, 1. ],\n",
       "       [5.5, 2.4, 3.8, 1.1],\n",
       "       [5.5, 2.4, 3.7, 1. ],\n",
       "       [5.8, 2.7, 3.9, 1.2],\n",
       "       [6. , 2.7, 5.1, 1.6],\n",
       "       [5.4, 3. , 4.5, 1.5],\n",
       "       [6. , 3.4, 4.5, 1.6],\n",
       "       [6.7, 3.1, 4.7, 1.5],\n",
       "       [6.3, 2.3, 4.4, 1.3],\n",
       "       [5.6, 3. , 4.1, 1.3],\n",
       "       [5.5, 2.5, 4. , 1.3],\n",
       "       [5.5, 2.6, 4.4, 1.2],\n",
       "       [6.1, 3. , 4.6, 1.4],\n",
       "       [5.8, 2.6, 4. , 1.2],\n",
       "       [5. , 2.3, 3.3, 1. ],\n",
       "       [5.6, 2.7, 4.2, 1.3],\n",
       "       [5.7, 3. , 4.2, 1.2],\n",
       "       [5.7, 2.9, 4.2, 1.3],\n",
       "       [6.2, 2.9, 4.3, 1.3],\n",
       "       [5.1, 2.5, 3. , 1.1],\n",
       "       [5.7, 2.8, 4.1, 1.3],\n",
       "       [6.3, 3.3, 6. , 2.5],\n",
       "       [5.8, 2.7, 5.1, 1.9],\n",
       "       [7.1, 3. , 5.9, 2.1],\n",
       "       [6.3, 2.9, 5.6, 1.8],\n",
       "       [6.5, 3. , 5.8, 2.2],\n",
       "       [7.6, 3. , 6.6, 2.1],\n",
       "       [4.9, 2.5, 4.5, 1.7],\n",
       "       [7.3, 2.9, 6.3, 1.8],\n",
       "       [6.7, 2.5, 5.8, 1.8],\n",
       "       [7.2, 3.6, 6.1, 2.5],\n",
       "       [6.5, 3.2, 5.1, 2. ],\n",
       "       [6.4, 2.7, 5.3, 1.9],\n",
       "       [6.8, 3. , 5.5, 2.1],\n",
       "       [5.7, 2.5, 5. , 2. ],\n",
       "       [5.8, 2.8, 5.1, 2.4],\n",
       "       [6.4, 3.2, 5.3, 2.3],\n",
       "       [6.5, 3. , 5.5, 1.8],\n",
       "       [7.7, 3.8, 6.7, 2.2],\n",
       "       [7.7, 2.6, 6.9, 2.3],\n",
       "       [6. , 2.2, 5. , 1.5],\n",
       "       [6.9, 3.2, 5.7, 2.3],\n",
       "       [5.6, 2.8, 4.9, 2. ],\n",
       "       [7.7, 2.8, 6.7, 2. ],\n",
       "       [6.3, 2.7, 4.9, 1.8],\n",
       "       [6.7, 3.3, 5.7, 2.1],\n",
       "       [7.2, 3.2, 6. , 1.8],\n",
       "       [6.2, 2.8, 4.8, 1.8],\n",
       "       [6.1, 3. , 4.9, 1.8],\n",
       "       [6.4, 2.8, 5.6, 2.1],\n",
       "       [7.2, 3. , 5.8, 1.6],\n",
       "       [7.4, 2.8, 6.1, 1.9],\n",
       "       [7.9, 3.8, 6.4, 2. ],\n",
       "       [6.4, 2.8, 5.6, 2.2],\n",
       "       [6.3, 2.8, 5.1, 1.5],\n",
       "       [6.1, 2.6, 5.6, 1.4],\n",
       "       [7.7, 3. , 6.1, 2.3],\n",
       "       [6.3, 3.4, 5.6, 2.4],\n",
       "       [6.4, 3.1, 5.5, 1.8],\n",
       "       [6. , 3. , 4.8, 1.8],\n",
       "       [6.9, 3.1, 5.4, 2.1],\n",
       "       [6.7, 3.1, 5.6, 2.4],\n",
       "       [6.9, 3.1, 5.1, 2.3],\n",
       "       [5.8, 2.7, 5.1, 1.9],\n",
       "       [6.8, 3.2, 5.9, 2.3],\n",
       "       [6.7, 3.3, 5.7, 2.5],\n",
       "       [6.7, 3. , 5.2, 2.3],\n",
       "       [6.3, 2.5, 5. , 1.9],\n",
       "       [6.5, 3. , 5.2, 2. ],\n",
       "       [6.2, 3.4, 5.4, 2.3],\n",
       "       [5.9, 3. , 5.1, 1.8]])"
      ]
     },
     "execution_count": null,
     "metadata": {},
     "output_type": "execute_result"
    }
   ],
   "source": [
    "X"
   ]
  },
  {
   "cell_type": "code",
   "execution_count": null,
   "metadata": {},
   "outputs": [
    {
     "data": {
      "text/plain": [
       "array([ 0.80000001, -2.        ,  4.95000005, -2.        , -2.        ])"
      ]
     },
     "execution_count": null,
     "metadata": {},
     "output_type": "execute_result"
    }
   ],
   "source": [
    "threshold"
   ]
  },
  {
   "cell_type": "code",
   "execution_count": null,
   "metadata": {},
   "outputs": [],
   "source": [
    "a = [0,1,1]\n",
    "n = len(a)\n",
    "\n",
    "products = [[0,1]] * n\n",
    "\n",
    "x = list(itertools.product(*products))\n",
    "x = np.array(x)"
   ]
  },
  {
   "cell_type": "code",
   "execution_count": null,
   "metadata": {},
   "outputs": [
    {
     "ename": "TypeError",
     "evalue": "eq() received an invalid combination of arguments - got (list), but expected one of:\n * (Tensor other)\n      didn't match because some of the arguments have invalid types: (\u001b[31;1mlist\u001b[0m)\n * (Number other)\n      didn't match because some of the arguments have invalid types: (\u001b[31;1mlist\u001b[0m)\n",
     "output_type": "error",
     "traceback": [
      "\u001b[1;31m---------------------------------------------------------------------------\u001b[0m",
      "\u001b[1;31mTypeError\u001b[0m                                 Traceback (most recent call last)",
      "\u001b[1;32m<ipython-input-37-1294190defb7>\u001b[0m in \u001b[0;36m<module>\u001b[1;34m\u001b[0m\n\u001b[1;32m----> 1\u001b[1;33m \u001b[0mtorch\u001b[0m\u001b[1;33m.\u001b[0m\u001b[0mtensor\u001b[0m\u001b[1;33m(\u001b[0m\u001b[0mx\u001b[0m\u001b[1;33m)\u001b[0m \u001b[1;33m==\u001b[0m \u001b[0ma\u001b[0m\u001b[1;33m\u001b[0m\u001b[1;33m\u001b[0m\u001b[0m\n\u001b[0m",
      "\u001b[1;31mTypeError\u001b[0m: eq() received an invalid combination of arguments - got (list), but expected one of:\n * (Tensor other)\n      didn't match because some of the arguments have invalid types: (\u001b[31;1mlist\u001b[0m)\n * (Number other)\n      didn't match because some of the arguments have invalid types: (\u001b[31;1mlist\u001b[0m)\n"
     ]
    }
   ],
   "source": [
    "torch.tensor(x) == "
   ]
  },
  {
   "cell_type": "code",
   "execution_count": null,
   "metadata": {},
   "outputs": [
    {
     "data": {
      "text/plain": [
       "torch.Size([1, 5])"
      ]
     },
     "execution_count": null,
     "metadata": {},
     "output_type": "execute_result"
    }
   ],
   "source": [
    "bitcomparison.linear.weight.data.shape"
   ]
  }
 ],
 "metadata": {
  "kernelspec": {
   "display_name": "Python 3",
   "language": "python",
   "name": "python3"
  }
 },
 "nbformat": 4,
 "nbformat_minor": 2
}

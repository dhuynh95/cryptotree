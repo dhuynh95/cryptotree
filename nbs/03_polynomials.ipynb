{
 "cells": [
  {
   "cell_type": "code",
   "execution_count": null,
   "metadata": {},
   "outputs": [],
   "source": [
    "# default_exp polynomials"
   ]
  },
  {
   "cell_type": "code",
   "execution_count": null,
   "metadata": {},
   "outputs": [],
   "source": [
    "# hide\n",
    "%load_ext autoreload\n",
    "%autoreload 2"
   ]
  },
  {
   "cell_type": "markdown",
   "metadata": {},
   "source": [
    "# polynomials\n",
    "\n",
    "> Polynomials approxmiations and SEAL polynomials evaluations"
   ]
  },
  {
   "cell_type": "code",
   "execution_count": null,
   "metadata": {},
   "outputs": [],
   "source": [
    "# export\n",
    "import tenseal.sealapi as seal\n",
    "import numpy as np\n",
    "from numpy.polynomial import Polynomial\n",
    "from numpy.polynomial.chebyshev import Chebyshev\n",
    "\n",
    "import matplotlib.pyplot as plt\n",
    "import torch\n",
    "\n",
    "from typing import List, Union"
   ]
  },
  {
   "cell_type": "markdown",
   "metadata": {},
   "source": [
    "## Polynomials"
   ]
  },
  {
   "cell_type": "code",
   "execution_count": null,
   "metadata": {},
   "outputs": [],
   "source": [
    "# export\n",
    "def chebyshev_approximation(f, dilatation_factor=50, polynomial_degree=25, bound=1, convertToTensor=True):\n",
    "    if convertToTensor:\n",
    "        f_a = lambda x: f(torch.tensor(x*dilatation_factor))\n",
    "    else:\n",
    "        f_a = lambda x: f(x*dilatation_factor)\n",
    "        \n",
    "    domain = [-bound,bound]\n",
    "\n",
    "    p = Chebyshev.interpolate(f_a,deg=polynomial_degree,domain=domain)\n",
    "    return p, f_a\n",
    "\n",
    "def polynomial_approximation_coefficients(f, dilatation_factor=50, polynomial_degree=25, \n",
    "                                          bound=1, convertToTensor=True):\n",
    "    p,_ = chebyshev_approximation(f, dilatation_factor, polynomial_degree, bound, convertToTensor)\n",
    "    \n",
    "    return Polynomial.cast(p).coef\n",
    "\n",
    "def plot_graph_function_approximation(f, dilatation_factor=50, polynomial_degree=25, bound=1, convertToTensor=True):\n",
    "    \n",
    "    p, f_a = chebyshev_approximation(f, dilatation_factor, polynomial_degree, bound, convertToTensor)\n",
    "    \n",
    "    domain = [-bound,bound]\n",
    "    x = np.linspace(*domain,100)\n",
    "    y = f_a(x)\n",
    "    pred = p(x)\n",
    "\n",
    "    fig, ax = plt.subplots()\n",
    "\n",
    "    # plot the function\n",
    "    ax.plot(x,y, 'g', label=\"Sigmoid\")\n",
    "    ax.plot(x,pred,\"b-\", label=f\"Polynomial approximation\")\n",
    "    ax.legend()\n",
    "\n",
    "    # show the plot\n",
    "    fig.suptitle(f\"Tchebytchev polynomials with expansion a={dilatation_factor} and degree n={polynomial_degree}\")\n",
    "    fig.show()\n",
    "    \n",
    "    return fig,ax"
   ]
  },
  {
   "cell_type": "code",
   "execution_count": null,
   "metadata": {},
   "outputs": [
    {
     "data": {
      "text/plain": [
       "(<Figure size 432x288 with 1 Axes>,\n",
       " <matplotlib.axes._subplots.AxesSubplot at 0x7fd434491910>)"
      ]
     },
     "execution_count": null,
     "metadata": {},
     "output_type": "execute_result"
    },
    {
     "data": {
      "image/png": "[encoded data removed]",
      "text/plain": [
       "<Figure size 432x288 with 1 Axes>"
      ]
     },
     "metadata": {
      "needs_background": "light"
     },
     "output_type": "display_data"
    }
   ],
   "source": [
    "dilatation_factor = 16\n",
    "degree = 16\n",
    "\n",
    "p,_ = chebyshev_approximation(torch.sigmoid, dilatation_factor=dilatation_factor,\n",
    "                                              polynomial_degree=degree)\n",
    "coeffs = polynomial_approximation_coefficients(torch.sigmoid, dilatation_factor=dilatation_factor,\n",
    "                                              polynomial_degree=degree)\n",
    "plot_graph_function_approximation(torch.sigmoid, dilatation_factor=dilatation_factor,\n",
    "                                              polynomial_degree=degree)"
   ]
  },
  {
   "cell_type": "markdown",
   "metadata": {},
   "source": [
    "## Homorphic evaluation of polynomials"
   ]
  },
  {
   "cell_type": "code",
   "execution_count": null,
   "metadata": {},
   "outputs": [],
   "source": [
    "# export\n",
    "def coeffs_to_plaintext(coeffs: List[float], encoder: seal.CKKSEncoder, scale: float) -> List[seal.Plaintext]:\n",
    "    \"\"\"Computes the plaintext encodings of coefficients\"\"\"\n",
    "    plain_coeffs = []\n",
    "\n",
    "    for coef in coeffs:\n",
    "        plain_coeff = seal.Plaintext()\n",
    "        encoder.encode(coef, scale, plain_coeff)\n",
    "        plain_coeffs.append(plain_coeff)\n",
    "        \n",
    "    return plain_coeffs\n",
    "\n",
    "def compute_all_powers(ctx : seal.Ciphertext, degree: int, evaluator: seal.Evaluator, \n",
    "                       relin_keys: seal.RelinKeys, verbose=False) -> List[seal.Ciphertext]:\n",
    "    \"\"\"Computes all powers of a given ciphertext\"\"\"\n",
    "    powers = [None] * (degree+1)\n",
    "    levels = np.zeros(degree+1)\n",
    "\n",
    "    powers[1] = ctx\n",
    "    levels[0] = levels[1] = 0\n",
    "    \n",
    "    \n",
    "    for i in range(2,degree+1):\n",
    "            \n",
    "        minlevel = i\n",
    "        cand = -1\n",
    "        \n",
    "        for j in range(1, i // 2 +1):\n",
    "            k = i - j\n",
    "            newlevel = max(levels[k],levels[j]) + 1\n",
    "            if newlevel < minlevel:\n",
    "                cand = j\n",
    "                minlevel = newlevel\n",
    "                \n",
    "        if verbose:\n",
    "            print(f\"i = {i}, i-cand = {i-cand}\")\n",
    "            print(f\"level for cand : {levels[cand]}, level for {i-cand} : {levels[i-cand]}\")\n",
    "            print(f\"minlevel = {minlevel}\")\n",
    "            print(f\"cand = {cand}\")\n",
    "        \n",
    "        levels[i] = minlevel\n",
    "        \n",
    "        temp = seal.Ciphertext()\n",
    "        \n",
    "        power_cand = powers[cand]\n",
    "        evaluator.mod_switch_to(power_cand, powers[i-cand].parms_id(),temp)\n",
    "        evaluator.multiply(temp, powers[i-cand], temp)\n",
    "        evaluator.relinearize_inplace(temp, relin_keys)\n",
    "        evaluator.rescale_to_next_inplace(temp)\n",
    "        \n",
    "        powers[i] = temp\n",
    "        \n",
    "    return powers"
   ]
  },
  {
   "cell_type": "code",
   "execution_count": null,
   "metadata": {},
   "outputs": [
    {
     "name": "stdout",
     "output_type": "stream",
     "text": [
      "Initial vector input : \n",
      "\n",
      "    [ 2.0000000, 2.0000000, 2.0000000, ..., 2.0000000, 2.0000000, 2.0000000 ]\n",
      "\n",
      "Powers computed : \n",
      "\n",
      "    [ 2.0000001, 2.0000009, 2.0000001, ..., 1.9999987, 1.9999991, 1.9999984 ]\n",
      "\n",
      "\n",
      "    [ 3.9999991, 4.0000031, 3.9999984, ..., 3.9999971, 3.9999974, 3.9999914 ]\n",
      "\n"
     ]
    }
   ],
   "source": [
    "import builtins\n",
    "from cryptotree.seal_helper import print_ctx, print_ptx, create_seal_globals, append_globals_to_builtins\n",
    "import tenseal.sealapi as seal\n",
    "\n",
    "poly_modulus_degree = 8192\n",
    "moduli = [40,30,30,40]\n",
    "PRECISION_BITS = 30\n",
    "\n",
    "create_seal_globals(globals(), poly_modulus_degree, moduli, PRECISION_BITS)\n",
    "append_globals_to_builtins(globals(), builtins)\n",
    "\n",
    "ptx = seal.Plaintext()\n",
    "encoder.encode(2, scale, ptx)\n",
    "\n",
    "print(\"Initial vector input : \") \n",
    "print_ptx(ptx)\n",
    "\n",
    "ctx = seal.Ciphertext()\n",
    "encryptor.encrypt(ptx, ctx)\n",
    "\n",
    "degree = 2\n",
    "powers = compute_all_powers(ctx, degree, evaluator, relin_keys)\n",
    "\n",
    "print(\"Powers computed : \")\n",
    "print_ctx(powers[1])\n",
    "print_ctx(powers[2])"
   ]
  },
  {
   "cell_type": "code",
   "execution_count": null,
   "metadata": {},
   "outputs": [],
   "source": [
    "# export\n",
    "from typing import List, Union\n",
    "\n",
    "def multiply_and_add_coeffs(powers: List[seal.Ciphertext], plain_coeffs: List[seal.Plaintext],\n",
    "                            coeffs: List[float],\n",
    "                            evaluator: seal.Evaluator,\n",
    "                            scale: float,\n",
    "                            tol=1e-6) -> Union[seal.Ciphertext]:\n",
    "    assert len(powers) == len(plain_coeffs), f\"Mismatch between length between powers {len(powers)} and coeffs {len(coeffs)}\"\n",
    "    \n",
    "    \"\"\"Multiplies the coefficients with the corresponding powers andd adds everything.\n",
    "    \n",
    "    If the polynomial is non-constant, returns the ciphertext of the polynomial evaluation.\n",
    "    Else if the polynomials is constant, the plaintext of the constant term is returned.\n",
    "    \"\"\"\n",
    "    output = seal.Ciphertext()\n",
    "    a0 = plain_coeffs[0]\n",
    "    a0_added = False\n",
    "    \n",
    "    temp = seal.Ciphertext()\n",
    "    \n",
    "    for i in range(1, len(plain_coeffs)):\n",
    "        # We first check if the coefficient is not too small otherwise we skip it\n",
    "        coef = coeffs[i]\n",
    "        if np.abs(coef) < tol:\n",
    "            continue\n",
    "            \n",
    "        plain_coeff = plain_coeffs[i]\n",
    "        power = powers[i]\n",
    "        \n",
    "        evaluator.mod_switch_to_inplace(plain_coeff, power.parms_id())\n",
    "        \n",
    "        evaluator.multiply_plain(power, plain_coeff, temp)\n",
    "        evaluator.rescale_to_next_inplace(temp)\n",
    "        \n",
    "        if not a0_added:\n",
    "            evaluator.mod_switch_to_inplace(a0, temp.parms_id())\n",
    "            \n",
    "            temp.scale = scale\n",
    "            evaluator.add_plain(temp, a0, output)\n",
    "            a0_added = True\n",
    "        else:\n",
    "            evaluator.mod_switch_to_inplace(output, temp.parms_id())\n",
    "            # We rescale both to the same scale\n",
    "            output.scale = scale\n",
    "            temp.scale = scale\n",
    "            evaluator.add_inplace(output, temp)\n",
    "    if a0_added:\n",
    "        return output\n",
    "    else:\n",
    "        return a0"
   ]
  },
  {
   "cell_type": "code",
   "execution_count": null,
   "metadata": {},
   "outputs": [],
   "source": [
    "# export\n",
    "def polyeval_tree(ctx : seal.Ciphertext, coeffs: List[float], \n",
    "                  evaluator: seal.Evaluator, encoder : seal.Encryptor,\n",
    "                  relin_keys: seal.RelinKeys,\n",
    "                  scale: float):\n",
    "    \n",
    "    degree = len(coeffs) - 1\n",
    "    plain_coeffs = coeffs_to_plaintext(coeffs, encoder, scale)\n",
    "    powers = compute_all_powers(ctx, degree, evaluator, relin_keys)\n",
    "    output = multiply_and_add_coeffs(powers, plain_coeffs, coeffs, evaluator, scale)\n",
    "    \n",
    "    return output"
   ]
  },
  {
   "cell_type": "code",
   "execution_count": null,
   "metadata": {},
   "outputs": [
    {
     "name": "stdout",
     "output_type": "stream",
     "text": [
      "Initial vector input : \n",
      "\n",
      "    [ 2.0000000, 2.0000000, 2.0000000, ..., 2.0000000, 2.0000000, 2.0000000 ]\n",
      "\n",
      "Polynomial considered : X^2 + 1\n",
      "Associated coeffs : [1, 0, 1]\n",
      "Output of polynomials : \n",
      "\n",
      "    [ 5.0005520, 5.0005480, 5.0005467, ..., 5.0005472, 5.0005464, 5.0005410 ]\n",
      "\n"
     ]
    }
   ],
   "source": [
    "coeffs = [1,0,1]\n",
    "\n",
    "ptx = seal.Plaintext()\n",
    "encoder.encode(2, scale, ptx)\n",
    "\n",
    "print(\"Initial vector input : \") \n",
    "print_ptx(ptx)\n",
    "\n",
    "ctx = seal.Ciphertext()\n",
    "encryptor.encrypt(ptx, ctx)\n",
    "\n",
    "output = polyeval_tree(ctx, coeffs, evaluator, encoder, relin_keys, scale)\n",
    "\n",
    "print(\"Polynomial considered : X^2 + 1\")\n",
    "print(f\"Associated coeffs : {coeffs}\")\n",
    "print(\"Output of polynomials : \")\n",
    "print_ctx(output)"
   ]
  },
  {
   "cell_type": "code",
   "execution_count": null,
   "metadata": {},
   "outputs": [],
   "source": [
    "# export\n",
    "from fastcore.test import test_close\n",
    "\n",
    "def eval_polynomial(x: float, coeffs):\n",
    "    output = 0.\n",
    "    for power,coeff in enumerate(coeffs):\n",
    "        output += coeff * (x ** power)\n",
    "    return output\n",
    "\n",
    "def test_polynomial(x: float, coeffs, evaluator, encoder, encryptor, decryptor, relin_keys, scale, eps=1e-2):\n",
    "    \"\"\"Tests if the output of the polynomial, defined by the coeffs, is the same\n",
    "    between the homomorphic evaluation and the regular one\"\"\"\n",
    "    \n",
    "    ptx = seal.Plaintext()\n",
    "    encoder.encode(x, scale, ptx)\n",
    "    \n",
    "    ctx = seal.Ciphertext()\n",
    "    encryptor.encrypt(ptx, ctx)\n",
    "    \n",
    "    output = polyeval_tree(ctx, coeffs, evaluator, encoder, relin_keys, scale)\n",
    "    decryptor.decrypt(output, ptx)\n",
    "    \n",
    "    values = encoder.decode_double(ptx)\n",
    "    \n",
    "    homomorphic_output = values[0]\n",
    "    expected_output = eval_polynomial(x, coeffs)\n",
    "    \n",
    "    test_close(homomorphic_output, expected_output, eps)"
   ]
  },
  {
   "cell_type": "code",
   "execution_count": null,
   "metadata": {},
   "outputs": [],
   "source": [
    "test_polynomial(2, [1,0,1], evaluator, encoder, encryptor, decryptor, relin_keys, scale)\n",
    "test_polynomial(1, [1,1], evaluator, encoder, encryptor, decryptor, relin_keys, scale)\n",
    "test_polynomial(3, [0,0,1], evaluator, encoder, encryptor, decryptor, relin_keys, scale)"
   ]
  }
 ],
 "metadata": {
  "kernelspec": {
   "display_name": "Python 3",
   "language": "python",
   "name": "python3"
  }
 },
 "nbformat": 4,
 "nbformat_minor": 4
}

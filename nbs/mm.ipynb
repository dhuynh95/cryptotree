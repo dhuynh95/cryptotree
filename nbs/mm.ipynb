{
 "cells": [
  {
   "cell_type": "code",
   "execution_count": null,
   "metadata": {},
   "outputs": [
    {
     "name": "stdout",
     "output_type": "stream",
     "text": [
      "The autoreload extension is already loaded. To reload it, use:\n",
      "  %reload_ext autoreload\n",
      "The pycodestyle_magic extension is already loaded. To reload it, use:\n",
      "  %reload_ext pycodestyle_magic\n"
     ]
    }
   ],
   "source": [
    "# hide\n",
    "%load_ext autoreload\n",
    "%autoreload 2\n",
    "%load_ext pycodestyle_magic"
   ]
  },
  {
   "cell_type": "markdown",
   "metadata": {},
   "source": [
    "# Matrix multiplication in CKKS\n",
    "\n",
    "This notebook implements the paper https://eprint.iacr.org/2018/1041.pdf which allows to perform matrix multiplication with $\\mathcal{O}(d)$ operations on matrices of size $d \\times d$."
   ]
  },
  {
   "cell_type": "code",
   "execution_count": null,
   "metadata": {},
   "outputs": [],
   "source": [
    "# export \n",
    "import numpy as np\n",
    "import tenseal.sealapi as seal\n",
    "from typing import List"
   ]
  },
  {
   "cell_type": "markdown",
   "metadata": {},
   "source": [
    "To perform matrix multiplication we must implement 4 matrix operators : \n",
    "\n",
    "- $\\sigma(A)_{i,j} = A_{i,i+j}$\n",
    "- $\\tau(A)_{i,j} = A_{i+j,j}$\n",
    "- $\\phi(A)_{i,j} = A_{i,j+1}$\n",
    "- $\\psi(A)_{i,j} = A_{i+1,j}$"
   ]
  },
  {
   "cell_type": "markdown",
   "metadata": {},
   "source": [
    "## Base class"
   ]
  },
  {
   "cell_type": "code",
   "execution_count": null,
   "metadata": {},
   "outputs": [],
   "source": [
    "def sigma_diagonal_vector(d: int, k:int) -> np.array:\n",
    "    \"\"\"Creates the k-th diagonal for the sigma operator\n",
    "    for matrices of dimension dxd.\"\"\"\n",
    "    \n",
    "    u = np.arange(d**2)\n",
    "    if k >= 0:\n",
    "        index = (u - d*k >= 0) & (u < d*k + d - k)\n",
    "    else:\n",
    "        index = (u - d*(d+k) >= -k ) & (u - d*(d+k)< d)\n",
    "    u[index] = 1\n",
    "    u[~index] = 0\n",
    "    return u"
   ]
  },
  {
   "cell_type": "code",
   "execution_count": null,
   "metadata": {},
   "outputs": [],
   "source": [
    "def tau_diagonal_vector(d: int, k:int) -> np.array:\n",
    "    \"\"\"Creates the k-th diagonal for the tau operator\n",
    "    for matrices of dimension dxd.\"\"\"\n",
    "    \n",
    "    u = np.zeros(d**2)\n",
    "    for i in range(d):\n",
    "        l = (k + d * i)\n",
    "        u[l] = 1\n",
    "    return u"
   ]
  },
  {
   "cell_type": "code",
   "execution_count": null,
   "metadata": {},
   "outputs": [],
   "source": [
    "def row_diagonal_vector(d,k):\n",
    "    v_k = np.arange(d**2)\n",
    "    index = (v_k % d) < (d - k)\n",
    "    v_k[index] = 1\n",
    "    v_k[~index] = 0\n",
    "    \n",
    "    v_k_d = np.arange(d**2)\n",
    "    index = ((v_k_d % d) >= (d -k)) & ((v_k_d % d) < d)\n",
    "    v_k_d[index] = 1\n",
    "    v_k_d[~index] = 0\n",
    "    return v_k, v_k_d"
   ]
  },
  {
   "cell_type": "code",
   "execution_count": null,
   "metadata": {},
   "outputs": [],
   "source": [
    "def column_diagonal_vector(d,k):\n",
    "    v_k = np.ones(d**2)\n",
    "    return v_k"
   ]
  },
  {
   "cell_type": "code",
   "execution_count": null,
   "metadata": {},
   "outputs": [],
   "source": [
    "class MatrixMultiplicator:\n",
    "    \"\"\"Base class to create a matrix multiplicator operator.\"\"\"\n",
    "    def __init__(self, d, create_zero, sigma_diagonal_vector, tau_diagonal_vector,\n",
    "                 row_diagonal_vector, column_diagonal_vector,\n",
    "                 rotate=None, add=None, pmult=None, cmult=None):\n",
    "        \n",
    "        self.d = d\n",
    "        self.create_zero = create_zero\n",
    "        self.sigma_diagonal_vector = sigma_diagonal_vector\n",
    "        self.tau_diagonal_vector = tau_diagonal_vector\n",
    "        self.row_diagonal_vector = row_diagonal_vector\n",
    "        self.column_diagonal_vector = column_diagonal_vector\n",
    "        \n",
    "        if not rotate:\n",
    "            rotate = lambda x,k: np.roll(x, -k)\n",
    "        if not add:\n",
    "            add = lambda x,y: x+y\n",
    "        if not pmult:\n",
    "            pmult = lambda x,y: x*y\n",
    "        if not cmult:\n",
    "            cmult = lambda x,y: x*y\n",
    "            \n",
    "        self.rotate, self.add, self.pmult, self.cmult = rotate, add, pmult, cmult\n",
    "    \n",
    "    def sigma_lin_transform(self, input):\n",
    "        \n",
    "        sigma = []\n",
    "        d = self.d\n",
    "    \n",
    "        for k in range(-d+1,d):\n",
    "            sigma.append(self.sigma_diagonal_vector(d,k))\n",
    "        \n",
    "        output = self.create_zero()\n",
    "        \n",
    "        for sigma_vector,k in zip(sigma,range(-d+1,d)):\n",
    "            output = self.add(output, self.pmult(self.rotate(input,k), sigma_vector))\n",
    "        return output\n",
    "    \n",
    "    def tau_lin_transform(self, input):\n",
    "\n",
    "        tau = []\n",
    "        d = self.d\n",
    "\n",
    "        for k in range(d):\n",
    "            tau.append(self.tau_diagonal_vector(d,k))\n",
    "            \n",
    "        output = self.create_zero()\n",
    "        \n",
    "        for tau_vector,k in zip(tau,range(d)):\n",
    "            output = self.add(output, self.pmult(self.rotate(input,k * d), tau_vector))\n",
    "        return output\n",
    "    \n",
    "    def row_lin_transform(self, input, k):\n",
    "        \n",
    "        d = self.d\n",
    "        v_k, v_k_d = self.row_diagonal_vector(d, k)\n",
    "        \n",
    "        output = self.create_zero()\n",
    "        \n",
    "        output = self.add(output, self.pmult(self.rotate(input, k), v_k))\n",
    "        output = self.add(output, self.pmult(self.rotate(input, k-d), v_k_d))\n",
    "\n",
    "        return output\n",
    "    \n",
    "    def column_lin_transform(self, input, k):\n",
    "        \n",
    "        d = self.d\n",
    "        v_k = self.column_diagonal_vector(d, k)\n",
    "        \n",
    "        output = self.create_zero()\n",
    "        \n",
    "        output = self.add(output, self.pmult(self.rotate(input, d*k),v_k))\n",
    "\n",
    "        return output\n",
    "    \n",
    "    def matmul(self, A, B):\n",
    "        \n",
    "        d = self.d\n",
    "\n",
    "        sigma_A = self.create_zero()\n",
    "        sigma_A = self.sigma_lin_transform(A)\n",
    "\n",
    "        tau_B = self.create_zero()\n",
    "        tau_B = self.tau_lin_transform(B)\n",
    "\n",
    "        output = self.cmult(sigma_A, tau_B)\n",
    "\n",
    "        for k in range(1,d):\n",
    "            shift_A = self.row_lin_transform(sigma_A, k)\n",
    "            shift_B = self.column_lin_transform(tau_B, k)\n",
    "\n",
    "            output = self.add(output, self.cmult(shift_A, shift_B))\n",
    "        \n",
    "        return output\n",
    "        "
   ]
  },
  {
   "cell_type": "code",
   "execution_count": null,
   "metadata": {},
   "outputs": [],
   "source": [
    "def encode_matrices_to_vector(matrix):\n",
    "    shape = matrix.shape\n",
    "    assert len(shape) == 3, \"Non tridimensional tensor\"\n",
    "    assert shape[1] == shape[2], \"Non square matrices\"\n",
    "    \n",
    "    g = shape[0]\n",
    "    d = shape[1]\n",
    "    n = g * (d ** 2)\n",
    "    \n",
    "    output = np.zeros(n)\n",
    "    for l in range(n):\n",
    "        k = l % g\n",
    "        i = (l // g) // d\n",
    "        j = (l // g) % d\n",
    "        output[l] = matrix[k,i,j]\n",
    "        \n",
    "    return output\n",
    "\n",
    "def decode_vector_to_matrices(vector, d):\n",
    "    n = len(vector)\n",
    "    g = n // (d ** 2)\n",
    "    \n",
    "    output = np.zeros((g, d, d))\n",
    "    \n",
    "    for k in range(g):\n",
    "        for i in range(d):\n",
    "            for j in range(d):\n",
    "                output[k,i,j] = vector[g * (d*i + j) +k]\n",
    "    return output"
   ]
  },
  {
   "cell_type": "code",
   "execution_count": null,
   "metadata": {},
   "outputs": [],
   "source": [
    "def encode_matrix_to_vector(matrix: np.array) -> np.array:\n",
    "    \"\"\"Encodes a d*d matrix to a vector of size d*d\"\"\"\n",
    "    shape = matrix.shape\n",
    "    assert len(shape) == 2 and shape[0] == shape[1], \"Non square matrix\"\n",
    "    d = shape[0]\n",
    "    output = np.zeros(d**2)\n",
    "    for l in range(d**2):\n",
    "        i = l // d\n",
    "        j = l % d\n",
    "        output[l] = matrix[i,j]\n",
    "    return output\n",
    "\n",
    "def decode_vector_to_matrix(vector):\n",
    "    n = len(vector)\n",
    "    d = np.sqrt(n)\n",
    "    assert len(vector.shape) == 1 and d.is_integer(), \"Non square matrix\"\n",
    "    d = int(d)\n",
    "    \n",
    "    output = np.zeros((d,d))\n",
    "    \n",
    "    for i in range(d):\n",
    "        for j in range(d):\n",
    "            output[i,j] = vector[d*i + j]\n",
    "    return output"
   ]
  },
  {
   "cell_type": "code",
   "execution_count": null,
   "metadata": {},
   "outputs": [],
   "source": [
    "def weave(vector, g):\n",
    "    output = np.zeros(len(vector) * g)\n",
    "    for i in range(len(vector)):\n",
    "        output[i*g:(i+1)*g] = vector[i]\n",
    "    return output"
   ]
  },
  {
   "cell_type": "code",
   "execution_count": null,
   "metadata": {},
   "outputs": [],
   "source": [
    "d = 3\n",
    "\n",
    "A = np.random.randn(d**2)\n",
    "B = np.random.randn(d**2)\n",
    "\n",
    "create_zero = lambda : np.zeros(d**2)\n",
    "\n",
    "mm = MatrixMultiplicator(d, create_zero, sigma_diagonal_vector, tau_diagonal_vector, \n",
    "                         row_diagonal_vector, column_diagonal_vector)"
   ]
  },
  {
   "cell_type": "code",
   "execution_count": null,
   "metadata": {},
   "outputs": [],
   "source": [
    "l2_error = lambda x,y : ((x - y) ** 2).mean()"
   ]
  },
  {
   "cell_type": "code",
   "execution_count": null,
   "metadata": {},
   "outputs": [
    {
     "data": {
      "text/plain": [
       "2.8760553836182724e-32"
      ]
     },
     "execution_count": null,
     "metadata": {},
     "output_type": "execute_result"
    }
   ],
   "source": [
    "expected = encode_matrix_to_vector(np.matmul(decode_vector_to_matrix(A),decode_vector_to_matrix(B)))\n",
    "predicted = mm.matmul(A,B)\n",
    "\n",
    "l2_error(expected,predicted)"
   ]
  },
  {
   "cell_type": "code",
   "execution_count": null,
   "metadata": {},
   "outputs": [],
   "source": [
    "d = 3\n",
    "g = 2\n",
    "\n",
    "A = np.random.randn(d**2)\n",
    "B = np.random.randn(d**2)\n",
    "\n",
    "C = np.concatenate([decode_vector_to_matrix(A).reshape(1,d,d)]*g)\n",
    "C = encode_matrices_to_vector(C)\n",
    "\n",
    "D = np.concatenate([decode_vector_to_matrix(B).reshape(1,d,d)]*g)\n",
    "D = encode_matrices_to_vector(D)\n",
    "\n",
    "parallel_sigma_diagonal_vector = lambda d,k: weave(sigma_diagonal_vector(d,k),g)\n",
    "parallel_tau_diagonal_vector = lambda d,k: weave(tau_diagonal_vector(d,k),g)\n",
    "parallel_row_diagonal_vector = lambda d,k: [weave(vector,g) for vector in row_diagonal_vector(d,k)]\n",
    "parallel_column_diagonal_vector = lambda d,k: weave(column_diagonal_vector(d,k),g)\n",
    "\n",
    "parallel_create_zero = lambda: np.zeros(g * (d** 2))\n",
    "parallel_rotate = lambda x,k: np.roll(x, -(k * g))\n",
    "\n",
    "pmm = MatrixMultiplicator(d,parallel_create_zero , parallel_sigma_diagonal_vector, parallel_tau_diagonal_vector,\n",
    "                         parallel_row_diagonal_vector, parallel_column_diagonal_vector, parallel_rotate)"
   ]
  },
  {
   "cell_type": "code",
   "execution_count": null,
   "metadata": {},
   "outputs": [
    {
     "data": {
      "text/plain": [
       "3.4530904186503086"
      ]
     },
     "execution_count": null,
     "metadata": {},
     "output_type": "execute_result"
    }
   ],
   "source": [
    "expected = encode_matrices_to_vector(np.matmul(decode_vector_to_matrices(C, d), decode_vector_to_matrices(C, d)))\n",
    "predicted = pmm.matmul(C,D)\n",
    "\n",
    "l2_error(expected, predicted)"
   ]
  },
  {
   "cell_type": "code",
   "execution_count": null,
   "metadata": {},
   "outputs": [
    {
     "data": {
      "text/plain": [
       "array([[ 2.22480278,  0.84396379, -0.8360246 ],\n",
       "       [ 0.11749061,  0.0406489 ,  0.11238539],\n",
       "       [ 1.19914222, -0.98280776, -0.16491496]])"
      ]
     },
     "execution_count": null,
     "metadata": {},
     "output_type": "execute_result"
    }
   ],
   "source": [
    "decode_vector_to_matrix(mm.matmul(A,B))"
   ]
  },
  {
   "cell_type": "code",
   "execution_count": null,
   "metadata": {},
   "outputs": [
    {
     "data": {
      "text/plain": [
       "array([[[ 2.22480278,  0.84396379, -0.8360246 ],\n",
       "        [ 0.11749061,  0.0406489 ,  0.11238539],\n",
       "        [ 1.19914222, -0.98280776, -0.16491496]],\n",
       "\n",
       "       [[ 2.22480278,  0.84396379, -0.8360246 ],\n",
       "        [ 0.11749061,  0.0406489 ,  0.11238539],\n",
       "        [ 1.19914222, -0.98280776, -0.16491496]]])"
      ]
     },
     "execution_count": null,
     "metadata": {},
     "output_type": "execute_result"
    }
   ],
   "source": [
    "decode_vector_to_matrices(pmm.matmul(C,D),d)"
   ]
  },
  {
   "cell_type": "code",
   "execution_count": null,
   "metadata": {},
   "outputs": [],
   "source": [
    "import builtins\n",
    "from cryptotree.seal_helper import print_ctx, print_ptx, create_seal_globals, append_globals_to_builtins\n",
    "\n",
    "poly_modulus_degree = 8192\n",
    "moduli = [40,30,30,30,40]\n",
    "PRECISION_BITS = 30\n",
    "\n",
    "create_seal_globals(globals(), poly_modulus_degree, moduli, PRECISION_BITS)\n",
    "append_globals_to_builtins(globals(), builtins)"
   ]
  },
  {
   "cell_type": "code",
   "execution_count": null,
   "metadata": {},
   "outputs": [],
   "source": [
    "d = 28\n",
    "\n",
    "A = np.random.randn(d ** 2)\n",
    "B = np.random.randn(d ** 2)"
   ]
  },
  {
   "cell_type": "code",
   "execution_count": null,
   "metadata": {},
   "outputs": [],
   "source": [
    "ptx = seal.Plaintext()\n",
    "\n",
    "encoder.encode(A, scale, ptx)\n",
    "ctA = seal.Ciphertext()\n",
    "encryptor.encrypt(ptx, ctA)\n",
    "\n",
    "encoder.encode(B, scale, ptx)\n",
    "ctB = seal.Ciphertext()\n",
    "encryptor.encrypt(ptx, ctB)"
   ]
  },
  {
   "cell_type": "code",
   "execution_count": null,
   "metadata": {},
   "outputs": [],
   "source": [
    "def get_vector(ctx):\n",
    "    ptx = seal.Plaintext()\n",
    "    decryptor.decrypt(ctx, ptx)\n",
    "    return np.array(encoder.decode_double(ptx))\n",
    "\n",
    "def encode(vector):\n",
    "    ptx = seal.Plaintext()\n",
    "    encoder.encode(vector, scale, ptx)\n",
    "    return ptx\n",
    "\n",
    "def encrypt(vector):\n",
    "    ptx = encode(vector)\n",
    "    ctx = seal.Ciphertext()\n",
    "    encryptor.encrypt(ptx, ctx)\n",
    "    return ctx"
   ]
  },
  {
   "cell_type": "code",
   "execution_count": null,
   "metadata": {},
   "outputs": [],
   "source": [
    "def ckks_create_zero():\n",
    "    zero = np.zeros(encoder.slot_count())\n",
    "    ptx = seal.Plaintext()\n",
    "    encoder.encode(zero, scale, ptx)\n",
    "    ctx = seal.Ciphertext()\n",
    "    encryptor.encrypt(ptx, ctx)\n",
    "    return ctx\n",
    "\n",
    "def ckks_rotate(ctx, k):\n",
    "    output = seal.Ciphertext()\n",
    "    evaluator.rotate_vector(ctx, k, galois_keys, output)\n",
    "    return output\n",
    "\n",
    "def ckks_add(ctx1, ctx2):\n",
    "    output = seal.Ciphertext()\n",
    "    if not ctx1.parms_id() == ctx2.parms_id():\n",
    "        evaluator.mod_switch_to_inplace(ctx1, ctx2.parms_id())\n",
    "    evaluator.add(ctx1, ctx2, output)\n",
    "    return output\n",
    "\n",
    "def ckks_pmult(ctx, ptx):\n",
    "    output = seal.Ciphertext()\n",
    "    if not ptx.parms_id() == ctx.parms_id():\n",
    "        evaluator.mod_switch_to_inplace(ptx, ctx.parms_id())\n",
    "    evaluator.multiply_plain(ctx, ptx, output)\n",
    "    evaluator.rescale_to_next_inplace(output)\n",
    "    output.scale = scale\n",
    "    return output\n",
    "\n",
    "def ckks_cmult(ctx1, ctx2):\n",
    "    output = seal.Ciphertext()\n",
    "    if not ctx2.parms_id() == ctx1.parms_id():\n",
    "        evaluator.mod_switch_to_inplace(ctx2, ctx1.parms_id())\n",
    "    evaluator.multiply(ctx1, ctx2, output)\n",
    "    evaluator.rescale_to_next_inplace(output)\n",
    "    output.scale = scale\n",
    "    return output\n",
    "\n",
    "ckks_sigma_diagonal_vector = lambda d,k: encode(sigma_diagonal_vector(d,k))\n",
    "ckks_tau_diagonal_vector = lambda d,k: encode(tau_diagonal_vector(d,k))\n",
    "ckks_row_diagonal_vector = lambda d,k: [encode(vector) for vector in row_diagonal_vector(d,k)]\n",
    "ckks_column_diagonal_vector = lambda d,k: encode(column_diagonal_vector(d,k))\n",
    "\n",
    "cmm = MatrixMultiplicator(d, ckks_create_zero, ckks_sigma_diagonal_vector, ckks_tau_diagonal_vector,\n",
    "                         ckks_row_diagonal_vector, ckks_column_diagonal_vector, ckks_rotate, ckks_add, \n",
    "                          ckks_pmult, ckks_cmult)"
   ]
  },
  {
   "cell_type": "code",
   "execution_count": null,
   "metadata": {},
   "outputs": [],
   "source": [
    "mm = MatrixMultiplicator(d, create_zero, sigma_diagonal_vector, tau_diagonal_vector, \n",
    "                         row_diagonal_vector, column_diagonal_vector)"
   ]
  },
  {
   "cell_type": "code",
   "execution_count": null,
   "metadata": {},
   "outputs": [],
   "source": [
    "predicted = cmm.matmul(ctA, ctB)"
   ]
  },
  {
   "cell_type": "code",
   "execution_count": null,
   "metadata": {},
   "outputs": [
    {
     "data": {
      "text/plain": [
       "33.51652090661767"
      ]
     },
     "execution_count": null,
     "metadata": {},
     "output_type": "execute_result"
    }
   ],
   "source": [
    "expected = mm.matmul(A,B)\n",
    "\n",
    "l2_error(get_vector(predicted)[:784], expected)"
   ]
  },
  {
   "cell_type": "code",
   "execution_count": null,
   "metadata": {},
   "outputs": [],
   "source": [
    "d = 16\n",
    "g = 16\n",
    "\n",
    "A = np.random.randn(d ** 2)\n",
    "B = np.random.randn(d ** 2)\n",
    "\n",
    "C = np.concatenate([decode_vector_to_matrix(A).reshape(1,d,d)]*g)\n",
    "C = encode_matrices_to_vector(C)\n",
    "ctC = encrypt(C)\n",
    "\n",
    "D = np.concatenate([decode_vector_to_matrix(B).reshape(1,d,d)]*g)\n",
    "D = encode_matrices_to_vector(D)\n",
    "ctD = encrypt(D)\n",
    "\n",
    "parallel_ckks_sigma_diagonal_vector = lambda d,k: encode(weave(sigma_diagonal_vector(d,k),g))\n",
    "parallel_ckks_tau_diagonal_vector = lambda d,k: encode(weave(tau_diagonal_vector(d,k),g))\n",
    "parallel_ckks_row_diagonal_vector = lambda d,k: [encode(weave(vector,g)) for vector in row_diagonal_vector(d,k)]\n",
    "parallel_ckks_column_diagonal_vector = lambda d,k: encode(weave(column_diagonal_vector(d,k),g))\n",
    "\n",
    "parallel_ckks_rotate = lambda ctx,k: ckks_rotate(ctx, k*g)\n",
    "\n",
    "pcmm = MatrixMultiplicator(d,ckks_create_zero , parallel_ckks_sigma_diagonal_vector, parallel_ckks_tau_diagonal_vector,\n",
    "                         parallel_ckks_row_diagonal_vector, parallel_ckks_column_diagonal_vector, parallel_ckks_rotate,\n",
    "                          ckks_add, ckks_pmult, ckks_cmult)"
   ]
  },
  {
   "cell_type": "code",
   "execution_count": null,
   "metadata": {},
   "outputs": [
    {
     "data": {
      "text/plain": [
       "8192"
      ]
     },
     "execution_count": null,
     "metadata": {},
     "output_type": "execute_result"
    }
   ],
   "source": [
    "2**13"
   ]
  },
  {
   "cell_type": "code",
   "execution_count": null,
   "metadata": {},
   "outputs": [],
   "source": [
    "parallel_sigma_diagonal_vector = lambda d,k: weave(sigma_diagonal_vector(d,k),g)\n",
    "parallel_tau_diagonal_vector = lambda d,k: weave(tau_diagonal_vector(d,k),g)\n",
    "parallel_row_diagonal_vector = lambda d,k: [weave(vector,g) for vector in row_diagonal_vector(d,k)]\n",
    "parallel_column_diagonal_vector = lambda d,k: weave(column_diagonal_vector(d,k),g)\n",
    "\n",
    "parallel_create_zero = lambda: np.zeros(g * (d** 2))\n",
    "parallel_rotate = lambda x,k: np.roll(x, -(k * g))\n",
    "\n",
    "pmm = MatrixMultiplicator(d,parallel_create_zero , parallel_sigma_diagonal_vector, parallel_tau_diagonal_vector,\n",
    "                         parallel_row_diagonal_vector, parallel_column_diagonal_vector, parallel_rotate)\n",
    "\n",
    "pmm = MatrixMultiplicator(d,parallel_create_zero , parallel_sigma_diagonal_vector, parallel_tau_diagonal_vector,\n",
    "                         parallel_row_diagonal_vector, parallel_column_diagonal_vector, parallel_rotate)"
   ]
  },
  {
   "cell_type": "code",
   "execution_count": null,
   "metadata": {},
   "outputs": [],
   "source": [
    "predicted = pcmm.matmul(ctC,ctD)"
   ]
  },
  {
   "cell_type": "code",
   "execution_count": null,
   "metadata": {},
   "outputs": [
    {
     "data": {
      "text/plain": [
       "3.647689479760129e-06"
      ]
     },
     "execution_count": null,
     "metadata": {},
     "output_type": "execute_result"
    }
   ],
   "source": [
    "expected = pmm.matmul(C,D)\n",
    "\n",
    "l2_error(get_vector(predicted), expected)"
   ]
  },
  {
   "cell_type": "code",
   "execution_count": null,
   "metadata": {},
   "outputs": [
    {
     "data": {
      "text/plain": [
       "5.134337397070778e-06"
      ]
     },
     "execution_count": null,
     "metadata": {},
     "output_type": "execute_result"
    }
   ],
   "source": [
    "((v - expected) ** 2).mean()"
   ]
  },
  {
   "cell_type": "code",
   "execution_count": null,
   "metadata": {},
   "outputs": [
    {
     "name": "stdout",
     "output_type": "stream",
     "text": [
      "\n",
      "    [ 1.9994646, 3.0002853, 4.0000778, ..., -0.0000002, 0.0000010, 0.9999999 ]\n",
      "\n"
     ]
    }
   ],
   "source": [
    "evaluator.rotate_vector_inplace(ctx, 1, galois_keys)\n",
    "print_ctx(ctx)"
   ]
  },
  {
   "cell_type": "code",
   "execution_count": null,
   "metadata": {},
   "outputs": [],
   "source": [
    "# export\n",
    "from fastcore.test import test_close\n",
    "\n",
    "def test_sum(x: List[float], evaluator, encoder, encryptor, decryptor, scale, eps=1e-2):\n",
    "    \"\"\"Tests if the output of the polynomial, defined by the coeffs, is the same\n",
    "    between the homomorphic evaluation and the regular one\"\"\"\n",
    "    n_slot = len(x)\n",
    "    \n",
    "    ptx = seal.Plaintext()\n",
    "    encoder.encode(x, scale, ptx)\n",
    "    \n",
    "    ctx = seal.Ciphertext()\n",
    "    encryptor.encrypt(ptx, ctx)\n",
    "    \n",
    "    output = sum_reduce(ctx, evaluator, galois_keys, n_slot)\n",
    "    decryptor.decrypt(output, ptx)\n",
    "    \n",
    "    values = encoder.decode_double(ptx)\n",
    "    \n",
    "    homomorphic_output = values[0]\n",
    "    expected_output = np.sum(x)\n",
    "    \n",
    "    test_close(homomorphic_output, expected_output, eps)\n",
    "    \n",
    "def test_dot_product_plain(x: List[float], y: List[float], \n",
    "                           evaluator, encoder, encryptor, decryptor, \n",
    "                           galois_keys,\n",
    "                           scale, eps=1e-2):\n",
    "    \"\"\"Tests if the output of the polynomial, defined by the coeffs, is the same\n",
    "    between the homomorphic evaluation and the regular one\"\"\"\n",
    "    assert len(x) == len(y), f\"x and y must have same length {len(x)} != {len(y)}\"\n",
    "    n_slot = len(x)\n",
    "    \n",
    "    ptx = seal.Plaintext()\n",
    "    encoder.encode(x, scale, ptx)\n",
    "    \n",
    "    ctx = seal.Ciphertext()\n",
    "    encryptor.encrypt(ptx, ctx)\n",
    "    \n",
    "    pty = seal.Plaintext()\n",
    "    encoder.encode(y, scale, pty)\n",
    "    \n",
    "    output = dot_product_plain(ctx, pty, evaluator, galois_keys, n_slot)\n",
    "    decryptor.decrypt(output, ptx)\n",
    "    \n",
    "    values = encoder.decode_double(ptx)\n",
    "    \n",
    "    homomorphic_output = values[0]\n",
    "    expected_output = np.dot(x, y)\n",
    "    \n",
    "    test_close(homomorphic_output, expected_output, eps)"
   ]
  },
  {
   "cell_type": "code",
   "execution_count": null,
   "metadata": {},
   "outputs": [
    {
     "name": "stdout",
     "output_type": "stream",
     "text": [
      "\n",
      "    [ 9.9999583, 9.0000185, 6.9999091, ..., 1.0000008, 3.0003153, 6.0000488 ]\n",
      "\n",
      "\n",
      "    [ 30.0000054, 29.0000064, 25.0000052, ..., 0.9999990, 5.0000002, 13.9999994 ]\n",
      "\n"
     ]
    }
   ],
   "source": [
    "print_ctx(sum_reduce(ctx, evaluator, galois_keys, n_slot))\n",
    "print_ctx(dot_product_plain(ctx, ptx, evaluator, galois_keys, n_slot))"
   ]
  },
  {
   "cell_type": "code",
   "execution_count": null,
   "metadata": {},
   "outputs": [],
   "source": [
    "test_sum([1,2], evaluator, encoder, encryptor, decryptor, scale)\n",
    "test_sum([1,2,3], evaluator, encoder, encryptor, decryptor, scale)"
   ]
  },
  {
   "cell_type": "code",
   "execution_count": null,
   "metadata": {},
   "outputs": [],
   "source": [
    "test_dot_product_plain([1,2,3], [1,1,1], evaluator, encoder, encryptor, decryptor, galois_keys, scale)\n",
    "test_dot_product_plain([1,2,3,5], [1,1,1,-6], evaluator, encoder, encryptor, decryptor, galois_keys, scale)"
   ]
  },
  {
   "cell_type": "code",
   "execution_count": null,
   "metadata": {},
   "outputs": [],
   "source": []
  }
 ],
 "metadata": {
  "kernelspec": {
   "display_name": "Python 3",
   "language": "python",
   "name": "python3"
  }
 },
 "nbformat": 4,
 "nbformat_minor": 4
}

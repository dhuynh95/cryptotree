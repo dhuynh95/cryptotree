{
 "cells": [
  {
   "cell_type": "code",
   "execution_count": null,
   "metadata": {},
   "outputs": [],
   "source": [
    "# default_exp tree"
   ]
  },
  {
   "cell_type": "code",
   "execution_count": null,
   "metadata": {},
   "outputs": [],
   "source": [
    "# hide\n",
    "%load_ext autoreload\n",
    "%autoreload 2"
   ]
  },
  {
   "cell_type": "code",
   "execution_count": null,
   "metadata": {},
   "outputs": [],
   "source": [
    "# export\n",
    "import numpy as np\n",
    "\n",
    "from typing import List\n",
    "import torch\n",
    "\n",
    "from sklearn.tree import BaseDecisionTree\n",
    "from functools import partial"
   ]
  },
  {
   "cell_type": "markdown",
   "metadata": {},
   "source": [
    "# tree\n",
    "\n",
    "> Neural Decision Trees"
   ]
  },
  {
   "cell_type": "markdown",
   "metadata": {},
   "source": [
    "## Decision tree"
   ]
  },
  {
   "cell_type": "markdown",
   "metadata": {},
   "source": [
    "To use decision trees, a Neural Tree Maker is needed to be instantiated first, as it will the one to provide all the features, espcially the activation, to a scikit learn tree, in order to output a Neural Decision Tree."
   ]
  },
  {
   "cell_type": "code",
   "execution_count": null,
   "metadata": {},
   "outputs": [],
   "source": [
    "# export\n",
    "from sklearn.tree import BaseDecisionTree\n",
    "from sklearn.base import is_classifier\n",
    "\n",
    "import torch.nn as nn\n",
    "from typing import Callable\n",
    "from numpy.polynomial.chebyshev import Chebyshev\n",
    "from numpy.polynomial import Polynomial\n",
    "from cryptotree.activations import create_linear_node_comparator\n",
    "\n",
    "DEFAULT_POLYNOMIAL_DEGREE = 16\n",
    "DEFAULT_DILATATION_FACTOR = 16\n",
    "DEFAULT_BOUND = 1.0\n",
    "\n",
    "class NeuralTreeMaker:\n",
    "    \"\"\"Base class to \"\"\"\n",
    "    def __init__(self, \n",
    "                 activation: Callable, \n",
    "                 create_linear_leaf_matcher: Callable,\n",
    "                 create_regression_head: Callable,\n",
    "                 create_classifier_head: Callable,\n",
    "                 dilatation_factor : float = DEFAULT_DILATATION_FACTOR,\n",
    "                 use_polynomial : bool = False, \n",
    "                 polynomial_degree : int = DEFAULT_POLYNOMIAL_DEGREE, bound: float = DEFAULT_BOUND):\n",
    "        \n",
    "        # first we need to define the activation used\n",
    "        activation_fn = lambda x: activation(x * dilatation_factor)\n",
    "        if use_polynomial:\n",
    "            domain = [-bound, bound]\n",
    "            activation_fn_numpy = lambda x: activation_fn(torch.tensor(x))\n",
    "            self.activation = Chebyshev.interpolate(activation_fn_numpy,deg=polynomial_degree,domain=domain)\n",
    "            self.coeffs = Polynomial.cast(self.activation).coef\n",
    "        else:\n",
    "            self.activation = activation_fn\n",
    "            self.coeffs = None\n",
    "            \n",
    "        self.create_linear_leaf_matcher = create_linear_leaf_matcher\n",
    "        self.create_regression_head = create_regression_head\n",
    "        self.create_classifier_head = create_classifier_head\n",
    "        \n",
    "    def make_tree(self, tree: BaseDecisionTree):\n",
    "        if is_classifier(tree):\n",
    "            create_head = self.create_classifier_head\n",
    "        else:\n",
    "            create_head = self.create_regression_head\n",
    "        neural_tree = NeuralDecisionTree(tree, self.activation, self.create_linear_leaf_matcher, create_head)\n",
    "        return neural_tree\n",
    "\n",
    "class NeuralDecisionTree(nn.Module):\n",
    "    \"\"\"Base class of Neural Decision Trees.\"\"\"\n",
    "    def __init__(self, tree: BaseDecisionTree,\n",
    "                 activation: Callable,\n",
    "                 create_linear_leaf_matcher: Callable,\n",
    "                 create_head: Callable):\n",
    "        super(NeuralDecisionTree, self).__init__()\n",
    "        \n",
    "        self.activation = activation\n",
    "        \n",
    "        self.comparator = create_linear_node_comparator(tree)\n",
    "        self.matcher = create_linear_leaf_matcher(tree)\n",
    "        \n",
    "        self.head = create_head(tree)\n",
    "            \n",
    "    def forward(self,x):\n",
    "        comparisons = self.comparator(x)\n",
    "        comparisons = self.activation(comparisons)\n",
    "        \n",
    "        matches = self.matcher(comparisons)\n",
    "        matches = self.activation(matches)\n",
    "        \n",
    "        output = self.head(matches)\n",
    "        \n",
    "        return output\n",
    "    \n",
    "    def return_weights(self):\n",
    "        \"\"\"Returns the weights used in each layer.\"\"\"\n",
    "        w0 = self.comparator.weight.data.numpy()\n",
    "        b0 = self.comparator.bias.data.numpy()\n",
    "        \n",
    "        w1 = self.matcher.weight.data.numpy()\n",
    "        b1 = self.matcher.bias.data.numpy()\n",
    "        \n",
    "        w2 = self.head.weight.data.numpy()\n",
    "        b2 = self.head.bias.data.numpy()\n",
    "        \n",
    "        return w0, b0, w1, b1, w2, b2"
   ]
  },
  {
   "cell_type": "markdown",
   "metadata": {},
   "source": [
    "Now that we have defined the generic Tree Maker, we will use two specific Tree makers : the sigmoid and the tanh ones."
   ]
  },
  {
   "cell_type": "code",
   "execution_count": null,
   "metadata": {},
   "outputs": [],
   "source": [
    "# export\n",
    "from cryptotree.activations import sigmoid_linear_leaf_matcher, sigmoid_classification_head\n",
    "\n",
    "def raise_error_wrong_tree(*args,**kwargs):\n",
    "    raise Exception(\"Wrong supervised tree used\")\n",
    "    \n",
    "class SigmoidTreeMaker(NeuralTreeMaker):\n",
    "    def __init__(self, dilatation_factor : float = DEFAULT_DILATATION_FACTOR,\n",
    "                 use_polynomial : bool = False, \n",
    "                 polynomial_degree : int = DEFAULT_POLYNOMIAL_DEGREE, bound: float = DEFAULT_BOUND, eps=0.5):\n",
    "        \n",
    "        activation = torch.sigmoid\n",
    "        create_linear_leaf_matcher = partial(sigmoid_linear_leaf_matcher,eps=eps)\n",
    "        create_classifier_head = sigmoid_classification_head\n",
    "        create_regression_head = raise_error_wrong_tree\n",
    "        \n",
    "        super().__init__(activation, \n",
    "                 create_linear_leaf_matcher,\n",
    "                 create_regression_head,\n",
    "                 create_classifier_head,\n",
    "                 dilatation_factor,\n",
    "                 use_polynomial, \n",
    "                 polynomial_degree)"
   ]
  },
  {
   "cell_type": "code",
   "execution_count": null,
   "metadata": {},
   "outputs": [],
   "source": [
    "# export\n",
    "from cryptotree.activations import tanh_linear_leaf_matcher, tanh_classification_head\n",
    "\n",
    "class TanhTreeMaker(NeuralTreeMaker):\n",
    "    def __init__(self, dilatation_factor : float = DEFAULT_DILATATION_FACTOR,\n",
    "                 use_polynomial : bool = False, \n",
    "                 polynomial_degree : int = DEFAULT_POLYNOMIAL_DEGREE, bound: float = DEFAULT_BOUND, eps=0.5):\n",
    "        \n",
    "        activation = torch.tanh\n",
    "        create_linear_leaf_matcher = partial(tanh_linear_leaf_matcher,eps=eps)\n",
    "        create_classifier_head = tanh_classification_head\n",
    "        create_regression_head = raise_error_wrong_tree\n",
    "        \n",
    "        super().__init__(activation, \n",
    "                 create_linear_leaf_matcher,\n",
    "                 create_regression_head,\n",
    "                 create_classifier_head,\n",
    "                 dilatation_factor,\n",
    "                 use_polynomial, \n",
    "                 polynomial_degree)"
   ]
  },
  {
   "cell_type": "markdown",
   "metadata": {},
   "source": [
    "We can check the corectness of each computing step in order to make sure the output of each layer doesn't go too far from $[-1,1]$"
   ]
  },
  {
   "cell_type": "code",
   "execution_count": null,
   "metadata": {},
   "outputs": [],
   "source": [
    "# export\n",
    "def check_output_range(m, i, o, threshold=1):\n",
    "    rows_outside_range = ((torch.abs(o) > threshold).float().sum(dim=1) > 0).numpy()\n",
    "    idx_outside_range = np.arange(len(rows_outside_range))[rows_outside_range]\n",
    "    \n",
    "    assert len(idx_outside_range) == 0, f\"\"\"Out of range outputs for module {m}: \\n \n",
    "    {idx_outside_range} \\n\n",
    "    Rows with outside range : \\n\n",
    "    {o.numpy()[idx_outside_range]}\"\"\"\n",
    "\n",
    "def register_output_check(model, threshold=1):\n",
    "    for c in model.children():\n",
    "        if isinstance(c,nn.Linear):\n",
    "            hook = partial(check_output_range, threshold=threshold)\n",
    "            c.register_forward_hook(hook)"
   ]
  },
  {
   "cell_type": "markdown",
   "metadata": {},
   "source": [
    "## Neural Random Forest"
   ]
  },
  {
   "cell_type": "markdown",
   "metadata": {},
   "source": [
    "Now that we have defined the NDT, we can use the Neural Tree Maker to create a Neural Random Forest from it.\n",
    "\n",
    "First we need some helper functions which will help us pad each tree to the same size, before we can concatenate it."
   ]
  },
  {
   "cell_type": "code",
   "execution_count": null,
   "metadata": {},
   "outputs": [],
   "source": [
    "# export\n",
    "def pad_tensor(tensor, target, dim=0, value=0):\n",
    "    # If the tensor is already at the target size we return it\n",
    "    if tensor.shape[dim] >= target:\n",
    "        return tensor\n",
    "    else:\n",
    "        shape = list(tensor.shape)\n",
    "        shape[dim] = target - tensor.shape[dim]\n",
    "\n",
    "        padding = torch.ones(shape) * value\n",
    "        output = torch.cat([tensor,padding], dim=dim)\n",
    "        return output\n",
    "\n",
    "def pad_neural_tree(neural_tree, n_nodes_max, n_leaves_max):\n",
    "    w0, b0 = neural_tree.comparator.weight.data.clone(), neural_tree.comparator.bias.data.clone()\n",
    "    \n",
    "    # First we pad the output size of the comparator\n",
    "    neural_tree.comparator = nn.Linear(w0.shape[1], n_nodes_max)\n",
    "    neural_tree.comparator.weight.data = pad_tensor(w0, n_nodes_max, dim=0)\n",
    "    neural_tree.comparator.bias.data = pad_tensor(b0, n_nodes_max, dim=0)\n",
    "    \n",
    "    w1, b1 = neural_tree.matcher.weight.data.clone(), neural_tree.matcher.bias.data.clone()\n",
    "    # Then we pad the output and the input size of the matcher\n",
    "    neural_tree.matcher = nn.Linear(n_nodes_max, n_leaves_max)\n",
    "    neural_tree.matcher.weight.data = pad_tensor(pad_tensor(w1, n_nodes_max, dim=1), n_leaves_max, dim=0)\n",
    "    neural_tree.matcher.bias.data = pad_tensor(b1, n_leaves_max, dim=0)\n",
    "    \n",
    "    w2, b2 = neural_tree.head.weight.data.clone(), neural_tree.head.bias.data.clone()\n",
    "    neural_tree.head = nn.Linear(n_leaves_max, w2.shape[0])\n",
    "    neural_tree.head.weight.data = pad_tensor(w2, n_leaves_max, dim =1)\n",
    "    neural_tree.head.bias.data = b2"
   ]
  },
  {
   "cell_type": "markdown",
   "metadata": {},
   "source": [
    "Now we can start creating a Neural Random Forest which will be instantiated from a list of sklearn trees and a Neural Tree Maker. "
   ]
  },
  {
   "cell_type": "code",
   "execution_count": null,
   "metadata": {},
   "outputs": [],
   "source": [
    "# export\n",
    "class NeuralRandomForest(nn.Module):\n",
    "    def __init__(self, trees: List[BaseDecisionTree],\n",
    "                 tree_maker: NeuralTreeMaker, \n",
    "                 weights: torch.Tensor = None, trainable_weights:bool = False,\n",
    "                 bias: torch.Tensor = None, trainable_bias:bool = False):\n",
    "        \n",
    "        super(NeuralRandomForest, self).__init__()\n",
    "        \n",
    "        self.n_trees = len(trees)\n",
    "        self.activation = tree_maker.activation\n",
    "        \n",
    "        # First we need to create the neural trees\n",
    "        neural_trees = []\n",
    "        n_nodes = []\n",
    "        n_leaves = []\n",
    "        for tree in trees:\n",
    "            neural_tree = tree_maker.make_tree(tree)\n",
    "            n_nodes.append(neural_tree.comparator.weight.data.shape[0])\n",
    "            n_leaves.append(neural_tree.matcher.weight.data.shape[0])\n",
    "            neural_trees.append(neural_tree)\n",
    "        \n",
    "        # Then we pad our neural trees according to the biggest tree in the forest\n",
    "        n_nodes_max = max(n_nodes)\n",
    "        n_leaves_max = max(n_leaves)\n",
    "        \n",
    "        self.n_leaves_max = n_leaves_max\n",
    "        \n",
    "        for neural_tree in neural_trees:\n",
    "            pad_neural_tree(neural_tree, n_nodes_max, n_leaves_max)\n",
    "            \n",
    "        self.neural_trees = neural_trees\n",
    "        \n",
    "        # Then we create the parameters for the Neural Random Forest\n",
    "        comparators = [neural_tree.comparator.weight.data.unsqueeze(-1) for neural_tree in neural_trees]\n",
    "        comparator = torch.cat(comparators, dim=-1)\n",
    "        comparator = comparator.permute(1,0,2)\n",
    "        comparator = nn.Parameter(comparator)\n",
    "        self.register_parameter(\"comparator\", comparator)\n",
    "\n",
    "        comparator_bias = [neural_tree.comparator.bias.data.unsqueeze(-1) for neural_tree in neural_trees]\n",
    "        comparator_bias = torch.cat(comparator_bias, dim=-1)\n",
    "        comparator_bias = nn.Parameter(comparator_bias)\n",
    "        self.register_parameter(\"comparator_bias\", comparator_bias)\n",
    "\n",
    "        matchers = [neural_tree.matcher.weight.data.unsqueeze(-1) for neural_tree in neural_trees]\n",
    "        matcher = torch.cat(matchers, dim=-1)\n",
    "        matcher = nn.Parameter(matcher)\n",
    "        self.register_parameter(\"matcher\", matcher)\n",
    "\n",
    "        matcher_bias = [neural_tree.matcher.bias.data.unsqueeze(-1) for neural_tree in neural_trees]\n",
    "        matcher_bias = torch.cat(matcher_bias, dim=-1)\n",
    "        matcher_bias = nn.Parameter(matcher_bias)\n",
    "        self.register_parameter(\"matcher_bias\",matcher_bias)\n",
    "\n",
    "        heads = [neural_tree.head.weight.data.unsqueeze(-1) for neural_tree in neural_trees]\n",
    "        head = torch.cat(heads, dim=-1)\n",
    "        head = nn.Parameter(head)\n",
    "        self.register_parameter(\"head\", head)\n",
    "\n",
    "        head_bias = [neural_tree.head.bias.data.unsqueeze(-1) for neural_tree in neural_trees]\n",
    "        head_bias = torch.cat(head_bias, dim=-1)\n",
    "        head_bias = nn.Parameter(head_bias)\n",
    "        self.register_parameter(\"head_bias\", head_bias)\n",
    "        \n",
    "        if not torch.is_tensor(weights):\n",
    "            weights = torch.ones(self.n_trees) * (1. / self.n_trees)\n",
    "            \n",
    "        if trainable_weights:\n",
    "            weights = nn.Parameter(weights)\n",
    "            self.register_parameter(\"weights\", weights)\n",
    "        else:\n",
    "            self.register_buffer(\"weights\", weights)\n",
    "            \n",
    "        if not torch.is_tensor(bias):\n",
    "            c = neural_tree.head.weight.data.shape[0]\n",
    "            bias = torch.zeros(c)\n",
    "            \n",
    "        if trainable_bias:\n",
    "            bias = nn.Parameter(bias)\n",
    "            self.register_parameter(\"bias\",bias)\n",
    "        else:\n",
    "            self.register_buffer(\"bias\",bias)\n",
    "        \n",
    "    def forward(self, x):\n",
    "        comparisons = self.compare(x)\n",
    "        matches = self.match(comparisons)\n",
    "        outputs = self.decide(matches)\n",
    "        \n",
    "        return outputs\n",
    "    \n",
    "    def compare(self, x):\n",
    "        comparisons = torch.einsum(\"kj,jil->kil\",x,self.comparator) + self.comparator_bias.unsqueeze(0)\n",
    "        comparisons = self.activation(comparisons)\n",
    "        return comparisons\n",
    "    \n",
    "    def match(self, comparisons):\n",
    "        matches = torch.einsum(\"kjl,ijl->kil\",comparisons, self.matcher) + self.matcher_bias\n",
    "        matches = self.activation(matches)\n",
    "        return matches\n",
    "    \n",
    "    def decide(self, matches):\n",
    "        outputs = torch.einsum(\"kjl,cjl->kcl\",matches,self.head) + self.head_bias\n",
    "        outputs = (outputs * self.weights.expand_as(outputs)).sum(dim=-1)\n",
    "        outputs = outputs + self.bias.expand_as(outputs)\n",
    "        return outputs\n",
    "        \n",
    "    def get_weight_and_bias(self, module:str):\n",
    "        weight = getattr(self, module)\n",
    "        bias = getattr(self, module + \"_bias\")\n",
    "        \n",
    "        return weight, bias\n",
    "    \n",
    "    def freeze_layer(self, module: str):\n",
    "        weight, bias = self.get_weight_and_bias(module)\n",
    "        weight.requires_grad = False\n",
    "        bias.requires_grad = False\n",
    "        \n",
    "    def unfreeze_layer(self, module: str):\n",
    "        weight, bias = self.get_weight_and_bias(module)\n",
    "        weight.requires_grad = True\n",
    "        bias.requires_grad = True\n",
    "        \n",
    "    def return_weights(self):\n",
    "        W0 = list(self.comparator.data.permute(2,1,0).numpy())\n",
    "        B0 = list(self.comparator_bias.data.permute(1,0).numpy())\n",
    "\n",
    "        W1 = list(self.matcher.data.permute(2,0,1).numpy())\n",
    "        B1 = list(self.matcher_bias.data.permute(1,0).numpy())\n",
    "\n",
    "        W2 = list(self.head.data.permute(2,0,1).numpy())\n",
    "        B2 = list(self.head_bias.data.permute(1,0).numpy())\n",
    "\n",
    "        return W0, B0, W1, B1, W2, B2"
   ]
  },
  {
   "cell_type": "code",
   "execution_count": null,
   "metadata": {},
   "outputs": [],
   "source": [
    "# export\n",
    "import torch.nn.functional as F\n",
    "\n",
    "class CrossEntropyLabelSmoothing(nn.Module):\n",
    "    def __init__(self,eps=0.1,reshape=True):\n",
    "        super(CrossEntropyLabelSmoothing,self).__init__()\n",
    "        self.eps = eps\n",
    "        self.ce = nn.CrossEntropyLoss(reduction=\"none\")\n",
    "        self.reshape = reshape\n",
    "        \n",
    "    def forward(self,pred,y):\n",
    "        # bs * n_c\n",
    "        K = pred.shape[-1]\n",
    "        \n",
    "        if self.reshape:\n",
    "            pred = pred.view(-1,K)\n",
    "            y = y.view(-1)\n",
    "\n",
    "        sum_logits = - F.log_softmax(pred,dim=1).sum(dim=1)\n",
    "        ce = self.ce(pred,y)\n",
    "        loss = (1 - self.eps) * ce + self.eps * sum_logits / K\n",
    "\n",
    "        mask = (y != -100).long()\n",
    "        n = mask.sum()\n",
    "\n",
    "        loss = (mask * loss).sum() / n\n",
    "        return loss"
   ]
  },
  {
   "cell_type": "markdown",
   "metadata": {},
   "source": [
    "## Example"
   ]
  },
  {
   "cell_type": "markdown",
   "metadata": {},
   "source": [
    "We will have a look at the iris dataset to see how Neural Decision Trees, and Neural Random Forests perform."
   ]
  },
  {
   "cell_type": "code",
   "execution_count": null,
   "metadata": {},
   "outputs": [],
   "source": [
    "import numpy as np\n",
    "from sklearn.tree import DecisionTreeClassifier\n",
    "from sklearn.model_selection import train_test_split\n",
    "from sklearn.datasets import load_iris\n",
    "\n",
    "from sklearn.preprocessing import MinMaxScaler\n",
    "\n",
    "scaler = MinMaxScaler()\n",
    "\n",
    "iris = load_iris()\n",
    "X = iris.data\n",
    "y = iris.target\n",
    "X_train, X_test, y_train, y_test = train_test_split(X, y, random_state=0)\n",
    "X_train = scaler.fit_transform(X_train)\n",
    "X_test = scaler.transform(X_test)"
   ]
  },
  {
   "cell_type": "markdown",
   "metadata": {},
   "source": [
    "### Neural Decision Tree"
   ]
  },
  {
   "cell_type": "code",
   "execution_count": null,
   "metadata": {},
   "outputs": [
    {
     "data": {
      "text/plain": [
       "DecisionTreeClassifier(ccp_alpha=0.0, class_weight=None, criterion='gini',\n",
       "                       max_depth=4, max_features=None, max_leaf_nodes=None,\n",
       "                       min_impurity_decrease=0.0, min_impurity_split=None,\n",
       "                       min_samples_leaf=1, min_samples_split=2,\n",
       "                       min_weight_fraction_leaf=0.0, presort='deprecated',\n",
       "                       random_state=0, splitter='best')"
      ]
     },
     "execution_count": null,
     "metadata": {},
     "output_type": "execute_result"
    }
   ],
   "source": [
    "tree = DecisionTreeClassifier(max_depth=4, random_state=0)\n",
    "tree.fit(X_train, y_train)"
   ]
  },
  {
   "cell_type": "markdown",
   "metadata": {},
   "source": [
    "We can have a look at the activation function here : "
   ]
  },
  {
   "cell_type": "code",
   "execution_count": null,
   "metadata": {},
   "outputs": [
    {
     "data": {
      "text/plain": [
       "(<Figure size 432x288 with 1 Axes>,\n",
       " <matplotlib.axes._subplots.AxesSubplot at 0x7f24d60280d0>)"
      ]
     },
     "execution_count": null,
     "metadata": {},
     "output_type": "execute_result"
    },
    {
     "data": {
      "image/png": "[encoded data removed]",
      "text/plain": [
       "<Figure size 432x288 with 1 Axes>"
      ]
     },
     "metadata": {
      "needs_background": "light"
     },
     "output_type": "display_data"
    }
   ],
   "source": [
    "from cryptotree.polynomials import plot_graph_function_approximation\n",
    "import torch\n",
    "\n",
    "dilatation_factor = 16\n",
    "polynomial_degree = dilatation_factor\n",
    "plot_graph_function_approximation(torch.sigmoid,dilatation_factor=dilatation_factor,polynomial_degree=polynomial_degree)"
   ]
  },
  {
   "cell_type": "markdown",
   "metadata": {},
   "source": [
    "Here we will create two tree makers, one with sigmoid activation, the other one with tanh activation."
   ]
  },
  {
   "cell_type": "code",
   "execution_count": null,
   "metadata": {},
   "outputs": [],
   "source": [
    "sigmoid_tree_maker = SigmoidTreeMaker(use_polynomial=True,\n",
    "                                  dilatation_factor=dilatation_factor, polynomial_degree=polynomial_degree)\n",
    "tanh_tree_maker = TanhTreeMaker(use_polynomial=True,\n",
    "                                  dilatation_factor=dilatation_factor, polynomial_degree=polynomial_degree)"
   ]
  },
  {
   "cell_type": "markdown",
   "metadata": {},
   "source": [
    "Now we can create the trees by passing the sklearn tree to the tree maker."
   ]
  },
  {
   "cell_type": "code",
   "execution_count": null,
   "metadata": {},
   "outputs": [],
   "source": [
    "sigmoid_tree = sigmoid_tree_maker.make_tree(tree)\n",
    "tanh_tree = tanh_tree_maker.make_tree(tree)"
   ]
  },
  {
   "cell_type": "code",
   "execution_count": null,
   "metadata": {},
   "outputs": [
    {
     "name": "stdout",
     "output_type": "stream",
     "text": [
      "Original accuracy : 0.9736842105263158\n",
      "Accuracy of sigmoid  : 0.9210526315789473\n",
      "Accuracy of tanh : 0.9473684210526315\n",
      "Match between sigmoid and original : 0.9210526315789473\n",
      "Match between tanh and original : 0.9473684210526315\n"
     ]
    }
   ],
   "source": [
    "with torch.no_grad():\n",
    "    sigmoid_neural_pred = sigmoid_tree(torch.tensor(X_test).float()).argmax(dim=1).numpy()\n",
    "    tanh_neural_pred = tanh_tree(torch.tensor(X_test).float()).argmax(dim=1).numpy()\n",
    "\n",
    "pred = tree.predict(X_test)\n",
    "print(f\"Original accuracy : {(pred == y_test).mean()}\")\n",
    "\n",
    "print(f\"Accuracy of sigmoid  : {(sigmoid_neural_pred == y_test).mean()}\")\n",
    "print(f\"Accuracy of tanh : {(tanh_neural_pred == y_test).mean()}\")\n",
    "\n",
    "print(f\"Match between sigmoid and original : {(sigmoid_neural_pred == pred).mean()}\")\n",
    "print(f\"Match between tanh and original : {(tanh_neural_pred == pred).mean()}\")"
   ]
  },
  {
   "cell_type": "markdown",
   "metadata": {},
   "source": [
    "### Neural Random Forest"
   ]
  },
  {
   "cell_type": "markdown",
   "metadata": {},
   "source": [
    "Neural Random Forest take as input a sklearn Random Forest. So we first need to train a regular sklearn Random Forest before turning it into a Neural Random Forest."
   ]
  },
  {
   "cell_type": "code",
   "execution_count": null,
   "metadata": {},
   "outputs": [
    {
     "data": {
      "text/plain": [
       "RandomForestClassifier(bootstrap=True, ccp_alpha=0.0, class_weight=None,\n",
       "                       criterion='gini', max_depth=4, max_features='auto',\n",
       "                       max_leaf_nodes=None, max_samples=None,\n",
       "                       min_impurity_decrease=0.0, min_impurity_split=None,\n",
       "                       min_samples_leaf=1, min_samples_split=2,\n",
       "                       min_weight_fraction_leaf=0.0, n_estimators=100,\n",
       "                       n_jobs=None, oob_score=False, random_state=0, verbose=0,\n",
       "                       warm_start=False)"
      ]
     },
     "execution_count": null,
     "metadata": {},
     "output_type": "execute_result"
    }
   ],
   "source": [
    "from sklearn.ensemble import RandomForestClassifier\n",
    "\n",
    "rf = RandomForestClassifier(max_depth=4, random_state=0)\n",
    "rf.fit(X_train, y_train)"
   ]
  },
  {
   "cell_type": "markdown",
   "metadata": {},
   "source": [
    "Now to create the Neural Random Forests, we simply need to pass the trees in the regular random forest, along with the chosen tree maker."
   ]
  },
  {
   "cell_type": "code",
   "execution_count": null,
   "metadata": {},
   "outputs": [],
   "source": [
    "sigmoid_neural_rf = NeuralRandomForest(rf.estimators_, sigmoid_tree_maker)\n",
    "tanh_neural_rf = NeuralRandomForest(rf.estimators_, tanh_tree_maker)"
   ]
  },
  {
   "cell_type": "code",
   "execution_count": null,
   "metadata": {},
   "outputs": [
    {
     "name": "stdout",
     "output_type": "stream",
     "text": [
      "Original accuracy : 0.9736842105263158\n",
      "Accuracy of sigmoid  : 0.9736842105263158\n",
      "Accuracy of tanh : 0.9736842105263158\n",
      "Match between sigmoid and original : 1.0\n",
      "Match between tanh and original : 1.0\n"
     ]
    }
   ],
   "source": [
    "with torch.no_grad():\n",
    "    sigmoid_neural_pred = sigmoid_neural_rf(torch.tensor(X_test).float()).argmax(dim=1).numpy()\n",
    "    tanh_neural_pred = tanh_neural_rf(torch.tensor(X_test).float()).argmax(dim=1).numpy()\n",
    "\n",
    "pred = rf.predict(X_test)\n",
    "print(f\"Original accuracy : {(pred == y_test).mean()}\")\n",
    "\n",
    "print(f\"Accuracy of sigmoid  : {(sigmoid_neural_pred == y_test).mean()}\")\n",
    "print(f\"Accuracy of tanh : {(tanh_neural_pred == y_test).mean()}\")\n",
    "\n",
    "print(f\"Match between sigmoid and original : {(sigmoid_neural_pred == pred).mean()}\")\n",
    "print(f\"Match between tanh and original : {(tanh_neural_pred == pred).mean()}\")"
   ]
  }
 ],
 "metadata": {
  "kernelspec": {
   "display_name": "Python 3",
   "language": "python",
   "name": "python3"
  }
 },
 "nbformat": 4,
 "nbformat_minor": 2
}

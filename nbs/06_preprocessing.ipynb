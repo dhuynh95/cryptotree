{
 "cells": [
  {
   "cell_type": "code",
   "execution_count": null,
   "metadata": {},
   "outputs": [],
   "source": [
    "# default_exp preprocessing"
   ]
  },
  {
   "cell_type": "code",
   "execution_count": null,
   "metadata": {},
   "outputs": [],
   "source": [
    "# hide\n",
    "%load_ext autoreload\n",
    "%autoreload 2"
   ]
  },
  {
   "cell_type": "markdown",
   "metadata": {},
   "source": [
    "# preprocessing\n",
    "\n",
    "> Preprocessing pipeline using Sklearn."
   ]
  },
  {
   "cell_type": "code",
   "execution_count": null,
   "metadata": {},
   "outputs": [],
   "source": [
    "# export\n",
    "from sklearn.base import BaseEstimator, TransformerMixin\n",
    "from sklearn.pipeline import Pipeline, FeatureUnion\n",
    "from sklearn.preprocessing import MinMaxScaler, LabelEncoder\n",
    "\n",
    "class ColumnSelector(BaseEstimator, TransformerMixin):\n",
    "    \"\"\"Sklearn pipeline to select a column from a dataframe\"\"\"\n",
    "    def fit(self, column):\n",
    "        self.column = column\n",
    "        \n",
    "    def transform(self, X):\n",
    "        return X[self.column].values\n",
    "    \n",
    "    def inverse_transform(self, X):\n",
    "        return X\n",
    "    \n",
    "class Reshaper(BaseEstimator, TransformerMixin):\n",
    "    \"\"\"Reshapes a numpy array from 1D to 2D\"\"\"\n",
    "    def transform(self, X):\n",
    "        return X.reshape(-1,1)\n",
    "    \n",
    "    def inverse_transform(self, X):\n",
    "        return X.reshape(-1)\n",
    "\n",
    "class Featurizer(BaseEstimator, TransformerMixin):\n",
    "    \"\"\"Featurizer which normalize a dataset to [-1,1]\"\"\"\n",
    "    def __init__(self, categorical_columns):\n",
    "        self.categorical_columns = categorical_columns\n",
    "        \n",
    "    def fit(self, df):\n",
    "        pipelines = []\n",
    "        for col in df.columns.values:\n",
    "            steps = []\n",
    "            column_selector = ColumnSelector()\n",
    "            column_selector.fit(col)\n",
    "            \n",
    "            column_values = column_selector.transform(df)\n",
    "            \n",
    "            steps.append((col,column_selector))\n",
    "            \n",
    "            if col in self.categorical_columns:\n",
    "                le = LabelEncoder()\n",
    "                le.fit(column_values)\n",
    "                column_values = le.transform(column_values)\n",
    "                \n",
    "                steps.append((\"label_encoding\",le))\n",
    "                \n",
    "            reshaper = Reshaper()\n",
    "            column_values = reshaper.transform(column_values)\n",
    "            steps.append((\"reshape\", reshaper))\n",
    "            \n",
    "            min_max = MinMaxScaler()\n",
    "            min_max.fit(column_values)\n",
    "            steps.append((\"min_max\", min_max))\n",
    "            \n",
    "            pipeline = Pipeline(steps)\n",
    "            pipelines.append((col, pipeline))\n",
    "\n",
    "        self.pipelines = FeatureUnion(pipelines)\n",
    "        return self\n",
    "    \n",
    "    def transform(self, df):\n",
    "        return self.pipelines.transform(df)"
   ]
  }
 ],
 "metadata": {
  "kernelspec": {
   "display_name": "Python 3",
   "language": "python",
   "name": "python3"
  }
 },
 "nbformat": 4,
 "nbformat_minor": 4
}

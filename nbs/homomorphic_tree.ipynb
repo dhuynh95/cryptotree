{
 "cells": [
  {
   "cell_type": "code",
   "execution_count": null,
   "metadata": {},
   "outputs": [],
   "source": [
    "# default_exp he"
   ]
  },
  {
   "cell_type": "markdown",
   "metadata": {},
   "source": [
    "# Homomorphic trees"
   ]
  },
  {
   "cell_type": "code",
   "execution_count": null,
   "metadata": {},
   "outputs": [],
   "source": [
    "from cryptotree.core import SigmoidClassificationTree"
   ]
  },
  {
   "cell_type": "code",
   "execution_count": null,
   "metadata": {},
   "outputs": [],
   "source": [
    "from seal import *\n",
    "import numpy as np"
   ]
  },
  {
   "cell_type": "code",
   "execution_count": null,
   "metadata": {},
   "outputs": [],
   "source": [
    "from typing import List"
   ]
  },
  {
   "cell_type": "code",
   "execution_count": null,
   "metadata": {},
   "outputs": [],
   "source": [
    "# export\n",
    "from numpy.polynomial import Polynomial\n",
    "import matplotlib.pyplot as plt\n",
    "import torch\n",
    "from numpy.polynomial.chebyshev import Chebyshev\n",
    "\n",
    "def print_vector(vec, print_size=4, prec=3):\n",
    "    slot_count = len(vec)\n",
    "    print()\n",
    "    if slot_count <= 2*print_size:\n",
    "        print(\"    [\", end=\"\")\n",
    "        for i in range(slot_count):\n",
    "            print(\" \" + (f\"%.{prec}f\" % vec[i]) + (\",\" if (i != slot_count - 1) else \" ]\\n\"), end=\"\")\n",
    "    else:\n",
    "        print(\"    [\", end=\"\")\n",
    "        for i in range(print_size):\n",
    "            print(\" \" + (f\"%.{prec}f\" % vec[i]) + \",\", end=\"\")\n",
    "        if len(vec) > 2*print_size:\n",
    "            print(\" ...,\", end=\"\")\n",
    "        for i in range(slot_count - print_size, slot_count):\n",
    "            print(\" \" + (f\"%.{prec}f\" % vec[i]) + (\",\" if (i != slot_count - 1) else \" ]\\n\"), end=\"\")\n",
    "    print()\n",
    "    \n",
    "def ptx_value(ptx, i=0):\n",
    "    result = DoubleVector()\n",
    "    encoder.decode(ptx,result)\n",
    "    value = result[i]\n",
    "    return value\n",
    "    \n",
    "def ctx_value(ctx, i=0):\n",
    "    ptx = Plaintext()\n",
    "    decryptor.decrypt(ctx, ptx)\n",
    "    value = ptx_value(ptx,i)\n",
    "    return value\n",
    "    \n",
    "def print_ctx(ctx):\n",
    "    ptx = Plaintext()\n",
    "    decryptor.decrypt(ctx, ptx)\n",
    "    result = DoubleVector()\n",
    "    encoder.decode(ptx,result)\n",
    "    print_vector(result, 3, 7)\n",
    "    \n",
    "def print_ptx(ptx):\n",
    "    result = DoubleVector()\n",
    "    encoder.decode(ptx,result)\n",
    "    print_vector(result, 3, 7)\n",
    "    \n",
    "def print_range_ctx(ctx, end=0, begin=0):\n",
    "    r = range(begin,end)\n",
    "    for i in r:\n",
    "        print(ctx_value(ctx, i))\n",
    "        \n",
    "def print_range_ptx(ptx, end=0, begin=0):\n",
    "    r = range(begin,end)\n",
    "    for i in r:\n",
    "        print(ptx_value(ptx, i))\n",
    "\n",
    "def chebyshev_approximation(f, dilatation_factor=50, polynomial_degree=25, bound=1, convertToTensor=True):\n",
    "    if convertToTensor:\n",
    "        f_a = lambda x: f(torch.tensor(x*dilatation_factor))\n",
    "    else:\n",
    "        f_a = lambda x: f(x*dilatation_factor)\n",
    "        \n",
    "    domain = [-bound,bound]\n",
    "\n",
    "    p = Chebyshev.interpolate(f_a,deg=polynomial_degree,domain=domain)\n",
    "    return p, f_a\n",
    "\n",
    "def polynomial_approximation_coefficients(f, dilatation_factor=50, polynomial_degree=25, \n",
    "                                          bound=1, convertToTensor=True):\n",
    "    p,_ = chebyshev_approximation(f, dilatation_factor, polynomial_degree, bound, convertToTensor)\n",
    "    \n",
    "    return Polynomial.cast(p).coef\n",
    "\n",
    "def plot_graph_function_approximation(f, dilatation_factor=50, polynomial_degree=25, bound=1, convertToTensor=True):\n",
    "    \n",
    "    p, f_a = chebyshev_approximation(f, dilatation_factor, polynomial_degree, bound, convertToTensor)\n",
    "    \n",
    "    domain = [-bound,bound]\n",
    "    x = np.linspace(*domain,100)\n",
    "    y = f_a(x)\n",
    "    pred = p(x)\n",
    "\n",
    "    fig, ax = plt.subplots()\n",
    "\n",
    "    # plot the function\n",
    "    ax.plot(x,y, 'g', label=\"Sigmoid\")\n",
    "    ax.plot(x,pred,\"b-\", label=f\"Polynomial approximation\")\n",
    "    ax.legend()\n",
    "\n",
    "    # show the plot\n",
    "    fig.suptitle(f\"Tchebytchev polynomials with expansion a={dilatation_factor} and degree n={polynomial_degree}\")\n",
    "    fig.show()\n",
    "    \n",
    "    return fig,ax"
   ]
  },
  {
   "cell_type": "code",
   "execution_count": null,
   "metadata": {},
   "outputs": [
    {
     "data": {
      "text/plain": [
       "(<Figure size 432x288 with 1 Axes>,\n",
       " <matplotlib.axes._subplots.AxesSubplot at 0x7fd040e42240>)"
      ]
     },
     "execution_count": null,
     "metadata": {},
     "output_type": "execute_result"
    },
    {
     "data": {
      "image/png": "[encoded data removed]",
      "text/plain": [
       "<Figure size 432x288 with 1 Axes>"
      ]
     },
     "metadata": {
      "needs_background": "light"
     },
     "output_type": "display_data"
    }
   ],
   "source": [
    "dilatation_factor = 8\n",
    "degree = 8\n",
    "\n",
    "p,_ = chebyshev_approximation(torch.sigmoid, dilatation_factor=dilatation_factor,\n",
    "                                              polynomial_degree=degree)\n",
    "coeffs = polynomial_approximation_coefficients(torch.sigmoid, dilatation_factor=dilatation_factor,\n",
    "                                              polynomial_degree=degree)\n",
    "plot_graph_function_approximation(torch.sigmoid, dilatation_factor=dilatation_factor,\n",
    "                                              polynomial_degree=degree)"
   ]
  },
  {
   "cell_type": "code",
   "execution_count": null,
   "metadata": {},
   "outputs": [
    {
     "data": {
      "text/plain": [
       "1.968874295359434"
      ]
     },
     "execution_count": null,
     "metadata": {},
     "output_type": "execute_result"
    }
   ],
   "source": [
    "np.log2(coeffs.max())"
   ]
  },
  {
   "cell_type": "code",
   "execution_count": null,
   "metadata": {},
   "outputs": [
    {
     "name": "stdout",
     "output_type": "stream",
     "text": [
      "[60, 55, 55, 55, 55, 55, 55, 55, 55, 55, 55, 55, 60]\n",
      "725\n"
     ]
    }
   ],
   "source": [
    "PRECISION_BITS = 55\n",
    "UPPER_BITS = 5\n",
    "\n",
    "polynomial_multiplications = int(np.ceil(np.log2(degree))) + 1\n",
    "n_polynomials = 2\n",
    "matrix_multiplications = 3\n",
    "\n",
    "depth = matrix_multiplications + polynomial_multiplications * n_polynomials\n",
    "\n",
    "poly_modulus_degree = 32768\n",
    "\n",
    "moduli = [PRECISION_BITS + UPPER_BITS] + (depth) * [PRECISION_BITS] + [PRECISION_BITS + UPPER_BITS]\n",
    "print(moduli)\n",
    "print(sum(moduli))"
   ]
  },
  {
   "cell_type": "code",
   "execution_count": null,
   "metadata": {},
   "outputs": [],
   "source": [
    "parms = EncryptionParameters(scheme_type.CKKS)\n",
    "parms.set_poly_modulus_degree(poly_modulus_degree)\n",
    "parms.set_coeff_modulus(CoeffModulus.Create(\n",
    "    poly_modulus_degree, moduli))\n",
    "\n",
    "scale = pow(2.0, PRECISION_BITS)\n",
    "context = SEALContext.Create(parms)\n",
    "\n",
    "# Key creations\n",
    "keygen = KeyGenerator(context)\n",
    "public_key = keygen.public_key()\n",
    "secret_key = keygen.secret_key()\n",
    "relin_keys = keygen.relin_keys()\n",
    "galois_keys = keygen.galois_keys()\n",
    "\n",
    "encryptor = Encryptor(context, public_key)\n",
    "evaluator = Evaluator(context)\n",
    "decryptor = Decryptor(context, secret_key)\n",
    "encoder = CKKSEncoder(context)"
   ]
  },
  {
   "cell_type": "markdown",
   "metadata": {},
   "source": [
    "## Polynomial evaluation"
   ]
  },
  {
   "cell_type": "code",
   "execution_count": null,
   "metadata": {},
   "outputs": [],
   "source": [
    "# export\n",
    "def coeffs_to_plaintext(coeffs: List[float], encoder: CKKSEncoder, scale: float):\n",
    "    plain_coeffs = []\n",
    "\n",
    "    for coef in coeffs:\n",
    "        plain_coeff = Plaintext()\n",
    "        encoder.encode(coef, scale, plain_coeff)\n",
    "        plain_coeffs.append(plain_coeff)\n",
    "        \n",
    "    return plain_coeffs\n",
    "\n",
    "def compute_all_powers(ctx : Ciphertext, degree: int, evaluator: Evaluator, \n",
    "                       relin_keys: RelinKeys, verbose=False):\n",
    "\n",
    "    powers = [None] * (degree+1)\n",
    "    levels = np.zeros(degree+1)\n",
    "\n",
    "    powers[1] = ctx\n",
    "    levels[0] = levels[1] = 0\n",
    "    \n",
    "    \n",
    "    for i in range(2,degree+1):\n",
    "            \n",
    "        minlevel = i\n",
    "        cand = -1\n",
    "        \n",
    "        for j in range(1, i // 2 +1):\n",
    "            k = i - j\n",
    "            newlevel = max(levels[k],levels[j]) + 1\n",
    "            if newlevel < minlevel:\n",
    "                cand = j\n",
    "                minlevel = newlevel\n",
    "                \n",
    "        if verbose:\n",
    "            print(f\"i = {i}, i-cand = {i-cand}\")\n",
    "            print(f\"level for cand : {levels[cand]}, level for {i-cand} : {levels[i-cand]}\")\n",
    "            print(f\"minlevel = {minlevel}\")\n",
    "            print(f\"cand = {cand}\")\n",
    "        \n",
    "        levels[i] = minlevel\n",
    "        \n",
    "        temp = Ciphertext()\n",
    "        \n",
    "        power_cand = powers[cand]\n",
    "        evaluator.mod_switch_to(power_cand, powers[i-cand].parms_id(),temp)\n",
    "        evaluator.multiply(temp, powers[i-cand], temp)\n",
    "        evaluator.relinearize_inplace(temp, relin_keys)\n",
    "        evaluator.rescale_to_next_inplace(temp)\n",
    "        \n",
    "        powers[i] = temp\n",
    "        \n",
    "    return powers"
   ]
  },
  {
   "cell_type": "code",
   "execution_count": null,
   "metadata": {},
   "outputs": [],
   "source": [
    "# export\n",
    "def multiply_and_add_coeffs(powers: List[Ciphertext], plain_coeffs: List[Plaintext],\n",
    "                            coeffs: List[float],\n",
    "                            evaluator: Evaluator, encryptor: Encryptor,\n",
    "                            tol=1e-3, verbose=False) -> Ciphertext:\n",
    "    assert len(powers) == len(plain_coeffs), f\"Mismatch between length between powers {len(powers)} and coeffs {len(coeffs)}\"\n",
    "    output = Ciphertext()\n",
    "    \n",
    "    x = ctx_value(powers[1])\n",
    "    \n",
    "    expected_output = coeffs[0]\n",
    "    encryptor.encrypt(plain_coeffs[0],output)\n",
    "    \n",
    "    temp = Ciphertext()\n",
    "    \n",
    "    for i in range(1, len(plain_coeffs)):\n",
    "        # We first check if the coefficient is not too small otherwise we skip it\n",
    "        coef = coeffs[i]\n",
    "        if np.abs(coef) < tol:\n",
    "            continue\n",
    "            \n",
    "        plain_coeff = plain_coeffs[i]\n",
    "        power = powers[i]\n",
    "        \n",
    "        evaluator.mod_switch_to_inplace(plain_coeff, power.parms_id())\n",
    "        \n",
    "        evaluator.multiply_plain(power, plain_coeff, temp)\n",
    "        evaluator.rescale_to_next_inplace(temp)\n",
    "        \n",
    "        evaluator.mod_switch_to_inplace(output, temp.parms_id())\n",
    "        output.scale(pow(2.0,PRECISION_BITS))\n",
    "        temp.scale(pow(2.0,PRECISION_BITS))\n",
    "        evaluator.add_inplace(output, temp)\n",
    "        \n",
    "        expected_output = coef * (x ** i)\n",
    "        if verbose:\n",
    "            print(f\"{i} Expected output : {expected_output}, output : {ctx_value(temp)}\")\n",
    "    return output"
   ]
  },
  {
   "cell_type": "code",
   "execution_count": null,
   "metadata": {},
   "outputs": [],
   "source": [
    "def polyeval_tree(ctx : Ciphertext, coeffs: List[float], \n",
    "                  evaluator: Evaluator, encoder : Encryptor, encryptor : Encryptor,\n",
    "                  relin_keys: RelinKeys,\n",
    "                  scale: float,\n",
    "                  verbose=False):\n",
    "    \n",
    "    degree = len(coeffs) - 1\n",
    "    plain_coeffs = coeffs_to_plaintext(coeffs, encoder, scale)\n",
    "    powers = compute_all_powers(ctx, degree, evaluator, relin_keys)\n",
    "    output = multiply_and_add_coeffs(powers, plain_coeffs, coeffs, evaluator, encryptor, verbose=verbose)\n",
    "    \n",
    "    return output"
   ]
  },
  {
   "cell_type": "code",
   "execution_count": null,
   "metadata": {},
   "outputs": [],
   "source": [
    "def float_to_ctx(x, encoder: CKKSEncoder, encryptor: Encryptor):\n",
    "    ptx = Plaintext()\n",
    "    encoder.encode(x, scale, ptx)\n",
    "\n",
    "    ctx = Ciphertext()\n",
    "    encryptor.encrypt(ptx, ctx)\n",
    "    \n",
    "    return ctx"
   ]
  },
  {
   "cell_type": "code",
   "execution_count": null,
   "metadata": {},
   "outputs": [
    {
     "name": "stdout",
     "output_type": "stream",
     "text": [
      "\n",
      "    [ 0.8007495, 0.8007495, 0.8007495, ..., 0.8007495, 0.8007495, 0.8007495 ]\n",
      "\n",
      "0.8007495379552165\n",
      "tensor(0.8320)\n"
     ]
    }
   ],
   "source": [
    "x = 0.2\n",
    "\n",
    "ctx = float_to_ctx(x, encoder, encryptor)\n",
    "output = polyeval_tree(ctx, coeffs, evaluator, encoder, encryptor, relin_keys, scale, verbose=False)\n",
    "\n",
    "print_ctx(output)\n",
    "print(p(x))\n",
    "print(torch.sigmoid(torch.tensor(x * dilatation_factor)))"
   ]
  },
  {
   "cell_type": "markdown",
   "metadata": {},
   "source": [
    "## Matrix multiplications"
   ]
  },
  {
   "cell_type": "code",
   "execution_count": null,
   "metadata": {},
   "outputs": [],
   "source": [
    "# export\n",
    "def repeat_vector(x, n):\n",
    "    k = n // len(x)\n",
    "    rest = n % len(x)\n",
    "    output = x * k + x[:rest]\n",
    "    return output"
   ]
  },
  {
   "cell_type": "code",
   "execution_count": null,
   "metadata": {},
   "outputs": [],
   "source": [
    "# export\n",
    "import torch.nn as nn\n",
    "\n",
    "def apply_comparator(ctx: Ciphertext, comparator: nn.Linear, \n",
    "                     encoder: CKKSEncoder, evaluator: Evaluator) -> Ciphertext:\n",
    "    n = encoder.slot_count()\n",
    "    \n",
    "    output = Ciphertext()\n",
    "    row_ptx = Plaintext()\n",
    "    \n",
    "    # We repeat the bias vector\n",
    "    bias_ptx = Plaintext()\n",
    "    bias = list(comparator.bias.data.numpy())\n",
    "    bias = repeat_vector(bias,n)\n",
    "    bias = DoubleVector(bias)\n",
    "    encoder.encode(bias, scale, bias_ptx)\n",
    "    \n",
    "    matrix = comparator.weight.data.numpy()\n",
    "\n",
    "    for i in range(matrix.shape[0]):\n",
    "        row = matrix[i]\n",
    "        source = row.argmax()\n",
    "        rotation = source - i\n",
    "\n",
    "        # We encode the current row\n",
    "        row = list(row)\n",
    "        row = repeat_vector(row, n)\n",
    "        row = DoubleVector(row)\n",
    "        encoder.encode(row,scale, row_ptx)\n",
    "\n",
    "        temp = Ciphertext()\n",
    "        evaluator.multiply_plain(ctx, row_ptx, temp)\n",
    "        evaluator.rescale_to_next_inplace(temp)\n",
    "        \n",
    "        # If we must rotate\n",
    "        if np.abs(rotation) > 0:\n",
    "            evaluator.rotate_vector_inplace(temp, rotation, galois_keys)\n",
    "\n",
    "        if i == 0:\n",
    "            output = temp\n",
    "        else:\n",
    "            evaluator.add_inplace(output,temp)\n",
    "\n",
    "    evaluator.mod_switch_to_inplace(bias_ptx, output.parms_id())\n",
    "    output.scale(scale)\n",
    "    evaluator.add_plain_inplace(output, bias_ptx)\n",
    "    \n",
    "    return output"
   ]
  },
  {
   "cell_type": "code",
   "execution_count": null,
   "metadata": {},
   "outputs": [
    {
     "data": {
      "text/plain": [
       "DecisionTreeClassifier(ccp_alpha=0.0, class_weight=None, criterion='gini',\n",
       "                       max_depth=4, max_features=None, max_leaf_nodes=None,\n",
       "                       min_impurity_decrease=0.0, min_impurity_split=None,\n",
       "                       min_samples_leaf=1, min_samples_split=2,\n",
       "                       min_weight_fraction_leaf=0.0, presort='deprecated',\n",
       "                       random_state=0, splitter='best')"
      ]
     },
     "execution_count": null,
     "metadata": {},
     "output_type": "execute_result"
    }
   ],
   "source": [
    "import numpy as np\n",
    "from sklearn.tree import DecisionTreeClassifier\n",
    "from sklearn.model_selection import train_test_split\n",
    "from sklearn.datasets import load_iris\n",
    "\n",
    "from sklearn.preprocessing import MinMaxScaler\n",
    "\n",
    "scaler = MinMaxScaler()\n",
    "\n",
    "iris = load_iris()\n",
    "X = iris.data\n",
    "y = iris.target\n",
    "X_train, X_test, y_train, y_test = train_test_split(X, y, random_state=0)\n",
    "X_train = scaler.fit_transform(X_train)\n",
    "\n",
    "estimator = DecisionTreeClassifier(max_depth=4, random_state=0)\n",
    "estimator.fit(X_train, y_train)\n"
   ]
  },
  {
   "cell_type": "code",
   "execution_count": null,
   "metadata": {},
   "outputs": [],
   "source": [
    "tree = SigmoidClassificationTree(estimator, dilatation_factor=dilatation_factor, polynomial_degree=degree)"
   ]
  },
  {
   "cell_type": "code",
   "execution_count": null,
   "metadata": {},
   "outputs": [],
   "source": [
    "n = encoder.slot_count()\n",
    "\n",
    "x = X_train[0]\n",
    "with torch.no_grad():\n",
    "    x = tree.comparator(torch.tensor(x).float()) - tree.comparator.bias.data\n",
    "    \n",
    "x = list(x.numpy())\n",
    "x = repeat_vector(x, encoder.slot_count())\n",
    "x = DoubleVector(x)\n",
    "ctx = float_to_ctx(x, encoder, encryptor)"
   ]
  },
  {
   "cell_type": "code",
   "execution_count": null,
   "metadata": {},
   "outputs": [],
   "source": [
    "bias = list(tree.comparator.bias.data.numpy())\n",
    "bias = repeat_vector(bias, n)\n",
    "bias = DoubleVector(bias)\n",
    "bias_ptx = Plaintext()\n",
    "encoder.encode(bias, scale, bias_ptx)"
   ]
  },
  {
   "cell_type": "code",
   "execution_count": null,
   "metadata": {},
   "outputs": [],
   "source": [
    "output = Ciphertext()\n",
    "evaluator.add_plain(ctx, bias_ptx, output)"
   ]
  },
  {
   "cell_type": "code",
   "execution_count": null,
   "metadata": {},
   "outputs": [
    {
     "name": "stdout",
     "output_type": "stream",
     "text": [
      "0.2916666567323748\n",
      "-0.12931030988715034\n",
      "-0.06250005960437593\n",
      "-0.04166665673255504\n",
      "-0.10416668653479215\n",
      "-0.06250005960448896\n",
      "0.2916666567325413\n",
      "-0.12931030988705136\n",
      "-0.06250005960488236\n",
      "-0.04166665673254174\n",
      "-0.10416668653482544\n",
      "-0.06250005960464426\n",
      "0.29166665673239095\n",
      "-0.12931030988693631\n",
      "-0.06250005960458921\n",
      "-0.04166665673258626\n",
      "-0.10416668653498011\n",
      "-0.0625000596041961\n",
      "0.2916666567327816\n",
      "-0.1293103098869288\n"
     ]
    }
   ],
   "source": [
    "print_range_ctx(output,20)"
   ]
  },
  {
   "cell_type": "code",
   "execution_count": null,
   "metadata": {},
   "outputs": [
    {
     "name": "stdout",
     "output_type": "stream",
     "text": [
      "Expected value : 0.2916666567325592, real value : 0.2916666567323748\n",
      "Expected value : -0.12931030988693237, real value : -0.12931030988715034\n",
      "Expected value : -0.06250005960464478, real value : -0.06250005960437593\n",
      "Expected value : -0.041666656732559204, real value : -0.04166665673255504\n",
      "Expected value : -0.10416668653488159, real value : -0.10416668653479215\n",
      "Expected value : -0.06250005960464478, real value : -0.06250005960448896\n"
     ]
    }
   ],
   "source": [
    "x = X_train[0]\n",
    "with torch.no_grad():\n",
    "    expected_output = tree.comparator(torch.tensor(x).float())\n",
    "\n",
    "def print_comparison(expected_output: torch.tensor, output: Ciphertext):\n",
    "    for i, value in enumerate(expected_output.view(-1,1)):\n",
    "        print(f\"Expected value : {value.item()}, real value : {ctx_value(output,i)}\")\n",
    "        \n",
    "print_comparison(expected_output,output)"
   ]
  },
  {
   "cell_type": "code",
   "execution_count": null,
   "metadata": {},
   "outputs": [
    {
     "name": "stdout",
     "output_type": "stream",
     "text": [
      "Expected value : 0.9116002917289734, real value : 0.8995762944293838\n",
      "Expected value : 0.2622160017490387, real value : 0.2958570703841036\n",
      "Expected value : 0.3775405287742615, real value : 0.39864145807681456\n",
      "Expected value : 0.4174298346042633, real value : 0.4321188458805899\n",
      "Expected value : 0.3029406666755676, real value : 0.33351456883078406\n",
      "Expected value : 0.3775405287742615, real value : 0.3986414580775373\n"
     ]
    }
   ],
   "source": [
    "activation = polyeval_tree(output, coeffs, evaluator, encoder, encryptor, relin_keys, scale)\n",
    "expected_activation = tree.activation(expected_output)\n",
    "print_comparison(expected_activation, activation)"
   ]
  },
  {
   "cell_type": "code",
   "execution_count": null,
   "metadata": {},
   "outputs": [],
   "source": [
    "matrix = tree.matcher.weight.data.numpy()\n",
    "zero_column = np.zeros(matrix.shape[0]).reshape(-1,1)\n",
    "matrix = np.concatenate([matrix,zero_column],axis=1)"
   ]
  },
  {
   "cell_type": "code",
   "execution_count": null,
   "metadata": {},
   "outputs": [],
   "source": [
    "# export\n",
    "def vrep(x: List, n:int) -> List:\n",
    "    k = n // len(x)\n",
    "    rest = n % len(x)\n",
    "    output = x * k + x[:rest]\n",
    "    return output"
   ]
  },
  {
   "cell_type": "code",
   "execution_count": null,
   "metadata": {},
   "outputs": [],
   "source": [
    "# export\n",
    "def extract_diagonals(matrix: np.ndarray, encoder: CKKSEncoder, pa) -> List[Plaintext]:\n",
    "    \"\"\"Extracts the diagonals of the matrix\"\"\"\n",
    "    assert matrix.shape[0] == matrix.shape[1], \"Non square matrix\"\n",
    "    dim = matrix.shape[0]\n",
    "    \n",
    "    diagonals = []\n",
    "    diagonal_ptx = Plaintext()\n",
    "    for i in range(dim):\n",
    "        diagonal = []\n",
    "        for j in range(dim):\n",
    "            diagonal.append(matrix[j][(j+i) % dim])\n",
    "        encoder.encode(DoubleVector(diagonal), scale, diagonal_ptx)\n",
    "        diagonals.append(diagonal_ptx)\n",
    "    return diagonals"
   ]
  },
  {
   "cell_type": "code",
   "execution_count": null,
   "metadata": {},
   "outputs": [],
   "source": [
    "# export\n",
    "def matrix_multiply_diagonals(diagonals: List[Plaintext], ctx: Ciphertext, \n",
    "                              evaluator: Evaluator, galois_keys: GaloisKeys):\n",
    "    output = Ciphertext()\n",
    "    temp = Ciphertext()\n",
    "    \n",
    "    for i in range(len(diagonals)):\n",
    "        diagonal = diagonals[i]\n",
    "        \n",
    "        evaluator.rotate_vector(ctx, i, galois_keys, temp)\n",
    "            \n",
    "        evaluator.mod_switch_to_inplace(diagonal, temp.parms_id())\n",
    "        evaluator.multiply_plain_inplace(temp, diagonal)\n",
    "        evaluator.rescale_to_next_inplace(temp)\n",
    "        \n",
    "        if i == 0:\n",
    "            output = temp\n",
    "        else:\n",
    "            evaluator.add_inplace(output, temp)\n",
    "    \n",
    "    return output\n",
    "\n"
   ]
  },
  {
   "cell_type": "code",
   "execution_count": null,
   "metadata": {},
   "outputs": [],
   "source": [
    "# export\n",
    "def pad_matrix(matrix: np.ndarray):\n",
    "    pad = np.zeros(matrix.shape[0]).reshape(-1,1)\n",
    "    matrix = np.concatenate([matrix, pad], axis=1)\n",
    "    return matrix"
   ]
  },
  {
   "cell_type": "code",
   "execution_count": null,
   "metadata": {},
   "outputs": [],
   "source": [
    "matrix = tree.matcher.weight.data.numpy()\n",
    "matrix = pad_matrix(matrix)\n",
    "\n",
    "diagonals = extract_diagonals(matrix, encoder)\n",
    "\n",
    "z1 = matrix_multiply_diagonals(diagonals, activation, evaluator, galois_keys)"
   ]
  },
  {
   "cell_type": "code",
   "execution_count": null,
   "metadata": {},
   "outputs": [],
   "source": [
    "bias = tree.matcher.bias.data.numpy()\n",
    "bias = DoubleVector(list(bias))"
   ]
  },
  {
   "cell_type": "code",
   "execution_count": null,
   "metadata": {},
   "outputs": [],
   "source": [
    "bias_ptx = Plaintext()\n",
    "encoder.encode(bias, scale, bias_ptx)\n",
    "evaluator.mod_switch_to_inplace(bias_ptx, z1.parms_id())\n",
    "z1.scale(scale)"
   ]
  },
  {
   "cell_type": "code",
   "execution_count": null,
   "metadata": {},
   "outputs": [],
   "source": [
    "evaluator.add_plain_inplace(z1, bias_ptx)"
   ]
  },
  {
   "cell_type": "code",
   "execution_count": null,
   "metadata": {},
   "outputs": [
    {
     "name": "stdout",
     "output_type": "stream",
     "text": [
      "0.08333333581688257\n",
      "0.015285690598523513\n",
      "-0.3828804900069874\n",
      "-0.2726270371219801\n",
      "-0.24999999999984399\n",
      "-0.5495471467397302\n",
      "-0.4166666567325486\n",
      "-2.0037352188468746e-14\n",
      "-9.159705194190664e-14\n",
      "1.6142500803000217e-13\n"
     ]
    }
   ],
   "source": [
    "print_range_ctx(z1, 10)"
   ]
  },
  {
   "cell_type": "code",
   "execution_count": null,
   "metadata": {},
   "outputs": [],
   "source": [
    "activation1 = polyeval_tree(z1, coeffs, evaluator, encoder, encryptor, relin_keys, scale)"
   ]
  },
  {
   "cell_type": "code",
   "execution_count": null,
   "metadata": {},
   "outputs": [
    {
     "name": "stdout",
     "output_type": "stream",
     "text": [
      "0.6342848925078812\n",
      "0.5249814324573447\n",
      "0.03665880060527296\n",
      "0.11817478115149962\n",
      "0.14121724193222343\n",
      "0.00028403030929649575\n",
      "0.02176330938077431\n",
      "0.49999999999882655\n",
      "0.49999999999978356\n",
      "0.5000000000006509\n"
     ]
    }
   ],
   "source": [
    "print_range_ctx(activation1, 10)"
   ]
  },
  {
   "cell_type": "code",
   "execution_count": null,
   "metadata": {},
   "outputs": [],
   "source": [
    "diagonal = diagonals[0]"
   ]
  },
  {
   "cell_type": "code",
   "execution_count": null,
   "metadata": {},
   "outputs": [],
   "source": [
    "temp = Ciphertext()\n",
    "evaluator.rotate_vector(activation, 1, galois_keys, temp)\n",
    "evaluator.mod_switch_to_inplace(diagonal, activation.parms_id())\n",
    "evaluator.multiply_plain(activation, diagonal, temp)"
   ]
  },
  {
   "cell_type": "code",
   "execution_count": null,
   "metadata": {},
   "outputs": [
    {
     "data": {
      "text/plain": [
       "[1895212817619435648,\n",
       " 503439688004990125,\n",
       " 5446158636874656155,\n",
       " 11479346467035430585]"
      ]
     },
     "execution_count": null,
     "metadata": {},
     "output_type": "execute_result"
    }
   ],
   "source": [
    "temp.parms_id()"
   ]
  },
  {
   "cell_type": "code",
   "execution_count": null,
   "metadata": {},
   "outputs": [
    {
     "data": {
      "text/plain": [
       "[1895212817619435648,\n",
       " 503439688004990125,\n",
       " 5446158636874656155,\n",
       " 11479346467035430585]"
      ]
     },
     "execution_count": null,
     "metadata": {},
     "output_type": "execute_result"
    }
   ],
   "source": [
    "activation.parms_id()"
   ]
  },
  {
   "cell_type": "code",
   "execution_count": null,
   "metadata": {},
   "outputs": [
    {
     "data": {
      "text/plain": [
       "3.602879701896397e+16"
      ]
     },
     "execution_count": null,
     "metadata": {},
     "output_type": "execute_result"
    }
   ],
   "source": [
    "activation.scale()"
   ]
  },
  {
   "cell_type": "code",
   "execution_count": null,
   "metadata": {},
   "outputs": [
    {
     "data": {
      "text/plain": [
       "[1895212817619435648,\n",
       " 503439688004990125,\n",
       " 5446158636874656155,\n",
       " 11479346467035430585]"
      ]
     },
     "execution_count": null,
     "metadata": {},
     "output_type": "execute_result"
    }
   ],
   "source": [
    "activation.parms_id()"
   ]
  },
  {
   "cell_type": "code",
   "execution_count": null,
   "metadata": {},
   "outputs": [
    {
     "data": {
      "text/plain": [
       "[16599391804227546351,\n",
       " 13956431524126816040,\n",
       " 9701170472836562648,\n",
       " 13482875267000799938]"
      ]
     },
     "execution_count": null,
     "metadata": {},
     "output_type": "execute_result"
    }
   ],
   "source": [
    "diagonal.parms_id()"
   ]
  },
  {
   "cell_type": "code",
   "execution_count": null,
   "metadata": {},
   "outputs": [
    {
     "ename": "ValueError",
     "evalue": "encrypted_ntt and plain_ntt parameter mismatch",
     "output_type": "error",
     "traceback": [
      "\u001b[0;31m---------------------------------------------------------------------------\u001b[0m",
      "\u001b[0;31mValueError\u001b[0m                                Traceback (most recent call last)",
      "\u001b[0;32m<ipython-input-41-71b676eb855d>\u001b[0m in \u001b[0;36m<module>\u001b[0;34m\u001b[0m\n\u001b[0;32m----> 1\u001b[0;31m \u001b[0mz1\u001b[0m \u001b[0;34m=\u001b[0m \u001b[0mmatrix_multiply_diagonals\u001b[0m\u001b[0;34m(\u001b[0m\u001b[0mdiagonals\u001b[0m\u001b[0;34m,\u001b[0m \u001b[0mactivation\u001b[0m\u001b[0;34m,\u001b[0m \u001b[0mevaluator\u001b[0m\u001b[0;34m,\u001b[0m \u001b[0mgalois_keys\u001b[0m\u001b[0;34m)\u001b[0m\u001b[0;34m\u001b[0m\u001b[0;34m\u001b[0m\u001b[0m\n\u001b[0m",
      "\u001b[0;32m<ipython-input-31-27edf722c953>\u001b[0m in \u001b[0;36mmatrix_multiply_diagonals\u001b[0;34m(diagonals, ctx, evaluator, galois_keys)\u001b[0m\n\u001b[1;32m      9\u001b[0m \u001b[0;34m\u001b[0m\u001b[0m\n\u001b[1;32m     10\u001b[0m         \u001b[0mevaluator\u001b[0m\u001b[0;34m.\u001b[0m\u001b[0mrotate_vector\u001b[0m\u001b[0;34m(\u001b[0m\u001b[0mctx\u001b[0m\u001b[0;34m,\u001b[0m \u001b[0mi\u001b[0m\u001b[0;34m,\u001b[0m \u001b[0mgalois_keys\u001b[0m\u001b[0;34m,\u001b[0m \u001b[0mtemp\u001b[0m\u001b[0;34m)\u001b[0m\u001b[0;34m\u001b[0m\u001b[0;34m\u001b[0m\u001b[0m\n\u001b[0;32m---> 11\u001b[0;31m         \u001b[0mevaluator\u001b[0m\u001b[0;34m.\u001b[0m\u001b[0mmultiply_plain_inplace\u001b[0m\u001b[0;34m(\u001b[0m\u001b[0mtemp\u001b[0m\u001b[0;34m,\u001b[0m \u001b[0mdiagonal\u001b[0m\u001b[0;34m)\u001b[0m\u001b[0;34m\u001b[0m\u001b[0;34m\u001b[0m\u001b[0m\n\u001b[0m\u001b[1;32m     12\u001b[0m \u001b[0;34m\u001b[0m\u001b[0m\n\u001b[1;32m     13\u001b[0m         \u001b[0;32mif\u001b[0m \u001b[0mi\u001b[0m \u001b[0;34m==\u001b[0m \u001b[0;36m0\u001b[0m\u001b[0;34m:\u001b[0m\u001b[0;34m\u001b[0m\u001b[0;34m\u001b[0m\u001b[0m\n",
      "\u001b[0;31mValueError\u001b[0m: encrypted_ntt and plain_ntt parameter mismatch"
     ]
    }
   ],
   "source": [
    "z1 = matrix_multiply_diagonals(diagonals, activation, evaluator, galois_keys)"
   ]
  },
  {
   "cell_type": "code",
   "execution_count": null,
   "metadata": {},
   "outputs": [],
   "source": [
    "temp = Ciphertext()\n",
    "evaluator.rotate_vector(ctx, -n, galois_keys,temp)\n"
   ]
  },
  {
   "cell_type": "code",
   "execution_count": null,
   "metadata": {},
   "outputs": [],
   "source": [
    "evaluator.add_inplace(temp,ctx)"
   ]
  },
  {
   "cell_type": "code",
   "execution_count": null,
   "metadata": {},
   "outputs": [],
   "source": [
    "n = encoder.slot_count()"
   ]
  },
  {
   "cell_type": "code",
   "execution_count": null,
   "metadata": {},
   "outputs": [],
   "source": [
    "k = matrix.shape[0] - 1"
   ]
  },
  {
   "cell_type": "code",
   "execution_count": null,
   "metadata": {},
   "outputs": [],
   "source": [
    "rest = n % k"
   ]
  },
  {
   "cell_type": "code",
   "execution_count": null,
   "metadata": {},
   "outputs": [],
   "source": [
    "mask_rest = DoubleVector(list(np.ones(rest)))"
   ]
  },
  {
   "cell_type": "code",
   "execution_count": null,
   "metadata": {},
   "outputs": [],
   "source": [
    "mask_ptx = Plaintext()\n",
    "mask_encoding = encoder.encode(mask_rest, scale, mask_ptx)\n"
   ]
  },
  {
   "cell_type": "code",
   "execution_count": null,
   "metadata": {},
   "outputs": [
    {
     "ename": "KeyboardInterrupt",
     "evalue": "",
     "output_type": "error",
     "traceback": [
      "\u001b[0;31m---------------------------------------------------------------------------\u001b[0m",
      "\u001b[0;31mKeyboardInterrupt\u001b[0m                         Traceback (most recent call last)",
      "\u001b[0;32m<ipython-input-261-04103f30d00f>\u001b[0m in \u001b[0;36m<module>\u001b[0;34m\u001b[0m\n\u001b[1;32m      3\u001b[0m     \u001b[0mshift\u001b[0m \u001b[0;34m=\u001b[0m \u001b[0mi\u001b[0m \u001b[0;34m*\u001b[0m \u001b[0mk\u001b[0m\u001b[0;34m\u001b[0m\u001b[0;34m\u001b[0m\u001b[0m\n\u001b[1;32m      4\u001b[0m     \u001b[0mtemp\u001b[0m \u001b[0;34m=\u001b[0m \u001b[0mCiphertext\u001b[0m\u001b[0;34m(\u001b[0m\u001b[0;34m)\u001b[0m\u001b[0;34m\u001b[0m\u001b[0;34m\u001b[0m\u001b[0m\n\u001b[0;32m----> 5\u001b[0;31m     \u001b[0mevaluator\u001b[0m\u001b[0;34m.\u001b[0m\u001b[0mrotate_vector\u001b[0m\u001b[0;34m(\u001b[0m\u001b[0mctx\u001b[0m\u001b[0;34m,\u001b[0m \u001b[0;34m-\u001b[0m\u001b[0mshift\u001b[0m\u001b[0;34m,\u001b[0m \u001b[0mgalois_keys\u001b[0m\u001b[0;34m,\u001b[0m\u001b[0mtemp\u001b[0m\u001b[0;34m)\u001b[0m\u001b[0;34m\u001b[0m\u001b[0;34m\u001b[0m\u001b[0m\n\u001b[0m\u001b[1;32m      6\u001b[0m     \u001b[0;32mif\u001b[0m \u001b[0mi\u001b[0m \u001b[0;34m==\u001b[0m \u001b[0;36m1\u001b[0m\u001b[0;34m:\u001b[0m\u001b[0;34m\u001b[0m\u001b[0;34m\u001b[0m\u001b[0m\n\u001b[1;32m      7\u001b[0m         \u001b[0moutput\u001b[0m \u001b[0;34m=\u001b[0m \u001b[0mtemp\u001b[0m\u001b[0;34m\u001b[0m\u001b[0;34m\u001b[0m\u001b[0m\n",
      "\u001b[0;31mKeyboardInterrupt\u001b[0m: "
     ]
    }
   ],
   "source": [
    "output = Ciphertext()\n",
    "for i in range(1,n // k):\n",
    "    shift = i * k\n",
    "    temp = Ciphertext()\n",
    "    evaluator.rotate_vector(ctx, -shift, galois_keys,temp)\n",
    "    if i == 1:\n",
    "        output = temp\n",
    "    else:\n",
    "        evaluator.add_inplace(output,temp)"
   ]
  },
  {
   "cell_type": "code",
   "execution_count": null,
   "metadata": {},
   "outputs": [
    {
     "data": {
      "text/plain": [
       "[1, 2, 3, 1, 2, 3, 1, 2, 3, 1]"
      ]
     },
     "execution_count": null,
     "metadata": {},
     "output_type": "execute_result"
    }
   ],
   "source": [
    "output"
   ]
  },
  {
   "cell_type": "code",
   "execution_count": null,
   "metadata": {},
   "outputs": [
    {
     "data": {
      "text/plain": [
       "2730"
      ]
     },
     "execution_count": null,
     "metadata": {},
     "output_type": "execute_result"
    }
   ],
   "source": [
    "n // k"
   ]
  },
  {
   "cell_type": "code",
   "execution_count": null,
   "metadata": {},
   "outputs": [],
   "source": []
  },
  {
   "cell_type": "code",
   "execution_count": null,
   "metadata": {},
   "outputs": [
    {
     "name": "stdout",
     "output_type": "stream",
     "text": [
      "1.0000000000000169\n",
      "1.0000000000001146\n",
      "0.9999999999997757\n",
      "1.0000000000000315\n",
      "-2.9901590148285316e-14\n",
      "2.7497741743318166e-13\n",
      "1.3677828038735525e-13\n",
      "3.2765055694117487e-13\n",
      "1.0548223817695017e-13\n",
      "1.7979820874300784e-13\n"
     ]
    }
   ],
   "source": [
    "print_range_ctx(mask_ctx, 10)"
   ]
  },
  {
   "cell_type": "code",
   "execution_count": null,
   "metadata": {},
   "outputs": [
    {
     "name": "stdout",
     "output_type": "stream",
     "text": [
      "1.0000000000659965\n",
      "1.9999999999704239\n",
      "2.9999999999900995\n",
      "1.0000000000002531\n",
      "2.0000000000889564\n",
      "3.0000000000255054\n"
     ]
    }
   ],
   "source": [
    "for i in range(6):\n",
    "    print(ctx_value(temp,i))"
   ]
  },
  {
   "cell_type": "code",
   "execution_count": null,
   "metadata": {},
   "outputs": [],
   "source": [
    "evaluator.multiply_plain(ctx, row_ptx, temp)\n",
    "evaluator.rescale_to_next_inplace(temp)"
   ]
  },
  {
   "cell_type": "code",
   "execution_count": null,
   "metadata": {},
   "outputs": [
    {
     "data": {
      "text/plain": [
       "0.5833332413784554"
      ]
     },
     "execution_count": null,
     "metadata": {},
     "output_type": "execute_result"
    }
   ],
   "source": [
    "ctx_value(temp, 3)"
   ]
  },
  {
   "cell_type": "code",
   "execution_count": null,
   "metadata": {},
   "outputs": [
    {
     "name": "stdout",
     "output_type": "stream",
     "text": [
      "Coucou\n"
     ]
    }
   ],
   "source": []
  },
  {
   "cell_type": "code",
   "execution_count": null,
   "metadata": {},
   "outputs": [
    {
     "name": "stdout",
     "output_type": "stream",
     "text": [
      "\n",
      "    [ 0.5833885, -0.0000060, 0.0000040, ..., 0.0000126, 0.0000000, 0.0000008 ]\n",
      "\n"
     ]
    }
   ],
   "source": [
    "print_ctx(temp)"
   ]
  },
  {
   "cell_type": "code",
   "execution_count": null,
   "metadata": {},
   "outputs": [],
   "source": []
  },
  {
   "cell_type": "code",
   "execution_count": null,
   "metadata": {},
   "outputs": [],
   "source": []
  },
  {
   "cell_type": "code",
   "execution_count": null,
   "metadata": {},
   "outputs": [],
   "source": [
    "apply_comparator(ctx)"
   ]
  },
  {
   "cell_type": "code",
   "execution_count": null,
   "metadata": {},
   "outputs": [],
   "source": [
    "i = 0"
   ]
  },
  {
   "cell_type": "code",
   "execution_count": null,
   "metadata": {},
   "outputs": [
    {
     "name": "stdout",
     "output_type": "stream",
     "text": [
      "6\n",
      "4.759257745885246e-07\n"
     ]
    }
   ],
   "source": [
    "print(i)\n",
    "print(ctx_value(output,i))\n",
    "i += 1"
   ]
  },
  {
   "cell_type": "code",
   "execution_count": null,
   "metadata": {},
   "outputs": [
    {
     "data": {
      "text/plain": [
       "tensor([ 0.2917, -0.1293, -0.0625, -0.0417, -0.1042, -0.0625],\n",
       "       grad_fn=<AddBackward0>)"
      ]
     },
     "execution_count": null,
     "metadata": {},
     "output_type": "execute_result"
    }
   ],
   "source": [
    "tree.comparator(torch.tensor(x))"
   ]
  },
  {
   "cell_type": "code",
   "execution_count": null,
   "metadata": {},
   "outputs": [
    {
     "name": "stdout",
     "output_type": "stream",
     "text": [
      "0.5**1\n",
      "\n",
      "    [ 0.4999978, 0.5000039, 0.5000147, ..., 0.4999935, 0.4999968, 0.5000006 ]\n",
      "\n",
      "0.5**2\n",
      "\n",
      "    [ 0.2499960, 0.2500039, 0.2500036, ..., 0.2499864, 0.2499931, 0.2500029 ]\n",
      "\n",
      "0.5**3\n",
      "\n",
      "    [ 0.1249970, 0.1250122, 0.1250121, ..., 0.1249804, 0.1249850, 0.1250007 ]\n",
      "\n",
      "0.5**4\n",
      "\n",
      "    [ 0.0624928, 0.0624999, 0.0624953, ..., 0.0624884, 0.0624819, 0.0624987 ]\n",
      "\n",
      "0.5**5\n",
      "\n",
      "    [ 0.0312464, 0.0312442, 0.0312510, ..., 0.0312469, 0.0312411, 0.0312508 ]\n",
      "\n",
      "0.5**6\n",
      "\n",
      "    [ 0.0156271, 0.0156262, 0.0156236, ..., 0.0156380, 0.0156255, 0.0156251 ]\n",
      "\n",
      "0.5**7\n",
      "\n",
      "    [ 0.0078085, 0.0078170, 0.0078146, ..., 0.0077920, 0.0078063, 0.0078179 ]\n",
      "\n",
      "0.5**8\n",
      "\n",
      "    [ 0.0039047, 0.0038920, 0.0039007, ..., 0.0038930, 0.0039145, 0.0039048 ]\n",
      "\n",
      "0.5**9\n",
      "\n",
      "    [ 0.0019534, 0.0019474, 0.0019529, ..., 0.0019569, 0.0019699, 0.0019517 ]\n",
      "\n",
      "0.5**10\n",
      "\n",
      "    [ 0.0009808, 0.0009777, 0.0009712, ..., 0.0009695, 0.0009703, 0.0009707 ]\n",
      "\n",
      "0.5**11\n",
      "\n",
      "    [ 0.0004918, 0.0004838, 0.0004840, ..., 0.0004875, 0.0004736, 0.0004937 ]\n",
      "\n",
      "0.5**12\n",
      "\n",
      "    [ 0.0002416, 0.0002367, 0.0002393, ..., 0.0002433, 0.0002585, 0.0002410 ]\n",
      "\n",
      "0.5**13\n",
      "\n",
      "    [ 0.0001228, 0.0001235, 0.0001173, ..., 0.0001319, 0.0001255, 0.0001195 ]\n",
      "\n",
      "0.5**14\n",
      "\n",
      "    [ 0.0000626, 0.0000630, 0.0000659, ..., 0.0000623, 0.0000687, 0.0000545 ]\n",
      "\n",
      "0.5**15\n",
      "\n",
      "    [ 0.0000283, 0.0000382, 0.0000362, ..., 0.0000344, 0.0000410, 0.0000361 ]\n",
      "\n",
      "0.5**16\n",
      "\n",
      "    [ 0.0000084, 0.0000131, 0.0000189, ..., 0.0000140, 0.0000063, 0.0000167 ]\n",
      "\n",
      "0.5**17\n",
      "\n",
      "    [ 0.0000066, 0.0000086, 0.0000068, ..., 0.0000028, 0.0000071, 0.0000095 ]\n",
      "\n",
      "0.5**18\n",
      "\n",
      "    [ -0.0000021, 0.0000014, 0.0000013, ..., -0.0000058, 0.0000101, 0.0000141 ]\n",
      "\n",
      "0.5**19\n",
      "\n",
      "    [ -0.0000002, 0.0000036, -0.0000026, ..., -0.0000029, -0.0000006, 0.0000071 ]\n",
      "\n",
      "0.5**20\n",
      "\n",
      "    [ 0.0000031, -0.0000050, -0.0000008, ..., 0.0000040, 0.0000079, 0.0000027 ]\n",
      "\n",
      "0.5**21\n",
      "\n",
      "    [ 0.0000014, -0.0000003, 0.0000025, ..., 0.0000127, 0.0000123, 0.0000009 ]\n",
      "\n",
      "0.5**22\n",
      "\n",
      "    [ 0.0000021, 0.0000039, -0.0000040, ..., 0.0000033, 0.0000054, 0.0000032 ]\n",
      "\n",
      "0.5**23\n",
      "\n",
      "    [ -0.0000057, -0.0000025, -0.0000050, ..., -0.0000021, 0.0000158, 0.0000014 ]\n",
      "\n",
      "0.5**24\n",
      "\n",
      "    [ -0.0000031, 0.0000034, 0.0000006, ..., 0.0000055, -0.0000061, -0.0000041 ]\n",
      "\n",
      "0.5**25\n",
      "\n",
      "    [ 0.0000020, 0.0000031, 0.0000069, ..., -0.0000253, 0.0000266, 0.0000040 ]\n",
      "\n",
      "0.5**26\n",
      "\n",
      "    [ 0.0000018, 0.0000000, -0.0000032, ..., -0.0000105, -0.0000142, 0.0000052 ]\n",
      "\n",
      "0.5**27\n",
      "\n",
      "    [ 0.0000017, 0.0000026, -0.0000024, ..., 0.0000011, -0.0000021, 0.0000033 ]\n",
      "\n",
      "0.5**28\n",
      "\n",
      "    [ -0.0000060, 0.0000016, 0.0000020, ..., 0.0000005, 0.0000072, 0.0000009 ]\n",
      "\n",
      "0.5**29\n",
      "\n",
      "    [ 0.0000061, -0.0000071, -0.0000035, ..., -0.0000073, -0.0000140, 0.0000009 ]\n",
      "\n",
      "0.5**30\n",
      "\n",
      "    [ -0.0000022, -0.0000057, 0.0000019, ..., 0.0000027, 0.0000002, 0.0000013 ]\n",
      "\n",
      "0.5**31\n",
      "\n",
      "    [ -0.0000010, -0.0000027, -0.0000093, ..., 0.0000121, -0.0000052, 0.0000001 ]\n",
      "\n",
      "0.5**32\n",
      "\n",
      "    [ 0.0000030, 0.0000028, 0.0000016, ..., 0.0000090, 0.0000016, 0.0000024 ]\n",
      "\n"
     ]
    }
   ],
   "source": [
    "x = 0.5\n",
    "ctx = float_to_ctx(x)\n",
    "\n",
    "powers = compute_all_powers(ctx, degree, evaluator, relin_keys)\n",
    "\n",
    "for i in range(1,degree+1):\n",
    "    print(f\"{x}**{i}\")\n",
    "    print_ctx(powers[i])"
   ]
  },
  {
   "cell_type": "code",
   "execution_count": null,
   "metadata": {},
   "outputs": [],
   "source": []
  },
  {
   "cell_type": "code",
   "execution_count": null,
   "metadata": {},
   "outputs": [],
   "source": [
    "??coeffs_to_plaintext"
   ]
  },
  {
   "cell_type": "code",
   "execution_count": null,
   "metadata": {},
   "outputs": [],
   "source": []
  },
  {
   "cell_type": "code",
   "execution_count": null,
   "metadata": {},
   "outputs": [
    {
     "name": "stdout",
     "output_type": "stream",
     "text": [
      "1 Expected output : 1.7372920174733142, output : 1.7373085329300606\n",
      "3 Expected output : -3.9672168853008234, output : -3.9674249848818017\n",
      "5 Expected output : 5.596768084193369, output : 5.597435644918786\n",
      "7 Expected output : -4.452037630953475, output : -4.452716435287793\n",
      "9 Expected output : 2.0531454012340267, output : 2.0535564731373697\n",
      "11 Expected output : -0.5446121046404848, output : -0.5446871509542115\n",
      "13 Expected output : 0.07705230310407982, output : 0.07709149596439588\n",
      "15 Expected output : -0.004502323096786874, output : -0.0045011522573293085\n"
     ]
    }
   ],
   "source": [
    "output = multiply_and_add_coeffs(evaluator, encryptor, powers, plain_coeffs, coefs, PRECISION_BITS)"
   ]
  },
  {
   "cell_type": "code",
   "execution_count": null,
   "metadata": {},
   "outputs": [
    {
     "name": "stdout",
     "output_type": "stream",
     "text": [
      "\n",
      "    [ 0.9960624, 0.9960711, 0.9962032, ..., 0.9958951, 0.9960536, 0.9960583 ]\n",
      "\n"
     ]
    }
   ],
   "source": [
    "print_ctx(output)"
   ]
  },
  {
   "cell_type": "code",
   "execution_count": null,
   "metadata": {},
   "outputs": [
    {
     "name": "stdout",
     "output_type": "stream",
     "text": [
      "\n",
      "    [ 218730255.213, 218730255.213, 218730255.213, 218730255.213, ..., 218730255.213, 218730255.213, 218730255.213, 218730255.213 ]\n",
      "\n"
     ]
    }
   ],
   "source": [
    "output = DoubleVector()\n",
    "encoder.decode(plain_coeffs[21], output)\n",
    "print_vector(output)"
   ]
  },
  {
   "cell_type": "code",
   "execution_count": null,
   "metadata": {},
   "outputs": [],
   "source": [
    "evaluator.square_inplace(ctx)\n"
   ]
  },
  {
   "cell_type": "code",
   "execution_count": null,
   "metadata": {},
   "outputs": [],
   "source": []
  },
  {
   "cell_type": "code",
   "execution_count": null,
   "metadata": {},
   "outputs": [
    {
     "name": "stdout",
     "output_type": "stream",
     "text": [
      "\n",
      "    [ 0.5000000, 0.5000000, 0.5000000, ..., 0.5000000, 0.5000000, 0.5000000 ]\n",
      "\n"
     ]
    }
   ],
   "source": [
    "result = DoubleVector()\n",
    "encoder.decode(ptx,result)\n",
    "print_vector(result, 3, 7)"
   ]
  },
  {
   "cell_type": "code",
   "execution_count": null,
   "metadata": {},
   "outputs": [],
   "source": [
    "ctx = "
   ]
  }
 ],
 "metadata": {
  "kernelspec": {
   "display_name": "Python 3",
   "language": "python",
   "name": "python3"
  }
 },
 "nbformat": 4,
 "nbformat_minor": 4
}

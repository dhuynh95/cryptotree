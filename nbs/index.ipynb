{
 "cells": [
  {
   "cell_type": "markdown",
   "metadata": {},
   "source": [
    "# cryptotree\n",
    "\n",
    "> Cryptotree is an implementation of Neural Random Forests, and Homomorphic Random Forests."
   ]
  },
  {
   "cell_type": "markdown",
   "metadata": {},
   "source": [
    "Cryptotree is an open-source package to allow the Decision Trees and Random Forests to be used on encrypted data, using the homomorphic encryption library [Microsoft SEAL](https://github.com/Microsoft/SEAL), and its Python wrapper [SEAL-python](https://github.com/Huelse/SEAL-Python). Cryptotree leverages the recent encryption scheme [CKKS](https://eprint.iacr.org/2016/421.pdf), which is implemented in SEAL, to perform homomorphic computation. \n",
    "\n",
    "By leveraging the fact that Random Forests can be modeled by [Neural Random Forests](https://arxiv.org/pdf/1604.07143.pdf) (2016, Biau, Scornet & Welbl), cryptotree proposes an homomorphic evaluation of these Neural Networks in a SIMD (Single Instruction Multiple Data) manner, in order to do homomorphic evaluation of Homomorphic Random Forests.\n",
    "\n",
    "Cryptotree therefore both implements Neural Random Forests, and Homomorphic Random Forests, and allows the use of powerful supervised models on encrypted data.\n",
    "\n",
    "Cryptotree is developped using [nbdev](https://nbdev.fast.ai/), which allows to develop efficiently in Jupyter notebooks. The code is therefore available in the folder <code>nbs/</code>, and has been structured to be heavily documented with examples for a better understanding of cryptotree."
   ]
  },
  {
   "cell_type": "markdown",
   "metadata": {},
   "source": [
    "## Install"
   ]
  },
  {
   "cell_type": "markdown",
   "metadata": {},
   "source": [
    "As of now, there are two ways to install cryptotree, which is dependent on [SEAL-python](https://github.com/Huelse/SEAL-Python) :\n",
    "<ol>\n",
    "    <li> Install manually :\n",
    "        <ol>\n",
    "            <li>Follow the install instructions of SEAL-python : https://github.com/Huelse/SEAL-Python</li>\n",
    "            <li>Git clone this repository : <code>git clone https://github.com/dhuynh95/cryptotree.git</code></li>\n",
    "            <li>Cd into the repository and run the installation : <code>cd cryptotree & pip3 install -e . </code></li>\n",
    "        </ol>\n",
    "    </li>\n",
    "    <li> Use Docker :\n",
    "        <ol>\n",
    "            <li>Git clone the repository with the submodule SEAL-Python : <br>\n",
    "                <code>git clone --recurse-submodules https://github.com/dhuynh95/cryptotree.git</code> </li>\n",
    "            <li>Create the Docker image : <code>docker build -t cryptotree .</code></li>\n",
    "        </ol>\n",
    "    </li>\n",
    "</ol>"
   ]
  },
  {
   "cell_type": "markdown",
   "metadata": {},
   "source": [
    "## Examples"
   ]
  },
  {
   "cell_type": "markdown",
   "metadata": {},
   "source": [
    "A full example of the Adult income dataset can be found in https://github.com/dhuynh95/cryptotree/blob/master/examples/adult_dataset.ipynb."
   ]
  },
  {
   "cell_type": "markdown",
   "metadata": {},
   "source": [
    "## Paper"
   ]
  },
  {
   "cell_type": "markdown",
   "metadata": {},
   "source": [
    "TBD"
   ]
  },
  {
   "cell_type": "markdown",
   "metadata": {},
   "source": [
    "## TODO\n",
    "\n",
    "- Implement Baby step, Giant step for homomorphic polynomial evaluation\n",
    "- Find a way to fine tune the comparator and the matcher of the neural decision trees, while preserving the invariant which is having an output in $[-1,1]$"
   ]
  },
  {
   "cell_type": "markdown",
   "metadata": {},
   "source": [
    "## Contributors"
   ]
  },
  {
   "cell_type": "markdown",
   "metadata": {},
   "source": [
    "- [D. Huynh](https://github.com/dhuynh95)"
   ]
  }
 ],
 "metadata": {
  "kernelspec": {
   "display_name": "Python 3",
   "language": "python",
   "name": "python3"
  }
 },
 "nbformat": 4,
 "nbformat_minor": 2
}
